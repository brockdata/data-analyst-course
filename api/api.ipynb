{
 "cells": [
  {
   "cell_type": "code",
   "execution_count": 1,
   "id": "a92dcc4f",
   "metadata": {},
   "outputs": [],
   "source": [
    "# http = hypertext transfer protocol\n",
    "\n",
    "# get\n",
    "# obtain from server\n",
    "# parameters in URL\n",
    "\n",
    "# post\n",
    "# modify\n",
    "# confidential\n",
    "# parameters in separate body\n",
    "\n",
    "# response codes\n",
    "# 200 = success\n",
    "# 404 = missing page"
   ]
  },
  {
   "cell_type": "code",
   "execution_count": 2,
   "id": "3779a167",
   "metadata": {},
   "outputs": [],
   "source": [
    "# json = javascript object notation\n",
    "# easy for humans to read/write\n",
    "# easy for programs to process\n",
    "# plain text - works in all langauges/formats\n"
   ]
  },
  {
   "cell_type": "code",
   "execution_count": 9,
   "id": "8d6481b3",
   "metadata": {},
   "outputs": [
    {
     "name": "stdout",
     "output_type": "stream",
     "text": [
      "True\n",
      "200\n"
     ]
    }
   ],
   "source": [
    "# test connection\n",
    "import requests\n",
    "base_url = 'http://api.exchangeratesapi.io/v1/latest'\n",
    "key = 'a8a153172d14eb719dba18f84aa5b933'\n",
    "p = {'access_key': key}\n",
    "r = requests.get(url, params=p)\n",
    "r.raise_for_status()\n",
    "# print(r.text)\n",
    "print(r.ok)\n",
    "print(r.status_code)\n",
    "# print(r.json())"
   ]
  },
  {
   "cell_type": "code",
   "execution_count": 10,
   "id": "14886607",
   "metadata": {},
   "outputs": [
    {
     "name": "stdout",
     "output_type": "stream",
     "text": [
      "{\n",
      "    \"success\": true,\n",
      "    \"timestamp\": 1689951303,\n",
      "    \"base\": \"EUR\",\n",
      "    \"date\": \"2023-07-21\",\n",
      "    \"rates\": {\n",
      "        \"AED\": 4.081505,\n",
      "        \"AFN\": 95.232889,\n",
      "        \"ALL\": 101.005336,\n",
      "        \"AMD\": 429.46964,\n",
      "        \"ANG\": 2.003223,\n",
      "        \"AOA\": 916.324837,\n",
      "        \"ARS\": 299.360982,\n",
      "        \"AUD\": 1.65131,\n",
      "        \"AWG\": 2.00022,\n",
      "        \"AZN\": 1.8953,\n",
      "        \"BAM\": 1.95396,\n",
      "        \"BBD\": 2.244287,\n",
      "        \"BDT\": 120.64964,\n",
      "        \"BGN\": 1.955784,\n",
      "        \"BHD\": 0.418954,\n",
      "        \"BIF\": 3145.822458,\n",
      "        \"BMD\": 1.111234,\n",
      "        \"BND\": 1.477349,\n",
      "        \"BOB\": 7.680732,\n",
      "        \"BRL\": 5.306698,\n",
      "        \"BSD\": 1.111483,\n",
      "        \"BTC\": 3.7210256e-05,\n",
      "        \"BTN\": 91.137095,\n",
      "        \"BWP\": 14.625622,\n",
      "        \"BYN\": 2.805634,\n",
      "        \"BYR\": 21780.177267,\n",
      "        \"BZD\": 2.240551,\n",
      "        \"CAD\": 1.468267,\n",
      "        \"CDF\": 2755.859023,\n",
      "        \"CHF\": 0.962384,\n",
      "        \"CLF\": 0.033081,\n",
      "        \"CLP\": 912.80181,\n",
      "        \"CNY\": 7.985545,\n",
      "        \"COP\": 4419.831371,\n",
      "        \"CRC\": 596.04406,\n",
      "        \"CUC\": 1.111234,\n",
      "        \"CUP\": 29.447689,\n",
      "        \"CVE\": 110.156264,\n",
      "        \"CZK\": 24.032647,\n",
      "        \"DJF\": 197.908969,\n",
      "        \"DKK\": 7.451243,\n",
      "        \"DOP\": 62.371544,\n",
      "        \"DZD\": 149.78766,\n",
      "        \"EGP\": 34.224989,\n",
      "        \"ERN\": 16.668503,\n",
      "        \"ETB\": 61.203488,\n",
      "        \"EUR\": 1,\n",
      "        \"FJD\": 2.465048,\n",
      "        \"FKP\": 0.864867,\n",
      "        \"GBP\": 0.865173,\n",
      "        \"GEL\": 2.850292,\n",
      "        \"GGP\": 0.864867,\n",
      "        \"GHS\": 12.8938,\n",
      "        \"GIP\": 0.864867,\n",
      "        \"GMD\": 66.338123,\n",
      "        \"GNF\": 9559.255971,\n",
      "        \"GTQ\": 8.725822,\n",
      "        \"GYD\": 232.739778,\n",
      "        \"HKD\": 8.686774,\n",
      "        \"HNL\": 27.361233,\n",
      "        \"HRK\": 7.471778,\n",
      "        \"HTG\": 151.721218,\n",
      "        \"HUF\": 379.741809,\n",
      "        \"IDR\": 16716.786107,\n",
      "        \"ILS\": 4.021882,\n",
      "        \"IMP\": 0.864867,\n",
      "        \"INR\": 91.176323,\n",
      "        \"IQD\": 1456.068107,\n",
      "        \"IRR\": 46949.617281,\n",
      "        \"ISK\": 146.305171,\n",
      "        \"JEP\": 0.864867,\n",
      "        \"JMD\": 171.539231,\n",
      "        \"JOD\": 0.787975,\n",
      "        \"JPY\": 157.459556,\n",
      "        \"KES\": 157.628305,\n",
      "        \"KGS\": 97.643937,\n",
      "        \"KHR\": 4589.801623,\n",
      "        \"KMF\": 487.887354,\n",
      "        \"KPW\": 1000.055075,\n",
      "        \"KRW\": 1432.918956,\n",
      "        \"KWD\": 0.341315,\n",
      "        \"KYD\": 0.926253,\n",
      "        \"KZT\": 495.456796,\n",
      "        \"LAK\": 21215.925171,\n",
      "        \"LBP\": 16683.613712,\n",
      "        \"LKR\": 364.876241,\n",
      "        \"LRD\": 205.300745,\n",
      "        \"LSL\": 19.846525,\n",
      "        \"LTL\": 3.281184,\n",
      "        \"LVL\": 0.672174,\n",
      "        \"LYD\": 5.264043,\n",
      "        \"MAD\": 10.770606,\n",
      "        \"MDL\": 19.339874,\n",
      "        \"MGA\": 4926.338624,\n",
      "        \"MKD\": 61.46212,\n",
      "        \"MMK\": 2334.264805,\n",
      "        \"MNT\": 3838.1125,\n",
      "        \"MOP\": 8.949453,\n",
      "        \"MRO\": 396.710181,\n",
      "        \"MUR\": 51.038932,\n",
      "        \"MVR\": 17.106606,\n",
      "        \"MWK\": 1170.892084,\n",
      "        \"MXN\": 18.813631,\n",
      "        \"MYR\": 5.068886,\n",
      "        \"MZN\": 70.285979,\n",
      "        \"NAD\": 19.846726,\n",
      "        \"NGN\": 862.316837,\n",
      "        \"NIO\": 40.652814,\n",
      "        \"NOK\": 11.21423,\n",
      "        \"NPR\": 145.818337,\n",
      "        \"NZD\": 1.800576,\n",
      "        \"OMR\": 0.427853,\n",
      "        \"PAB\": 1.111583,\n",
      "        \"PEN\": 3.986254,\n",
      "        \"PGK\": 4.024319,\n",
      "        \"PHP\": 60.917269,\n",
      "        \"PKR\": 318.724986,\n",
      "        \"PLN\": 4.460903,\n",
      "        \"PYG\": 8086.421276,\n",
      "        \"QAR\": 4.045984,\n",
      "        \"RON\": 4.93541,\n",
      "        \"RSD\": 117.202091,\n",
      "        \"RUB\": 100.95516,\n",
      "        \"RWF\": 1300.810125,\n",
      "        \"SAR\": 4.167589,\n",
      "        \"SBD\": 9.276385,\n",
      "        \"SCR\": 15.744317,\n",
      "        \"SDG\": 667.29478,\n",
      "        \"SEK\": 11.570986,\n",
      "        \"SGD\": 1.478924,\n",
      "        \"SHP\": 1.352094,\n",
      "        \"SLE\": 22.831967,\n",
      "        \"SLL\": 21946.862416,\n",
      "        \"SOS\": 632.850839,\n",
      "        \"SRD\": 42.705263,\n",
      "        \"STD\": 23000.290583,\n",
      "        \"SVC\": 9.726103,\n",
      "        \"SYP\": 2791.901108,\n",
      "        \"SZL\": 20.012694,\n",
      "        \"THB\": 38.270328,\n",
      "        \"TJS\": 12.176862,\n",
      "        \"TMT\": 3.889317,\n",
      "        \"TND\": 3.366482,\n",
      "        \"TOP\": 2.603231,\n",
      "        \"TRY\": 29.934548,\n",
      "        \"TTD\": 7.54393,\n",
      "        \"TWD\": 34.840284,\n",
      "        \"TZS\": 2716.966207,\n",
      "        \"UAH\": 40.850433,\n",
      "        \"UGX\": 4047.188699,\n",
      "        \"USD\": 1.111234,\n",
      "        \"UYU\": 42.250212,\n",
      "        \"UZS\": 12905.195378,\n",
      "        \"VEF\": 3205037.274406,\n",
      "        \"VES\": 32.051088,\n",
      "        \"VND\": 26289.007331,\n",
      "        \"VUV\": 130.9536,\n",
      "        \"WST\": 3.009685,\n",
      "        \"XAF\": 655.357532,\n",
      "        \"XAG\": 0.045048,\n",
      "        \"XAU\": 0.000567,\n",
      "        \"XCD\": 3.003165,\n",
      "        \"XDR\": 0.820649,\n",
      "        \"XOF\": 655.339856,\n",
      "        \"XPF\": 118.623919,\n",
      "        \"YER\": 278.140894,\n",
      "        \"ZAR\": 19.953954,\n",
      "        \"ZMK\": 10002.436448,\n",
      "        \"ZMW\": 21.646518,\n",
      "        \"ZWL\": 357.816745\n",
      "    }\n",
      "}\n"
     ]
    }
   ],
   "source": [
    "# json\n",
    "# loads: JSON >>> py object\n",
    "# dumps: py object >>> string\n",
    "import json\n",
    "# cleaner look\n",
    "print(json.dumps(r.json(), indent=4))"
   ]
  },
  {
   "cell_type": "code",
   "execution_count": 11,
   "id": "22e63f70",
   "metadata": {},
   "outputs": [
    {
     "name": "stdout",
     "output_type": "stream",
     "text": [
      "dict_keys(['success', 'timestamp', 'base', 'date', 'rates'])\n"
     ]
    }
   ],
   "source": [
    "# get keys\n",
    "print(r.json().keys())"
   ]
  },
  {
   "cell_type": "code",
   "execution_count": 19,
   "id": "3d6f102c",
   "metadata": {},
   "outputs": [
    {
     "name": "stdout",
     "output_type": "stream",
     "text": [
      "http://api.exchangeratesapi.io/v1/latest?access_key=a8a153172d14eb719dba18f84aa5b933&symbols=USD,AUD,CAD,GBP,CNY\n",
      "{\"success\":true,\"timestamp\":1689951723,\"base\":\"EUR\",\"date\":\"2023-07-21\",\"rates\":{\"USD\":1.111426,\"AUD\":1.651217,\"CAD\":1.467772,\"GBP\":0.865167,\"CNY\":7.987046}}\n"
     ]
    }
   ],
   "source": [
    "# convert currency\n",
    "foreign_currencies = ['USD', 'AUD', 'CAD','GBP','CNY']\n",
    "\n",
    "symbols = ''\n",
    "for c in foreign_currencies:\n",
    "    symbols += (c + ',')\n",
    "symbols = symbols[0:len(symbols)-1]\n",
    "\n",
    "# p = {\n",
    "#     'access_key': 'a8a153172d14eb719dba18f84aa5b933',\n",
    "#     'base': 'USD',\n",
    "#     'symbols': symbols,\n",
    "# }\n",
    "r = requests.get(base_url + f'?access_key={key}&symbols={symbols}')\n",
    "print(r.url)\n",
    "r.raise_for_status()\n",
    "print(r.text)"
   ]
  },
  {
   "cell_type": "code",
   "execution_count": 22,
   "id": "b66f1a08",
   "metadata": {},
   "outputs": [
    {
     "name": "stdout",
     "output_type": "stream",
     "text": [
      "{'error': {'code': 'base_currency_access_restricted', 'message': 'An unexpected error ocurred. [Technical Support: support@apilayer.com]'}}\n"
     ]
    }
   ],
   "source": [
    "# api calculation\n",
    "# base is not working...\n",
    "r = requests.get(base_url + f'?access_key={key}&symbols=GBP&base=USD')\n",
    "print(r.json())"
   ]
  },
  {
   "cell_type": "code",
   "execution_count": 26,
   "id": "c6202a30",
   "metadata": {},
   "outputs": [
    {
     "name": "stdout",
     "output_type": "stream",
     "text": [
      "{\"success\": false, \"error\": {\"code\": 101, \"type\": \"missing_access_key\", \"info\": \"You have not supplied an API Access Key. [Required format: access_key=YOUR_ACCESS_KEY]\"}}\n"
     ]
    }
   ],
   "source": [
    "# historical rates\n",
    "base_url = 'http://api.exchangeratesapi.io/'\n",
    "r = requests.get(base_url + f'/2020-03-01')\n",
    "print(json.dumps(r.json()))"
   ]
  },
  {
   "cell_type": "code",
   "execution_count": 30,
   "id": "79cd5d40",
   "metadata": {},
   "outputs": [
    {
     "name": "stdout",
     "output_type": "stream",
     "text": [
      "403\n",
      "{\"error\":{\"code\":\"function_access_restricted\",\"message\":\"Access Restricted - Your current Subscription Plan does not support this API Function.\"}}\n",
      "{\"error\": {\"code\": \"function_access_restricted\", \"message\": \"Access Restricted - Your current Subscription Plan does not support this API Function.\"}}\n"
     ]
    }
   ],
   "source": [
    "# currency_converter\n",
    "base_url = 'http://api.exchangeratesapi.io/v1/convert'\n",
    "from_ = 'USD'\n",
    "to_ = 'CNY'\n",
    "amount = '25'\n",
    "\n",
    "p = {\n",
    "    'access_key': key,\n",
    "    'from': from_,\n",
    "    'to': to_,\n",
    "    'amount': amount\n",
    "}\n",
    "r = requests.get(base_url, params=p)\n",
    "print(r.status_code)\n",
    "print(r.text)\n",
    "print(json.dumps(r.json()))"
   ]
  },
  {
   "cell_type": "code",
   "execution_count": null,
   "id": "5e51d51d",
   "metadata": {},
   "outputs": [],
   "source": []
  }
 ],
 "metadata": {
  "kernelspec": {
   "display_name": "Python 3 (ipykernel)",
   "language": "python",
   "name": "python3"
  },
  "language_info": {
   "codemirror_mode": {
    "name": "ipython",
    "version": 3
   },
   "file_extension": ".py",
   "mimetype": "text/x-python",
   "name": "python",
   "nbconvert_exporter": "python",
   "pygments_lexer": "ipython3",
   "version": "3.9.12"
  }
 },
 "nbformat": 4,
 "nbformat_minor": 5
}
