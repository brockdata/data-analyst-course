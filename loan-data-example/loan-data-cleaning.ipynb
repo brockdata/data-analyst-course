{
 "cells": [
  {
   "cell_type": "code",
   "execution_count": 1,
   "id": "b877ddd5",
   "metadata": {},
   "outputs": [],
   "source": [
    "import numpy as np\n",
    "np.set_printoptions(suppress=True, linewidth=100, precision=2)"
   ]
  },
  {
   "cell_type": "code",
   "execution_count": 2,
   "id": "e144f0a4",
   "metadata": {},
   "outputs": [],
   "source": [
    "# importing data"
   ]
  },
  {
   "cell_type": "code",
   "execution_count": 3,
   "id": "8c64993f",
   "metadata": {},
   "outputs": [
    {
     "name": "stdout",
     "output_type": "stream",
     "text": [
      "[[48010226.           nan    35000.   ...         nan         nan     9452.96]\n",
      " [57693261.           nan    30000.   ...         nan         nan     4679.7 ]\n",
      " [59432726.           nan    15000.   ...         nan         nan     1969.83]\n",
      " ...\n",
      " [50415990.           nan    10000.   ...         nan         nan     2185.64]\n",
      " [46154151.           nan         nan ...         nan         nan     3199.4 ]\n",
      " [66055249.           nan    10000.   ...         nan         nan      301.9 ]]\n"
     ]
    }
   ],
   "source": [
    "raw_data = np.genfromtxt('loan-data.csv',\n",
    "                     delimiter=';',\n",
    "                    skip_header=1,\n",
    "                    autostrip=True)\n",
    "print(raw_data)"
   ]
  },
  {
   "cell_type": "code",
   "execution_count": 4,
   "id": "fcf161d1",
   "metadata": {},
   "outputs": [],
   "source": [
    "# dealing with mising values"
   ]
  },
  {
   "cell_type": "code",
   "execution_count": 5,
   "id": "6cc0e2f4",
   "metadata": {},
   "outputs": [
    {
     "name": "stdout",
     "output_type": "stream",
     "text": [
      "88005\n"
     ]
    }
   ],
   "source": [
    "# missing value count\n",
    "print(np.isnan(raw_data).sum())"
   ]
  },
  {
   "cell_type": "code",
   "execution_count": 6,
   "id": "02865796",
   "metadata": {},
   "outputs": [
    {
     "name": "stderr",
     "output_type": "stream",
     "text": [
      "C:\\Users\\nbrock\\AppData\\Local\\Temp\\ipykernel_19880\\3492964911.py:2: RuntimeWarning: Mean of empty slice\n",
      "  mean_fill = np.nanmean(raw_data,axis=0)\n"
     ]
    }
   ],
   "source": [
    "max_fill = np.nanmax(raw_data) + 1\n",
    "mean_fill = np.nanmean(raw_data,axis=0)\n",
    "# the error means either empty row, or row full of text values"
   ]
  },
  {
   "cell_type": "code",
   "execution_count": 7,
   "id": "b52fec4b",
   "metadata": {},
   "outputs": [
    {
     "name": "stdout",
     "output_type": "stream",
     "text": [
      "[54015809.19         nan    15273.46         nan    15311.04         nan       16.62      440.92\n",
      "         nan         nan         nan         nan         nan     3143.85]\n"
     ]
    }
   ],
   "source": [
    "print(mean_fill)"
   ]
  },
  {
   "cell_type": "code",
   "execution_count": 8,
   "id": "f8fc545a",
   "metadata": {},
   "outputs": [],
   "source": [
    "# separate str and numeric cols"
   ]
  },
  {
   "cell_type": "code",
   "execution_count": 9,
   "id": "d90cf946",
   "metadata": {
    "scrolled": true
   },
   "outputs": [
    {
     "name": "stdout",
     "output_type": "stream",
     "text": [
      "[[  373332.           nan     1000.           nan     1000.           nan        6.         31.42\n",
      "          nan         nan         nan         nan         nan        0.  ]\n",
      " [54015809.19         nan    15273.46         nan    15311.04         nan       16.62      440.92\n",
      "          nan         nan         nan         nan         nan     3143.85]\n",
      " [68616519.           nan    35000.           nan    35000.           nan       28.99     1372.97\n",
      "          nan         nan         nan         nan         nan    41913.62]]\n"
     ]
    },
    {
     "name": "stderr",
     "output_type": "stream",
     "text": [
      "C:\\Users\\nbrock\\AppData\\Local\\Temp\\ipykernel_19880\\2756164142.py:4: RuntimeWarning: All-NaN slice encountered\n",
      "  tmp_stats = np.array([np.nanmin(raw_data, axis=0),\n",
      "C:\\Users\\nbrock\\AppData\\Local\\Temp\\ipykernel_19880\\2756164142.py:6: RuntimeWarning: All-NaN slice encountered\n",
      "  np.nanmax(raw_data,axis=0)])\n"
     ]
    }
   ],
   "source": [
    "# split into numeric and string separate arrays\n",
    "# first, get min and max for filling\n",
    "\n",
    "tmp_stats = np.array([np.nanmin(raw_data, axis=0),\n",
    "                      mean_fill,\n",
    "                      np.nanmax(raw_data,axis=0)])\n",
    "print(tmp_stats)\n",
    "# again, error saying full row of nans\n",
    "# result array: min array, mean array, max array"
   ]
  },
  {
   "cell_type": "code",
   "execution_count": 10,
   "id": "ddf51ca1",
   "metadata": {},
   "outputs": [
    {
     "name": "stdout",
     "output_type": "stream",
     "text": [
      "[ 1  3  5  8  9 10 11 12]\n",
      "[ 0  2  4  6  7 13]\n"
     ]
    }
   ],
   "source": [
    "# split dataset\n",
    "# which cols store txt, and which numeric?\n",
    "col_strings = np.argwhere(np.isnan(mean_fill)).squeeze()\n",
    "print(col_strings)\n",
    "\n",
    "col_numeric = np.argwhere(np.isnan(mean_fill) == False).squeeze()\n",
    "print(col_numeric)"
   ]
  },
  {
   "cell_type": "code",
   "execution_count": 11,
   "id": "e7cac731",
   "metadata": {},
   "outputs": [
    {
     "name": "stdout",
     "output_type": "stream",
     "text": [
      "string data\n",
      " [['May-15' 'Current' '36 months' ... 'Verified'\n",
      "  'https://www.lendingclub.com/browse/loanDetail.action?loan_id=48010226' 'CA']\n",
      " ['' 'Current' '36 months' ... 'Source Verified'\n",
      "  'https://www.lendingclub.com/browse/loanDetail.action?loan_id=57693261' 'NY']\n",
      " ['Sep-15' 'Current' '36 months' ... 'Verified'\n",
      "  'https://www.lendingclub.com/browse/loanDetail.action?loan_id=59432726' 'PA']\n",
      " ...\n",
      " ['Jun-15' 'Current' '36 months' ... 'Source Verified'\n",
      "  'https://www.lendingclub.com/browse/loanDetail.action?loan_id=50415990' 'CA']\n",
      " ['Apr-15' 'Current' '36 months' ... 'Source Verified'\n",
      "  'https://www.lendingclub.com/browse/loanDetail.action?loan_id=46154151' 'OH']\n",
      " ['Dec-15' 'Current' '36 months' ... ''\n",
      "  'https://www.lendingclub.com/browse/loanDetail.action?loan_id=66055249' 'IL']]\n",
      "numeric data\n",
      " [[48010226.      35000.      35000.         13.33     1184.86     9452.96]\n",
      " [57693261.      30000.      30000.   68616520.        938.57     4679.7 ]\n",
      " [59432726.      15000.      15000.   68616520.        494.86     1969.83]\n",
      " ...\n",
      " [50415990.      10000.      10000.   68616520.   68616520.       2185.64]\n",
      " [46154151.   68616520.      10000.         16.55      354.3      3199.4 ]\n",
      " [66055249.      10000.      10000.   68616520.        309.97      301.9 ]]\n",
      "full header\n",
      " ['id' 'issue_d' 'loan_amnt' 'loan_status' 'funded_amnt' 'term' 'int_rate' 'installment' 'grade'\n",
      " 'sub_grade' 'verification_status' 'url' 'addr_state' 'total_pymnt']\n",
      "string headers\n",
      " ['issue_d' 'loan_status' 'term' 'grade' 'sub_grade' 'verification_status' 'url' 'addr_state']\n",
      "numeric headers\n",
      " ['id' 'loan_amnt' 'funded_amnt' 'int_rate' 'installment' 'total_pymnt']\n"
     ]
    }
   ],
   "source": [
    "data_str = np.genfromtxt('loan-data.csv',\n",
    "                    delimiter=';',\n",
    "                    autostrip=True,\n",
    "                    skip_header=1,\n",
    "                    usecols=col_strings,\n",
    "                    dtype='str')\n",
    "print('string data\\n', data_str)\n",
    "\n",
    "data_num = np.genfromtxt('loan-data.csv',\n",
    "                    delimiter=';',\n",
    "                    autostrip=True,\n",
    "                    skip_header=1,\n",
    "                    usecols=col_numeric,\n",
    "                    filling_values=max_fill)\n",
    "print('numeric data\\n', data_num)\n",
    "\n",
    "header_full = np.genfromtxt('loan-data.csv',\n",
    "                    delimiter=';',\n",
    "                    autostrip=True,\n",
    "                    skip_footer=raw_data.shape[0],\n",
    "                    dtype='str')\n",
    "print('full header\\n', header_full)\n",
    "\n",
    "header_str, header_num = header_full[col_strings], header_full[col_numeric]\n",
    "print('string headers\\n', header_str)\n",
    "print('numeric headers\\n', header_num)"
   ]
  },
  {
   "cell_type": "code",
   "execution_count": 12,
   "id": "2a6fdec4",
   "metadata": {},
   "outputs": [
    {
     "name": "stdout",
     "output_type": "stream",
     "text": [
      "['issue_d' 'loan_status' 'term' 'grade' 'sub_grade' 'verification_status' 'url' 'addr_state'] [['May-15' 'Current' '36 months' ... 'Verified'\n",
      "  'https://www.lendingclub.com/browse/loanDetail.action?loan_id=48010226' 'CA']\n",
      " ['' 'Current' '36 months' ... 'Source Verified'\n",
      "  'https://www.lendingclub.com/browse/loanDetail.action?loan_id=57693261' 'NY']\n",
      " ['Sep-15' 'Current' '36 months' ... 'Verified'\n",
      "  'https://www.lendingclub.com/browse/loanDetail.action?loan_id=59432726' 'PA']\n",
      " ...\n",
      " ['Jun-15' 'Current' '36 months' ... 'Source Verified'\n",
      "  'https://www.lendingclub.com/browse/loanDetail.action?loan_id=50415990' 'CA']\n",
      " ['Apr-15' 'Current' '36 months' ... 'Source Verified'\n",
      "  'https://www.lendingclub.com/browse/loanDetail.action?loan_id=46154151' 'OH']\n",
      " ['Dec-15' 'Current' '36 months' ... ''\n",
      "  'https://www.lendingclub.com/browse/loanDetail.action?loan_id=66055249' 'IL']] \n",
      "are they equal?:  True\n"
     ]
    }
   ],
   "source": [
    "# function to save file and reload at checkpoints\n",
    "def checkpoint(file_name, check_header, check_data):\n",
    "    np.savez(file_name, header=check_header, data=check_data)\n",
    "    check_variable = np.load(file_name + '.npz')\n",
    "    return check_variable\n",
    "\n",
    "# test\n",
    "check_test = checkpoint('check-test', header_str, data_str)\n",
    "print(check_test['header'], check_test['data'], '\\nare they equal?: ',np.array_equal(check_test['data'], data_str))"
   ]
  },
  {
   "cell_type": "code",
   "execution_count": 13,
   "id": "22ad745c",
   "metadata": {},
   "outputs": [
    {
     "name": "stdout",
     "output_type": "stream",
     "text": [
      "['issue_d' 'loan_status' 'term' 'grade' 'sub_grade' 'verification_status' 'url' 'addr_state']\n"
     ]
    }
   ],
   "source": [
    "# what is in the headers with strings?\n",
    "print(header_str)"
   ]
  },
  {
   "cell_type": "code",
   "execution_count": 14,
   "id": "b3b7881d",
   "metadata": {},
   "outputs": [],
   "source": [
    "# cleaning \"issue_date\" col"
   ]
  },
  {
   "cell_type": "code",
   "execution_count": 15,
   "id": "3d029cdf",
   "metadata": {},
   "outputs": [
    {
     "name": "stdout",
     "output_type": "stream",
     "text": [
      "['issue_date' 'loan_status' 'term' 'grade' 'sub_grade' 'verification_status' 'url' 'addr_state']\n"
     ]
    }
   ],
   "source": [
    "# rename\n",
    "header_str[0] = 'issue_date'\n",
    "print(header_str)"
   ]
  },
  {
   "cell_type": "code",
   "execution_count": 16,
   "id": "9cd9f67d",
   "metadata": {},
   "outputs": [
    {
     "name": "stdout",
     "output_type": "stream",
     "text": [
      "['' 'Apr-15' 'Aug-15' 'Dec-15' 'Feb-15' 'Jan-15' 'Jul-15' 'Jun-15' 'Mar-15' 'May-15' 'Nov-15'\n",
      " 'Oct-15' 'Sep-15']\n",
      "['' 'Apr' 'Aug' 'Dec' 'Feb' 'Jan' 'Jul' 'Jun' 'Mar' 'May' 'Nov' 'Oct' 'Sep']\n"
     ]
    }
   ],
   "source": [
    "# all are in 2015\n",
    "# strip year\n",
    "print(np.unique(data_str[:,0]))\n",
    "data_str[:,0] = np.chararray.strip(data_str[:,0], '-15')\n",
    "print(np.unique(data_str[:,0]))"
   ]
  },
  {
   "cell_type": "code",
   "execution_count": 17,
   "id": "7a26ad46",
   "metadata": {},
   "outputs": [
    {
     "name": "stdout",
     "output_type": "stream",
     "text": [
      "['5' '0' '9' ... '6' '4' '12']\n"
     ]
    }
   ],
   "source": [
    "# convert months to numeric\n",
    "months = np.array(['', 'Jan', 'Feb', 'Mar', 'Apr', 'May', 'Jun', 'Jul', 'Aug', 'Sep', 'Oct', 'Nov', 'Dec'])\n",
    "for i in range(13):\n",
    "    data_str[:,0] = np.where(data_str[:,0] == months[i], i, data_str[:,0])\n",
    "print(data_str[:,0])"
   ]
  },
  {
   "cell_type": "code",
   "execution_count": 18,
   "id": "56849fda",
   "metadata": {},
   "outputs": [],
   "source": [
    "# cleaning \"loan_status\" col"
   ]
  },
  {
   "cell_type": "code",
   "execution_count": 19,
   "id": "ef9ea3f0",
   "metadata": {},
   "outputs": [
    {
     "name": "stdout",
     "output_type": "stream",
     "text": [
      "['Current' 'Current' 'Current' ... 'Current' 'Current' 'Current']\n",
      "['' 'Charged Off' 'Current' 'Default' 'Fully Paid' 'In Grace Period' 'Issued' 'Late (16-30 days)'\n",
      " 'Late (31-120 days)']\n"
     ]
    }
   ],
   "source": [
    "print(data_str[:,1])\n",
    "# all possible values\n",
    "print(np.unique(data_str[:,1]))"
   ]
  },
  {
   "cell_type": "code",
   "execution_count": 20,
   "id": "00e7849e",
   "metadata": {},
   "outputs": [
    {
     "name": "stdout",
     "output_type": "stream",
     "text": [
      "['0' '1']\n"
     ]
    }
   ],
   "source": [
    "# assign nums to all values?\n",
    "# the algorithm only cares if they are in good condition...\n",
    "# let's use a dummy to say whether they have defaulted or not\n",
    "# 1=good\n",
    "# 0=bad\n",
    "\n",
    "status_bad = np.array(['', 'Charged Off', 'Default', 'Late (31-120 days)'])\n",
    "# if status is bad, assign 0, else 1\n",
    "data_str[:,1] = np.where(np.isin(data_str[:,1], status_bad), 0, 1)\n",
    "print(np.unique(data_str[:,1]))"
   ]
  },
  {
   "cell_type": "code",
   "execution_count": 21,
   "id": "9f478985",
   "metadata": {},
   "outputs": [],
   "source": [
    "# cleaning the \"term\" column"
   ]
  },
  {
   "cell_type": "code",
   "execution_count": 22,
   "id": "54becc94",
   "metadata": {},
   "outputs": [
    {
     "name": "stdout",
     "output_type": "stream",
     "text": [
      "['' '36 months' '60 months']\n",
      "['36' '36' '36' ... '36' '36' '36']\n",
      "['issue_date' 'loan_status' 'term_months' 'grade' 'sub_grade' 'verification_status' 'url'\n",
      " 'addr_state']\n"
     ]
    }
   ],
   "source": [
    "# remove \" months\"\n",
    "print(np.unique(data_str[:,2]))\n",
    "data_str[:,2] = np.chararray.strip(data_str[:,2],' months')\n",
    "print(data_str[:,2])\n",
    "# rename col header\n",
    "header_str[2] = 'term_months'\n",
    "print(header_str)"
   ]
  },
  {
   "cell_type": "code",
   "execution_count": 23,
   "id": "2b9a4cd0",
   "metadata": {},
   "outputs": [
    {
     "name": "stdout",
     "output_type": "stream",
     "text": [
      "['36' '60']\n"
     ]
    }
   ],
   "source": [
    "# fill zeroes with 60 - worst case scenario - play it safe\n",
    "data_str[:,2] = np.where(data_str[:,2] == '',\n",
    "                        60,\n",
    "                         data_str[:,2])\n",
    "print(np.unique(data_str[:,2]))\n",
    "# perhaps only use 1 and 0 instead?\n"
   ]
  },
  {
   "cell_type": "code",
   "execution_count": 24,
   "id": "dd484efa",
   "metadata": {},
   "outputs": [],
   "source": [
    "# cleaning\"grade\" and \"subgrade\" cols"
   ]
  },
  {
   "cell_type": "code",
   "execution_count": 25,
   "id": "0b5922a6",
   "metadata": {},
   "outputs": [
    {
     "name": "stdout",
     "output_type": "stream",
     "text": [
      "['' 'A' 'B' 'C' 'D' 'E' 'F' 'G']\n",
      "['' 'A1' 'A2' 'A3' 'A4' 'A5' 'B1' 'B2' 'B3' 'B4' 'B5' 'C1' 'C2' 'C3' 'C4' 'C5' 'D1' 'D2' 'D3' 'D4'\n",
      " 'D5' 'E1' 'E2' 'E3' 'E4' 'E5' 'F1' 'F2' 'F3' 'F4' 'F5' 'G1' 'G2' 'G3' 'G4' 'G5']\n"
     ]
    }
   ],
   "source": [
    "# '' indicates missing data\n",
    "print(np.unique(data_str[:,3]))\n",
    "print(np.unique(data_str[:,4]))\n",
    "# the \"grade\" column is redundant\n",
    "# \"grade\" can be used to fill empty spaces in \"subgrade\""
   ]
  },
  {
   "cell_type": "code",
   "execution_count": 26,
   "id": "09237def",
   "metadata": {},
   "outputs": [
    {
     "name": "stdout",
     "output_type": "stream",
     "text": [
      "(array(['', 'A1', 'A2', 'A3', 'A4', 'A5', 'B1', 'B2', 'B3', 'B4', 'B5', 'C1', 'C2', 'C3', 'C4',\n",
      "       'C5', 'D1', 'D2', 'D3', 'D4', 'D5', 'E1', 'E2', 'E3', 'E4', 'E5', 'F1', 'F2', 'F3', 'F4',\n",
      "       'F5', 'G1', 'G2', 'G3', 'G4', 'G5'], dtype='<U69'), array([  9, 285, 278, 239, 323, 592, 509, 517, 530, 553, 633, 629, 567, 586, 564, 577, 391, 267,\n",
      "       250, 255, 288, 235, 162, 171, 139, 160,  94,  52,  34,  43,  24,  19,  10,   3,   7,   5],\n",
      "      dtype=int64))\n"
     ]
    }
   ],
   "source": [
    "# go through all \"grade\" excluding the empty one\n",
    "# check if the subgrade is missing\n",
    "# if subgrade missing, also check if grade = grade of iteration\n",
    "# if both true, assing the lowest subgrade \"5\"\n",
    "for i in np.unique(data_str[:,3])[1:]:\n",
    "    data_str[:,4] = np.where((data_str[:,4] == '') & (data_str[:,3] == i),\n",
    "                             i + '5',\n",
    "                             data_str[:,4])\n",
    "# still missing data... 9 records\n",
    "print(np.unique(data_str[:,4], return_counts=True))"
   ]
  },
  {
   "cell_type": "code",
   "execution_count": 27,
   "id": "814bce0e",
   "metadata": {},
   "outputs": [
    {
     "name": "stdout",
     "output_type": "stream",
     "text": [
      "['A1' 'A2' 'A3' 'A4' 'A5' 'B1' 'B2' 'B3' 'B4' 'B5' 'C1' 'C2' 'C3' 'C4' 'C5' 'D1' 'D2' 'D3' 'D4'\n",
      " 'D5' 'E1' 'E2' 'E3' 'E4' 'E5' 'F1' 'F2' 'F3' 'F4' 'F5' 'G1' 'G2' 'G3' 'G4' 'G5' 'H1']\n"
     ]
    }
   ],
   "source": [
    "# to play it safe again, we fill the remaining blanks with a new, even lower category \"H1\"\n",
    "for i in np.unique(data_str[:,3])[1:]:\n",
    "    data_str[:,4] = np.where(data_str[:,4] == '',\n",
    "                            'H1',\n",
    "                            data_str[:,4])\n",
    "print(np.unique(data_str[:,4]))"
   ]
  },
  {
   "cell_type": "code",
   "execution_count": 28,
   "id": "232b7126",
   "metadata": {},
   "outputs": [
    {
     "name": "stdout",
     "output_type": "stream",
     "text": [
      "['C3' 'A5' 'B5' ... 'A5' 'D2' 'A4']\n",
      "sub_grade\n"
     ]
    }
   ],
   "source": [
    "# drop now redundant category \"grade\"\n",
    "data_str = np.delete(data_str, 3, axis=1)\n",
    "print(data_str[:,3])\n",
    "header_str = np.delete(header_str, 3)\n",
    "print(header_str[3])"
   ]
  },
  {
   "cell_type": "code",
   "execution_count": 29,
   "id": "7be12214",
   "metadata": {},
   "outputs": [
    {
     "name": "stdout",
     "output_type": "stream",
     "text": [
      "['A1' 'A2' 'A3' 'A4' 'A5' 'B1' 'B2' 'B3' 'B4' 'B5' 'C1' 'C2' 'C3' 'C4' 'C5' 'D1' 'D2' 'D3' 'D4'\n",
      " 'D5' 'E1' 'E2' 'E3' 'E4' 'E5' 'F1' 'F2' 'F3' 'F4' 'F5' 'G1' 'G2' 'G3' 'G4' 'G5' 'H1']\n"
     ]
    }
   ],
   "source": [
    "# convert subgrade. want integers\n",
    "print(np.unique(data_str[:,3]))"
   ]
  },
  {
   "cell_type": "code",
   "execution_count": 30,
   "id": "d07b8ce0",
   "metadata": {},
   "outputs": [
    {
     "name": "stdout",
     "output_type": "stream",
     "text": [
      "{'A1': 1, 'A2': 2, 'A3': 3, 'A4': 4, 'A5': 5, 'B1': 6, 'B2': 7, 'B3': 8, 'B4': 9, 'B5': 10, 'C1': 11, 'C2': 12, 'C3': 13, 'C4': 14, 'C5': 15, 'D1': 16, 'D2': 17, 'D3': 18, 'D4': 19, 'D5': 20, 'E1': 21, 'E2': 22, 'E3': 23, 'E4': 24, 'E5': 25, 'F1': 26, 'F2': 27, 'F3': 28, 'F4': 29, 'F5': 30, 'G1': 31, 'G2': 32, 'G3': 33, 'G4': 34, 'G5': 35, 'H1': 36}\n",
      "----------\n",
      "['1' '10' '11' '12' '13' '14' '15' '16' '17' '18' '19' '2' '20' '21' '22' '23' '24' '25' '26' '27'\n",
      " '28' '29' '3' '30' '31' '32' '33' '34' '35' '36' '4' '5' '6' '7' '8' '9']\n"
     ]
    }
   ],
   "source": [
    "# dictionary for looping\n",
    "# keys = unique subgrades\n",
    "# values = int\n",
    "keys = list(np.unique(data_str[:,3]))\n",
    "values = list(range(1,np.unique(data_str[:,3]).shape[0] + 1))\n",
    "dict_subgrade = dict(zip(keys,values))\n",
    "print(dict_subgrade, end='')\n",
    "print('\\n----------')\n",
    "\n",
    "# save numbers over subgrades\n",
    "for i in np.unique(data_str[:,3]):\n",
    "    data_str[:,3] = np.where(data_str[:,3] == i,\n",
    "                            dict_subgrade[i],\n",
    "                            data_str[:,3])\n",
    "print(np.unique(data_str[:,3]))"
   ]
  },
  {
   "cell_type": "code",
   "execution_count": 31,
   "id": "59dd1c37",
   "metadata": {},
   "outputs": [
    {
     "name": "stdout",
     "output_type": "stream",
     "text": [
      "['' 'Not Verified' 'Source Verified' 'Verified']\n"
     ]
    }
   ],
   "source": [
    "# cleaning \"verification_status\"\n",
    "print(np.unique(data_str[:,4]))"
   ]
  },
  {
   "cell_type": "code",
   "execution_count": 32,
   "id": "8d92c1b5",
   "metadata": {},
   "outputs": [
    {
     "name": "stdout",
     "output_type": "stream",
     "text": [
      "['0' '1']\n"
     ]
    }
   ],
   "source": [
    "# again, use bools instead\n",
    "data_str[:,4] = np.where((data_str[:,4] == '') | (data_str[:,4] == 'Not Verified'), 0, 1)\n",
    "print(np.unique(data_str[:,4]))"
   ]
  },
  {
   "cell_type": "code",
   "execution_count": 33,
   "id": "043b7696",
   "metadata": {},
   "outputs": [
    {
     "name": "stdout",
     "output_type": "stream",
     "text": [
      "['https://www.lendingclub.com/browse/loanDetail.action?loan_id=12606806'\n",
      " 'https://www.lendingclub.com/browse/loanDetail.action?loan_id=13026045'\n",
      " 'https://www.lendingclub.com/browse/loanDetail.action?loan_id=1312426' ...\n",
      " 'https://www.lendingclub.com/browse/loanDetail.action?loan_id=8138291'\n",
      " 'https://www.lendingclub.com/browse/loanDetail.action?loan_id=8214572'\n",
      " 'https://www.lendingclub.com/browse/loanDetail.action?loan_id=849994']\n"
     ]
    }
   ],
   "source": [
    "# cleaning \"url\"\n",
    "print(np.unique(data_str[:,5]))"
   ]
  },
  {
   "cell_type": "code",
   "execution_count": 34,
   "id": "6f3524ed",
   "metadata": {},
   "outputs": [
    {
     "name": "stdout",
     "output_type": "stream",
     "text": [
      "['48010226' '57693261' '59432726' ... '50415990' '46154151' '66055249']\n",
      "[48010226. 57693261. 59432726. ... 50415990. 46154151. 66055249.]\n",
      "are they equal? True\n",
      "[48010226. 57693261. 59432726. ... 50415990. 46154151. 66055249.]\n",
      "['id' 'loan_amnt' 'funded_amnt' 'int_rate' 'installment' 'total_pymnt']\n"
     ]
    }
   ],
   "source": [
    "# strip repeating parts...\n",
    "data_str[:,5] = np.chararray.strip(data_str[:,5], 'https://www.lendingclub.com/browse/loanDetail.action?loan_id=')\n",
    "print(data_str[:,5])\n",
    "# it's just \"loan_id\"\n",
    "# same as numeric data col 0 \"id\"\n",
    "print(data_num[:,0])\n",
    "print('are they equal?', np.array_equal(data_str[:,5].astype(dtype='int32'), data_num[:,0].astype(dtype='int32')))\n",
    "# we can drop the url colum completely\n",
    "data_str = np.delete(data_str, 5, axis=1)\n",
    "header_str = np.delete(header_str, 5)\n",
    "\n",
    "print(data_num[:,0])\n",
    "print(header_num)"
   ]
  },
  {
   "cell_type": "code",
   "execution_count": 35,
   "id": "dae1362d",
   "metadata": {},
   "outputs": [
    {
     "name": "stdout",
     "output_type": "stream",
     "text": [
      "['' 'AK' 'AL' 'AR' 'AZ' 'CA' 'CO' 'CT' 'DC' 'DE' 'FL' 'GA' 'HI' 'IL' 'IN' 'KS' 'KY' 'LA' 'MA' 'MD'\n",
      " 'ME' 'MI' 'MN' 'MO' 'MS' 'MT' 'NC' 'ND' 'NE' 'NH' 'NJ' 'NM' 'NV' 'NY' 'OH' 'OK' 'OR' 'PA' 'RI'\n",
      " 'SC' 'SD' 'TN' 'TX' 'UT' 'VA' 'VT' 'WA' 'WI' 'WV' 'WY']\n",
      "50\n"
     ]
    }
   ],
   "source": [
    "# clean \"state_address\" col\n",
    "print(np.unique(data_str[:,5]))\n",
    "print(np.unique(data_str[:,5]).size)\n",
    "# Iowa is not here. they likely used it as the \"base case\""
   ]
  },
  {
   "cell_type": "code",
   "execution_count": 36,
   "id": "31be83bf",
   "metadata": {},
   "outputs": [
    {
     "name": "stdout",
     "output_type": "stream",
     "text": [
      "['CA' 'NY' 'TX' 'FL' '' 'IL' 'NJ' 'GA' 'PA' 'OH' 'MI' 'NC' 'VA' 'MD' 'AZ' 'WA' 'MA' 'CO' 'MO' 'MN'\n",
      " 'IN' 'WI' 'CT' 'TN' 'NV' 'AL' 'LA' 'OR' 'SC' 'KY' 'KS' 'OK' 'UT' 'AR' 'MS' 'NH' 'NM' 'WV' 'HI'\n",
      " 'RI' 'MT' 'DE' 'DC' 'WY' 'AK' 'NE' 'SD' 'VT' 'ND' 'ME'] [1336  777  758  690  500  389  341  321  320  312  267  261  242  222  220  216  210  201  160\n",
      "  156  152  148  143  143  130  119  116  108  107   84   84   83   74   74   61   58   57   49\n",
      "   44   40   28   27   27   27   26   25   24   17   16   10]\n"
     ]
    }
   ],
   "source": [
    "# display states by num applications desc\n",
    "# tuple assignment\n",
    "states_names, states_count = np.unique(data_str[:,5], return_counts=True)\n",
    "# negative sort to get desc. argsort >> index\n",
    "s = np.argsort(-states_count)\n",
    "# print according ot indicies\n",
    "print(states_names[s], states_count[s])\n",
    "# many more for big states than others\n",
    "# the smaller states could be affected by outliers\n",
    "# organize in regions instead"
   ]
  },
  {
   "cell_type": "code",
   "execution_count": 37,
   "id": "856c18b7",
   "metadata": {},
   "outputs": [],
   "source": [
    "# blanks >> 0\n",
    "data_str[:,5] = np.where(data_str[:,5] == '', 0, data_str[:,5])\n",
    "# regions\n",
    "west = np.array(['WA', 'OR', 'CA', 'NV', 'ID', 'MT', 'WY', 'UT', 'CO', 'AZ', 'NM', 'HI', 'AK'])\n",
    "south = np.array(['TX', 'OK', 'AR', 'LA', 'MS', 'AL', 'TN', 'KY', 'FL', 'GA', 'SC', 'NC', 'VA', 'WV', 'MD', 'DE', 'DC'])\n",
    "midwest = np.array(['ND', 'SD', 'NE', 'KS', 'MN', 'IA', 'MO', 'WI', 'IL', 'IN', 'MI', 'OH'])\n",
    "east = np.array(['PA', 'NY', 'NJ', 'CT', 'MA', 'VT', 'NH', 'ME', 'RI'])"
   ]
  },
  {
   "cell_type": "code",
   "execution_count": 38,
   "id": "dfee7b10",
   "metadata": {},
   "outputs": [
    {
     "name": "stdout",
     "output_type": "stream",
     "text": [
      "['0' '1' '2' '3' '4']\n"
     ]
    }
   ],
   "source": [
    "# assign bools\n",
    "data_str[:,5] = np.where(np.isin(data_str[:,5], west), 1, data_str[:,5])\n",
    "data_str[:,5] = np.where(np.isin(data_str[:,5], south), 2, data_str[:,5])\n",
    "data_str[:,5] = np.where(np.isin(data_str[:,5], midwest), 3, data_str[:,5])\n",
    "data_str[:,5] = np.where(np.isin(data_str[:,5], east), 4, data_str[:,5])\n",
    "print(np.unique(data_str[:,5]))"
   ]
  },
  {
   "cell_type": "code",
   "execution_count": 39,
   "id": "2a683b92",
   "metadata": {},
   "outputs": [],
   "source": [
    "# convert to nums\n",
    "data_str = data_str.astype(dtype='int')"
   ]
  },
  {
   "cell_type": "code",
   "execution_count": 40,
   "id": "3b6aa01d",
   "metadata": {},
   "outputs": [
    {
     "name": "stdout",
     "output_type": "stream",
     "text": [
      "[[ 5  1 36 13  1  1]\n",
      " [ 0  1 36  5  1  4]\n",
      " [ 9  1 36 10  1  4]\n",
      " ...\n",
      " [ 6  1 36  5  1  1]\n",
      " [ 4  1 36 17  1  3]\n",
      " [12  1 36  4  0  3]]\n"
     ]
    }
   ],
   "source": [
    "# all data_str is not num!\n",
    "print(data_str)"
   ]
  },
  {
   "cell_type": "code",
   "execution_count": 41,
   "id": "46d7863b",
   "metadata": {},
   "outputs": [
    {
     "name": "stdout",
     "output_type": "stream",
     "text": [
      "['issue_date' 'loan_status' 'term_months' 'sub_grade' 'verification_status' 'addr_state']\n",
      "[[ 5  1 36 13  1  1]\n",
      " [ 0  1 36  5  1  4]\n",
      " [ 9  1 36 10  1  4]\n",
      " ...\n",
      " [ 6  1 36  5  1  1]\n",
      " [ 4  1 36 17  1  3]\n",
      " [12  1 36  4  0  3]]\n",
      "is the checkpint equal? True\n"
     ]
    }
   ],
   "source": [
    "check_str = checkpoint('checkpoint-strings', header_str, data_str)\n",
    "print(check_str['header'])\n",
    "print(check_str['data'])\n",
    "print('is the checkpint equal?', np.array_equal(data_str, check_str['data']))"
   ]
  },
  {
   "cell_type": "code",
   "execution_count": 42,
   "id": "d36f96df",
   "metadata": {},
   "outputs": [
    {
     "name": "stdout",
     "output_type": "stream",
     "text": [
      "[[48010226.      35000.      35000.         13.33     1184.86     9452.96]\n",
      " [57693261.      30000.      30000.   68616520.        938.57     4679.7 ]\n",
      " [59432726.      15000.      15000.   68616520.        494.86     1969.83]\n",
      " ...\n",
      " [50415990.      10000.      10000.   68616520.   68616520.       2185.64]\n",
      " [46154151.   68616520.      10000.         16.55      354.3      3199.4 ]\n",
      " [66055249.      10000.      10000.   68616520.        309.97      301.9 ]]\n",
      "missing values: 0\n"
     ]
    }
   ],
   "source": [
    "# cleaning the numeric cols\n",
    "print(data_num)\n",
    "# check missing values\n",
    "print('missing values:', np.isnan(data_num).sum())\n",
    "# missing values already filled before"
   ]
  },
  {
   "cell_type": "code",
   "execution_count": 43,
   "id": "7b848b8a",
   "metadata": {},
   "outputs": [
    {
     "name": "stdout",
     "output_type": "stream",
     "text": [
      "68616520.0\n",
      "max_fill in col 0: 0\n"
     ]
    }
   ],
   "source": [
    "# substitute filler values\n",
    "print(max_fill)\n",
    "print('max_fill in col 0:', np.isin(data_num[:,0], max_fill).sum())"
   ]
  },
  {
   "cell_type": "code",
   "execution_count": 44,
   "id": "8cc2182a",
   "metadata": {},
   "outputs": [
    {
     "name": "stdout",
     "output_type": "stream",
     "text": [
      "['id' 'loan_amnt' 'funded_amnt' 'int_rate' 'installment' 'total_pymnt']\n",
      "[[  373332.           nan     1000.           nan     1000.           nan        6.         31.42\n",
      "          nan         nan         nan         nan         nan        0.  ]\n",
      " [54015809.19         nan    15273.46         nan    15311.04         nan       16.62      440.92\n",
      "          nan         nan         nan         nan         nan     3143.85]\n",
      " [68616519.           nan    35000.           nan    35000.           nan       28.99     1372.97\n",
      "          nan         nan         nan         nan         nan    41913.62]]\n",
      "[[  373332.       1000.       1000.          6.         31.42        0.  ]\n",
      " [54015809.19    15273.46    15311.04       16.62      440.92     3143.85]\n",
      " [68616519.      35000.      35000.         28.99     1372.97    41913.62]]\n"
     ]
    }
   ],
   "source": [
    "print(header_num)\n",
    "# we want worst case scenario, so we should replace \"funded_amt\" max for min\n",
    "# others can be max\n",
    "\n",
    "# temp stats - min, mean, max values\n",
    "print(tmp_stats)\n",
    "# view without missing values for strings\n",
    "print(tmp_stats[:, col_numeric])"
   ]
  },
  {
   "cell_type": "code",
   "execution_count": 45,
   "id": "01cc90fa",
   "metadata": {},
   "outputs": [
    {
     "name": "stdout",
     "output_type": "stream",
     "text": [
      "[35000. 30000. 15000. ... 10000. 10000. 10000.]\n",
      "[35000. 30000. 15000. ... 10000. 10000. 10000.]\n",
      "nan\n",
      "6.0\n"
     ]
    }
   ],
   "source": [
    "# replace \"funded_amt\" \"max_fill\" with min for col - conservative\n",
    "print(data_num[:,2])\n",
    "data_num[:,2] = np.where(data_num[:,2] == max_fill,\n",
    "                         tmp_stats[0, col_numeric[2]],\n",
    "                         data_num[:,2])\n",
    "print(data_num[:,2])\n",
    "# remember that the tmp_stats includes the str columns\n",
    "print(tmp_stats[0,3])\n",
    "# do this to see stats for numeric array\n",
    "print(tmp_stats[0, col_numeric][3])"
   ]
  },
  {
   "cell_type": "code",
   "execution_count": 46,
   "id": "fc357d69",
   "metadata": {},
   "outputs": [
    {
     "name": "stdout",
     "output_type": "stream",
     "text": [
      "[[48010226.      35000.      35000.         13.33     1184.86     9452.96]\n",
      " [57693261.      30000.      30000.         28.99      938.57     4679.7 ]\n",
      " [59432726.      15000.      15000.         28.99      494.86     1969.83]\n",
      " ...\n",
      " [50415990.      10000.      10000.         28.99     1372.97     2185.64]\n",
      " [46154151.      35000.      10000.         16.55      354.3      3199.4 ]\n",
      " [66055249.      10000.      10000.         28.99      309.97      301.9 ]]\n"
     ]
    }
   ],
   "source": [
    "# other cols - max for each column\n",
    "# \"for\" loop for all indicies\n",
    "for i in [1,3,4,5]:\n",
    "    data_num[:,i] = np.where(data_num[:,i] == max_fill,\n",
    "                             tmp_stats[2, col_numeric[i]],\n",
    "                             data_num[:,i])\n",
    "print(data_num)"
   ]
  },
  {
   "cell_type": "code",
   "execution_count": 47,
   "id": "7208e6f4",
   "metadata": {},
   "outputs": [
    {
     "name": "stdout",
     "output_type": "stream",
     "text": [
      "[1.13 1.12 1.08 1.11 1.1  1.12 1.09 1.13 1.13 1.1  1.06 1.09]\n"
     ]
    }
   ],
   "source": [
    "# currency exchange rate\n",
    "# use adjusted closing price only\n",
    "data_ex = np.genfromtxt('EUR-USD.csv', delimiter=',', autostrip=True, skip_header=1, usecols=3)\n",
    "print(data_ex)"
   ]
  },
  {
   "cell_type": "code",
   "execution_count": 48,
   "id": "c098d8a5",
   "metadata": {},
   "outputs": [
    {
     "name": "stdout",
     "output_type": "stream",
     "text": [
      "[ 5  0  9 ...  6  4 12]\n"
     ]
    }
   ],
   "source": [
    "# dates\n",
    "print(data_str[:,0])"
   ]
  },
  {
   "cell_type": "code",
   "execution_count": 49,
   "id": "818d44d5",
   "metadata": {},
   "outputs": [
    {
     "name": "stdout",
     "output_type": "stream",
     "text": [
      "[1.1  1.11 1.13 ... 1.12 1.11 1.09]\n"
     ]
    }
   ],
   "source": [
    "exchange_rate = data_str[:,0]\n",
    "# loop for every month\n",
    "# i-1 to get the index vs the month\n",
    "for i in range(1,13):\n",
    "    exchange_rate = np.where(exchange_rate == i, data_ex[i-1], exchange_rate)\n",
    "\n",
    "# replace 0 with mean\n",
    "exchange_rate = np.where(exchange_rate == 0, np.mean(data_ex), exchange_rate)\n",
    "\n",
    "print(exchange_rate)"
   ]
  },
  {
   "cell_type": "code",
   "execution_count": 50,
   "id": "392c70f4",
   "metadata": {},
   "outputs": [
    {
     "name": "stdout",
     "output_type": "stream",
     "text": [
      "(10000,)\n",
      "(10000, 6)\n",
      "[[48010226.      35000.      35000.   ...     1184.86     9452.96        1.1 ]\n",
      " [57693261.      30000.      30000.   ...      938.57     4679.7         1.11]\n",
      " [59432726.      15000.      15000.   ...      494.86     1969.83        1.13]\n",
      " ...\n",
      " [50415990.      10000.      10000.   ...     1372.97     2185.64        1.12]\n",
      " [46154151.      35000.      10000.   ...      354.3      3199.4         1.11]\n",
      " [66055249.      10000.      10000.   ...      309.97      301.9         1.09]]\n",
      "['id' 'loan_amnt' 'funded_amnt' 'int_rate' 'installment' 'total_pymnt' 'exchange_rate']\n"
     ]
    }
   ],
   "source": [
    "print(exchange_rate.shape)\n",
    "print(data_num.shape)\n",
    "# they are different dimensions\n",
    "# must reshape \"exchange_rate\"\n",
    "exchange_rate = np.reshape(exchange_rate, (10000,1))\n",
    "# stack them - append last col\n",
    "data_num = np.hstack((data_num, exchange_rate))\n",
    "print(data_num)\n",
    "# headers\n",
    "header_num = np.concatenate((header_num, np.array(['exchange_rate'])))\n",
    "print(header_num)"
   ]
  },
  {
   "cell_type": "code",
   "execution_count": 51,
   "id": "ed91a11d",
   "metadata": {},
   "outputs": [
    {
     "name": "stdout",
     "output_type": "stream",
     "text": [
      "['id' 'loan_amnt' 'funded_amnt' 'int_rate' 'installment' 'total_pymnt' 'exchange_rate']\n",
      "[[57693261.      30000.      30000.         28.99      938.57     4679.7         1.11]\n",
      " [59432726.      15000.      15000.         28.99      494.86     1969.83        1.13]\n",
      " [57803010.       8075.       8075.         19.19      296.78     1178.51        1.13]\n",
      " [63398019.      14400.      14400.         13.99      334.99      681.17        1.1 ]]\n"
     ]
    }
   ],
   "source": [
    "# currency exchange\n",
    "# include a EUR col for every USD col\n",
    "print(header_num)\n",
    "cols_dollar = np.array([1,2,4,5])\n",
    "print(data_num[cols_dollar])"
   ]
  },
  {
   "cell_type": "code",
   "execution_count": 52,
   "id": "eaddd015",
   "metadata": {},
   "outputs": [
    {
     "name": "stdout",
     "output_type": "stream",
     "text": [
      "(10000, 11)\n"
     ]
    }
   ],
   "source": [
    "# loop to append\n",
    "for i in cols_dollar:\n",
    "    data_num = np.hstack((data_num, np.reshape(data_num[:,i] / data_num[:,6], (10000,1))))\n",
    "                         \n",
    "print(data_num.shape)"
   ]
  },
  {
   "cell_type": "code",
   "execution_count": 53,
   "id": "3be3a5e5",
   "metadata": {},
   "outputs": [
    {
     "name": "stdout",
     "output_type": "stream",
     "text": [
      "['id' 'loan_amnt' 'funded_amnt' 'int_rate' 'installment' 'total_pymnt' 'exchange_rate'\n",
      " 'loan_amnt_EUR' 'funded_amnt_EUR' 'installment_EUR' 'total_pymnt_EUR']\n"
     ]
    }
   ],
   "source": [
    "# update the header\n",
    "header_add = np.array([col + '_EUR' for col in header_num[cols_dollar]])\n",
    "header_num = np.concatenate((header_num, header_add))\n",
    "print(header_num)"
   ]
  },
  {
   "cell_type": "code",
   "execution_count": 54,
   "id": "53194297",
   "metadata": {},
   "outputs": [
    {
     "name": "stdout",
     "output_type": "stream",
     "text": [
      "['id' 'loan_amnt_USD' 'funded_amnt_USD' 'int_rate' 'installment_USD' 'total_pymnt_USD'\n",
      " 'exchange_rate' 'loan_amnt_EUR' 'funded_amnt_EUR' 'installment_EUR' 'total_pymnt_EUR']\n"
     ]
    }
   ],
   "source": [
    "# add USD to others\n",
    "header_num[cols_dollar] = np.array([col + '_USD' for col in header_num[cols_dollar]])\n",
    "print(header_num)"
   ]
  },
  {
   "cell_type": "code",
   "execution_count": 55,
   "id": "dee507d9",
   "metadata": {},
   "outputs": [
    {
     "name": "stdout",
     "output_type": "stream",
     "text": [
      "['id' 'loan_amnt_USD' 'loan_amnt_EUR' 'funded_amnt_USD' 'funded_amnt_EUR' 'int_rate'\n",
      " 'installment_USD' 'installment_EUR' 'total_pymnt_USD' 'total_pymnt_EUR' 'exchange_rate']\n",
      "[[48010226.      35000.      31933.3  ...     9452.96     8624.69        1.1 ]\n",
      " [57693261.      30000.      27132.46 ...     4679.7      4232.39        1.11]\n",
      " [59432726.      15000.      13326.3  ...     1969.83     1750.04        1.13]\n",
      " ...\n",
      " [50415990.      10000.       8910.3  ...     2185.64     1947.47        1.12]\n",
      " [46154151.      35000.      31490.9  ...     3199.4      2878.63        1.11]\n",
      " [66055249.      10000.       9145.8  ...      301.9       276.11        1.09]]\n"
     ]
    }
   ],
   "source": [
    "# reorder\n",
    "col_idx_order = [0,1,7,2,8,3,4,9,5,10,6]\n",
    "header_num = header_num[col_idx_order]\n",
    "data_num = data_num[:,col_idx_order]\n",
    "print(header_num)\n",
    "print(data_num)"
   ]
  },
  {
   "cell_type": "code",
   "execution_count": 56,
   "id": "13d1ae4e",
   "metadata": {},
   "outputs": [
    {
     "name": "stdout",
     "output_type": "stream",
     "text": [
      "[13.33 28.99 28.99 ... 28.99 16.55 28.99]\n",
      "[0.13 0.29 0.29 ... 0.29 0.17 0.29]\n"
     ]
    }
   ],
   "source": [
    "# change \"int_rate\" col to decimal\n",
    "print(data_num[:,5])\n",
    "data_num[:,5] = data_num[:,5]/100\n",
    "print(data_num[:,5])"
   ]
  },
  {
   "cell_type": "code",
   "execution_count": 57,
   "id": "faa70eba",
   "metadata": {},
   "outputs": [
    {
     "name": "stdout",
     "output_type": "stream",
     "text": [
      "is the checkpoint equal? True\n"
     ]
    }
   ],
   "source": [
    "# numeric checkpoint\n",
    "check_num = checkpoint('checkpoint-numeric', header_num, data_num)\n",
    "print('is the checkpoint equal?', np.array_equal(data_num, check_num['data']))"
   ]
  },
  {
   "cell_type": "code",
   "execution_count": 58,
   "id": "596857ca",
   "metadata": {},
   "outputs": [],
   "source": [
    "# finalize the dataset\n",
    "# we separated str and num\n",
    "# we preprocessed separately\n",
    "# now, we combine"
   ]
  },
  {
   "cell_type": "code",
   "execution_count": 59,
   "id": "8187286c",
   "metadata": {},
   "outputs": [
    {
     "name": "stdout",
     "output_type": "stream",
     "text": [
      "(10000, 6)\n",
      "(10000, 11)\n",
      "(10000, 17)\n",
      "[[48010226.      35000.      31933.3  ...       13.          1.          1.  ]\n",
      " [57693261.      30000.      27132.46 ...        5.          1.          4.  ]\n",
      " [59432726.      15000.      13326.3  ...       10.          1.          4.  ]\n",
      " ...\n",
      " [50415990.      10000.       8910.3  ...        5.          1.          1.  ]\n",
      " [46154151.      35000.      31490.9  ...       17.          1.          3.  ]\n",
      " [66055249.      10000.       9145.8  ...        4.          0.          3.  ]]\n"
     ]
    }
   ],
   "source": [
    "print(check_str['data'].shape)\n",
    "print(check_num['data'].shape)\n",
    "# can be stacked\n",
    "print(np.hstack((check_num['data'], check_str['data'])).shape)\n",
    "data = np.hstack((check_num['data'], check_str['data']))\n",
    "print(data)"
   ]
  },
  {
   "cell_type": "code",
   "execution_count": 60,
   "id": "6618ed0d",
   "metadata": {},
   "outputs": [
    {
     "name": "stdout",
     "output_type": "stream",
     "text": [
      "nans:  0\n"
     ]
    }
   ],
   "source": [
    "# check nans\n",
    "print('nans: ', np.isnan(data).sum())"
   ]
  },
  {
   "cell_type": "code",
   "execution_count": 61,
   "id": "e57a0fd1",
   "metadata": {},
   "outputs": [
    {
     "name": "stdout",
     "output_type": "stream",
     "text": [
      "['id' 'loan_amnt_USD' 'loan_amnt_EUR' 'funded_amnt_USD' 'funded_amnt_EUR' 'int_rate'\n",
      " 'installment_USD' 'installment_EUR' 'total_pymnt_USD' 'total_pymnt_EUR' 'exchange_rate'\n",
      " 'issue_date' 'loan_status' 'term_months' 'sub_grade' 'verification_status' 'addr_state']\n"
     ]
    }
   ],
   "source": [
    "# create header\n",
    "header_full = np.concatenate((check_num['header'], check_str['header']))\n",
    "print(header_full)"
   ]
  },
  {
   "cell_type": "code",
   "execution_count": 62,
   "id": "599700d6",
   "metadata": {},
   "outputs": [
    {
     "name": "stdout",
     "output_type": "stream",
     "text": [
      "[[  373332.       9950.       9038.08 ...       21.          0.          1.  ]\n",
      " [  575239.      12000.      10900.2  ...       25.          1.          2.  ]\n",
      " [  707689.      10000.       8924.3  ...       13.          1.          0.  ]\n",
      " ...\n",
      " [68614880.       5600.       5121.65 ...        8.          1.          1.  ]\n",
      " [68615915.       4000.       3658.32 ...       10.          1.          2.  ]\n",
      " [68616519.      21600.      19754.93 ...        3.          0.          2.  ]]\n"
     ]
    }
   ],
   "source": [
    "# sort\n",
    "# arrange by id\n",
    "# print(np.sort(data[:,0]))\n",
    "data_idx = np.argsort(data[:,0])\n",
    "data = data[data_idx]\n",
    "print(data)"
   ]
  },
  {
   "cell_type": "code",
   "execution_count": 63,
   "id": "ee777063",
   "metadata": {},
   "outputs": [
    {
     "name": "stdout",
     "output_type": "stream",
     "text": [
      "[['id' 'loan_amnt_USD' 'loan_amnt_EUR' ... 'sub_grade' 'verification_status' 'addr_state']\n",
      " ['373332.0' '9950.0' '9038.082814338286' ... '21.0' '0.0' '1.0']\n",
      " ['575239.0' '12000.0' '10900.20037910145' ... '25.0' '1.0' '2.0']\n",
      " ...\n",
      " ['68614880.0' '5600.0' '5121.647851612413' ... '8.0' '1.0' '1.0']\n",
      " ['68615915.0' '4000.0' '3658.319894008867' ... '10.0' '1.0' '2.0']\n",
      " ['68616519.0' '21600.0' '19754.927427647883' ... '3.0' '0.0' '2.0']]\n"
     ]
    }
   ],
   "source": [
    "# stack header\n",
    "data = np.vstack((header_full, data))\n",
    "print(data)"
   ]
  },
  {
   "cell_type": "code",
   "execution_count": 64,
   "id": "c7872c2d",
   "metadata": {},
   "outputs": [
    {
     "name": "stdout",
     "output_type": "stream",
     "text": [
      "stored file in directory\n"
     ]
    }
   ],
   "source": [
    "# save to new file\n",
    "np.savetxt('loan-data-preprocessed.csv', data, fmt='%s', delimiter=',')\n",
    "print('stored preprocessed file in directory')"
   ]
  },
  {
   "cell_type": "code",
   "execution_count": null,
   "id": "35e49b98",
   "metadata": {},
   "outputs": [],
   "source": []
  }
 ],
 "metadata": {
  "kernelspec": {
   "display_name": "Python 3 (ipykernel)",
   "language": "python",
   "name": "python3"
  },
  "language_info": {
   "codemirror_mode": {
    "name": "ipython",
    "version": 3
   },
   "file_extension": ".py",
   "mimetype": "text/x-python",
   "name": "python",
   "nbconvert_exporter": "python",
   "pygments_lexer": "ipython3",
   "version": "3.9.12"
  }
 },
 "nbformat": 4,
 "nbformat_minor": 5
}
