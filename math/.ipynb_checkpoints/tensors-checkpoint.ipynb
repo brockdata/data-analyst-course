{
 "cells": [
  {
   "cell_type": "code",
   "execution_count": 7,
   "id": "fceac4b0",
   "metadata": {},
   "outputs": [],
   "source": [
    "import numpy as np"
   ]
  },
  {
   "cell_type": "code",
   "execution_count": null,
   "id": "96106990",
   "metadata": {},
   "outputs": [],
   "source": [
    "# tensor is a generalization ; a collection"
   ]
  },
  {
   "cell_type": "code",
   "execution_count": 1,
   "id": "70f7d8d5",
   "metadata": {},
   "outputs": [],
   "source": [
    "# scalar lowest dimensionality = 1x1 ; tensor rank 0"
   ]
  },
  {
   "cell_type": "code",
   "execution_count": 2,
   "id": "022aed37",
   "metadata": {},
   "outputs": [],
   "source": [
    "# vector = m x 1 ; tensor rank 1\n",
    "# ordered collection of scalars"
   ]
  },
  {
   "cell_type": "code",
   "execution_count": 3,
   "id": "247cf595",
   "metadata": {},
   "outputs": [],
   "source": [
    "# matrix = m x n ; tensor rank 2\n",
    "# collection of scalars or collection of vectors"
   ]
  },
  {
   "cell_type": "code",
   "execution_count": 4,
   "id": "a141744b",
   "metadata": {},
   "outputs": [],
   "source": [
    "# k x m x n ; tensor rank 3\n",
    "# colleciton of matricies"
   ]
  },
  {
   "cell_type": "code",
   "execution_count": 9,
   "id": "75b87571",
   "metadata": {},
   "outputs": [
    {
     "name": "stdout",
     "output_type": "stream",
     "text": [
      "[[[  0   1   2]\n",
      "  [ -5  -3  -1]]\n",
      "\n",
      " [[  5  10  15]\n",
      "  [  6   7 -10]]]\n",
      "(2, 2, 3)\n"
     ]
    }
   ],
   "source": [
    "# create a tensor\n",
    "# matricies\n",
    "m1 = np.array([[0,1,2], [-5,-3,-1]])\n",
    "m2 = np.array([[5,10,15], [6,7,-10]])\n",
    "t = np.array([m1,m2])\n",
    "print(t)\n",
    "print(t.shape)"
   ]
  },
  {
   "cell_type": "code",
   "execution_count": null,
   "id": "342b51cd",
   "metadata": {},
   "outputs": [],
   "source": [
    "# or... a messier way\n",
    "t_manual = [[[0,1,2], [-5,-3,-1]], [[5,10,15], [6,7,-10]]]"
   ]
  }
 ],
 "metadata": {
  "kernelspec": {
   "display_name": "Python 3 (ipykernel)",
   "language": "python",
   "name": "python3"
  },
  "language_info": {
   "codemirror_mode": {
    "name": "ipython",
    "version": 3
   },
   "file_extension": ".py",
   "mimetype": "text/x-python",
   "name": "python",
   "nbconvert_exporter": "python",
   "pygments_lexer": "ipython3",
   "version": "3.9.12"
  }
 },
 "nbformat": 4,
 "nbformat_minor": 5
}
