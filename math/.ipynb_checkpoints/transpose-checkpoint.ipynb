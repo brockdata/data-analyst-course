{
 "cells": [
  {
   "cell_type": "code",
   "execution_count": 2,
   "id": "87116335",
   "metadata": {},
   "outputs": [],
   "source": [
    "import numpy as np"
   ]
  },
  {
   "cell_type": "code",
   "execution_count": 4,
   "id": "93616a81",
   "metadata": {},
   "outputs": [
    {
     "data": {
      "text/plain": [
       "array([[ 5, -3],\n",
       "       [12,  0],\n",
       "       [ 6, 14]])"
      ]
     },
     "execution_count": 4,
     "metadata": {},
     "output_type": "execute_result"
    }
   ],
   "source": [
    "# matricies\n",
    "# rows >> columns\n",
    "# like doing many vectors\n",
    "m = np.array([[5,12,6],[-3,0,14]])\n",
    "m.T"
   ]
  },
  {
   "cell_type": "code",
   "execution_count": 6,
   "id": "437520aa",
   "metadata": {},
   "outputs": [
    {
     "name": "stdout",
     "output_type": "stream",
     "text": [
      "[1 2 3]\n",
      "[[1]\n",
      " [2]\n",
      " [3]]\n"
     ]
    }
   ],
   "source": [
    "# vectors\n",
    "# change position, not values\n",
    "# transpose twice, get the sam vector\n",
    "# 3 x 1 transposed = 1 x 3\n",
    "# transposing this will have no effect\n",
    "v = np.array([1,2,3])\n",
    "print(v.T)\n",
    "# must reshape first\n",
    "v_reshape = v.reshape(1,3)\n",
    "print(v_reshape.T)"
   ]
  }
 ],
 "metadata": {
  "kernelspec": {
   "display_name": "Python 3 (ipykernel)",
   "language": "python",
   "name": "python3"
  },
  "language_info": {
   "codemirror_mode": {
    "name": "ipython",
    "version": 3
   },
   "file_extension": ".py",
   "mimetype": "text/x-python",
   "name": "python",
   "nbconvert_exporter": "python",
   "pygments_lexer": "ipython3",
   "version": "3.9.12"
  }
 },
 "nbformat": 4,
 "nbformat_minor": 5
}
