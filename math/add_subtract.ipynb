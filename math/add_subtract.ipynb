{
 "cells": [
  {
   "cell_type": "code",
   "execution_count": 3,
   "id": "3843b61f",
   "metadata": {},
   "outputs": [],
   "source": [
    "import numpy as np"
   ]
  },
  {
   "cell_type": "code",
   "execution_count": 7,
   "id": "5c4fef9c",
   "metadata": {},
   "outputs": [
    {
     "name": "stdout",
     "output_type": "stream",
     "text": [
      "[[11 14  2]\n",
      " [ 4  0 19]]\n",
      "--------------------\n",
      "[[ -1  10  10]\n",
      " [-10   0   9]]\n"
     ]
    }
   ],
   "source": [
    "# matricies\n",
    "# conditon: must have same dimensions\n",
    "m1 = np.array([[5,12,6], [-3,0,14]])\n",
    "m2 = np.array([[6,2,-4], [7,0,5]])\n",
    "\n",
    "print(m1 + m2)\n",
    "print('--------------------')\n",
    "print(m1 - m2)"
   ]
  },
  {
   "cell_type": "code",
   "execution_count": 8,
   "id": "f5b845ca",
   "metadata": {},
   "outputs": [
    {
     "data": {
      "text/plain": [
       "array([6, 6, 6, 6, 6])"
      ]
     },
     "execution_count": 8,
     "metadata": {},
     "output_type": "execute_result"
    }
   ],
   "source": [
    "# vectors\n",
    "# same lengths\n",
    "v1 = np.array([1,2,3,4,5])\n",
    "v2 = np.array([5,4,3,2,1])\n",
    "v1 + v2"
   ]
  },
  {
   "cell_type": "code",
   "execution_count": 9,
   "id": "fee4e0a6",
   "metadata": {},
   "outputs": [
    {
     "data": {
      "text/plain": [
       "10"
      ]
     },
     "execution_count": 9,
     "metadata": {},
     "output_type": "execute_result"
    }
   ],
   "source": [
    "# scalars\n",
    "5+5"
   ]
  },
  {
   "cell_type": "code",
   "execution_count": 11,
   "id": "a8af9925",
   "metadata": {},
   "outputs": [
    {
     "name": "stdout",
     "output_type": "stream",
     "text": [
      "[11 12 13 14 15]\n",
      "--------------------\n",
      "[[15 22 16]\n",
      " [ 7 10 24]]\n"
     ]
    }
   ],
   "source": [
    "# can add scalars to matricies / vectors.\n",
    "# adds the scalar to each element\n",
    "print(v1 + 10)\n",
    "print('--------------------')\n",
    "print(m1 + 10)"
   ]
  },
  {
   "cell_type": "code",
   "execution_count": null,
   "id": "33de1d19",
   "metadata": {},
   "outputs": [],
   "source": []
  }
 ],
 "metadata": {
  "kernelspec": {
   "display_name": "Python 3 (ipykernel)",
   "language": "python",
   "name": "python3"
  },
  "language_info": {
   "codemirror_mode": {
    "name": "ipython",
    "version": 3
   },
   "file_extension": ".py",
   "mimetype": "text/x-python",
   "name": "python",
   "nbconvert_exporter": "python",
   "pygments_lexer": "ipython3",
   "version": "3.9.12"
  }
 },
 "nbformat": 4,
 "nbformat_minor": 5
}
