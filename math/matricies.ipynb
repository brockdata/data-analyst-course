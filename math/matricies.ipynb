{
 "cells": [
  {
   "cell_type": "code",
   "execution_count": 1,
   "id": "932a5d3e",
   "metadata": {},
   "outputs": [],
   "source": [
    "import numpy as np"
   ]
  },
  {
   "cell_type": "code",
   "execution_count": 8,
   "id": "756cb64a",
   "metadata": {},
   "outputs": [
    {
     "name": "stdout",
     "output_type": "stream",
     "text": [
      "5\n",
      "[ 5 -2  4]\n",
      "[[ 5 12  6]\n",
      " [-3  0 14]]\n"
     ]
    }
   ],
   "source": [
    "# scalar\n",
    "s = 5\n",
    "# vector\n",
    "v = np.array([5, -2, 4])\n",
    "# matrix\n",
    "m = np.array([[5,12,6], [-3,0,14]])\n",
    "\n",
    "print(s)\n",
    "print(v)\n",
    "print(m)"
   ]
  },
  {
   "cell_type": "markdown",
   "id": "96a2057a",
   "metadata": {},
   "source": [
    "data types"
   ]
  },
  {
   "cell_type": "code",
   "execution_count": 10,
   "id": "e92f9f76",
   "metadata": {},
   "outputs": [
    {
     "name": "stdout",
     "output_type": "stream",
     "text": [
      "<class 'int'>\n",
      "<class 'numpy.ndarray'>\n",
      "<class 'numpy.ndarray'>\n"
     ]
    }
   ],
   "source": [
    "print(type(s))\n",
    "print(type(v))\n",
    "print(type(m))\n",
    "# ndarray = n-demensional array"
   ]
  },
  {
   "cell_type": "code",
   "execution_count": 12,
   "id": "cfc7cb86",
   "metadata": {},
   "outputs": [
    {
     "name": "stdout",
     "output_type": "stream",
     "text": [
      "<class 'numpy.ndarray'>\n"
     ]
    }
   ],
   "source": [
    "# declar scalar as array\n",
    "s_array = np.array(s)\n",
    "print(type(s_array))"
   ]
  },
  {
   "cell_type": "markdown",
   "id": "9162ae67",
   "metadata": {},
   "source": [
    "data shapes"
   ]
  },
  {
   "cell_type": "code",
   "execution_count": 15,
   "id": "101edb04",
   "metadata": {},
   "outputs": [
    {
     "name": "stdout",
     "output_type": "stream",
     "text": [
      "()\n",
      "(3,)\n",
      "(2, 3)\n"
     ]
    }
   ],
   "source": [
    "# check dimensionality\n",
    "# error\n",
    "# print(s.shape)\n",
    "# no dimensions\n",
    "print(s_array.shape)"
   ]
  },
  {
   "cell_type": "code",
   "execution_count": 19,
   "id": "098ea72e",
   "metadata": {},
   "outputs": [
    {
     "name": "stdout",
     "output_type": "stream",
     "text": [
      "(3,)\n",
      "[[ 5 -2  4]]\n",
      "[[ 5]\n",
      " [-2]\n",
      " [ 4]]\n"
     ]
    }
   ],
   "source": [
    "# 3 ordered elements\n",
    "print(v.shape)\n",
    "# reshape from row to column\n",
    "print(v.reshape(1,3))\n",
    "print(v.reshape(3,1))"
   ]
  },
  {
   "cell_type": "code",
   "execution_count": null,
   "id": "3e310fe7",
   "metadata": {},
   "outputs": [],
   "source": []
  }
 ],
 "metadata": {
  "kernelspec": {
   "display_name": "Python 3 (ipykernel)",
   "language": "python",
   "name": "python3"
  },
  "language_info": {
   "codemirror_mode": {
    "name": "ipython",
    "version": 3
   },
   "file_extension": ".py",
   "mimetype": "text/x-python",
   "name": "python",
   "nbconvert_exporter": "python",
   "pygments_lexer": "ipython3",
   "version": "3.9.12"
  }
 },
 "nbformat": 4,
 "nbformat_minor": 5
}
