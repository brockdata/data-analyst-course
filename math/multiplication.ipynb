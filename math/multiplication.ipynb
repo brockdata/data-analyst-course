{
 "cells": [
  {
   "cell_type": "code",
   "execution_count": 12,
   "id": "a42aa540",
   "metadata": {},
   "outputs": [],
   "source": [
    "import numpy as np\n",
    "from random import randint"
   ]
  },
  {
   "cell_type": "code",
   "execution_count": 4,
   "id": "40a3e603",
   "metadata": {},
   "outputs": [
    {
     "name": "stdout",
     "output_type": "stream",
     "text": [
      "[10 30 60]\n",
      "100\n"
     ]
    }
   ],
   "source": [
    "# dot product / scalar product\n",
    "# sum of the products of the corresponding elements\n",
    "# result is a scalar\n",
    "# vectors\n",
    "v1 = np.array([5,10,15])\n",
    "v2 = np.array([2,3,4])\n",
    "# dot product\n",
    "print(np.dot(v1,v2))"
   ]
  },
  {
   "cell_type": "code",
   "execution_count": 5,
   "id": "cb9323bc",
   "metadata": {},
   "outputs": [
    {
     "data": {
      "text/plain": [
       "array([25, 50, 75])"
      ]
     },
     "execution_count": 5,
     "metadata": {},
     "output_type": "execute_result"
    }
   ],
   "source": [
    "# scalar * vector\n",
    "v1 * 5\n",
    "# ie initial vector \"scaled 5 times\""
   ]
  },
  {
   "cell_type": "code",
   "execution_count": 11,
   "id": "a049578c",
   "metadata": {},
   "outputs": [
    {
     "name": "stdout",
     "output_type": "stream",
     "text": [
      "[[  7   5]\n",
      " [121 543]]\n"
     ]
    }
   ],
   "source": [
    "# matricies\n",
    "# first dimension must match second dimension of the other\n",
    "# (3 x 4) can be multiplied by (1 x 3), (2 x 3), (3 x 3),... opposing shape\n",
    "# repeating dimension (in this case 3) will dissappear in the resulting matrix ege (2 x 3) * (3 x 6) = (2 x 6)\n",
    "# use distributive property; first vector times first vector, first vector times second vector...\n",
    "\n",
    "# error\n",
    "# (3 x 2) * (3 x 2)\n",
    "# m1 = np.array([[10,-5,3], [14,21,9]])\n",
    "# m2 = np.array([[5,12,-6], [5,20,-5]])\n",
    "# better!\n",
    "# (3 x 2) * (2 x 3)\n",
    "m1 = np.array([[10,-5,3], [14,21,9]])\n",
    "m2 = np.array([[5,12], [5,20], [-6, -5]])\n",
    "\n",
    "print(np.dot(m1,m2))"
   ]
  },
  {
   "cell_type": "code",
   "execution_count": null,
   "id": "3ee1f542",
   "metadata": {},
   "outputs": [],
   "source": [
    "matching_side = 10\n",
    "side_a = 5\n",
    "side_b = 20\n",
    "\n",
    "def create_dot_matricies():\n",
    "    m1_list = []\n",
    "    m2_list = []\n",
    "    for n in range(0,10):\n",
    "        for i in range(0,side_a):\n",
    "            v = []"
   ]
  }
 ],
 "metadata": {
  "kernelspec": {
   "display_name": "Python 3 (ipykernel)",
   "language": "python",
   "name": "python3"
  },
  "language_info": {
   "codemirror_mode": {
    "name": "ipython",
    "version": 3
   },
   "file_extension": ".py",
   "mimetype": "text/x-python",
   "name": "python",
   "nbconvert_exporter": "python",
   "pygments_lexer": "ipython3",
   "version": "3.9.12"
  }
 },
 "nbformat": 4,
 "nbformat_minor": 5
}
