{
 "cells": [
  {
   "cell_type": "code",
   "execution_count": 1,
   "id": "1027d6ab",
   "metadata": {},
   "outputs": [],
   "source": [
    "import numpy as np"
   ]
  },
  {
   "cell_type": "code",
   "execution_count": 2,
   "id": "444a75c7",
   "metadata": {},
   "outputs": [
    {
     "name": "stdout",
     "output_type": "stream",
     "text": [
      "[[0. 0. 0.]\n",
      " [0. 0. 0.]]\n"
     ]
    }
   ],
   "source": [
    "# assign from RAM memory\n",
    "# could be blank, could be random values\n",
    "a = np.empty(shape=(2,3))\n",
    "print(a)"
   ]
  },
  {
   "cell_type": "code",
   "execution_count": 3,
   "id": "5eb46ffa",
   "metadata": {},
   "outputs": [
    {
     "name": "stdout",
     "output_type": "stream",
     "text": [
      "[[0 0 0]\n",
      " [0 0 0]]\n"
     ]
    }
   ],
   "source": [
    "# zeros\n",
    "b = np.zeros(shape=(2,3), dtype='int8')\n",
    "print(b)"
   ]
  },
  {
   "cell_type": "code",
   "execution_count": 4,
   "id": "4b5b1368",
   "metadata": {},
   "outputs": [
    {
     "name": "stdout",
     "output_type": "stream",
     "text": [
      "[[1. 1. 1.]\n",
      " [1. 1. 1.]]\n"
     ]
    }
   ],
   "source": [
    "# ones\n",
    "c = np.ones(shape=(2,3))\n",
    "print(c)"
   ]
  },
  {
   "cell_type": "code",
   "execution_count": 9,
   "id": "db6ea868",
   "metadata": {},
   "outputs": [
    {
     "name": "stdout",
     "output_type": "stream",
     "text": [
      "[[2 2 2]\n",
      " [2 2 2]]\n",
      "[['two' 'two' 'two']\n",
      " ['two' 'two' 'two']]\n"
     ]
    }
   ],
   "source": [
    "# specified value\n",
    "d = np.full(fill_value=2, shape=(2,3))\n",
    "print(d)\n",
    "d_str = np.full(fill_value='two', shape=(2,3))\n",
    "print(d_str)"
   ]
  },
  {
   "cell_type": "code",
   "execution_count": 13,
   "id": "df7cdd61",
   "metadata": {},
   "outputs": [
    {
     "name": "stdout",
     "output_type": "stream",
     "text": [
      "[[3 9 9 1 9]\n",
      " [1 4 0 8 1]\n",
      " [8 3 5 5 7]]\n",
      "------------------\n",
      "[[      0       0       0       0       0]\n",
      " [      0       0       0       0       0]\n",
      " [   1596       0       0 6029409       0]]\n",
      "------------------\n",
      "[[0 0 0 0 0]\n",
      " [0 0 0 0 0]\n",
      " [0 0 0 0 0]]\n"
     ]
    }
   ],
   "source": [
    "# like\n",
    "# don't sepcify shape or type\n",
    "# specify another array and let the new array be the same shape and type\n",
    "\n",
    "from random import randint\n",
    "m = np.array([[randint(0,10),randint(0,10),randint(0,10),randint(0,10),randint(0,10)],\n",
    "             [randint(0,10),randint(0,10),randint(0,10),randint(0,10),randint(0,10)],\n",
    "             [randint(0,10),randint(0,10),randint(0,10),randint(0,10),randint(0,10)]])\n",
    "print(m)\n",
    "print('------------------')\n",
    "\n",
    "# replicate the given array with the empty function\n",
    "m2 = np.empty_like(m)\n",
    "print(m2)\n",
    "print('------------------')\n",
    "\n",
    "m3 = np.zeros_like(m2)\n",
    "print(m3)\n",
    "\n",
    "# np.ones_like\n",
    "# np.full_like"
   ]
  },
  {
   "cell_type": "code",
   "execution_count": 22,
   "id": "3ce44dcc",
   "metadata": {},
   "outputs": [
    {
     "name": "stdout",
     "output_type": "stream",
     "text": [
      "[0, 1, 2, 3, 4, 5, 6, 7, 8, 9, 10, 11, 12, 13, 14, 15, 16, 17, 18, 19, 20, 21, 22, 23, 24, 25, 26, 27, 28, 29] \n",
      " <class 'list'> <class 'range'>\n",
      "------------------\n",
      "[ 0  1  2  3  4  5  6  7  8  9 10 11 12 13 14 15 16 17 18 19 20 21 22 23\n",
      " 24 25 26 27 28 29]\n",
      "<class 'numpy.ndarray'>\n"
     ]
    }
   ],
   "source": [
    "# arange = array range\n",
    "# consec int values in a range\n",
    "\n",
    "# like py \"range\"...\n",
    "a2a = list(range(30))\n",
    "print(a2a, end=' ')\n",
    "print('\\n', type(a2a), type(range(30)))\n",
    "print('------------------')\n",
    "\n",
    "# but produces array instead of range object\n",
    "a2b = np.arange(30)\n",
    "print(a2)\n",
    "print(type(a2b))\n",
    "\n",
    "# start, stop step"
   ]
  },
  {
   "cell_type": "code",
   "execution_count": 23,
   "id": "87f6b9ed",
   "metadata": {},
   "outputs": [],
   "source": [
    "# random bit generator\n",
    "from numpy.random import Generator as gen\n",
    "# \"permiutation congruential generator\" up to 64 bit size\n",
    "from numpy.random import PCG64 as pcg"
   ]
  },
  {
   "cell_type": "code",
   "execution_count": 26,
   "id": "37c33ca8",
   "metadata": {},
   "outputs": [
    {
     "name": "stdout",
     "output_type": "stream",
     "text": [
      "[[ 0.82714178 -1.19492318 -1.60770046]\n",
      " [-1.73751011 -0.57021676 -0.60602581]]\n",
      "[[-0.13640899  0.09414431 -0.06300442  1.05391641 -0.6866818 ]\n",
      " [-0.50922173 -0.7999526   0.73041825  0.08825439 -2.1177576 ]\n",
      " [ 0.65526774 -0.48095012 -0.5519114  -0.58578662 -0.98257896]\n",
      " [ 1.12378166 -1.30984316 -0.04703774  0.955272    0.26071745]\n",
      " [-0.20023668 -1.50172484 -1.4929163   0.96535084  1.18694633]]\n"
     ]
    }
   ],
   "source": [
    "# define object\n",
    "# empty argument randomly selects a \"seed\" = starting parameters for the algorithm\n",
    "r = gen(pcg())\n",
    "# normal distribution\n",
    "print(r.normal(size=(2,3)))\n",
    "print('--------------------')\n",
    "\n",
    "# define the seed\n",
    "# keep the same values for ONE execution\n",
    "# if you want to use it many times, reset it every time\n",
    "r = gen(pcg(365))\n",
    "print(r.normal(size=(5,5)))"
   ]
  },
  {
   "cell_type": "code",
   "execution_count": null,
   "id": "4375b06a",
   "metadata": {},
   "outputs": [],
   "source": []
  }
 ],
 "metadata": {
  "kernelspec": {
   "display_name": "Python 3 (ipykernel)",
   "language": "python",
   "name": "python3"
  },
  "language_info": {
   "codemirror_mode": {
    "name": "ipython",
    "version": 3
   },
   "file_extension": ".py",
   "mimetype": "text/x-python",
   "name": "python",
   "nbconvert_exporter": "python",
   "pygments_lexer": "ipython3",
   "version": "3.9.12"
  }
 },
 "nbformat": 4,
 "nbformat_minor": 5
}
