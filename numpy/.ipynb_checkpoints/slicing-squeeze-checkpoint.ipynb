{
 "cells": [
  {
   "cell_type": "code",
   "execution_count": 1,
   "id": "87232881",
   "metadata": {},
   "outputs": [],
   "source": [
    "import numpy as np"
   ]
  },
  {
   "cell_type": "code",
   "execution_count": 5,
   "id": "5de4d81e",
   "metadata": {},
   "outputs": [
    {
     "name": "stdout",
     "output_type": "stream",
     "text": [
      "[[3 9 1]\n",
      " [5 0 2]]\n"
     ]
    }
   ],
   "source": [
    "from random import randint\n",
    "m = np.array([[randint(0,10), randint(0,10), randint(0,10)], [randint(0,10), randint(0,10), randint(0,10)]])\n",
    "print(m)"
   ]
  },
  {
   "cell_type": "code",
   "execution_count": 17,
   "id": "1b9cbfe7",
   "metadata": {},
   "outputs": [
    {
     "name": "stdout",
     "output_type": "stream",
     "text": [
      "[[3 9 1]\n",
      " [5 0 2]]\n",
      "--------------------\n",
      "[5 0 2]\n",
      "--------------------\n",
      "[1 2]\n",
      "--------------------\n",
      "[3 9 1]\n",
      "--------------------\n",
      "[[3 9 1]\n",
      " [5 0 2]]\n",
      "--------------------\n",
      "[[1]\n",
      " [2]]\n"
     ]
    }
   ],
   "source": [
    "# slicing\n",
    "# \"closed-open\" = starts on the first number, but doesn't include the stop number\n",
    "# default rows\n",
    "# all rows\n",
    "print(m[:])\n",
    "print('--------------------')\n",
    "# row n\n",
    "print(m[1])\n",
    "print('--------------------')\n",
    "# all rows, n column\n",
    "print(m[:,2])\n",
    "print('--------------------')\n",
    "# all cols, 0 row\n",
    "print(m[0,:])\n",
    "print('--------------------')\n",
    "# rows beginning to 1, all cols\n",
    "print(m[:2, :])\n",
    "print('--------------------')\n",
    "# all rows, cols 2 to the end\n",
    "print(m[:, 2:])"
   ]
  },
  {
   "cell_type": "code",
   "execution_count": 18,
   "id": "d2582d23",
   "metadata": {},
   "outputs": [
    {
     "name": "stdout",
     "output_type": "stream",
     "text": [
      "[[ 9  5  4  0  6]\n",
      " [10  2  3  7  2]\n",
      " [10  6  4  5  8]]\n"
     ]
    }
   ],
   "source": [
    "# stepwise slicing\n",
    "# 3 x 5 matrix\n",
    "mb = np.array([[randint(0,10),randint(0,10),randint(0,10),randint(0,10),randint(0,10)],\n",
    "               [randint(0,10),randint(0,10),randint(0,10),randint(0,10),randint(0,10)],\n",
    "               [randint(0,10),randint(0,10),randint(0,10),randint(0,10),randint(0,10)]])\n",
    "print(mb)"
   ]
  },
  {
   "cell_type": "code",
   "execution_count": 29,
   "id": "26377a97",
   "metadata": {},
   "outputs": [
    {
     "name": "stdout",
     "output_type": "stream",
     "text": [
      "[[ 9  5  4  0  6]\n",
      " [10  6  4  5  8]]\n",
      "--------------------\n",
      "[[ 9  4  6]\n",
      " [10  4  8]]\n",
      "--------------------\n",
      "[[ 8  5  4  6 10]\n",
      " [ 2  7  3  2 10]\n",
      " [ 6  0  4  5  9]]\n"
     ]
    }
   ],
   "source": [
    "# start-stop-step\n",
    "# default step = 1\n",
    "# all rows, all cols, step 2 in dimension 1\n",
    "print(mb[::2, ::])\n",
    "print('--------------------')\n",
    "# every 2 values from every 2 rows\n",
    "print(mb[::2, ::2])\n",
    "print('--------------------')\n",
    "# negative step - move through backwards\n",
    "# start from last and move backwards\n",
    "print(mb[-1::-1, -1::-1])"
   ]
  },
  {
   "cell_type": "code",
   "execution_count": null,
   "id": "1a96dbd0",
   "metadata": {},
   "outputs": [],
   "source": []
  }
 ],
 "metadata": {
  "kernelspec": {
   "display_name": "Python 3 (ipykernel)",
   "language": "python",
   "name": "python3"
  },
  "language_info": {
   "codemirror_mode": {
    "name": "ipython",
    "version": 3
   },
   "file_extension": ".py",
   "mimetype": "text/x-python",
   "name": "python",
   "nbconvert_exporter": "python",
   "pygments_lexer": "ipython3",
   "version": "3.9.12"
  }
 },
 "nbformat": 4,
 "nbformat_minor": 5
}
