{
 "cells": [
  {
   "cell_type": "code",
   "execution_count": 2,
   "id": "6afd4f6c",
   "metadata": {},
   "outputs": [
    {
     "name": "stdout",
     "output_type": "stream",
     "text": [
      "[[ 6  8  8  6  5]\n",
      " [10 10  9  9  0]]\n"
     ]
    }
   ],
   "source": [
    "import numpy as np\n",
    "from random import randint\n",
    "a = np.array([[randint(0,10),randint(0,10),randint(0,10),randint(0,10),randint(0,10)],\n",
    "             [randint(0,10),randint(0,10),randint(0,10),randint(0,10),randint(0,10)]])\n",
    "print(a)"
   ]
  },
  {
   "cell_type": "code",
   "execution_count": 12,
   "id": "5bec4540",
   "metadata": {},
   "outputs": [
    {
     "name": "stdout",
     "output_type": "stream",
     "text": [
      "7.1\n",
      "6.6\n",
      "8.0\n",
      "[8.  9.  8.5 7.5 2.5]\n",
      "[6.6 7.6]\n",
      "7.1\n",
      "[8 9 8 7 2]\n"
     ]
    }
   ],
   "source": [
    "# mean\n",
    "# default float\n",
    "\n",
    "# flattened = long, 1D array along the main axis\n",
    "print(np.mean(a))\n",
    "# first row\n",
    "print(np.mean(a[0]))\n",
    "# first column\n",
    "print(np.mean(a[:,0]))\n",
    "# mean of all cols as an array\n",
    "print(np.mean(a, axis=0))\n",
    "# mean of all rows as an array\n",
    "print(np.mean(a, axis=1))\n",
    "\n",
    "# method also works, but not preferred\n",
    "print(a.mean())\n",
    "\n",
    "# typecast as int\n",
    "print(np.mean(a, axis=0, dtype='int64'))"
   ]
  },
  {
   "cell_type": "code",
   "execution_count": 20,
   "id": "23f25fde",
   "metadata": {},
   "outputs": [
    {
     "name": "stdout",
     "output_type": "stream",
     "text": [
      "0\n",
      "5\n",
      "0\n",
      "[6 8 8 6 0]\n",
      "[6 8 8 6 0]\n"
     ]
    }
   ],
   "source": [
    "# min\n",
    "# flattened\n",
    "print(np.min(a))\n",
    "# index row\n",
    "print(np.min(a[0]))\n",
    "\n",
    "# amin = array min\n",
    "# the same fx!\n",
    "print(np.amin(a))\n",
    "\n",
    "# which of the two rows is minimum?\n",
    "print(np.minimum(a[0], a[1]))\n",
    "# minima = plural minimum\n",
    "# equivalent to axis=0\n",
    "# slightly more efficient\n",
    "print(np.minimum.reduce(a))\n",
    "\n",
    "3 max has the same funcitons / methods"
   ]
  },
  {
   "cell_type": "code",
   "execution_count": 30,
   "id": "e589e3b6",
   "metadata": {},
   "outputs": [
    {
     "name": "stdout",
     "output_type": "stream",
     "text": [
      "peak to peak\n",
      "10\n",
      "[4 2 1 3 5]\n",
      "[ 3 10]\n",
      "sort\n",
      "[[ 5  6  6  8  8]\n",
      " [ 0  9  9 10 10]]\n",
      "in-line [ 0  5  6  6  8  8  9  9 10 10]\n",
      "percentile\n",
      "no interpolation set 8.399999999999999\n",
      "higher 9\n",
      "lower 8\n",
      "nearest 8\n",
      "median 8.0\n",
      "min 0.0\n",
      "max 10.0\n",
      "quantile\n",
      "nearest 8\n"
     ]
    }
   ],
   "source": [
    "# statistical order\n",
    "# ptp = peak to peak\n",
    "# diff between highest and lowest values\n",
    "print('peak to peak')\n",
    "print(np.ptp(a))\n",
    "# axis\n",
    "print(np.ptp(a, axis=0))\n",
    "print(np.ptp(a, axis=1))\n",
    "\n",
    "# sort\n",
    "# each row\n",
    "print('sort')\n",
    "print(np.sort(a))\n",
    "# in line\n",
    "print('in-line', np.sort(a,axis=None))\n",
    "\n",
    "# percentile\n",
    "# sort data by precentage tick marks\n",
    "print('percentile')\n",
    "print('no interpolation set', np.percentile(a, 60))\n",
    "print('higher', np.percentile(a, 60, interpolation='higher'))\n",
    "print('lower', np.percentile(a, 60, interpolation='lower'))\n",
    "# use rounding\n",
    "print('nearest', np.percentile(a, 60, interpolation='nearest'))\n",
    "# median\n",
    "print('median', np.percentile(a,50))\n",
    "# min\n",
    "print('min', np.percentile(a,0))\n",
    "# max\n",
    "print('max', np.percentile(a,100))\n",
    "\n",
    "# quantile\n",
    "# takes 0 to 1\n",
    "print('quantile')\n",
    "print('nearest', np.quantile(a,0.6, interpolation='nearest'))"
   ]
  },
  {
   "cell_type": "code",
   "execution_count": 41,
   "id": "48852761",
   "metadata": {},
   "outputs": [
    {
     "name": "stdout",
     "output_type": "stream",
     "text": [
      "staple numpy functions\n",
      "median 8.0\n",
      "mean 7.1\n",
      "average 7.1\n",
      "variance 8.290000000000001\n",
      "standard deviation 2.879236009777594\n",
      "True\n"
     ]
    }
   ],
   "source": [
    "print('staple numpy functions')\n",
    "# median\n",
    "# sort, then get the middle num\n",
    "print('median', np.median(a))\n",
    "\n",
    "# mean\n",
    "print('mean', np.mean(a))\n",
    "\n",
    "# average can also do weighted average\n",
    "print('average', np.mean(a))\n",
    "\n",
    "# variance\n",
    "var_a = np.var(a)\n",
    "print('variance', var_a)\n",
    "\n",
    "# std\n",
    "std_a = np.std(a)\n",
    "print('standard deviation', std_a)\n",
    "\n",
    "# confirm that they work\n",
    "# var = std^^2\n",
    "print(var_a == pow(std_a,2))"
   ]
  },
  {
   "cell_type": "code",
   "execution_count": 33,
   "id": "92a1c824",
   "metadata": {},
   "outputs": [
    {
     "name": "stdout",
     "output_type": "stream",
     "text": [
      "[[0.75915734 0.7662218  0.6291028  0.20336599 0.66501486]\n",
      " [0.06559111 0.71326309 0.10812106 0.87969046 0.49405844]]\n",
      "6.9917760574419106\n"
     ]
    }
   ],
   "source": [
    "# randomly generate weights for weighted average\n",
    "from numpy.random import Generator as gen\n",
    "from numpy.random import PCG64 as pcg\n",
    "\n",
    "r = gen(pcg(365))\n",
    "\n",
    "w = r.random(size=(2,5))\n",
    "print(w)\n",
    "\n",
    "# now get the weighted average\n",
    "print(np.average(a, weights=w))"
   ]
  },
  {
   "cell_type": "code",
   "execution_count": 44,
   "id": "7adbb3c3",
   "metadata": {},
   "outputs": [
    {
     "name": "stdout",
     "output_type": "stream",
     "text": [
      "[[ 1.8  3.8]\n",
      " [ 3.8 18.3]]\n",
      "[[1.         0.66209727]\n",
      " [0.66209727 1.        ]]\n"
     ]
    }
   ],
   "source": [
    "# covariance\n",
    "# symetrical over the diagonal -- bottom left >> top right\n",
    "# first row = covariance of each row to itself\n",
    "# cov(a,b) == cov(b,a)\n",
    "print(np.cov(a))\n",
    "\n",
    "# correlation\n",
    "# corrcoef = correlation coefficient\n",
    "# diagonal is 1 becuase corr(a,a) = 1; items are alw3ays correlated with themselves\n",
    "print(np.corrcoef(a))"
   ]
  },
  {
   "cell_type": "code",
   "execution_count": 50,
   "id": "75b835ac",
   "metadata": {},
   "outputs": [
    {
     "name": "stdout",
     "output_type": "stream",
     "text": [
      "[ 0  5  6  6  8  8  9  9 10 10]\n",
      "(array([1, 0, 0, 0, 0, 1, 2, 0, 2, 4], dtype=int64), array([ 0.,  1.,  2.,  3.,  4.,  5.,  6.,  7.,  8.,  9., 10.]))\n",
      "(array([1, 0, 3, 6], dtype=int64), array([ 0. ,  2.5,  5. ,  7.5, 10. ]))\n",
      "(array([0, 0, 1, 2], dtype=int64), array([1. , 2.5, 4. , 5.5, 7. ]))\n"
     ]
    }
   ],
   "source": [
    "# histograms\n",
    "# examine density by \"bins\"\n",
    "print(np.sort(a, axis=None))\n",
    "# the first is num of times falls in each bin\n",
    "\n",
    "# second is the size of each bin\n",
    "# bottom of lowest bin to top of highest bin -- there will always be one extra\n",
    "# closed, open\n",
    "\n",
    "# e.g. 0 appears 1 timein the bin 0 >> 1\n",
    "print(np.histogram(a))\n",
    "\n",
    "# change num bins\n",
    "print(np.histogram(a, bins=4))\n",
    "\n",
    "# range\n",
    "# NOTE: exclude values by range\n",
    "# NOTE: manually sets min and max\n",
    "print(np.histogram(a, bins=4, range=(1,7)))"
   ]
  },
  {
   "cell_type": "code",
   "execution_count": null,
   "id": "1cfa2f92",
   "metadata": {},
   "outputs": [],
   "source": []
  }
 ],
 "metadata": {
  "kernelspec": {
   "display_name": "Python 3 (ipykernel)",
   "language": "python",
   "name": "python3"
  },
  "language_info": {
   "codemirror_mode": {
    "name": "ipython",
    "version": 3
   },
   "file_extension": ".py",
   "mimetype": "text/x-python",
   "name": "python",
   "nbconvert_exporter": "python",
   "pygments_lexer": "ipython3",
   "version": "3.9.12"
  }
 },
 "nbformat": 4,
 "nbformat_minor": 5
}
