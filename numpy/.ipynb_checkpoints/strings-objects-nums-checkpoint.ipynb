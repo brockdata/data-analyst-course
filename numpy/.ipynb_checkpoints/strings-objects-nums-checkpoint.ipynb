{
 "cells": [
  {
   "cell_type": "code",
   "execution_count": 1,
   "id": "ecf4b520",
   "metadata": {},
   "outputs": [],
   "source": [
    "import numpy as np"
   ]
  },
  {
   "cell_type": "code",
   "execution_count": null,
   "id": "903fe4f0",
   "metadata": {},
   "outputs": [],
   "source": [
    "# assumes \"float\" by default\n",
    "# strings show up as \"nan\"\n",
    "\n",
    "# \"int\" generates strings as -1\n",
    "\n",
    "# text puts ums in quotes = symbols \n",
    "\n",
    "# objects\n",
    "# dtype=np.object\n",
    "# import as python object, not string\n",
    "# depricated\n",
    "\n",
    "# array of multiple types\n",
    "# two middle columns are strings:\n",
    "# dtype=np.int32, np.str,np.str,np.int32\n",
    "# can't do this... arrays can only hold a single data type"
   ]
  }
 ],
 "metadata": {
  "kernelspec": {
   "display_name": "Python 3 (ipykernel)",
   "language": "python",
   "name": "python3"
  },
  "language_info": {
   "codemirror_mode": {
    "name": "ipython",
    "version": 3
   },
   "file_extension": ".py",
   "mimetype": "text/x-python",
   "name": "python",
   "nbconvert_exporter": "python",
   "pygments_lexer": "ipython3",
   "version": "3.9.12"
  }
 },
 "nbformat": 4,
 "nbformat_minor": 5
}
