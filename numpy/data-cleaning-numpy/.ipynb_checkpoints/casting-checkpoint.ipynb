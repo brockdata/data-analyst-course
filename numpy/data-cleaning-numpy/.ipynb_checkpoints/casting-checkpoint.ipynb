{
 "cells": [
  {
   "cell_type": "code",
   "execution_count": 1,
   "id": "bf5b6880",
   "metadata": {},
   "outputs": [],
   "source": [
    "import numpy as np"
   ]
  },
  {
   "cell_type": "code",
   "execution_count": 2,
   "id": "32e57427",
   "metadata": {},
   "outputs": [
    {
     "name": "stdout",
     "output_type": "stream",
     "text": [
      "[[ 2000.    40.   365.  3121.  4241. 13621.]\n",
      " [ 2000.    40.   365.  3061.  4171. 15041.]\n",
      " [ 1000.    40.   365.  2160.  3280. 15340.]\n",
      " ...\n",
      " [ 2000.    40.   365.  4201.  5001. 16600.]\n",
      " [ 1000.    40.   365.  2080.  3320. 15600.]\n",
      " [ 2000.    40.   365.  4601.  4601. 16600.]]\n"
     ]
    }
   ],
   "source": [
    "data = np.loadtxt('Lending-company-Numeric.csv', delimiter=',')\n",
    "print(data)"
   ]
  },
  {
   "cell_type": "code",
   "execution_count": 3,
   "id": "1ae2da2d",
   "metadata": {},
   "outputs": [
    {
     "name": "stdout",
     "output_type": "stream",
     "text": [
      "[[ 2000    40   365  3121  4241 13621]\n",
      " [ 2000    40   365  3061  4171 15041]\n",
      " [ 1000    40   365  2160  3280 15340]\n",
      " ...\n",
      " [ 2000    40   365  4201  5001 16600]\n",
      " [ 1000    40   365  2080  3320 15600]\n",
      " [ 2000    40   365  4601  4601 16600]]\n"
     ]
    }
   ],
   "source": [
    "# float >> int\n",
    "print(data.astype(dtype='int32'))"
   ]
  },
  {
   "cell_type": "code",
   "execution_count": 6,
   "id": "1ff518a1",
   "metadata": {},
   "outputs": [
    {
     "name": "stdout",
     "output_type": "stream",
     "text": [
      "[['2000.0' '40.0' '365.0' '3121.0' '4241.0' '13621.0']\n",
      " ['2000.0' '40.0' '365.0' '3061.0' '4171.0' '15041.0']\n",
      " ['1000.0' '40.0' '365.0' '2160.0' '3280.0' '15340.0']\n",
      " ...\n",
      " ['2000.0' '40.0' '365.0' '4201.0' '5001.0' '16600.0']\n",
      " ['1000.0' '40.0' '365.0' '2080.0' '3320.0' '15600.0']\n",
      " ['2000.0' '40.0' '365.0' '4601.0' '4601.0' '16600.0']]\n"
     ]
    }
   ],
   "source": [
    "# float >> str\n",
    "data_str = np.loadtxt('Lending-company-Numeric.csv', delimiter=',').astype(dtype='str')\n",
    "print(data_str)"
   ]
  },
  {
   "cell_type": "code",
   "execution_count": 7,
   "id": "64688278",
   "metadata": {},
   "outputs": [
    {
     "name": "stdout",
     "output_type": "stream",
     "text": [
      "[[ 2000    40   365  3121  4241 13621]\n",
      " [ 2000    40   365  3061  4171 15041]\n",
      " [ 1000    40   365  2160  3280 15340]\n",
      " ...\n",
      " [ 2000    40   365  4201  5001 16600]\n",
      " [ 1000    40   365  2080  3320 15600]\n",
      " [ 2000    40   365  4601  4601 16600]]\n"
     ]
    }
   ],
   "source": [
    "# can't do str >> int\n",
    "# must do str >> float >> int\n",
    "data = data_str.astype(dtype='float32').astype(dtype='int')\n",
    "print(data)"
   ]
  },
  {
   "cell_type": "code",
   "execution_count": null,
   "id": "c8c5760d",
   "metadata": {},
   "outputs": [],
   "source": []
  }
 ],
 "metadata": {
  "kernelspec": {
   "display_name": "Python 3 (ipykernel)",
   "language": "python",
   "name": "python3"
  },
  "language_info": {
   "codemirror_mode": {
    "name": "ipython",
    "version": 3
   },
   "file_extension": ".py",
   "mimetype": "text/x-python",
   "name": "python",
   "nbconvert_exporter": "python",
   "pygments_lexer": "ipython3",
   "version": "3.9.12"
  }
 },
 "nbformat": 4,
 "nbformat_minor": 5
}
