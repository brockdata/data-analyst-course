{
 "cells": [
  {
   "cell_type": "code",
   "execution_count": 1,
   "id": "2e75e80e",
   "metadata": {},
   "outputs": [],
   "source": [
    "import numpy as np"
   ]
  },
  {
   "cell_type": "code",
   "execution_count": 2,
   "id": "cc68a4d5",
   "metadata": {},
   "outputs": [],
   "source": [
    "data = np.loadtxt('Lending-company-Numeric.csv', delimiter=',')\n",
    "print(data)"
   ]
  },
  {
   "cell_type": "code",
   "execution_count": 4,
   "id": "47af91e3",
   "metadata": {},
   "outputs": [
    {
     "name": "stdout",
     "output_type": "stream",
     "text": [
      "[ 2000.    40.   365.  3121.  4241. 13621.  2000.    40.   365.  3061.\n",
      "  4171. 15041.]\n"
     ]
    }
   ],
   "source": [
    "# concatenate = along a given axis\n",
    "print(np.concatenate((data[0,:], data[1,:])))"
   ]
  },
  {
   "cell_type": "code",
   "execution_count": 7,
   "id": "28a03135",
   "metadata": {},
   "outputs": [
    {
     "name": "stdout",
     "output_type": "stream",
     "text": [
      "[[ 2000.      40.     365.    3121.    4241.   13621.  ]\n",
      " [ 2000.      40.     365.    3061.    4171.   15041.  ]\n",
      " [ 1000.      40.     365.    2160.    3280.   15340.  ]\n",
      " ...\n",
      " [ 2250.25    40.     365.    4201.    5001.   16600.  ]\n",
      " [ 1000.      40.     365.    2080.    3320.   15600.  ]\n",
      " [ 2000.      40.     365.    4601.    4601.   16600.  ]]\n"
     ]
    }
   ],
   "source": [
    "data_nan = np.genfromtxt('Lending-company-Numeric-NAN.csv', delimiter=';')\n",
    "# one larger than the max in the dataset\n",
    "max_fill = np.nanmax(data_nan).round(2) + 1\n",
    "mean_fill = np.nanmean(data_nan, axis=0).round(2)\n",
    "data_nan = np.genfromtxt('Lending-company-Numeric-NAN.csv',\n",
    "                        delimiter=';',\n",
    "                        filling_values=max_fill)\n",
    "# switch for mean in every column\n",
    "for i in range(data_nan.shape[1]):\n",
    "    data_nan[:,i] = np.where(data_nan[:,i] == max_fill, mean_fill[i], data_nan[:,i])\n",
    "print(data_nan)"
   ]
  },
  {
   "cell_type": "code",
   "execution_count": 11,
   "id": "13dab9f2",
   "metadata": {},
   "outputs": [
    {
     "name": "stdout",
     "output_type": "stream",
     "text": [
      "[[ 2000.      40.     365.    3121.    4241.   13621.  ]\n",
      " [ 2000.      40.     365.    3061.    4171.   15041.  ]\n",
      " [ 1000.      40.     365.    2160.    3280.   15340.  ]\n",
      " ...\n",
      " [ 2250.25    40.     365.    4201.    5001.   16600.  ]\n",
      " [ 1000.      40.     365.    2080.    3320.   15600.  ]\n",
      " [ 2000.      40.     365.    4601.    4601.   16600.  ]]\n",
      "(2086, 6)\n",
      "----------\n",
      "[[ 2000.    40.   365. ...  3121.  4241. 13621.]\n",
      " [ 2000.    40.   365. ...  3061.  4171. 15041.]\n",
      " [ 1000.    40.   365. ...  2160.  3280. 15340.]\n",
      " ...\n",
      " [ 2000.    40.   365. ...  4201.  5001. 16600.]\n",
      " [ 1000.    40.   365. ...  2080.  3320. 15600.]\n",
      " [ 2000.    40.   365. ...  4601.  4601. 16600.]]\n",
      "(1043, 12)\n"
     ]
    }
   ],
   "source": [
    "# column upon column\n",
    "print(np.concatenate((data,data_nan)))\n",
    "print(np.concatenate((data,data_nan)).shape)\n",
    "\n",
    "print('----------')\n",
    "\n",
    "# row upon row\n",
    "print(np.concatenate((data,data_nan), axis=1))\n",
    "print(np.concatenate((data,data_nan), axis=1).shape)"
   ]
  },
  {
   "cell_type": "code",
   "execution_count": null,
   "id": "79176288",
   "metadata": {},
   "outputs": [],
   "source": [
    "# works just like cstack, dstack, hstack\n",
    "# but, only the axis we are moving along has to match"
   ]
  }
 ],
 "metadata": {
  "kernelspec": {
   "display_name": "Python 3 (ipykernel)",
   "language": "python",
   "name": "python3"
  },
  "language_info": {
   "codemirror_mode": {
    "name": "ipython",
    "version": 3
   },
   "file_extension": ".py",
   "mimetype": "text/x-python",
   "name": "python",
   "nbconvert_exporter": "python",
   "pygments_lexer": "ipython3",
   "version": "3.9.12"
  }
 },
 "nbformat": 4,
 "nbformat_minor": 5
}
