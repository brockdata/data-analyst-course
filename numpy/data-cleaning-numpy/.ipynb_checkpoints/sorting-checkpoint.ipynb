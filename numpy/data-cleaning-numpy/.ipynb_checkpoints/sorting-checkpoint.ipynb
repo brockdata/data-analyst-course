{
 "cells": [
  {
   "cell_type": "code",
   "execution_count": 1,
   "id": "f0206539",
   "metadata": {},
   "outputs": [],
   "source": [
    "import numpy as np"
   ]
  },
  {
   "cell_type": "code",
   "execution_count": 6,
   "id": "6b16cdbd",
   "metadata": {},
   "outputs": [
    {
     "name": "stdout",
     "output_type": "stream",
     "text": [
      "[[ 2000.    40.   365.  3121.  4241. 13621.]\n",
      " [ 2000.    40.   365.  3061.  4171. 15041.]\n",
      " [ 1000.    40.   365.  2160.  3280. 15340.]\n",
      " ...\n",
      " [ 2000.    40.   365.  4201.  5001. 16600.]\n",
      " [ 1000.    40.   365.  2080.  3320. 15600.]\n",
      " [ 2000.    40.   365.  4601.  4601. 16600.]]\n"
     ]
    }
   ],
   "source": [
    "file = np.loadtxt('Lending-company-Numeric.csv', delimiter=',')\n",
    "print(file)"
   ]
  },
  {
   "cell_type": "code",
   "execution_count": 5,
   "id": "6b71130d",
   "metadata": {
    "scrolled": true
   },
   "outputs": [
    {
     "name": "stdout",
     "output_type": "stream",
     "text": [
      "[[   40.   365.  2000.  3121.  4241. 13621.]\n",
      " [   40.   365.  2000.  3061.  4171. 15041.]\n",
      " [   40.   365.  1000.  2160.  3280. 15340.]\n",
      " ...\n",
      " [   40.   365.  2000.  4201.  5001. 16600.]\n",
      " [   40.   365.  1000.  2080.  3320. 15600.]\n",
      " [   40.   365.  2000.  4601.  4601. 16600.]]\n"
     ]
    }
   ],
   "source": [
    "print(np.sort(file))\n",
    "# default axis is -1 = rearranging cols in every row i.e sort rows"
   ]
  },
  {
   "cell_type": "code",
   "execution_count": 9,
   "id": "1b8827e7",
   "metadata": {},
   "outputs": [],
   "source": [
    "# print without scinetific notation\n",
    "np.set_printoptions(suppress=True)"
   ]
  },
  {
   "cell_type": "code",
   "execution_count": 11,
   "id": "4b3f7d6a",
   "metadata": {},
   "outputs": [
    {
     "name": "stdout",
     "output_type": "stream",
     "text": [
      "[[ 1000.    35.   365. -2870. -2870.  -350.]\n",
      " [ 1000.    35.   365. -2550. -2100.   150.]\n",
      " [ 1000.    35.   365. -2450. -2000.  1100.]\n",
      " ...\n",
      " [ 9000.   125.   365. 16751. 18751. 54625.]\n",
      " [ 9000.   165.   365. 17650. 20001. 54625.]\n",
      " [ 9000.   165.   365. 19001. 22001. 64001.]]\n",
      "[-2870. -2870. -2550. ... 54625. 54625. 64001.]\n"
     ]
    }
   ],
   "source": [
    "# change axis\n",
    "# 0 = sort cols\n",
    "print(np.sort(file, axis=0))\n",
    "\n",
    "# axis None = flattened array\n",
    "print(np.sort(file, axis=None))"
   ]
  },
  {
   "cell_type": "code",
   "execution_count": 14,
   "id": "05eb2684",
   "metadata": {},
   "outputs": [
    {
     "name": "stdout",
     "output_type": "stream",
     "text": [
      "[[   40.   365.  2000.  3121.  4241. 13621.]\n",
      " [   40.   365.  2000.  3061.  4171. 15041.]\n",
      " [   40.   365.  1000.  2160.  3280. 15340.]\n",
      " ...\n",
      " [   40.   365.  2000.  4201.  5001. 16600.]\n",
      " [   40.   365.  1000.  2080.  3320. 15600.]\n",
      " [   40.   365.  2000.  4601.  4601. 16600.]]\n",
      "[[-13621.  -4241.  -3121.  -2000.   -365.    -40.]\n",
      " [-15041.  -4171.  -3061.  -2000.   -365.    -40.]\n",
      " [-15340.  -3280.  -2160.  -1000.   -365.    -40.]\n",
      " ...\n",
      " [-16600.  -5001.  -4201.  -2000.   -365.    -40.]\n",
      " [-15600.  -3320.  -2080.  -1000.   -365.    -40.]\n",
      " [-16600.  -4601.  -4601.  -2000.   -365.    -40.]]\n",
      "[[13621.  4241.  3121.  2000.   365.    40.]\n",
      " [15041.  4171.  3061.  2000.   365.    40.]\n",
      " [15340.  3280.  2160.  1000.   365.    40.]\n",
      " ...\n",
      " [16600.  5001.  4201.  2000.   365.    40.]\n",
      " [15600.  3320.  2080.  1000.   365.    40.]\n",
      " [16600.  4601.  4601.  2000.   365.    40.]]\n"
     ]
    }
   ],
   "source": [
    "# can't change asc to desc\n",
    "# use this\n",
    "\n",
    "# ascending\n",
    "print(np.sort(file))\n",
    "\n",
    "# change to negative inside -- desc order\n",
    "print(np.sort(-filepositive\n",
    "# change to negative outside -- flip signs back to positive\n",
    "print(-np.sort(-file))"
   ]
  },
  {
   "cell_type": "code",
   "execution_count": 18,
   "id": "ffac6aec",
   "metadata": {},
   "outputs": [
    {
     "name": "stdout",
     "output_type": "stream",
     "text": [
      "[-2870. -2550. -2450. ... 16751. 17650. 19001.]\n",
      "None\n",
      "[[ 2000.    40.   365. -2870.  4241. 13621.]\n",
      " [ 2000.    40.   365. -2550.  4171. 15041.]\n",
      " [ 1000.    40.   365. -2450.  3280. 15340.]\n",
      " ...\n",
      " [ 2000.    40.   365. 16751.  5001. 16600.]\n",
      " [ 1000.    40.   365. 17650.  3320. 15600.]\n",
      " [ 2000.    40.   365. 19001.  4601. 16600.]]\n"
     ]
    }
   ],
   "source": [
    "# sort indiv column\n",
    "# doesn't work...\n",
    "print(np.sort(file[:,3]))\n",
    "\n",
    "# use the method\n",
    "# method overwrites\n",
    "print(file)\n",
    "# no output\n",
    "print(file[:,3].sort())\n",
    "print(file)"
   ]
  },
  {
   "cell_type": "code",
   "execution_count": 29,
   "id": "7996cff4",
   "metadata": {},
   "outputs": [
    {
     "name": "stdout",
     "output_type": "stream",
     "text": [
      "[[1 2 0 4 3 5]\n",
      " [1 2 0 3 4 5]\n",
      " [1 2 0 4 3 5]\n",
      " ...\n",
      " [1 2 3 0 4 5]\n",
      " [1 2 3 0 4 5]\n",
      " [1 2 3 0 4 5]]\n",
      "[[   0   89    0  343  197  172]\n",
      " [ 155  103  687  648   52  160]\n",
      " [ 156   37  688  177  169   52]\n",
      " ...\n",
      " [1022 1042  355  411 1036 1028]\n",
      " [1031 1038  357  121 1022 1024]\n",
      " [1042 1039 1042  715 1028 1039]]\n",
      "[[   0  215    0  552  104   18]\n",
      " [ 155  176  687  298  144    6]\n",
      " [ 156  195  688   23   15  144]\n",
      " ...\n",
      " [1022 1042  355  760 1027 1039]\n",
      " [1031 1025  357  154 1040 1040]\n",
      " [1042 1024 1042  475 1034 1024]]\n",
      "[[ 1000.    40.   365.  3418.  3400. 15600.]\n",
      " [ 1000.    40.   365.  3401.  3680. 15600.]\n",
      " [ 1000.    40.   365.  3401.  3635. 15600.]\n",
      " ...\n",
      " [ 9000.   125.   365. 13900. 20001. 54625.]\n",
      " [ 9000.   125.   365.  3101. 10501. 24126.]\n",
      " [ 9000.   125.   365.  3321. 14251. 25626.]]\n"
     ]
    }
   ],
   "source": [
    "# argsort\n",
    "print(np.argsort(file))\n",
    "# returns sort indicies\n",
    "\n",
    "# sort col 0 without changin other data\n",
    "print(np.argsort(file,axis=0))\n",
    "file = file[np.argsort(file[:,0],axis=0)]\n",
    "\n",
    "# method\n",
    "# does NOT overwrite\n",
    "print(file.argsort(axis=0))\n",
    "print(file)"
   ]
  },
  {
   "cell_type": "code",
   "execution_count": null,
   "id": "3fac3bfe",
   "metadata": {},
   "outputs": [],
   "source": []
  }
 ],
 "metadata": {
  "kernelspec": {
   "display_name": "Python 3 (ipykernel)",
   "language": "python",
   "name": "python3"
  },
  "language_info": {
   "codemirror_mode": {
    "name": "ipython",
    "version": 3
   },
   "file_extension": ".py",
   "mimetype": "text/x-python",
   "name": "python",
   "nbconvert_exporter": "python",
   "pygments_lexer": "ipython3",
   "version": "3.9.12"
  }
 },
 "nbformat": 4,
 "nbformat_minor": 5
}
