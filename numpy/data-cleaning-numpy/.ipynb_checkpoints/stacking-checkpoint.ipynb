{
 "cells": [
  {
   "cell_type": "code",
   "execution_count": 1,
   "id": "3407b548",
   "metadata": {},
   "outputs": [],
   "source": [
    "import numpy as np "
   ]
  },
  {
   "cell_type": "code",
   "execution_count": 4,
   "id": "1b5142dd",
   "metadata": {},
   "outputs": [
    {
     "name": "stdout",
     "output_type": "stream",
     "text": [
      "[[ 2000.      40.     365.    3121.    4241.   13621.  ]\n",
      " [ 2000.      40.     365.    3061.    4171.   15041.  ]\n",
      " [ 1000.      40.     365.    2160.    3280.   15340.  ]\n",
      " ...\n",
      " [ 2250.25    40.     365.    4201.    5001.   16600.  ]\n",
      " [ 1000.      40.     365.    2080.    3320.   15600.  ]\n",
      " [ 2000.      40.     365.    4601.    4601.   16600.  ]]\n",
      "[[ 2000.    40.   365.  3121.  4241. 13621.]\n",
      " [ 2000.    40.   365.  3061.  4171. 15041.]\n",
      " [ 1000.    40.   365.  2160.  3280. 15340.]\n",
      " ...\n",
      " [64002.    40.   365.  4201.  5001. 16600.]\n",
      " [ 1000.    40.   365.  2080.  3320. 15600.]\n",
      " [ 2000.    40.   365.  4601.  4601. 16600.]]\n"
     ]
    }
   ],
   "source": [
    "# import normal data\n",
    "data = np.loadtxt('Lending-company-Numeric.csv', delimiter=',')\n",
    "\n",
    "# import nan data\n",
    "# replacing nans w mean\n",
    "# import\n",
    "data_nan = np.genfromtxt('Lending-company-Numeric-NAN.csv', delimiter=';')\n",
    "# get max fill\n",
    "max_fill = np.nanmax(data_nan).round(2) + 1\n",
    "# get mean fill\n",
    "mean_fill = np.nanmean(data_nan, axis=0).round(2)\n",
    "# import with max fill\n",
    "data_nan = np.genfromtxt('Lending-company-Numeric-NAN.csv',\n",
    "                         delimiter=';',\n",
    "                        filling_values=max_fill)\n",
    "# replace max fill with mean fill\n",
    "for i in range(data_nan.shape[1]):\n",
    "    data[:,i] = np.where(data_nan[:,i] == max_fill, mean_fill[i], data_nan[:,i])\n",
    "    \n",
    "# display wihtout scientific notation\n",
    "np.set_printoptions(suppress=True)\n",
    "print(data)\n",
    "print('----------')\n",
    "print(data_nan)"
   ]
  },
  {
   "cell_type": "code",
   "execution_count": 12,
   "id": "cd758094",
   "metadata": {},
   "outputs": [
    {
     "name": "stdout",
     "output_type": "stream",
     "text": [
      "[[2000.   2000.   1000.   ... 2250.25 1000.   2000.  ]\n",
      " [  40.     40.     40.   ...   40.     40.     40.  ]]\n",
      "----------\n",
      "[[  40.     40.     40.   ...   40.     40.     40.  ]\n",
      " [2000.   2000.   1000.   ... 2250.25 1000.   2000.  ]]\n",
      "----------\n",
      "[[2000.   2000.   1000.   ... 2250.25 1000.   2000.  ]\n",
      " [  40.     40.     40.   ...   40.     40.     40.  ]]\n"
     ]
    }
   ],
   "source": [
    "# stack must have matching shapes\n",
    "# enter a tuple\n",
    "# either order\n",
    "print(np.stack((data[:,0], data[:,1])))\n",
    "print('----------')\n",
    "print(np.stack((data[:,1], data[:,0])))\n",
    "print('----------')\n",
    "# the transpose keeps this order\n",
    "print(np.transpose(data[:,:2]))"
   ]
  },
  {
   "cell_type": "code",
   "execution_count": 14,
   "id": "d40ef765",
   "metadata": {},
   "outputs": [
    {
     "name": "stdout",
     "output_type": "stream",
     "text": [
      "[[3121.   2000.     40.  ]\n",
      " [3061.   2000.     40.  ]\n",
      " [2160.   1000.     40.  ]\n",
      " ...\n",
      " [4201.   2250.25   40.  ]\n",
      " [2080.   1000.     40.  ]\n",
      " [4601.   2000.     40.  ]]\n"
     ]
    }
   ],
   "source": [
    "# many\n",
    "# axis=1 puts then side by side\n",
    "print(np.stack((data[:,3], data[:,0], data[:,1]), axis=1))"
   ]
  },
  {
   "cell_type": "code",
   "execution_count": 18,
   "id": "8972329d",
   "metadata": {},
   "outputs": [
    {
     "name": "stdout",
     "output_type": "stream",
     "text": [
      "(1043, 6)\n",
      "(2086, 6)\n"
     ]
    }
   ],
   "source": [
    "# vstack = vertical\n",
    "print(data_nan.shape)\n",
    "print(np.vstack((data, data_nan)).shape)"
   ]
  },
  {
   "cell_type": "code",
   "execution_count": 19,
   "id": "bb3deefa",
   "metadata": {},
   "outputs": [
    {
     "name": "stdout",
     "output_type": "stream",
     "text": [
      "(1043, 6)\n",
      "(1043, 12)\n"
     ]
    }
   ],
   "source": [
    "# hstack = horizontal\n",
    "print(data_nan.shape)\n",
    "print(np.hstack((data, data_nan)).shape)"
   ]
  },
  {
   "cell_type": "code",
   "execution_count": 23,
   "id": "0974e5a5",
   "metadata": {},
   "outputs": [
    {
     "name": "stdout",
     "output_type": "stream",
     "text": [
      "(1043, 6)\n",
      "(1043, 6, 2)\n",
      "[ 2000.    40.   365.  3121.  4241. 13621.]\n"
     ]
    }
   ],
   "source": [
    "# dstack = depth 3D\n",
    "# (row, col, dimension)\n",
    "print(data_nan.shape)\n",
    "print(np.dstack((data, data_nan)).shape)\n",
    "# row 0, all cols, depth 0\n",
    "print(np.dstack((data, data_nan))[0,:,0])"
   ]
  },
  {
   "cell_type": "code",
   "execution_count": null,
   "id": "63ae4396",
   "metadata": {},
   "outputs": [],
   "source": [
    "# stack works along 3rd axis\n",
    "# returns one dimension higher than input\n",
    "print(data_nan.shape)\n",
    "print(np.stack((data, data_nan), axis=-1).shape)"
   ]
  }
 ],
 "metadata": {
  "kernelspec": {
   "display_name": "Python 3 (ipykernel)",
   "language": "python",
   "name": "python3"
  },
  "language_info": {
   "codemirror_mode": {
    "name": "ipython",
    "version": 3
   },
   "file_extension": ".py",
   "mimetype": "text/x-python",
   "name": "python",
   "nbconvert_exporter": "python",
   "pygments_lexer": "ipython3",
   "version": "3.9.12"
  }
 },
 "nbformat": 4,
 "nbformat_minor": 5
}
