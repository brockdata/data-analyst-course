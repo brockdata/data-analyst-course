{
 "cells": [
  {
   "cell_type": "code",
   "execution_count": 1,
   "id": "af8d1089",
   "metadata": {},
   "outputs": [],
   "source": [
    "import numpy as np"
   ]
  },
  {
   "cell_type": "code",
   "execution_count": 2,
   "id": "5adb45e7",
   "metadata": {},
   "outputs": [],
   "source": [
    "# \"argument\" from astronomy\n",
    "# tables where light reflects\n",
    "# \"that which eluminates something else\""
   ]
  },
  {
   "cell_type": "code",
   "execution_count": 3,
   "id": "fbca6fac",
   "metadata": {},
   "outputs": [
    {
     "name": "stdout",
     "output_type": "stream",
     "text": [
      "[[ 2000.    40.   365.  3121.  4241. 13621.]\n",
      " [ 2000.    40.   365.  3061.  4171. 15041.]\n",
      " [ 1000.    40.   365.  2160.  3280. 15340.]\n",
      " ...\n",
      " [ 2000.    40.   365.  4201.  5001. 16600.]\n",
      " [ 1000.    40.   365.  2080.  3320. 15600.]\n",
      " [ 2000.    40.   365.  4601.  4601. 16600.]]\n"
     ]
    }
   ],
   "source": [
    "data = np.loadtxt('Lending-company-Numeric.csv',delimiter=',')\n",
    "print(data)"
   ]
  },
  {
   "cell_type": "code",
   "execution_count": 6,
   "id": "26cbaf2a",
   "metadata": {},
   "outputs": [
    {
     "name": "stdout",
     "output_type": "stream",
     "text": [
      "[[   0    0]\n",
      " [   0    1]\n",
      " [   0    2]\n",
      " ...\n",
      " [1042    3]\n",
      " [1042    4]\n",
      " [1042    5]]\n",
      "[[116   4]\n",
      " [430   3]]\n"
     ]
    }
   ],
   "source": [
    "# argwhere\n",
    "# conditionals\n",
    "# check whether element satisfies given condition\n",
    "\n",
    "# default is \"!= 0\"\n",
    "# find nonzeroes\n",
    "print(np.argwhere(data))\n",
    "\n",
    "# find zeroes\n",
    "print(np.argwhere(data == False))"
   ]
  },
  {
   "cell_type": "code",
   "execution_count": 9,
   "id": "2c14b62d",
   "metadata": {},
   "outputs": [
    {
     "name": "stdout",
     "output_type": "stream",
     "text": [
      "[[   0    0]\n",
      " [   0    1]\n",
      " [   1    0]\n",
      " ...\n",
      " [1042    0]\n",
      " [1042    1]\n",
      " [1042    5]]\n"
     ]
    }
   ],
   "source": [
    "# is even\n",
    "print(np.argwhere(data %2 == 0))"
   ]
  },
  {
   "cell_type": "code",
   "execution_count": 10,
   "id": "4f93c746",
   "metadata": {},
   "outputs": [],
   "source": [
    "# conditional slicing = filtering for actual values\n",
    "# argwhere = returns indicies"
   ]
  },
  {
   "cell_type": "code",
   "execution_count": 11,
   "id": "d6dfedd0",
   "metadata": {},
   "outputs": [],
   "source": [
    "# no method"
   ]
  },
  {
   "cell_type": "code",
   "execution_count": 13,
   "id": "3bf61112",
   "metadata": {},
   "outputs": [
    {
     "name": "stdout",
     "output_type": "stream",
     "text": [
      "[[ 2000.    40.   365.  3121.  4241. 13621.]\n",
      " [ 2000.    40.   365.  3061.  4171. 15041.]\n",
      " [ 1000.    40.   365.  2160.  3280. 15340.]\n",
      " ...\n",
      " [   nan    40.   365.  4201.  5001. 16600.]\n",
      " [ 1000.    40.   365.  2080.  3320. 15600.]\n",
      " [ 2000.    40.   365.  4601.  4601. 16600.]]\n"
     ]
    }
   ],
   "source": [
    "data_nan = np.genfromtxt('Lending-company-Numeric-NAN.csv', delimiter=';')\n",
    "print(data_nan)"
   ]
  },
  {
   "cell_type": "code",
   "execution_count": 28,
   "id": "fa1f6596",
   "metadata": {},
   "outputs": [
    {
     "name": "stdout",
     "output_type": "stream",
     "text": [
      "[[False False False False False False]\n",
      " [False False False False False False]\n",
      " [False False False False False False]\n",
      " ...\n",
      " [False False False False False False]\n",
      " [False False False False False False]\n",
      " [False False False False False False]]\n",
      "[ 2000.     0.     0.  1851.  3051. 13561.]\n",
      "[ 2000.     0.     0.  1851.  3051. 13561.]\n",
      "there are  0 missing values\n"
     ]
    }
   ],
   "source": [
    "print(np.isnan(data_nan))\n",
    "\n",
    "# before - missing values\n",
    "print(data_nan[175])\n",
    "# use argwhere to see indicies for missing values\n",
    "np.argwhere(np.isnan(data_nan))\n",
    "# use a for loop to save zero over them\n",
    "for idx in np.argwhere(np.isnan(data_nan)):\n",
    "    data_nan[idx[0], idx[1]] = 0\n",
    "# after - zeroes\n",
    "print(data_nan[175])\n",
    "# check for nans\n",
    "print('there are ', np.isnan(data_nan).sum(), 'missing values')"
   ]
  }
 ],
 "metadata": {
  "kernelspec": {
   "display_name": "Python 3 (ipykernel)",
   "language": "python",
   "name": "python3"
  },
  "language_info": {
   "codemirror_mode": {
    "name": "ipython",
    "version": 3
   },
   "file_extension": ".py",
   "mimetype": "text/x-python",
   "name": "python",
   "nbconvert_exporter": "python",
   "pygments_lexer": "ipython3",
   "version": "3.9.12"
  }
 },
 "nbformat": 4,
 "nbformat_minor": 5
}
