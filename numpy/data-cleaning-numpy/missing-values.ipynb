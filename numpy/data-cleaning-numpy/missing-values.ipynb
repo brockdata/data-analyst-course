{
 "cells": [
  {
   "cell_type": "code",
   "execution_count": 1,
   "id": "c9a01f0a",
   "metadata": {},
   "outputs": [],
   "source": [
    "import numpy as np"
   ]
  },
  {
   "cell_type": "code",
   "execution_count": 5,
   "id": "56325109",
   "metadata": {},
   "outputs": [
    {
     "name": "stdout",
     "output_type": "stream",
     "text": [
      "[[ 2000.    40.   365.  3121.  4241. 13621.]\n",
      " [ 2000.    40.   365.  3061.  4171. 15041.]\n",
      " [ 1000.    40.   365.  2160.  3280. 15340.]\n",
      " ...\n",
      " [ 2000.    40.   365.  4201.  5001. 16600.]\n",
      " [ 1000.    40.   365.  2080.  3320. 15600.]\n",
      " [ 2000.    40.   365.  4601.  4601. 16600.]]\n"
     ]
    }
   ],
   "source": [
    "file = np.loadtxt('Lending-company-Numeric.csv', delimiter=',')\n",
    "print(file)"
   ]
  },
  {
   "cell_type": "code",
   "execution_count": 15,
   "id": "4acf15e1",
   "metadata": {},
   "outputs": [
    {
     "name": "stdout",
     "output_type": "stream",
     "text": [
      "there are 0 missing values\n"
     ]
    }
   ],
   "source": [
    "# check for null values\n",
    "# use the sum to check all values. If false, sum will be not zero\n",
    "print('there are', np.isnan(file).sum(), 'missing values')"
   ]
  },
  {
   "cell_type": "code",
   "execution_count": 23,
   "id": "d1b0371e",
   "metadata": {},
   "outputs": [
    {
     "name": "stdout",
     "output_type": "stream",
     "text": [
      "[[ 2000.    40.   365.  3121.  4241. 13621.]\n",
      " [ 2000.    40.   365.  3061.  4171. 15041.]\n",
      " [ 1000.    40.   365.  2160.  3280. 15340.]\n",
      " ...\n",
      " [   nan    40.   365.  4201.  5001. 16600.]\n",
      " [ 1000.    40.   365.  2080.  3320. 15600.]\n",
      " [ 2000.    40.   365.  4601.  4601. 16600.]]\n",
      "there are 260 missing values\n",
      "fill with 64002.0\n",
      "there are 0 missing values\n"
     ]
    }
   ],
   "source": [
    "# with nans, loactxt crashes\n",
    "# file2 = np.loadtxt('Lending-company-Numeric-NAN.csv', delimiter=';')\n",
    "file2 = np.genfromtxt('Lending-company-Numeric-NAN.csv', delimiter=';')\n",
    "print(file2)\n",
    "\n",
    "# check for missing values\n",
    "print('there are', np.isnan(file2).sum(), 'missing values')\n",
    "\n",
    "# fill values\n",
    "# not always a good idea to replace with zero\n",
    "file2 = np.genfromtxt('Lending-company-Numeric-NAN.csv',\n",
    "                      delimiter=';',\n",
    "                     filling_values=0)\n",
    "\n",
    "# instead, fill with a value higher than all in the data set >> filter out\n",
    "max_fill = np.nanmax(file2).round(2) + 1\n",
    "print('fill with', fill)\n",
    "file2 = np.genfromtxt('Lending-company-Numeric-NAN.csv',\n",
    "                      delimiter=';',\n",
    "                     filling_values=max_fill)\n",
    "print('there are', np.isnan(file2).sum(), 'missing values')"
   ]
  },
  {
   "cell_type": "code",
   "execution_count": 34,
   "id": "cde095e0",
   "metadata": {},
   "outputs": [
    {
     "name": "stdout",
     "output_type": "stream",
     "text": [
      "[ 2315.87  2989.43  3537.7   7468.93  7304.54 17753.79]\n",
      "mean col 0 with max_fill 2315.87\n",
      "they are equal now\n",
      "they are equal now\n"
     ]
    }
   ],
   "source": [
    "# other ways\n",
    "# fill with mean\n",
    "mean_fill = np.nanmean(file2, axis=0).round(2)\n",
    "print(mean_fill)\n",
    "\n",
    "# with max fill, we have trouble with our means\n",
    "# could cause misleading insights\n",
    "print('mean col 0 with max_fill', np.mean(file2[:,0]).round(2))\n",
    "# in col 0, replace max_fill with mean_fill for col 0, leaving non-filler unchanged\n",
    "file2[:,0] = np.where(file2[:,0] == max_fill,\n",
    "                     mean_fill[0],\n",
    "                     file2[:,0])\n",
    "# check if it equals the mean\n",
    "def check_mean():\n",
    "    if np.mean(file2[:,0]).round(2) == mean_fill[0]:\n",
    "        print('they are equal now')\n",
    "check_mean()\n",
    "    \n",
    "# loop to do it to all of them\n",
    "for i in range(file2.shape[1]):\n",
    "    file2[:,i] = np.where(file2[:,i] == max_fill,\n",
    "                          mean_fill[0],\n",
    "                          file2[:,0])\n",
    "check_mean()"
   ]
  },
  {
   "cell_type": "code",
   "execution_count": null,
   "id": "7144d954",
   "metadata": {},
   "outputs": [],
   "source": [
    "# can also use np.where to remove other values (e.g. negatives with < 0)"
   ]
  }
 ],
 "metadata": {
  "kernelspec": {
   "display_name": "Python 3 (ipykernel)",
   "language": "python",
   "name": "python3"
  },
  "language_info": {
   "codemirror_mode": {
    "name": "ipython",
    "version": 3
   },
   "file_extension": ".py",
   "mimetype": "text/x-python",
   "name": "python",
   "nbconvert_exporter": "python",
   "pygments_lexer": "ipython3",
   "version": "3.9.12"
  }
 },
 "nbformat": 4,
 "nbformat_minor": 5
}
