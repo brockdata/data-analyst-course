{
 "cells": [
  {
   "cell_type": "code",
   "execution_count": 1,
   "id": "eac43af3",
   "metadata": {},
   "outputs": [],
   "source": [
    "import numpy as np"
   ]
  },
  {
   "cell_type": "code",
   "execution_count": 2,
   "id": "ab926abd",
   "metadata": {},
   "outputs": [
    {
     "name": "stdout",
     "output_type": "stream",
     "text": [
      "[[ 2000.    40.   365.  3121.  4241. 13621.]\n",
      " [ 2000.    40.   365.  3061.  4171. 15041.]\n",
      " [ 1000.    40.   365.  2160.  3280. 15340.]\n",
      " ...\n",
      " [ 2000.    40.   365.  4201.  5001. 16600.]\n",
      " [ 1000.    40.   365.  2080.  3320. 15600.]\n",
      " [ 2000.    40.   365.  4601.  4601. 16600.]]\n"
     ]
    }
   ],
   "source": [
    "file = np.loadtxt('Lending-company-Numeric.csv', delimiter=',')\n",
    "print(file)"
   ]
  },
  {
   "cell_type": "code",
   "execution_count": 6,
   "id": "18ac7cd6",
   "metadata": {},
   "outputs": [
    {
     "name": "stdout",
     "output_type": "stream",
     "text": [
      "6258\n",
      "6257\n"
     ]
    }
   ],
   "source": [
    "# delete a single value\n",
    "print(file.size)\n",
    "print(np.delete(file, 0).size)"
   ]
  },
  {
   "cell_type": "code",
   "execution_count": 9,
   "id": "34742055",
   "metadata": {},
   "outputs": [
    {
     "name": "stdout",
     "output_type": "stream",
     "text": [
      "[[ 2000.    40.   365.  3061.  4171. 15041.]\n",
      " [ 1000.    40.   365.  2160.  3280. 15340.]\n",
      " [ 2000.    40.   365.  3041.  4241. 15321.]\n",
      " ...\n",
      " [ 2000.    40.   365.  4201.  5001. 16600.]\n",
      " [ 1000.    40.   365.  2080.  3320. 15600.]\n",
      " [ 2000.    40.   365.  4601.  4601. 16600.]]\n",
      "[[   40.   365.  3121.  4241. 13621.]\n",
      " [   40.   365.  3061.  4171. 15041.]\n",
      " [   40.   365.  2160.  3280. 15340.]\n",
      " ...\n",
      " [   40.   365.  4201.  5001. 16600.]\n",
      " [   40.   365.  2080.  3320. 15600.]\n",
      " [   40.   365.  4601.  4601. 16600.]]\n",
      "[[ 2000.    40.   365.  3061.  4171. 15041.]\n",
      " [ 2000.    40.   365.  3041.  4241. 15321.]\n",
      " [ 2000.    40.   365.  3201.  4141. 14141.]\n",
      " ...\n",
      " [ 2000.    40.   365.  4201.  5001. 16600.]\n",
      " [ 1000.    40.   365.  2080.  3320. 15600.]\n",
      " [ 2000.    40.   365.  4601.  4601. 16600.]]\n",
      "[[   40.  3121. 13621.]\n",
      " [   40.  3061. 15041.]\n",
      " [   40.  2160. 15340.]\n",
      " ...\n",
      " [   40.  4201. 16600.]\n",
      " [   40.  2080. 15600.]\n",
      " [   40.  4601. 16600.]]\n",
      "----------\n",
      "[[   40.  3061. 15041.]\n",
      " [   40.  3041. 15321.]\n",
      " [   40.  3201. 14141.]\n",
      " ...\n",
      " [   40.  4201. 16600.]\n",
      " [   40.  2080. 15600.]\n",
      " [   40.  4601. 16600.]]\n"
     ]
    }
   ],
   "source": [
    "# delete a col\n",
    "print(np.delete(file,0,axis=0))\n",
    "# delete row\n",
    "print(np.delete(file,0,axis=1))\n",
    "\n",
    "# multiple cols\n",
    "print(np.delete(file,[0,2,4],axis=0))\n",
    "# print(np.delete(file,(0,2,4),axis=0))\n",
    "\n",
    "# multiple rows\n",
    "print(np.delete(file,[0,2,4],axis=1))\n",
    "\n",
    "print('----------')\n",
    "# rows and columns\n",
    "# delete rows first, then cols on same line\n",
    "print(np.delete(np.delete(file,[0,2,4],axis=1),[0,2,4],axis=0))"
   ]
  }
 ],
 "metadata": {
  "kernelspec": {
   "display_name": "Python 3 (ipykernel)",
   "language": "python",
   "name": "python3"
  },
  "language_info": {
   "codemirror_mode": {
    "name": "ipython",
    "version": 3
   },
   "file_extension": ".py",
   "mimetype": "text/x-python",
   "name": "python",
   "nbconvert_exporter": "python",
   "pygments_lexer": "ipython3",
   "version": "3.9.12"
  }
 },
 "nbformat": 4,
 "nbformat_minor": 5
}
