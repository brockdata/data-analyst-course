{
 "cells": [
  {
   "cell_type": "code",
   "execution_count": 1,
   "id": "7bb636e6",
   "metadata": {},
   "outputs": [],
   "source": [
    "import numpy as np"
   ]
  },
  {
   "cell_type": "code",
   "execution_count": 2,
   "id": "f9825ac6",
   "metadata": {},
   "outputs": [
    {
     "name": "stdout",
     "output_type": "stream",
     "text": [
      "[[ 2000.    40.   365.  3121.  4241. 13621.]\n",
      " [ 2000.    40.   365.  3061.  4171. 15041.]\n",
      " [ 1000.    40.   365.  2160.  3280. 15340.]\n",
      " ...\n",
      " [ 2000.    40.   365.  4201.  5001. 16600.]\n",
      " [ 1000.    40.   365.  2080.  3320. 15600.]\n",
      " [ 2000.    40.   365.  4601.  4601. 16600.]]\n"
     ]
    }
   ],
   "source": [
    "file = np.loadtxt('Lending-company-Numeric.csv', delimiter=',')\n",
    "print(file)"
   ]
  },
  {
   "cell_type": "code",
   "execution_count": 3,
   "id": "814f9b62",
   "metadata": {},
   "outputs": [
    {
     "name": "stdout",
     "output_type": "stream",
     "text": [
      "(1043, 6)\n",
      "[[ 2000.    40.   365. ...   365.  1581.  3041.]\n",
      " [12277.  2000.    40. ...    50.   365.  5350.]\n",
      " [ 6850. 15150.  1000. ...  2000.    40.   365.]\n",
      " [ 3101.  4351. 16600. ... 16600.  2000.    40.]\n",
      " [  365.  3441.  4661. ...  8450. 22250.  2000.]\n",
      " [   40.   365.  3701. ...  4601.  4601. 16600.]]\n"
     ]
    }
   ],
   "source": [
    "# reshape uses the flattened array\n",
    "print(file.shape)\n",
    "# this is not a rotation!\n",
    "# it took the first 1043 values on the first row, then the next, till the end\n",
    "print(np.reshape(file, (6,1043)))"
   ]
  },
  {
   "cell_type": "code",
   "execution_count": 4,
   "id": "9dea87bf",
   "metadata": {},
   "outputs": [
    {
     "name": "stdout",
     "output_type": "stream",
     "text": [
      "[[ 2000.  2000.  1000. ...  2000.  1000.  2000.]\n",
      " [   40.    40.    40. ...    40.    40.    40.]\n",
      " [  365.   365.   365. ...   365.   365.   365.]\n",
      " [ 3121.  3061.  2160. ...  4201.  2080.  4601.]\n",
      " [ 4241.  4171.  3280. ...  5001.  3320.  4601.]\n",
      " [13621. 15041. 15340. ... 16600. 15600. 16600.]]\n"
     ]
    }
   ],
   "source": [
    "# transpose\n",
    "# this will flip it as expected\n",
    "print(np.transpose(file))"
   ]
  },
  {
   "cell_type": "code",
   "execution_count": 9,
   "id": "e023f794",
   "metadata": {},
   "outputs": [
    {
     "name": "stdout",
     "output_type": "stream",
     "text": [
      "[[[ 2000.    40.   365. ...   365.  1581.  3041.]\n",
      "  [12277.  2000.    40. ...    50.   365.  5350.]\n",
      "  [ 6850. 15150.  1000. ...  2000.    40.   365.]]\n",
      "\n",
      " [[ 3101.  4351. 16600. ... 16600.  2000.    40.]\n",
      "  [  365.  3441.  4661. ...  8450. 22250.  2000.]\n",
      "  [   40.   365.  3701. ...  4601.  4601. 16600.]]]\n"
     ]
    }
   ],
   "source": [
    "print(np.reshape(file, (2,3,1043)))"
   ]
  },
  {
   "cell_type": "code",
   "execution_count": 10,
   "id": "fdc858ce",
   "metadata": {},
   "outputs": [
    {
     "name": "stdout",
     "output_type": "stream",
     "text": [
      "[[[[ 2000.    40.   365. ...   365.  1581.  3041.]\n",
      "   [12277.  2000.    40. ...    50.   365.  5350.]\n",
      "   [ 6850. 15150.  1000. ...  2000.    40.   365.]]\n",
      "\n",
      "  [[ 3101.  4351. 16600. ... 16600.  2000.    40.]\n",
      "   [  365.  3441.  4661. ...  8450. 22250.  2000.]\n",
      "   [   40.   365.  3701. ...  4601.  4601. 16600.]]]]\n"
     ]
    }
   ],
   "source": [
    "# the method\n",
    "print(file.reshape(1,2,3,1043))"
   ]
  }
 ],
 "metadata": {
  "kernelspec": {
   "display_name": "Python 3 (ipykernel)",
   "language": "python",
   "name": "python3"
  },
  "language_info": {
   "codemirror_mode": {
    "name": "ipython",
    "version": 3
   },
   "file_extension": ".py",
   "mimetype": "text/x-python",
   "name": "python",
   "nbconvert_exporter": "python",
   "pygments_lexer": "ipython3",
   "version": "3.9.12"
  }
 },
 "nbformat": 4,
 "nbformat_minor": 5
}
