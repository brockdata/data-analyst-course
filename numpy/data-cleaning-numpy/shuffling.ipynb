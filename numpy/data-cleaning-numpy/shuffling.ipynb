{
 "cells": [
  {
   "cell_type": "code",
   "execution_count": 11,
   "id": "a584d842",
   "metadata": {},
   "outputs": [],
   "source": [
    "import numpy as np\n",
    "from numpy.random import shuffle"
   ]
  },
  {
   "cell_type": "code",
   "execution_count": 12,
   "id": "06d0e02a",
   "metadata": {},
   "outputs": [],
   "source": [
    "# rearrange order wihtout changing rows\n",
    "# random sample is representative of the dataset"
   ]
  },
  {
   "cell_type": "code",
   "execution_count": 13,
   "id": "93466c4a",
   "metadata": {},
   "outputs": [
    {
     "name": "stdout",
     "output_type": "stream",
     "text": [
      "[[ 2000.    40.   365.  3121.  4241. 13621.]\n",
      " [ 2000.    40.   365.  3061.  4171. 15041.]\n",
      " [ 1000.    40.   365.  2160.  3280. 15340.]\n",
      " [ 2000.    40.   365.  3041.  4241. 15321.]\n",
      " [ 2000.    50.   365.  3470.  4820. 13720.]\n",
      " [ 2000.    40.   365.  3201.  4141. 14141.]\n",
      " [ 2000.    50.   365.  1851.  3251. 17701.]\n",
      " [ 2000.    40.   365.  3971.  4131. 15351.]]\n"
     ]
    }
   ],
   "source": [
    "data = np.loadtxt('Lending-company-Numeric.csv', delimiter=',')[:8]\n",
    "print(data)"
   ]
  },
  {
   "cell_type": "code",
   "execution_count": 14,
   "id": "839feb3b",
   "metadata": {},
   "outputs": [
    {
     "name": "stdout",
     "output_type": "stream",
     "text": [
      "[[ 2000.    40.   365.  3041.  4241. 15321.]\n",
      " [ 2000.    50.   365.  3470.  4820. 13720.]\n",
      " [ 2000.    40.   365.  3971.  4131. 15351.]\n",
      " [ 2000.    40.   365.  3121.  4241. 13621.]\n",
      " [ 2000.    50.   365.  1851.  3251. 17701.]\n",
      " [ 1000.    40.   365.  2160.  3280. 15340.]\n",
      " [ 2000.    40.   365.  3201.  4141. 14141.]\n",
      " [ 2000.    40.   365.  3061.  4171. 15041.]]\n",
      "----------\n",
      "[[ 2000.    40.   365.  3061.  4171. 15041.]\n",
      " [ 2000.    50.   365.  3470.  4820. 13720.]\n",
      " [ 2000.    40.   365.  3971.  4131. 15351.]\n",
      " [ 2000.    50.   365.  1851.  3251. 17701.]\n",
      " [ 2000.    40.   365.  3041.  4241. 15321.]\n",
      " [ 1000.    40.   365.  2160.  3280. 15340.]\n",
      " [ 2000.    40.   365.  3201.  4141. 14141.]\n",
      " [ 2000.    40.   365.  3121.  4241. 13621.]]\n",
      "----------\n",
      "[[ 1000.    40.   365.  2160.  3280. 15340.]\n",
      " [ 2000.    40.   365.  3201.  4141. 14141.]\n",
      " [ 2000.    40.   365.  3971.  4131. 15351.]\n",
      " [ 2000.    40.   365.  3061.  4171. 15041.]\n",
      " [ 2000.    40.   365.  3121.  4241. 13621.]\n",
      " [ 2000.    50.   365.  1851.  3251. 17701.]\n",
      " [ 2000.    40.   365.  3041.  4241. 15321.]\n",
      " [ 2000.    50.   365.  3470.  4820. 13720.]]\n"
     ]
    }
   ],
   "source": [
    "shuffle(data)\n",
    "print(data)\n",
    "print('----------')\n",
    "shuffle(data)\n",
    "print(data)\n",
    "print('----------')\n",
    "shuffle(data)\n",
    "print(data)"
   ]
  },
  {
   "cell_type": "code",
   "execution_count": null,
   "id": "e494cfa0",
   "metadata": {},
   "outputs": [],
   "source": [
    "# use the method on random generators\n",
    "from numpy.random import Generator as gen\n",
    "from numpy.random import PCG64 as pcg\n",
    "a = gen(pcg())\n",
    "a.shuffle(data)\n",
    "print(data)\n",
    "# it prevails over the use of seeds\n",
    "# can't replicate a shuffle with seeds"
   ]
  }
 ],
 "metadata": {
  "kernelspec": {
   "display_name": "Python 3 (ipykernel)",
   "language": "python",
   "name": "python3"
  },
  "language_info": {
   "codemirror_mode": {
    "name": "ipython",
    "version": 3
   },
   "file_extension": ".py",
   "mimetype": "text/x-python",
   "name": "python",
   "nbconvert_exporter": "python",
   "pygments_lexer": "ipython3",
   "version": "3.9.12"
  }
 },
 "nbformat": 4,
 "nbformat_minor": 5
}
