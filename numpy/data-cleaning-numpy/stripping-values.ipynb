{
 "cells": [
  {
   "cell_type": "code",
   "execution_count": 1,
   "id": "401212bc",
   "metadata": {},
   "outputs": [],
   "source": [
    "import numpy as np"
   ]
  },
  {
   "cell_type": "code",
   "execution_count": 24,
   "id": "ee184408",
   "metadata": {},
   "outputs": [
    {
     "name": "stdout",
     "output_type": "stream",
     "text": [
      "[['id_1' 'Product B' 'Location 2']\n",
      " ['id_2' 'Product B' 'Location 3']\n",
      " ['id_3' 'Product C' 'Location 5']\n",
      " ...\n",
      " ['id_413' 'Product B' 'Location 135']\n",
      " ['id_414' 'Product C' 'Location 200']\n",
      " ['id_415' 'Product A' 'Location 8']]\n"
     ]
    }
   ],
   "source": [
    "data = np.genfromtxt(r'C:\\Users\\nbrock\\OneDrive\\coding\\jupyter-notebooks\\data-analyst-course\\working-with-files\\files\\Lending-Company-Total-Price.csv',\n",
    "                 delimiter=',',\n",
    "                 dtype='str',\n",
    "                 skip_header=1,\n",
    "                 usecols=[1,2,4])\n",
    "print(data)"
   ]
  },
  {
   "cell_type": "code",
   "execution_count": 25,
   "id": "60f8b0c8",
   "metadata": {},
   "outputs": [
    {
     "name": "stdout",
     "output_type": "stream",
     "text": [
      "[['1' 'B' '2']\n",
      " ['2' 'B' '3']\n",
      " ['3' 'C' '5']\n",
      " ...\n",
      " ['413' 'B' '135']\n",
      " ['414' 'C' '200']\n",
      " ['415' 'A' '8']]\n"
     ]
    }
   ],
   "source": [
    "data[:,0] = np.chararray.strip(data[:,0], 'id_')\n",
    "data[:,1] = np.chararray.strip(data[:,1], 'Product ')\n",
    "data[:,2] = np.chararray.strip(data[:,2], 'Location ')\n",
    "print(data)"
   ]
  },
  {
   "cell_type": "code",
   "execution_count": 26,
   "id": "27febcef",
   "metadata": {},
   "outputs": [
    {
     "name": "stdout",
     "output_type": "stream",
     "text": [
      "[['1' '2' '2']\n",
      " ['2' '2' '3']\n",
      " ['3' '3' '5']\n",
      " ...\n",
      " ['413' '2' '135']\n",
      " ['414' '3' '200']\n",
      " ['415' '1' '8']]\n"
     ]
    }
   ],
   "source": [
    "# replace letters with numbers\n",
    "product_letters = ['A', 'B', 'C', 'D', 'E', 'F']\n",
    "for l in range(len(product_letters)):\n",
    "    data[:,1] = np.where(data[:,1] == product_letters[l], l+1, data[:,1])\n",
    "print(data)"
   ]
  },
  {
   "cell_type": "code",
   "execution_count": 27,
   "id": "25e58be8",
   "metadata": {},
   "outputs": [
    {
     "name": "stdout",
     "output_type": "stream",
     "text": [
      "[[  1   2   2]\n",
      " [  2   2   3]\n",
      " [  3   3   5]\n",
      " ...\n",
      " [413   2 135]\n",
      " [414   3 200]\n",
      " [415   1   8]]\n"
     ]
    }
   ],
   "source": [
    "# dtypes\n",
    "data = data.astype('int32')\n",
    "print(data)"
   ]
  },
  {
   "cell_type": "code",
   "execution_count": null,
   "id": "3733274b",
   "metadata": {},
   "outputs": [],
   "source": [
    "# all clean!"
   ]
  }
 ],
 "metadata": {
  "kernelspec": {
   "display_name": "Python 3 (ipykernel)",
   "language": "python",
   "name": "python3"
  },
  "language_info": {
   "codemirror_mode": {
    "name": "ipython",
    "version": 3
   },
   "file_extension": ".py",
   "mimetype": "text/x-python",
   "name": "python",
   "nbconvert_exporter": "python",
   "pygments_lexer": "ipython3",
   "version": "3.9.12"
  }
 },
 "nbformat": 4,
 "nbformat_minor": 5
}
