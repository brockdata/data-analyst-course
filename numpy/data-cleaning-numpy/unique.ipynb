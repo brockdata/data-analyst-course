{
 "cells": [
  {
   "cell_type": "code",
   "execution_count": 1,
   "id": "fbf03a0e",
   "metadata": {},
   "outputs": [],
   "source": [
    "import numpy as np"
   ]
  },
  {
   "cell_type": "code",
   "execution_count": 2,
   "id": "6025f568",
   "metadata": {},
   "outputs": [
    {
     "name": "stdout",
     "output_type": "stream",
     "text": [
      "[[ 2000.    40.   365.  3121.  4241. 13621.]\n",
      " [ 2000.    40.   365.  3061.  4171. 15041.]\n",
      " [ 1000.    40.   365.  2160.  3280. 15340.]\n",
      " ...\n",
      " [ 2000.    40.   365.  4201.  5001. 16600.]\n",
      " [ 1000.    40.   365.  2080.  3320. 15600.]\n",
      " [ 2000.    40.   365.  4601.  4601. 16600.]]\n"
     ]
    }
   ],
   "source": [
    "data = np.loadtxt('Lending-company-Numeric.csv', delimiter=',')\n",
    "print(data)"
   ]
  },
  {
   "cell_type": "code",
   "execution_count": 3,
   "id": "11d1d232",
   "metadata": {},
   "outputs": [
    {
     "name": "stdout",
     "output_type": "stream",
     "text": [
      "[-2870. -2550. -2450. ... 52751. 54625. 64001.]\n"
     ]
    }
   ],
   "source": [
    "# numeric are sorted in ascending order\n",
    "# strings are organized by ASCII\n",
    "print(np.unique(data))"
   ]
  },
  {
   "cell_type": "code",
   "execution_count": 12,
   "id": "7f3e1da2",
   "metadata": {},
   "outputs": [
    {
     "name": "stdout",
     "output_type": "stream",
     "text": [
      "(array([ 35.,  40.,  50., 125., 165.]), array([327,   0,   4,  19,  27], dtype=int64), array([  4, 567, 451,  19,   2], dtype=int64))\n",
      "35 appears 4 times in the dataset, first at position 327\n",
      "40 appears 567 times in the dataset, first at position 0\n",
      "50 appears 451 times in the dataset, first at position 4\n",
      "125 appears 19 times in the dataset, first at position 19\n",
      "165 appears 2 times in the dataset, first at position 27\n"
     ]
    }
   ],
   "source": [
    "unique_values = np.unique(data[:,1], return_index=True, return_counts=True)\n",
    "print(unique_values)\n",
    "for n in range(len(unique_values[0])):\n",
    "    print(int(unique_values[0][n]), 'appears', unique_values[2][n], 'times in the dataset, first at position', unique_values[1][n])"
   ]
  },
  {
   "cell_type": "code",
   "execution_count": null,
   "id": "eea6a11e",
   "metadata": {},
   "outputs": [],
   "source": []
  }
 ],
 "metadata": {
  "kernelspec": {
   "display_name": "Python 3 (ipykernel)",
   "language": "python",
   "name": "python3"
  },
  "language_info": {
   "codemirror_mode": {
    "name": "ipython",
    "version": 3
   },
   "file_extension": ".py",
   "mimetype": "text/x-python",
   "name": "python",
   "nbconvert_exporter": "python",
   "pygments_lexer": "ipython3",
   "version": "3.9.12"
  }
 },
 "nbformat": 4,
 "nbformat_minor": 5
}
