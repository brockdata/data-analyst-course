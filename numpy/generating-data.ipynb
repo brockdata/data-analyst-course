{
 "cells": [
  {
   "cell_type": "code",
   "execution_count": 1,
   "id": "3e767c2d",
   "metadata": {},
   "outputs": [],
   "source": [
    "import numpy as np"
   ]
  },
  {
   "cell_type": "code",
   "execution_count": 2,
   "id": "c049decd",
   "metadata": {},
   "outputs": [
    {
     "name": "stdout",
     "output_type": "stream",
     "text": [
      "[[0. 0. 0.]\n",
      " [0. 0. 0.]]\n"
     ]
    }
   ],
   "source": [
    "# assign from RAM memory\n",
    "# could be blank, could be random values\n",
    "a = np.empty(shape=(2,3))\n",
    "print(a)"
   ]
  },
  {
   "cell_type": "code",
   "execution_count": 3,
   "id": "3875ed4c",
   "metadata": {},
   "outputs": [
    {
     "name": "stdout",
     "output_type": "stream",
     "text": [
      "[[0 0 0]\n",
      " [0 0 0]]\n"
     ]
    }
   ],
   "source": [
    "# zeros\n",
    "b = np.zeros(shape=(2,3), dtype='int8')\n",
    "print(b)"
   ]
  },
  {
   "cell_type": "code",
   "execution_count": 4,
   "id": "1a4720db",
   "metadata": {},
   "outputs": [
    {
     "name": "stdout",
     "output_type": "stream",
     "text": [
      "[[1. 1. 1.]\n",
      " [1. 1. 1.]]\n"
     ]
    }
   ],
   "source": [
    "# ones\n",
    "c = np.ones(shape=(2,3))\n",
    "print(c)"
   ]
  },
  {
   "cell_type": "code",
   "execution_count": 9,
   "id": "914fcddb",
   "metadata": {},
   "outputs": [
    {
     "name": "stdout",
     "output_type": "stream",
     "text": [
      "[[2 2 2]\n",
      " [2 2 2]]\n",
      "[['two' 'two' 'two']\n",
      " ['two' 'two' 'two']]\n"
     ]
    }
   ],
   "source": [
    "# specified value\n",
    "d = np.full(fill_value=2, shape=(2,3))\n",
    "print(d)\n",
    "d_str = np.full(fill_value='two', shape=(2,3))\n",
    "print(d_str)"
   ]
  },
  {
   "cell_type": "code",
   "execution_count": 13,
   "id": "9e38e357",
   "metadata": {},
   "outputs": [
    {
     "name": "stdout",
     "output_type": "stream",
     "text": [
      "[[3 9 9 1 9]\n",
      " [1 4 0 8 1]\n",
      " [8 3 5 5 7]]\n",
      "------------------\n",
      "[[      0       0       0       0       0]\n",
      " [      0       0       0       0       0]\n",
      " [   1596       0       0 6029409       0]]\n",
      "------------------\n",
      "[[0 0 0 0 0]\n",
      " [0 0 0 0 0]\n",
      " [0 0 0 0 0]]\n"
     ]
    }
   ],
   "source": [
    "# like\n",
    "# don't sepcify shape or type\n",
    "# specify another array and let the new array be the same shape and type\n",
    "\n",
    "from random import randint\n",
    "m = np.array([[randint(0,10),randint(0,10),randint(0,10),randint(0,10),randint(0,10)],\n",
    "             [randint(0,10),randint(0,10),randint(0,10),randint(0,10),randint(0,10)],\n",
    "             [randint(0,10),randint(0,10),randint(0,10),randint(0,10),randint(0,10)]])\n",
    "print(m)\n",
    "print('------------------')\n",
    "\n",
    "# replicate the given array with the empty function\n",
    "m2 = np.empty_like(m)\n",
    "print(m2)\n",
    "print('------------------')\n",
    "\n",
    "m3 = np.zeros_like(m2)\n",
    "print(m3)\n",
    "\n",
    "# np.ones_like\n",
    "# np.full_like"
   ]
  },
  {
   "cell_type": "code",
   "execution_count": 22,
   "id": "0192e598",
   "metadata": {},
   "outputs": [
    {
     "name": "stdout",
     "output_type": "stream",
     "text": [
      "[0, 1, 2, 3, 4, 5, 6, 7, 8, 9, 10, 11, 12, 13, 14, 15, 16, 17, 18, 19, 20, 21, 22, 23, 24, 25, 26, 27, 28, 29] \n",
      " <class 'list'> <class 'range'>\n",
      "------------------\n",
      "[ 0  1  2  3  4  5  6  7  8  9 10 11 12 13 14 15 16 17 18 19 20 21 22 23\n",
      " 24 25 26 27 28 29]\n",
      "<class 'numpy.ndarray'>\n"
     ]
    }
   ],
   "source": [
    "# arange = array range\n",
    "# consec int values in a range\n",
    "\n",
    "# like py \"range\"...\n",
    "a2a = list(range(30))\n",
    "print(a2a, end=' ')\n",
    "print('\\n', type(a2a), type(range(30)))\n",
    "print('------------------')\n",
    "\n",
    "# but produces array instead of range object\n",
    "a2b = np.arange(30)\n",
    "print(a2)\n",
    "print(type(a2b))\n",
    "\n",
    "# start, stop step"
   ]
  },
  {
   "cell_type": "code",
   "execution_count": 23,
   "id": "71648107",
   "metadata": {},
   "outputs": [],
   "source": [
    "# random bit generator\n",
    "from numpy.random import Generator as gen\n",
    "# \"permiutation congruential generator\" up to 64 bit size\n",
    "from numpy.random import PCG64 as pcg"
   ]
  },
  {
   "cell_type": "code",
   "execution_count": 27,
   "id": "4f89900e",
   "metadata": {},
   "outputs": [
    {
     "name": "stdout",
     "output_type": "stream",
     "text": [
      "[[-1.53435776  0.09832967 -0.75687539]\n",
      " [-0.82479331  0.86500849 -0.5853009 ]]\n",
      "--------------------\n",
      "[[-0.13640899  0.09414431 -0.06300442  1.05391641 -0.6866818 ]\n",
      " [-0.50922173 -0.7999526   0.73041825  0.08825439 -2.1177576 ]\n",
      " [ 0.65526774 -0.48095012 -0.5519114  -0.58578662 -0.98257896]\n",
      " [ 1.12378166 -1.30984316 -0.04703774  0.955272    0.26071745]\n",
      " [-0.20023668 -1.50172484 -1.4929163   0.96535084  1.18694633]]\n"
     ]
    }
   ],
   "source": [
    "# define object\n",
    "# empty argument randomly selects a \"seed\" = starting parameters for the algorithm\n",
    "r = gen(pcg())\n",
    "# normal distribution\n",
    "print(r.normal(size=(2,3)))\n",
    "print('--------------------')\n",
    "\n",
    "# define the seed\n",
    "# keep the same values for ONE execution\n",
    "# if you want to use it many times, reset it every time\n",
    "r = gen(pcg(365))\n",
    "print(r.normal(size=(5,5)))"
   ]
  },
  {
   "cell_type": "code",
   "execution_count": 31,
   "id": "db28bee8",
   "metadata": {},
   "outputs": [
    {
     "name": "stdout",
     "output_type": "stream",
     "text": [
      "[[19.12228651 18.87587889 19.5453674  19.09856506 19.13163972]\n",
      " [19.27222634 20.56618451 22.08803027 19.87628573 20.03820826]\n",
      " [18.61744239 20.81950753 19.72514882 18.96163647 19.83913036]\n",
      " [20.19711906 18.77856883 21.09267177 21.85390059 20.9733405 ]\n",
      " [19.85759534 19.57137593 21.15921193 20.27403717 20.05206376]]\n",
      "--------------------\n",
      "[[ 0  5  6 17 14]\n",
      " [13  2  9 19 18]\n",
      " [ 1 14  7 17  4]\n",
      " [ 1  1 15  8 17]\n",
      " [ 6 11 15  0  9]]\n",
      "--------------------\n",
      "[[0.61814204 0.61521597 0.48029186 0.17779049 0.33077715]\n",
      " [0.54756582 0.14648211 0.10508127 0.20793472 0.29252908]\n",
      " [0.13680607 0.13215934 0.29111928 0.65803493 0.39732069]\n",
      " [0.21643789 0.85769281 0.16366919 0.07551735 0.56534831]\n",
      " [0.00426888 0.54130757 0.2720943  0.78355963 0.76898416]]\n",
      "--------------------\n",
      "[[5 5 5 1 3]\n",
      " [5 5 3 5 5]\n",
      " [5 2 5 5 4]\n",
      " [5 5 5 5 5]\n",
      " [5 4 5 5 5]]\n"
     ]
    }
   ],
   "source": [
    "# normal\n",
    "print(r.normal(20,size=(5,5)))\n",
    "print('--------------------')\n",
    "# integers\n",
    "print(r.integers(20,size=(5,5)))\n",
    "print('--------------------')\n",
    "# random, continuous dist\n",
    "print(r.random(size=(5,5)))\n",
    "print('--------------------')\n",
    "# discrete, uniform dist\n",
    "# define the statistical likelihood of a number being selected with \"p\"\n",
    "print(r.choice([1,2,3,4,5], p=[0.1,0.1,0.1,0.1,0.6], size=(5,5)))"
   ]
  },
  {
   "cell_type": "code",
   "execution_count": 32,
   "id": "4fce8247",
   "metadata": {},
   "outputs": [
    {
     "name": "stdout",
     "output_type": "stream",
     "text": [
      "[[11 12 12 14 13]\n",
      " [ 9 10 11 11  8]\n",
      " [11  8 10  9 14]\n",
      " [ 7  8  9 15 15]\n",
      " [13  8  8  7  9]]\n"
     ]
    }
   ],
   "source": [
    "# probability dist\n",
    "\n",
    "# poisson = over fixed interval of time, expect a value to occur exactly \"lambda\" times\n",
    "r = gen(pcg(seed=365))\n",
    "print(r.poisson(lam=10, size=(5,5)))\n",
    "# 10 times is not realistic"
   ]
  },
  {
   "cell_type": "code",
   "execution_count": 33,
   "id": "7a7f126d",
   "metadata": {},
   "outputs": [
    {
     "name": "stdout",
     "output_type": "stream",
     "text": [
      "[[42 44 30 36 45]\n",
      " [36 41 38 42 41]\n",
      " [35 31 35 46 29]\n",
      " [41 41 46 34 48]\n",
      " [45 45 45 40 43]]\n"
     ]
    }
   ],
   "source": [
    "# binomial\n",
    "# only two outcomes\n",
    "# n = num experiments\n",
    "# p = probability of getting certain outcome\n",
    "r = gen(pcg(seed=365))\n",
    "print(r.binomial(n=100,p=.4,size=(5,5)))"
   ]
  },
  {
   "cell_type": "code",
   "execution_count": 34,
   "id": "1f738322",
   "metadata": {},
   "outputs": [
    {
     "name": "stdout",
     "output_type": "stream",
     "text": [
      "[[10.37767822 10.42451863  9.63404367  7.36153427  9.82286787]\n",
      " [ 5.81223125 10.09354231  6.46790532 11.38740256  8.97147918]\n",
      " [10.85844698  8.79081317  5.962079    9.99560681  8.34539118]\n",
      " [ 7.97105522  8.9981544   8.93530194  9.6253307   9.23850869]\n",
      " [ 9.73729284  5.3090678  10.13723528 11.04372782  7.11078651]]\n"
     ]
    }
   ],
   "source": [
    "# logistic\n",
    "# location\n",
    "# scale\n",
    "r = gen(pcg(seed=365))\n",
    "print(r.logistic(loc=9, scale=1.2,size=(5,5)))"
   ]
  },
  {
   "cell_type": "code",
   "execution_count": 37,
   "id": "5a9133d8",
   "metadata": {},
   "outputs": [
    {
     "name": "stdout",
     "output_type": "stream",
     "text": [
      "[[ 1.59077303  2.28243293  1.81098674 ...  0.1973629  -2.21015722\n",
      "   2.91161235]\n",
      " [ 6.42174295  8.57902322  5.17270135 ...  4.3465854   8.2176402\n",
      "   7.90337695]\n",
      " [10.14698427 15.93309953 -0.46878789 ...  2.66485989 12.69328115\n",
      "  11.79840961]\n",
      " [ 6.91500737  6.243605    2.44997251 ...  0.80935387  0.50644607\n",
      "   4.86816939]\n",
      " [ 1.          1.          1.         ...  1.          2.\n",
      "   1.        ]]\n",
      "[[ 1.59077303  6.42174295 10.14698427  6.91500737  1.        ]\n",
      " [ 2.28243293  8.57902322 15.93309953  6.243605    1.        ]\n",
      " [ 1.81098674  5.17270135 -0.46878789  2.44997251  1.        ]\n",
      " ...\n",
      " [ 0.1973629   4.3465854   2.66485989  0.80935387  1.        ]\n",
      " [-2.21015722  8.2176402  12.69328115  0.50644607  2.        ]\n",
      " [ 2.91161235  7.90337695 11.79840961  4.86816939  1.        ]]\n"
     ]
    }
   ],
   "source": [
    "# applications\n",
    "# \"test creation\" = when real data isn't available, need random data to test a program\n",
    "r = gen(pcg(seed=365))\n",
    "\n",
    "# set the size to the same so it all fits together\n",
    "col1 = r.normal(loc=2,scale=3,size=1000)\n",
    "col2 = r.normal(loc=7,scale=2,size=1000)\n",
    "col3 = r.logistic(loc=11,scale=3,size=1000)\n",
    "col4 = r.exponential(scale=4,size=1000)\n",
    "col5 = r.geometric(p=0.7,size=1000)\n",
    "\n",
    "test_data = np.array([col1,col2,col3,col4,col5])\n",
    "print(test_data)\n",
    "# doesn't look right... transpose\n",
    "test_data = np.array([col1,col2,col3,col4,col5]).transpose()\n",
    "print(test_data)\n",
    "# better!"
   ]
  },
  {
   "cell_type": "code",
   "execution_count": 38,
   "id": "af95e64f",
   "metadata": {},
   "outputs": [],
   "source": [
    "# save it\n",
    "np.savetxt('test_data.csv', test_data, fmt='%s', delimiter=',')"
   ]
  },
  {
   "cell_type": "code",
   "execution_count": 40,
   "id": "6ec1035a",
   "metadata": {},
   "outputs": [
    {
     "name": "stdout",
     "output_type": "stream",
     "text": [
      "[[ 1.59077303  6.42174295 10.14698427  6.91500737  1.        ]\n",
      " [ 2.28243293  8.57902322 15.93309953  6.243605    1.        ]\n",
      " [ 1.81098674  5.17270135 -0.46878789  2.44997251  1.        ]\n",
      " ...\n",
      " [ 0.1973629   4.3465854   2.66485989  0.80935387  1.        ]\n",
      " [-2.21015722  8.2176402  12.69328115  0.50644607  2.        ]\n",
      " [ 2.91161235  7.90337695 11.79840961  4.86816939  1.        ]]\n"
     ]
    }
   ],
   "source": [
    "a_test = np.genfromtxt('test_data.csv', delimiter=',')\n",
    "print(a_test)"
   ]
  }
 ],
 "metadata": {
  "kernelspec": {
   "display_name": "Python 3 (ipykernel)",
   "language": "python",
   "name": "python3"
  },
  "language_info": {
   "codemirror_mode": {
    "name": "ipython",
    "version": 3
   },
   "file_extension": ".py",
   "mimetype": "text/x-python",
   "name": "python",
   "nbconvert_exporter": "python",
   "pygments_lexer": "ipython3",
   "version": "3.9.12"
  }
 },
 "nbformat": 4,
 "nbformat_minor": 5
}
