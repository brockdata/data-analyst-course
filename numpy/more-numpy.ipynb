{
 "cells": [
  {
   "cell_type": "code",
   "execution_count": 1,
   "id": "2fef1dff",
   "metadata": {},
   "outputs": [],
   "source": [
    "import numpy as np"
   ]
  },
  {
   "cell_type": "code",
   "execution_count": 2,
   "id": "d114b897",
   "metadata": {},
   "outputs": [
    {
     "name": "stdout",
     "output_type": "stream",
     "text": [
      "[[2 1 2]\n",
      " [5 2 1]]\n"
     ]
    }
   ],
   "source": [
    "from random import randint\n",
    "a = np.array([[randint(0,5),randint(0,5),randint(0,5)],\n",
    "              [randint(0,5),randint(0,5),randint(0,5)]])\n",
    "print(a)"
   ]
  },
  {
   "cell_type": "code",
   "execution_count": 3,
   "id": "c8fce4e2",
   "metadata": {},
   "outputs": [
    {
     "name": "stdout",
     "output_type": "stream",
     "text": [
      "[2 1 2]\n"
     ]
    }
   ],
   "source": [
    "print(a[0])"
   ]
  },
  {
   "cell_type": "code",
   "execution_count": 4,
   "id": "82257f5d",
   "metadata": {},
   "outputs": [
    {
     "name": "stdout",
     "output_type": "stream",
     "text": [
      "1\n",
      "1\n"
     ]
    }
   ],
   "source": [
    "# row 0, col 1\n",
    "# element 0, value 1\n",
    "# either of these work\n",
    "print(a[0][1])\n",
    "print(a[0,1])"
   ]
  },
  {
   "cell_type": "code",
   "execution_count": 5,
   "id": "751a2b66",
   "metadata": {},
   "outputs": [
    {
     "name": "stdout",
     "output_type": "stream",
     "text": [
      "[5 2 1]\n"
     ]
    }
   ],
   "source": [
    "# last entire element\n",
    "print(a[-1])"
   ]
  },
  {
   "cell_type": "code",
   "execution_count": 6,
   "id": "f61256f3",
   "metadata": {},
   "outputs": [
    {
     "name": "stdout",
     "output_type": "stream",
     "text": [
      "[[2 1 2]\n",
      " [5 2 1]]\n",
      "[[2 1 9]\n",
      " [5 2 1]]\n",
      "--------------------------\n",
      "[[2 1 9]\n",
      " [5 2 1]]\n",
      "[[9 1 9]\n",
      " [9 2 1]]\n",
      "--------------------------\n",
      "[[9 1 9]\n",
      " [9 2 1]]\n",
      "[[2 3 7]\n",
      " [9 2 1]]\n"
     ]
    }
   ],
   "source": [
    "# assignment\n",
    "\n",
    "# change an item\n",
    "print(a)\n",
    "a[0,2] = 9\n",
    "print(a)\n",
    "\n",
    "print('--------------------------')\n",
    "# change a vector to a scalar in each spot\n",
    "print(a)\n",
    "# a[0] = 9\n",
    "# should be...\n",
    "a[:,0] = 9\n",
    "print(a)\n",
    "\n",
    "print('--------------------------')\n",
    "print(a)\n",
    "new_items = [randint(0,5), randint(0,10), randint(0,10)]\n",
    "a[0,:] = new_items\n",
    "print(a)"
   ]
  },
  {
   "cell_type": "code",
   "execution_count": 7,
   "id": "1715dcdf",
   "metadata": {},
   "outputs": [
    {
     "name": "stdout",
     "output_type": "stream",
     "text": [
      "[[2 3 7]\n",
      " [9 2 1]]\n",
      "--------------------------\n",
      "[[ 7  8 12]\n",
      " [14  7  6]]\n",
      "--------------------------\n",
      "[[ 9 11 19]\n",
      " [16 10 13]]\n",
      "--------------------------\n",
      "[[16 19 31]\n",
      " [30 17 19]]\n"
     ]
    }
   ],
   "source": [
    "# elementwise operations\n",
    "print(a)\n",
    "\n",
    "print('--------------------------')\n",
    "c = a + 5\n",
    "print(c)\n",
    "\n",
    "print('--------------------------')\n",
    "b = a + c[0]\n",
    "print(b)\n",
    "\n",
    "print('--------------------------')\n",
    "d = c + b\n",
    "print(d)"
   ]
  },
  {
   "cell_type": "code",
   "execution_count": 8,
   "id": "a701647f",
   "metadata": {},
   "outputs": [
    {
     "name": "stdout",
     "output_type": "stream",
     "text": [
      "[[2. 4. 1.]\n",
      " [0. 4. 4.]]\n",
      "-------------------------\n",
      "[[5. 4. 0.]\n",
      " [5. 1. 2.]]\n",
      "-------------------------\n",
      "[['1' '3' '0']\n",
      " ['3' '1' '3']] <U1\n"
     ]
    }
   ],
   "source": [
    "# set dtype\n",
    "\n",
    "# float of size 32 bits (memory)\n",
    "# 16, 32, or 64\n",
    "a = np.array([[randint(0,5), randint(0,5), randint(0,5)],\n",
    "            [randint(0,5), randint(0,5), randint(0,5)]], dtype='float32')\n",
    "print(a)\n",
    "\n",
    "print('-------------------------')\n",
    "# or... \n",
    "a = np.array([[randint(0,5), randint(0,5), randint(0,5)],\n",
    "            [randint(0,5), randint(0,5), randint(0,5)]], dtype=np.float32)\n",
    "print(a)\n",
    "\n",
    "# np.complex64 = includes imaginaries\n",
    "\n",
    "print('-------------------------')\n",
    "# bool type\n",
    "# zeroes appear as \"False\"\n",
    "\n",
    "# text = 'str'\n",
    "t = np.array([[randint(0,5), randint(0,5), randint(0,5)],\n",
    "            [randint(0,5), randint(0,5), randint(0,5)]], dtype='str')\n",
    "print(t, t.dtype)\n",
    "# dtype = max unicode length\n",
    "# e.g. <U1 for elements of one digit"
   ]
  },
  {
   "cell_type": "code",
   "execution_count": 9,
   "id": "bfac00c0",
   "metadata": {},
   "outputs": [
    {
     "name": "stdout",
     "output_type": "stream",
     "text": [
      "[4 2 4] \n",
      " [4 2 4] \n",
      " [[0 0 4]\n",
      " [2 3 5]]\n"
     ]
    }
   ],
   "source": [
    "# universal functions\n",
    "# element-by-element basis\n",
    "v1 = np.array([randint(0,5), randint(0,5), randint(0,5)])\n",
    "v2 = np.array([randint(0,5), randint(0,5), randint(0,5)])\n",
    "m = np.array([[randint(0,5),randint(0,5),randint(0,5)],\n",
    "             [randint(0,5),randint(0,5),randint(0,5)]])\n",
    "print(v1,'\\n', v1, '\\n', m)"
   ]
  },
  {
   "cell_type": "code",
   "execution_count": 13,
   "id": "59c277aa",
   "metadata": {},
   "outputs": [
    {
     "name": "stdout",
     "output_type": "stream",
     "text": [
      "[5 4 2] + [[0 0 4]\n",
      " [2 3 5]] =\n",
      "[[5 4 6]\n",
      " [7 7 7]]\n"
     ]
    }
   ],
   "source": [
    "# broadcasting\n",
    "# variables of different sizes\n",
    "# e.g. want to add vector [123] + matrix [[456],[789]]. broadcast vector: [123] >> [[123]] >> [[123],[123]]\n",
    "print(v2, '+', m, '=')\n",
    "print(np.add(v2, m))"
   ]
  },
  {
   "cell_type": "code",
   "execution_count": 15,
   "id": "2eb307b2",
   "metadata": {},
   "outputs": [
    {
     "name": "stdout",
     "output_type": "stream",
     "text": [
      "[[5. 4. 6.]\n",
      " [7. 7. 7.]]\n"
     ]
    },
    {
     "ename": "UFuncTypeError",
     "evalue": "ufunc 'add' did not contain a loop with signature matching types (dtype('<U'), dtype('<U')) -> dtype('<U')",
     "output_type": "error",
     "traceback": [
      "\u001b[1;31m---------------------------------------------------------------------------\u001b[0m",
      "\u001b[1;31mUFuncTypeError\u001b[0m                            Traceback (most recent call last)",
      "Input \u001b[1;32mIn [15]\u001b[0m, in \u001b[0;36m<cell line: 6>\u001b[1;34m()\u001b[0m\n\u001b[0;32m      4\u001b[0m \u001b[38;5;28mprint\u001b[39m(np\u001b[38;5;241m.\u001b[39madd(v2,m,dtype\u001b[38;5;241m=\u001b[39m\u001b[38;5;124m'\u001b[39m\u001b[38;5;124mfloat64\u001b[39m\u001b[38;5;124m'\u001b[39m))\n\u001b[0;32m      5\u001b[0m \u001b[38;5;66;03m# it converts, THEN adds, so this won't work\u001b[39;00m\n\u001b[1;32m----> 6\u001b[0m \u001b[38;5;28mprint\u001b[39m(\u001b[43mnp\u001b[49m\u001b[38;5;241;43m.\u001b[39;49m\u001b[43madd\u001b[49m\u001b[43m(\u001b[49m\u001b[43mv2\u001b[49m\u001b[43m,\u001b[49m\u001b[43mm\u001b[49m\u001b[43m,\u001b[49m\u001b[43mdtype\u001b[49m\u001b[38;5;241;43m=\u001b[39;49m\u001b[38;5;124;43m'\u001b[39;49m\u001b[38;5;124;43mstr\u001b[39;49m\u001b[38;5;124;43m'\u001b[39;49m\u001b[43m)\u001b[49m)\n",
      "\u001b[1;31mUFuncTypeError\u001b[0m: ufunc 'add' did not contain a loop with signature matching types (dtype('<U'), dtype('<U')) -> dtype('<U')"
     ]
    }
   ],
   "source": [
    "# type casting\n",
    "# change data type of each element\n",
    "# e.g. change ints to floats\n",
    "print(np.add(v2,m,dtype='float64'))\n",
    "# it converts, THEN adds, so this won't work\n",
    "print(np.add(v2,m,dtype='str'))"
   ]
  },
  {
   "cell_type": "code",
   "execution_count": 17,
   "id": "37e7487c",
   "metadata": {},
   "outputs": [
    {
     "name": "stdout",
     "output_type": "stream",
     "text": [
      "[[0 0 4]\n",
      " [2 3 5]]\n",
      "[1.  1.5 4.5]\n",
      "[1.33333333 3.33333333]\n"
     ]
    }
   ],
   "source": [
    "# running over an axis\n",
    "# run a function on each row/column\n",
    "\n",
    "print(m)\n",
    "# mean for each col\n",
    "print(np.mean(m, axis=0))\n",
    "# for each row\n",
    "print(np.mean(m, axis=1))"
   ]
  }
 ],
 "metadata": {
  "kernelspec": {
   "display_name": "Python 3 (ipykernel)",
   "language": "python",
   "name": "python3"
  },
  "language_info": {
   "codemirror_mode": {
    "name": "ipython",
    "version": 3
   },
   "file_extension": ".py",
   "mimetype": "text/x-python",
   "name": "python",
   "nbconvert_exporter": "python",
   "pygments_lexer": "ipython3",
   "version": "3.9.12"
  }
 },
 "nbformat": 4,
 "nbformat_minor": 5
}
