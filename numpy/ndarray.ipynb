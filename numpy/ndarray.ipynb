{
 "cells": [
  {
   "cell_type": "code",
   "execution_count": 1,
   "id": "71565697",
   "metadata": {},
   "outputs": [],
   "source": [
    "import numpy as np"
   ]
  },
  {
   "cell_type": "code",
   "execution_count": 2,
   "id": "eb730304",
   "metadata": {},
   "outputs": [],
   "source": [
    "# ndarray = \"n-dimensional array\"\n",
    "# store values in sequence\n",
    "# operations are elementwise\n",
    "# e.g. [1,2,3] + [4,5,6] = [5,7,9]\n",
    "\n",
    "# industry standard for computational operations"
   ]
  },
  {
   "cell_type": "code",
   "execution_count": 3,
   "id": "fcde0812",
   "metadata": {},
   "outputs": [
    {
     "name": "stdout",
     "output_type": "stream",
     "text": [
      "[1 2 3]\n",
      "<class 'numpy.ndarray'>\n"
     ]
    }
   ],
   "source": [
    "a = np.array([1,2,3])\n",
    "print(a)\n",
    "print(type(a))"
   ]
  },
  {
   "cell_type": "code",
   "execution_count": 4,
   "id": "6f4a5eb4",
   "metadata": {},
   "outputs": [
    {
     "name": "stdout",
     "output_type": "stream",
     "text": [
      "(3,)\n"
     ]
    }
   ],
   "source": [
    "# vecotr\n",
    "# shape = size, dimension \n",
    "# Y x X table\n",
    "# 3col x 1row table\n",
    "# 1D  = line\n",
    "print(a.shape)\n",
    "\n",
    "# short vector\n",
    "d = np.array([15])\n",
    "print(d)\n",
    "# print(type(d))\n",
    "print(c.shape)"
   ]
  },
  {
   "cell_type": "code",
   "execution_count": 6,
   "id": "5715e977",
   "metadata": {},
   "outputs": [
    {
     "name": "stdout",
     "output_type": "stream",
     "text": [
      "[[ 7  8  9]\n",
      " [10 11 12]]\n",
      "(2, 3)\n"
     ]
    }
   ],
   "source": [
    "# matrix\n",
    "# \"array of arrays\" = 2D array\n",
    "# 2D = plane\n",
    "b = np.array([[7,8,9], [10,11,12]])\n",
    "print(b)\n",
    "# 2row x 3col table\n",
    "print(b.shape)\n",
    "\n",
    "print('----------')\n",
    "# get size (rows)\n",
    "print(b.shape[0])\n",
    "# get dimension (cols)\n",
    "print(b.shape[1])"
   ]
  },
  {
   "cell_type": "code",
   "execution_count": 10,
   "id": "f25b0398",
   "metadata": {},
   "outputs": [
    {
     "name": "stdout",
     "output_type": "stream",
     "text": [
      "13\n",
      "<class 'numpy.ndarray'>\n",
      "()\n"
     ]
    }
   ],
   "source": [
    "# scalar\n",
    "# point\n",
    "c = np.array(13)\n",
    "print(c)\n",
    "# print(type(c))\n",
    "print(c.shape)"
   ]
  },
  {
   "cell_type": "code",
   "execution_count": 13,
   "id": "8164cddf",
   "metadata": {},
   "outputs": [
    {
     "name": "stdout",
     "output_type": "stream",
     "text": [
      "[0, 1, 2, 3, 4, 5]\n",
      "6\n",
      "[[0, 1, 2], [0, 1, 2]]\n",
      "2\n"
     ]
    }
   ],
   "source": [
    "# arrays vs lists\n",
    "\n",
    "# list\n",
    "l = [n for n in range(6)]\n",
    "print(l)\n",
    "print(len(l))\n",
    "\n",
    "# list within list\n",
    "i = [[n for n in range(3)], [n for n in range(3)]]\n",
    "print(i)\n",
    "# two lists within the list\n",
    "print(len(i))\n",
    "\n",
    "# list have length"
   ]
  },
  {
   "cell_type": "code",
   "execution_count": 16,
   "id": "c9896046",
   "metadata": {},
   "outputs": [
    {
     "name": "stdout",
     "output_type": "stream",
     "text": [
      "[0 1 2 3 4 5]\n",
      "6\n",
      "(6,)\n"
     ]
    }
   ],
   "source": [
    "# array = table\n",
    "a = np.array(l)\n",
    "print(a)\n",
    "print(len(a))\n",
    "\n",
    "# arrays have shape\n",
    "print(a.shape)\n",
    "a = np.array([[0,1,2], [3,4,5]])"
   ]
  },
  {
   "cell_type": "code",
   "execution_count": 17,
   "id": "1cece9eb",
   "metadata": {},
   "outputs": [
    {
     "name": "stdout",
     "output_type": "stream",
     "text": [
      "[0, 1, 2, 3, 4, 5, [0, 1, 2], [0, 1, 2]]\n",
      "[3 5 7]\n"
     ]
    }
   ],
   "source": [
    "# adding lists just sticks them together\n",
    "list_add = l + i\n",
    "print(list_add)\n",
    "\n",
    "# adding arrays computes elementwise operation\n",
    "array_add = a[0] + a[1]\n",
    "print(array_add)"
   ]
  },
  {
   "cell_type": "code",
   "execution_count": 19,
   "id": "3afdc996",
   "metadata": {},
   "outputs": [
    {
     "name": "stdout",
     "output_type": "stream",
     "text": [
      "[[0.         1.         1.41421356]\n",
      " [1.73205081 2.         2.23606798]]\n"
     ]
    }
   ],
   "source": [
    "import math\n",
    "# can't do math on the lists\n",
    "# print(math.sqrt(l))\n",
    "\n",
    "# CAN on arrays\n",
    "print(np.sqrt(a))"
   ]
  },
  {
   "cell_type": "code",
   "execution_count": null,
   "id": "f88ceccc",
   "metadata": {},
   "outputs": [],
   "source": []
  }
 ],
 "metadata": {
  "kernelspec": {
   "display_name": "Python 3 (ipykernel)",
   "language": "python",
   "name": "python3"
  },
  "language_info": {
   "codemirror_mode": {
    "name": "ipython",
    "version": 3
   },
   "file_extension": ".py",
   "mimetype": "text/x-python",
   "name": "python",
   "nbconvert_exporter": "python",
   "pygments_lexer": "ipython3",
   "version": "3.9.12"
  }
 },
 "nbformat": 4,
 "nbformat_minor": 5
}
