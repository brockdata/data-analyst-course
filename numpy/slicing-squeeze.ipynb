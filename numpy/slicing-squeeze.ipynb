{
 "cells": [
  {
   "cell_type": "code",
   "execution_count": 1,
   "id": "c2c0dec3",
   "metadata": {},
   "outputs": [],
   "source": [
    "import numpy as np"
   ]
  },
  {
   "cell_type": "code",
   "execution_count": 5,
   "id": "2bd8098c",
   "metadata": {},
   "outputs": [
    {
     "name": "stdout",
     "output_type": "stream",
     "text": [
      "[[3 9 1]\n",
      " [5 0 2]]\n"
     ]
    }
   ],
   "source": [
    "from random import randint\n",
    "m = np.array([[randint(0,10), randint(0,10), randint(0,10)], [randint(0,10), randint(0,10), randint(0,10)]])\n",
    "print(m)"
   ]
  },
  {
   "cell_type": "code",
   "execution_count": 17,
   "id": "07f58a08",
   "metadata": {},
   "outputs": [
    {
     "name": "stdout",
     "output_type": "stream",
     "text": [
      "[[3 9 1]\n",
      " [5 0 2]]\n",
      "--------------------\n",
      "[5 0 2]\n",
      "--------------------\n",
      "[1 2]\n",
      "--------------------\n",
      "[3 9 1]\n",
      "--------------------\n",
      "[[3 9 1]\n",
      " [5 0 2]]\n",
      "--------------------\n",
      "[[1]\n",
      " [2]]\n"
     ]
    }
   ],
   "source": [
    "# slicing\n",
    "# \"closed-open\" = starts on the first number, but doesn't include the stop number\n",
    "# default rows\n",
    "# all rows\n",
    "print(m[:])\n",
    "print('--------------------')\n",
    "# row n\n",
    "print(m[1])\n",
    "print('--------------------')\n",
    "# all rows, n column\n",
    "print(m[:,2])\n",
    "print('--------------------')\n",
    "# all cols, 0 row\n",
    "print(m[0,:])\n",
    "print('--------------------')\n",
    "# rows beginning to 1, all cols\n",
    "print(m[:2, :])\n",
    "print('--------------------')\n",
    "# all rows, cols 2 to the end\n",
    "print(m[:, 2:])"
   ]
  },
  {
   "cell_type": "code",
   "execution_count": 18,
   "id": "28f349bd",
   "metadata": {},
   "outputs": [
    {
     "name": "stdout",
     "output_type": "stream",
     "text": [
      "[[ 9  5  4  0  6]\n",
      " [10  2  3  7  2]\n",
      " [10  6  4  5  8]]\n"
     ]
    }
   ],
   "source": [
    "# stepwise slicing\n",
    "# 3 x 5 matrix\n",
    "mb = np.array([[randint(0,10),randint(0,10),randint(0,10),randint(0,10),randint(0,10)],\n",
    "               [randint(0,10),randint(0,10),randint(0,10),randint(0,10),randint(0,10)],\n",
    "               [randint(0,10),randint(0,10),randint(0,10),randint(0,10),randint(0,10)]])\n",
    "print(mb)"
   ]
  },
  {
   "cell_type": "code",
   "execution_count": 29,
   "id": "cfde20cd",
   "metadata": {},
   "outputs": [
    {
     "name": "stdout",
     "output_type": "stream",
     "text": [
      "[[ 9  5  4  0  6]\n",
      " [10  6  4  5  8]]\n",
      "--------------------\n",
      "[[ 9  4  6]\n",
      " [10  4  8]]\n",
      "--------------------\n",
      "[[ 8  5  4  6 10]\n",
      " [ 2  7  3  2 10]\n",
      " [ 6  0  4  5  9]]\n"
     ]
    }
   ],
   "source": [
    "# start-stop-step\n",
    "# default step = 1\n",
    "# all rows, all cols, step 2 in dimension 1\n",
    "print(mb[::2, ::])\n",
    "print('--------------------')\n",
    "# every 2 values from every 2 rows\n",
    "print(mb[::2, ::2])\n",
    "print('--------------------')\n",
    "# negative step - move through backwards\n",
    "# start from last and move backwards\n",
    "print(mb[-1::-1, -1::-1])"
   ]
  },
  {
   "cell_type": "code",
   "execution_count": 36,
   "id": "8fdc3db8",
   "metadata": {},
   "outputs": [
    {
     "name": "stdout",
     "output_type": "stream",
     "text": [
      "[[ 2 10  2  3  1]\n",
      " [ 0  4  7  7  6]\n",
      " [10  0  7  1  2]]\n"
     ]
    }
   ],
   "source": [
    "# conditional slicing\n",
    "# 3 x 5 matrix\n",
    "mc = np.array([[randint(0,10),randint(0,10),randint(0,10),randint(0,10),randint(0,10)],\n",
    "               [randint(0,10),randint(0,10),randint(0,10),randint(0,10),randint(0,10)],\n",
    "               [randint(0,10),randint(0,10),randint(0,10),randint(0,10),randint(0,10)]])\n",
    "print(mc)"
   ]
  },
  {
   "cell_type": "code",
   "execution_count": 40,
   "id": "1796d0d3",
   "metadata": {},
   "outputs": [
    {
     "name": "stdout",
     "output_type": "stream",
     "text": [
      "[ 2  0 10]\n",
      "--------------------\n",
      "[False False  True]\n",
      "--------------------\n",
      "[10  3  4  7  7  6 10  7]\n",
      "--------------------\n",
      "[ 2 10  2  0  4 10  0  2]\n"
     ]
    }
   ],
   "source": [
    "# all rowss, col0\n",
    "print(mc[:,0])\n",
    "print('--------------------')\n",
    "# bool\n",
    "print(mc[:,0] > 2)\n",
    "print('--------------------')\n",
    "# index the bool\n",
    "# apply to flattened array = all rows stacked int he same order\n",
    "print(mc[mc[:,:] > 2])\n",
    "print('--------------------')\n",
    "# all even numbers <= 4 or == 10\n",
    "print(mc[(mc[:,:] % 2 == 0) & (mc[:,:] <= 4) | (mc[:,:] == 10)])"
   ]
  },
  {
   "cell_type": "code",
   "execution_count": 41,
   "id": "81b209c8",
   "metadata": {},
   "outputs": [
    {
     "name": "stdout",
     "output_type": "stream",
     "text": [
      "[[ 9  6  5  8 10]\n",
      " [ 7  1  3  4  6]\n",
      " [ 2  7  9  9  2]]\n"
     ]
    }
   ],
   "source": [
    "# squeeze\n",
    "md = np.array([[randint(0,10),randint(0,10),randint(0,10),randint(0,10),randint(0,10)],\n",
    "               [randint(0,10),randint(0,10),randint(0,10),randint(0,10),randint(0,10)],\n",
    "               [randint(0,10),randint(0,10),randint(0,10),randint(0,10),randint(0,10)]])\n",
    "print(md)"
   ]
  },
  {
   "cell_type": "code",
   "execution_count": 46,
   "id": "7af15f3a",
   "metadata": {},
   "outputs": [
    {
     "name": "stdout",
     "output_type": "stream",
     "text": [
      "<class 'numpy.int32'>\n",
      "9\n",
      "<class 'numpy.ndarray'>\n",
      "[9]\n",
      "[[9]]\n"
     ]
    }
   ],
   "source": [
    "# type of the first element\n",
    "# int\n",
    "print(type(md[0,0]))\n",
    "# scalar\n",
    "print(md[0,0])\n",
    "# type of first row, cols beginning to first (first col)\n",
    "# array\n",
    "print(type(md[0, 0:1]))\n",
    "# scalar in vector\n",
    "print(md[0, 0:1])\n",
    "# vector in vector\n",
    "print(md[0:1,0:1])"
   ]
  },
  {
   "cell_type": "code",
   "execution_count": 51,
   "id": "c777f7b6",
   "metadata": {},
   "outputs": [
    {
     "name": "stdout",
     "output_type": "stream",
     "text": [
      "<class 'numpy.ndarray'>\n",
      "[[9]]\n",
      "<class 'numpy.ndarray'>\n",
      "()\n",
      "9\n"
     ]
    }
   ],
   "source": [
    "# squeeze\n",
    "# take the vector of vectors...\n",
    "print(type(md[0:1,0:1]))\n",
    "print(md[0:1,0:1])\n",
    "# ... and squeeze\n",
    "# returns a 0D array\n",
    "print(type(md[0:1,0:1].squeeze()))\n",
    "print(md[0:1,0:1].squeeze().shape)\n",
    "print(md[0:1,0:1].squeeze())"
   ]
  }
 ],
 "metadata": {
  "kernelspec": {
   "display_name": "Python 3 (ipykernel)",
   "language": "python",
   "name": "python3"
  },
  "language_info": {
   "codemirror_mode": {
    "name": "ipython",
    "version": 3
   },
   "file_extension": ".py",
   "mimetype": "text/x-python",
   "name": "python",
   "nbconvert_exporter": "python",
   "pygments_lexer": "ipython3",
   "version": "3.9.12"
  }
 },
 "nbformat": 4,
 "nbformat_minor": 5
}
