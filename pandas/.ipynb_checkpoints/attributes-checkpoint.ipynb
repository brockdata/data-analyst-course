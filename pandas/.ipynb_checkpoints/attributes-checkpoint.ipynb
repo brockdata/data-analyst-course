{
 "cells": [
  {
   "cell_type": "code",
   "execution_count": 1,
   "id": "b520ec1c",
   "metadata": {},
   "outputs": [],
   "source": [
    "import pandas as pd"
   ]
  },
  {
   "cell_type": "code",
   "execution_count": 5,
   "id": "7567a0b5",
   "metadata": {},
   "outputs": [
    {
     "name": "stdout",
     "output_type": "stream",
     "text": [
      "int64\n",
      "5\n",
      "None\n"
     ]
    }
   ],
   "source": [
    "# attributes of pandas.Series\n",
    "a = pd.Series([10,20,30,40,50,60])\n",
    "print(a)\n",
    "print('----------')\n",
    "print(a.dtype)\n",
    "print('----------')\n",
    "print(a.size)"
   ]
  },
  {
   "cell_type": "code",
   "execution_count": 6,
   "id": "e1b0ce7e",
   "metadata": {
    "scrolled": true
   },
   "outputs": [
    {
     "name": "stdout",
     "output_type": "stream",
     "text": [
      "None\n",
      "test data\n"
     ]
    }
   ],
   "source": [
    "# \"name\" is an attribute, but it returns a separate object\n",
    "# so, we can store a new value on it as if it were a variable\n",
    "print(a.name)\n",
    "a.name = 'prices'\n",
    "print(a.name)"
   ]
  },
  {
   "cell_type": "code",
   "execution_count": null,
   "id": "e9bb0edf",
   "metadata": {},
   "outputs": [],
   "source": [
    "# \"object\" type assigned to non-numeric data by default\n",
    "products = pd.Series(['A','B', 'C', 'D'])\n",
    "print(products.dtype)"
   ]
  },
  {
   "cell_type": "code",
   "execution_count": null,
   "id": "20c38c0b",
   "metadata": {},
   "outputs": [],
   "source": [
    "# attributes return infomration, but NOT meant ot modify/alter the data"
   ]
  }
 ],
 "metadata": {
  "kernelspec": {
   "display_name": "Python 3 (ipykernel)",
   "language": "python",
   "name": "python3"
  },
  "language_info": {
   "codemirror_mode": {
    "name": "ipython",
    "version": 3
   },
   "file_extension": ".py",
   "mimetype": "text/x-python",
   "name": "python",
   "nbconvert_exporter": "python",
   "pygments_lexer": "ipython3",
   "version": "3.9.12"
  }
 },
 "nbformat": 4,
 "nbformat_minor": 5
}
