{
 "cells": [
  {
   "cell_type": "code",
   "execution_count": 4,
   "id": "09c25d80",
   "metadata": {},
   "outputs": [],
   "source": [
    "import pandas as pd"
   ]
  },
  {
   "cell_type": "code",
   "execution_count": 5,
   "id": "9c9d0c43",
   "metadata": {},
   "outputs": [
    {
     "name": "stdout",
     "output_type": "stream",
     "text": [
      "<class 'dict'>\n"
     ]
    }
   ],
   "source": [
    "prices = {\n",
    "    'a': 22250,\n",
    "    'b': 16600,\n",
    "    'c': 15600,\n",
    "}\n",
    "print(type(prices))"
   ]
  },
  {
   "cell_type": "code",
   "execution_count": 6,
   "id": "75df65f6",
   "metadata": {},
   "outputs": [
    {
     "name": "stdout",
     "output_type": "stream",
     "text": [
      "<class 'pandas.core.series.Series'>\n"
     ]
    }
   ],
   "source": [
    "prices = pd.Series(prices)\n",
    "print(type(prices))"
   ]
  },
  {
   "cell_type": "code",
   "execution_count": 7,
   "id": "9808f92d",
   "metadata": {},
   "outputs": [
    {
     "name": "stdout",
     "output_type": "stream",
     "text": [
      "Index(['a', 'b', 'c'], dtype='object')\n",
      "<class 'pandas.core.indexes.base.Index'>\n"
     ]
    }
   ],
   "source": [
    "# the index is an object\n",
    "print(prices.index)\n",
    "print(type(prices.index))"
   ]
  },
  {
   "cell_type": "code",
   "execution_count": 8,
   "id": "6c9e9c45",
   "metadata": {},
   "outputs": [],
   "source": [
    "# refer to a position in a sequence\n",
    "# refer to specific rows in large datasets\n",
    "# speed up computations with large datasets"
   ]
  },
  {
   "cell_type": "code",
   "execution_count": 10,
   "id": "1929bd14",
   "metadata": {},
   "outputs": [
    {
     "name": "stdout",
     "output_type": "stream",
     "text": [
      "0    10\n",
      "1    20\n",
      "2    30\n",
      "3    40\n",
      "4    50\n",
      "dtype: int64\n",
      "RangeIndex(start=0, stop=5, step=1)\n"
     ]
    }
   ],
   "source": [
    "# label-based indexing\n",
    "a = pd.Series([10,20,30,40,50])\n",
    "print(a)\n",
    "# range index\n",
    "print(a.index)\n",
    "print(type(a.index))\n",
    "# position-based, or zero-based indexing\n",
    "# set automatically >> implicit indexing\n",
    "# index = zero, but position = 1\n",
    "# should refer to the INDEX position, not the actual positon"
   ]
  },
  {
   "cell_type": "code",
   "execution_count": 12,
   "id": "b92c7ccf",
   "metadata": {},
   "outputs": [
    {
     "name": "stdout",
     "output_type": "stream",
     "text": [
      "Index(['a', 'b', 'c'], dtype='object')\n",
      "<class 'pandas.core.indexes.base.Index'>\n"
     ]
    }
   ],
   "source": [
    "# position-based indexing\n",
    "# labels create the index\n",
    "# we set the labels >> explicit indexing\n",
    "print(prices.index)\n",
    "print(type(prices.index))"
   ]
  },
  {
   "cell_type": "code",
   "execution_count": 14,
   "id": "3c016e61",
   "metadata": {},
   "outputs": [
    {
     "name": "stdout",
     "output_type": "stream",
     "text": [
      "10\n",
      "22250\n"
     ]
    }
   ],
   "source": [
    "# obtain value by row number\n",
    "# implicit index\n",
    "print(a[0])\n",
    "# with an explicit index, python will provide an implicit index\n",
    "print(prices[0])"
   ]
  },
  {
   "cell_type": "code",
   "execution_count": 18,
   "id": "70fb40cf",
   "metadata": {},
   "outputs": [
    {
     "name": "stdout",
     "output_type": "stream",
     "text": [
      "1    10\n",
      "2    20\n",
      "3    30\n",
      "4    40\n",
      "5    50\n",
      "dtype: int64\n",
      "10\n"
     ]
    }
   ],
   "source": [
    "b = pd.Series([10,20,30,40,50], index=[1,2,3,4,5])\n",
    "print(b)\n",
    "\n",
    "# print(b[0])\n",
    "# error... python saw these as index labels, not as integer position\n",
    "# if you assign integer labels to an index, python will NOT add an implicit index\n",
    "# to get the implicit index form python, use:\n",
    "b = pd.Series([10,20,30,40,50], index=['1','2','3','4','5'])\n",
    "print(b[0])"
   ]
  },
  {
   "cell_type": "code",
   "execution_count": null,
   "id": "9e57f429",
   "metadata": {},
   "outputs": [],
   "source": [
    "# add explicit index labels >> intuitive reference to data\n",
    "# implicit index >> large datasets"
   ]
  }
 ],
 "metadata": {
  "kernelspec": {
   "display_name": "Python 3 (ipykernel)",
   "language": "python",
   "name": "python3"
  },
  "language_info": {
   "codemirror_mode": {
    "name": "ipython",
    "version": 3
   },
   "file_extension": ".py",
   "mimetype": "text/x-python",
   "name": "python",
   "nbconvert_exporter": "python",
   "pygments_lexer": "ipython3",
   "version": "3.9.12"
  }
 },
 "nbformat": 4,
 "nbformat_minor": 5
}
