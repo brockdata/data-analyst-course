{
 "cells": [
  {
   "cell_type": "code",
   "execution_count": 1,
   "id": "6b85fe65",
   "metadata": {},
   "outputs": [],
   "source": [
    "import pandas as pd"
   ]
  },
  {
   "cell_type": "code",
   "execution_count": 2,
   "id": "aa828412",
   "metadata": {},
   "outputs": [],
   "source": [
    "# function: independent entity. passive\n",
    "# method: applied to a certain class. have access to object's data. can manipulate object's state. active\n",
    "\n",
    "# methods only work on certain classes\n",
    "# fucntions come from \"pd.\""
   ]
  },
  {
   "cell_type": "code",
   "execution_count": 28,
   "id": "4641c34d",
   "metadata": {},
   "outputs": [],
   "source": [
    "# random data\n",
    "s = pd.Series({\n",
    "'2023-05-28': 3633,\n",
    "'2023-05-25': 3161,\n",
    "'2023-05-22': 4141,\n",
    "'2023-05-19': 3786,\n",
    "'2023-05-16': 4213,\n",
    "'2023-05-13': 1732,\n",
    "'2023-05-10': 4954,\n",
    "'2023-05-07': 4865,\n",
    "'2023-05-04': 3147,\n",
    "'2023-05-01': 2305,\n",
    "'2023-04-28': 3020,\n",
    "'2023-04-25': 4119,\n",
    "'2023-04-22': 1347,\n",
    "'2023-04-19': 1444,\n",
    "'2023-04-16': 4658\n",
    "})"
   ]
  },
  {
   "cell_type": "code",
   "execution_count": 29,
   "id": "f65834cd",
   "metadata": {},
   "outputs": [
    {
     "name": "stdout",
     "output_type": "stream",
     "text": [
      "<bound method NDFrame._add_numeric_operations.<locals>.sum of 2023-05-28    3633\n",
      "2023-05-25    3161\n",
      "2023-05-22    4141\n",
      "2023-05-19    3786\n",
      "2023-05-16    4213\n",
      "2023-05-13    1732\n",
      "2023-05-10    4954\n",
      "2023-05-07    4865\n",
      "2023-05-04    3147\n",
      "2023-05-01    2305\n",
      "2023-04-28    3020\n",
      "2023-04-25    4119\n",
      "2023-04-22    1347\n",
      "2023-04-19    1444\n",
      "2023-04-16    4658\n",
      "dtype: int64>\n"
     ]
    }
   ],
   "source": [
    "# method returns infomration FROM the dataset\n",
    "# attributer returns information ABOUT it\n",
    "print(s.sum())\n",
    "print(s.sum)"
   ]
  },
  {
   "cell_type": "code",
   "execution_count": 30,
   "id": "ba365f24",
   "metadata": {},
   "outputs": [
    {
     "name": "stdout",
     "output_type": "stream",
     "text": [
      "50525\n",
      "1347\n",
      "4954\n",
      "2023-05-10\n",
      "2023-04-22\n"
     ]
    }
   ],
   "source": [
    "# mathematical\n",
    "print(s.sum())\n",
    "print(s.min())\n",
    "print(s.max())\n",
    "print(s.idxmax())\n",
    "print(s.idxmin())"
   ]
  },
  {
   "cell_type": "code",
   "execution_count": 33,
   "id": "7e8beab4",
   "metadata": {},
   "outputs": [
    {
     "name": "stdout",
     "output_type": "stream",
     "text": [
      "2023-05-28    3633\n",
      "2023-05-25    3161\n",
      "2023-05-22    4141\n",
      "2023-05-19    3786\n",
      "2023-05-16    4213\n",
      "dtype: int64\n",
      "----------\n",
      "2023-04-28    3020\n",
      "2023-04-25    4119\n",
      "2023-04-22    1347\n",
      "2023-04-19    1444\n",
      "2023-04-16    4658\n",
      "dtype: int64\n",
      "----------\n",
      "2023-05-28    3633\n",
      "2023-05-25    3161\n",
      "2023-05-22    4141\n",
      "dtype: int64\n"
     ]
    }
   ],
   "source": [
    "# non-mathematical\n",
    "print(s.head())\n",
    "print('----------')\n",
    "print(s.tail())\n",
    "print('----------')\n",
    "print(s.head(3))"
   ]
  },
  {
   "cell_type": "code",
   "execution_count": 34,
   "id": "f1fb285f",
   "metadata": {},
   "outputs": [
    {
     "name": "stdout",
     "output_type": "stream",
     "text": [
      "2023-05-28    3633\n",
      "dtype: int64\n"
     ]
    }
   ],
   "source": [
    "# parameters\n",
    "# n is the parameter for num rows\n",
    "print(s.head(n=1))"
   ]
  },
  {
   "cell_type": "code",
   "execution_count": null,
   "id": "a96834fa",
   "metadata": {},
   "outputs": [],
   "source": [
    "# use them explicitly AND in the right order\n",
    "# docs!"
   ]
  }
 ],
 "metadata": {
  "kernelspec": {
   "display_name": "Python 3 (ipykernel)",
   "language": "python",
   "name": "python3"
  },
  "language_info": {
   "codemirror_mode": {
    "name": "ipython",
    "version": 3
   },
   "file_extension": ".py",
   "mimetype": "text/x-python",
   "name": "python",
   "nbconvert_exporter": "python",
   "pygments_lexer": "ipython3",
   "version": "3.9.12"
  }
 },
 "nbformat": 4,
 "nbformat_minor": 5
}
