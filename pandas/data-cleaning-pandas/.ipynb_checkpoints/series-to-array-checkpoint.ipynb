{
 "cells": [
  {
   "cell_type": "code",
   "execution_count": 1,
   "id": "f3db5df1",
   "metadata": {},
   "outputs": [],
   "source": [
    "import pandas as pd\n",
    "import numpy as np"
   ]
  },
  {
   "cell_type": "code",
   "execution_count": 2,
   "id": "3f4a4931",
   "metadata": {},
   "outputs": [
    {
     "name": "stdout",
     "output_type": "stream",
     "text": [
      "product a    22250\n",
      "product b    16600\n",
      "product c    15600\n",
      "dtype: int64\n"
     ]
    }
   ],
   "source": [
    "prices = pd.Series({\n",
    "    'product a': 22250,\n",
    "    'product b': 16600,\n",
    "    'product c': 15600\n",
    "})\n",
    "print(prices)"
   ]
  },
  {
   "cell_type": "code",
   "execution_count": 7,
   "id": "518deaf1",
   "metadata": {},
   "outputs": [
    {
     "name": "stdout",
     "output_type": "stream",
     "text": [
      "[22250 16600 15600]\n"
     ]
    }
   ],
   "source": [
    "# old way. not recommended\n",
    "print(prices.values)"
   ]
  },
  {
   "cell_type": "code",
   "execution_count": 3,
   "id": "9b82498e",
   "metadata": {},
   "outputs": [
    {
     "name": "stdout",
     "output_type": "stream",
     "text": [
      "<PandasArray>\n",
      "[22250, 16600, 15600]\n",
      "Length: 3, dtype: int64\n"
     ]
    }
   ],
   "source": [
    "print(prices.array)"
   ]
  },
  {
   "cell_type": "code",
   "execution_count": 6,
   "id": "e7e45f25",
   "metadata": {},
   "outputs": [
    {
     "name": "stdout",
     "output_type": "stream",
     "text": [
      "<class 'numpy.ndarray'>\n",
      "[22250. 16600. 15600.]\n"
     ]
    }
   ],
   "source": [
    "prices2 = prices.to_numpy(dtype='float')\n",
    "print(type(prices2))\n",
    "print(prices2)"
   ]
  },
  {
   "cell_type": "code",
   "execution_count": null,
   "id": "464e205d",
   "metadata": {},
   "outputs": [],
   "source": []
  }
 ],
 "metadata": {
  "kernelspec": {
   "display_name": "Python 3 (ipykernel)",
   "language": "python",
   "name": "python3"
  },
  "language_info": {
   "codemirror_mode": {
    "name": "ipython",
    "version": 3
   },
   "file_extension": ".py",
   "mimetype": "text/x-python",
   "name": "python",
   "nbconvert_exporter": "python",
   "pygments_lexer": "ipython3",
   "version": "3.9.12"
  }
 },
 "nbformat": 4,
 "nbformat_minor": 5
}
