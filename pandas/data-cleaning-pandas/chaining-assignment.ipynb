{
 "cells": [
  {
   "cell_type": "code",
   "execution_count": 1,
   "id": "7a26372b",
   "metadata": {},
   "outputs": [],
   "source": [
    "import pandas as pd"
   ]
  },
  {
   "cell_type": "code",
   "execution_count": 2,
   "id": "784f9cd7",
   "metadata": {},
   "outputs": [
    {
     "name": "stdout",
     "output_type": "stream",
     "text": [
      "0     Location 3\n",
      "1     Location 6\n",
      "2     Location 8\n",
      "3    Location 26\n",
      "4    Location 34\n",
      "Name: Location, dtype: object\n"
     ]
    }
   ],
   "source": [
    "# attribute chaining\n",
    "data = pd.read_csv('./data/Location.csv').squeeze('columns')\n",
    "print(data.head())"
   ]
  },
  {
   "cell_type": "code",
   "execution_count": 3,
   "id": "9de022fe",
   "metadata": {},
   "outputs": [
    {
     "name": "stdout",
     "output_type": "stream",
     "text": [
      "RangeIndex(start=0, stop=1043, step=1)\n",
      "index\n"
     ]
    }
   ],
   "source": [
    "print(data.index)\n",
    "data.index.name = 'index'\n",
    "print(data.index.name)"
   ]
  },
  {
   "cell_type": "code",
   "execution_count": 4,
   "id": "35d9067a",
   "metadata": {},
   "outputs": [
    {
     "data": {
      "text/plain": [
       "index\n",
       "637     Location 1\n",
       "884     Location 1\n",
       "465     Location 1\n",
       "716    Location 10\n",
       "623    Location 10\n",
       "Name: Location, dtype: object"
      ]
     },
     "execution_count": 4,
     "metadata": {},
     "output_type": "execute_result"
    }
   ],
   "source": [
    "data.sort_values().head()"
   ]
  },
  {
   "cell_type": "code",
   "execution_count": 5,
   "id": "7cc987f3",
   "metadata": {},
   "outputs": [
    {
     "name": "stdout",
     "output_type": "stream",
     "text": [
      "[   0    1    2 ... 1040 1041 1042]\n"
     ]
    }
   ],
   "source": [
    "idx = data.index.to_numpy()\n",
    "print(idx)"
   ]
  },
  {
   "cell_type": "code",
   "execution_count": 6,
   "id": "a204fc8a",
   "metadata": {},
   "outputs": [],
   "source": [
    "# each method returns an intermediary object\n",
    "# the next method reacts to the value returned and so on"
   ]
  },
  {
   "cell_type": "code",
   "execution_count": 9,
   "id": "52f26104",
   "metadata": {},
   "outputs": [
    {
     "name": "stdout",
     "output_type": "stream",
     "text": [
      "index\n",
      "372    Location 99\n",
      "757    Location 98\n",
      "128    Location 97\n",
      "482    Location 97\n",
      "271    Location 97\n",
      "Name: Location, dtype: object\n",
      "index\n",
      "0     Location 3\n",
      "1     Location 6\n",
      "2     Location 8\n",
      "3    Location 26\n",
      "4    Location 34\n",
      "Name: Location, dtype: object\n"
     ]
    }
   ],
   "source": [
    "# assignment statements\n",
    "data_descending = data.sort_values(ascending=False)\n",
    "print(data_descending.head())\n",
    "# reassign\n",
    "data_raw = data.sort_index(ascending=True)\n",
    "print(data_raw.head())"
   ]
  }
 ],
 "metadata": {
  "kernelspec": {
   "display_name": "Python 3 (ipykernel)",
   "language": "python",
   "name": "python3"
  },
  "language_info": {
   "codemirror_mode": {
    "name": "ipython",
    "version": 3
   },
   "file_extension": ".py",
   "mimetype": "text/x-python",
   "name": "python",
   "nbconvert_exporter": "python",
   "pygments_lexer": "ipython3",
   "version": "3.9.12"
  }
 },
 "nbformat": 4,
 "nbformat_minor": 5
}
