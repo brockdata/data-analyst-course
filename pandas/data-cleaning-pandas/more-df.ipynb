{
 "cells": [
  {
   "cell_type": "code",
   "execution_count": 1,
   "id": "06ff9383",
   "metadata": {},
   "outputs": [],
   "source": [
    "import pandas as pd\n",
    "import numpy as np"
   ]
  },
  {
   "cell_type": "code",
   "execution_count": 2,
   "id": "365375a9",
   "metadata": {},
   "outputs": [],
   "source": [
    "# dataframe\n",
    "# tabular\n",
    "# multiple observations for a given row\n",
    "# matrix\n",
    "# collection of Series objects"
   ]
  },
  {
   "cell_type": "code",
   "execution_count": 4,
   "id": "d5d75681",
   "metadata": {},
   "outputs": [
    {
     "name": "stdout",
     "output_type": "stream",
     "text": [
      "[[3 2 1]\n",
      " [6 3 2]]\n"
     ]
    }
   ],
   "source": [
    "a = np.array([[3,2,1], [6,3,2]])\n",
    "print(a)"
   ]
  },
  {
   "cell_type": "code",
   "execution_count": 6,
   "id": "d8e47be6",
   "metadata": {},
   "outputs": [
    {
     "name": "stdout",
     "output_type": "stream",
     "text": [
      "      col1  col2  col3\n",
      "row1     3     2     1\n",
      "row2     6     3     2\n"
     ]
    }
   ],
   "source": [
    "df_a = pd.DataFrame(a, columns = ['col1', 'col2', 'col3'], index=['row1','row2'])\n",
    "print(df_a)"
   ]
  },
  {
   "cell_type": "code",
   "execution_count": 7,
   "id": "85a8b3a5",
   "metadata": {},
   "outputs": [
    {
     "name": "stdout",
     "output_type": "stream",
     "text": [
      "Index(['row1', 'row2'], dtype='object')\n",
      "Index(['col1', 'col2', 'col3'], dtype='object')\n",
      "<class 'pandas.core.indexes.base.Index'>\n"
     ]
    }
   ],
   "source": [
    "print(df_a.index)\n",
    "print(df_a.columns)\n",
    "print(type(df_a.columns))"
   ]
  },
  {
   "cell_type": "code",
   "execution_count": 8,
   "id": "6c4674b8",
   "metadata": {},
   "outputs": [
    {
     "name": "stdout",
     "output_type": "stream",
     "text": [
      "[Index(['row1', 'row2'], dtype='object'), Index(['col1', 'col2', 'col3'], dtype='object')]\n",
      "col1    int32\n",
      "col2    int32\n",
      "col3    int32\n",
      "dtype: object\n",
      "[[3 2 1]\n",
      " [6 3 2]]\n"
     ]
    }
   ],
   "source": [
    "print(df_a.axes)\n",
    "print(df_a.dtypes)"
   ]
  },
  {
   "cell_type": "code",
   "execution_count": 9,
   "id": "b0794265",
   "metadata": {},
   "outputs": [
    {
     "name": "stdout",
     "output_type": "stream",
     "text": [
      "[[3 2 1]\n",
      " [6 3 2]]\n",
      "<class 'numpy.ndarray'>\n",
      "[[3 2 1]\n",
      " [6 3 2]]\n",
      "<class 'numpy.ndarray'>\n"
     ]
    }
   ],
   "source": [
    "# .values vs to_numpy\n",
    "print(df_a.values)\n",
    "print(type(df_a.values))\n",
    "\n",
    "print(df_a.to_numpy())\n",
    "print(type(df_a.to_numpy()))"
   ]
  },
  {
   "cell_type": "code",
   "execution_count": 12,
   "id": "dc0c9be9",
   "metadata": {},
   "outputs": [
    {
     "name": "stdout",
     "output_type": "stream",
     "text": [
      "(2, 3)\n",
      "3\n"
     ]
    }
   ],
   "source": [
    "# index not included\n",
    "print(df_a.shape)\n",
    "print(len(df_a.columns))"
   ]
  },
  {
   "cell_type": "code",
   "execution_count": 19,
   "id": "6baac70d",
   "metadata": {},
   "outputs": [
    {
     "name": "stdout",
     "output_type": "stream",
     "text": [
      "row1    3\n",
      "row2    6\n",
      "Name: col1, dtype: int32\n",
      "row1    3\n",
      "row2    6\n",
      "Name: col1, dtype: int32 \n",
      " <class 'pandas.core.series.Series'>\n",
      "      col1  col2\n",
      "row1     3     2\n",
      "row2     6     3\n"
     ]
    }
   ],
   "source": [
    "# indexing\n",
    "# subset\n",
    "# not preferred\n",
    "print(df_a.col1)\n",
    "# better\n",
    "print(df_a['col1'], '\\n', type(df_a['col1']))\n",
    "\n",
    "two_cols = df_a[['col1', 'col2']]\n",
    "print(two_cols)"
   ]
  },
  {
   "cell_type": "code",
   "execution_count": 20,
   "id": "02161f03",
   "metadata": {},
   "outputs": [],
   "source": [
    "# py: lists\n",
    "# pandas:  Series\n",
    "# numpy: arrays"
   ]
  },
  {
   "cell_type": "code",
   "execution_count": 33,
   "id": "69db149e",
   "metadata": {},
   "outputs": [
    {
     "name": "stdout",
     "output_type": "stream",
     "text": [
      "col1    3\n",
      "col2    2\n",
      "col3    1\n",
      "Name: row1, dtype: int32\n",
      "col1    3\n",
      "col2    2\n",
      "col3    1\n",
      "Name: row1, dtype: int32\n",
      "row1    1\n",
      "row2    2\n",
      "Name: col3, dtype: int32 \n",
      " <class 'pandas.core.series.Series'>\n",
      "      col1  col2  col3\n",
      "row1     3     2     1\n",
      "row2     6     3     2\n",
      "      col1  col3\n",
      "row1     3     1\n",
      "row2     6     2\n"
     ]
    }
   ],
   "source": [
    "# iloc = \"integer location\"\n",
    "\n",
    "# default to row specifier\n",
    "print(df_a.iloc[0])\n",
    "\n",
    "# professional: use both row and column specifier\n",
    "# row 0, all columns\n",
    "print(df_a.iloc[0,:])\n",
    "\n",
    "# all rows, col 3\n",
    "print(df_a.iloc[:,2], '\\n', type(df_a.iloc[:,2]))\n",
    "\n",
    "# specific columns, all rows\n",
    "# all rows, columns 1 and 3\n",
    "print(df_a.iloc[:,[0,2]])"
   ]
  },
  {
   "cell_type": "code",
   "execution_count": 39,
   "id": "1d1fac81",
   "metadata": {},
   "outputs": [
    {
     "name": "stdout",
     "output_type": "stream",
     "text": [
      "col1    3\n",
      "col2    2\n",
      "col3    1\n",
      "Name: row1, dtype: int32\n",
      "row1    3\n",
      "row2    6\n",
      "Name: col1, dtype: int32\n",
      "col1    3\n",
      "col2    2\n",
      "col3    1\n",
      "Name: row1, dtype: int32\n"
     ]
    }
   ],
   "source": [
    "# loc\n",
    "# default to row\n",
    "print(df_a.loc['row1'])\n",
    "# more professional\n",
    "print(df_a.loc[:, 'col1'])\n",
    "\n",
    "# all columns, one row\n",
    "print(df_a.loc['row1', :])"
   ]
  },
  {
   "cell_type": "code",
   "execution_count": 41,
   "id": "a6010cf3",
   "metadata": {},
   "outputs": [
    {
     "name": "stdout",
     "output_type": "stream",
     "text": [
      "3\n",
      "3\n"
     ]
    }
   ],
   "source": [
    "# start counting from zero\n",
    "# iloc on a single column\n",
    "print(df_a['col1'].iloc[0])\n",
    "# or loc\n",
    "print(df_a['col1'].loc['row1'])"
   ]
  },
  {
   "cell_type": "code",
   "execution_count": 42,
   "id": "9a5ed1c5",
   "metadata": {},
   "outputs": [
    {
     "name": "stdout",
     "output_type": "stream",
     "text": [
      "3\n"
     ]
    }
   ],
   "source": [
    "# don't chain... can be confusing\n",
    "print(df_a['col1'][0])"
   ]
  },
  {
   "cell_type": "code",
   "execution_count": 43,
   "id": "a34beebe",
   "metadata": {},
   "outputs": [],
   "source": [
    "# don't name index with numeric values...\n",
    "# you might as well just use iloc at that point"
   ]
  },
  {
   "cell_type": "code",
   "execution_count": 44,
   "id": "17f680d4",
   "metadata": {},
   "outputs": [],
   "source": [
    "# don't use loc and iloc in the same statement"
   ]
  },
  {
   "cell_type": "code",
   "execution_count": 45,
   "id": "e8235134",
   "metadata": {},
   "outputs": [],
   "source": [
    "# always use row and column indexers within brackets [0,1], [[0,1],2], etc."
   ]
  },
  {
   "cell_type": "code",
   "execution_count": null,
   "id": "b398fa4d",
   "metadata": {},
   "outputs": [],
   "source": [
    "# always use \":\" to indicate \"all\" rows/columns"
   ]
  }
 ],
 "metadata": {
  "kernelspec": {
   "display_name": "Python 3 (ipykernel)",
   "language": "python",
   "name": "python3"
  },
  "language_info": {
   "codemirror_mode": {
    "name": "ipython",
    "version": 3
   },
   "file_extension": ".py",
   "mimetype": "text/x-python",
   "name": "python",
   "nbconvert_exporter": "python",
   "pygments_lexer": "ipython3",
   "version": "3.9.12"
  }
 },
 "nbformat": 4,
 "nbformat_minor": 5
}
