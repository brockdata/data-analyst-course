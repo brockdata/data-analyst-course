{
 "cells": [
  {
   "cell_type": "code",
   "execution_count": 2,
   "id": "51907e0e",
   "metadata": {},
   "outputs": [],
   "source": [
    "import pandas as pd"
   ]
  },
  {
   "cell_type": "code",
   "execution_count": 6,
   "id": "ca33463e",
   "metadata": {},
   "outputs": [
    {
     "name": "stdout",
     "output_type": "stream",
     "text": [
      "0    822\n",
      "1    534\n",
      "2    967\n",
      "3    409\n",
      "4    899\n",
      "dtype: int64\n"
     ]
    }
   ],
   "source": [
    "from random import randint\n",
    "data = [randint(10, 1000) for n in range(5)]\n",
    "nums = pd.Series(data)\n",
    "print(nums)"
   ]
  },
  {
   "cell_type": "code",
   "execution_count": 8,
   "id": "07166056",
   "metadata": {},
   "outputs": [
    {
     "name": "stdout",
     "output_type": "stream",
     "text": [
      "3    409\n",
      "1    534\n",
      "0    822\n",
      "4    899\n",
      "2    967\n",
      "dtype: int64\n",
      "3    409\n",
      "1    534\n",
      "0    822\n",
      "4    899\n",
      "2    967\n",
      "dtype: int64\n",
      "2    967\n",
      "4    899\n",
      "0    822\n",
      "1    534\n",
      "3    409\n",
      "dtype: int64\n"
     ]
    }
   ],
   "source": [
    "print(nums.sort_values())\n",
    "print(nums.sort_values(ascending=True))\n",
    "print(nums.sort_values(ascending=False))"
   ]
  },
  {
   "cell_type": "code",
   "execution_count": 11,
   "id": "1e13df8e",
   "metadata": {},
   "outputs": [
    {
     "name": "stdout",
     "output_type": "stream",
     "text": [
      "0     Location 3\n",
      "1     Location 6\n",
      "2     Location 8\n",
      "3    Location 26\n",
      "4    Location 34\n",
      "Name: Location, dtype: object\n"
     ]
    }
   ],
   "source": [
    "locations_data = pd.read_csv('./data/Location.csv').squeeze('columns')\n",
    "print(locations_data.head())"
   ]
  },
  {
   "cell_type": "code",
   "execution_count": 15,
   "id": "81059c2a",
   "metadata": {},
   "outputs": [
    {
     "name": "stdout",
     "output_type": "stream",
     "text": [
      "637     Location 1\n",
      "884     Location 1\n",
      "465     Location 1\n",
      "716    Location 10\n",
      "623    Location 10\n",
      "Name: Location, dtype: object\n",
      "637     Location 1\n",
      "884     Location 1\n",
      "465     Location 1\n",
      "716    Location 10\n",
      "623    Location 10\n",
      "Name: Location, dtype: object\n",
      "372    Location 99\n",
      "757    Location 98\n",
      "128    Location 97\n",
      "482    Location 97\n",
      "271    Location 97\n",
      "Name: Location, dtype: object\n"
     ]
    }
   ],
   "source": [
    "# note the index. it does not change, but corresponds with object's original data order\n",
    "print(locations_data.sort_values().head())\n",
    "print(locations_data.sort_values(ascending=True).head())\n",
    "print(locations_data.sort_values(ascending=False).head())"
   ]
  }
 ],
 "metadata": {
  "kernelspec": {
   "display_name": "Python 3 (ipykernel)",
   "language": "python",
   "name": "python3"
  },
  "language_info": {
   "codemirror_mode": {
    "name": "ipython",
    "version": 3
   },
   "file_extension": ".py",
   "mimetype": "text/x-python",
   "name": "python",
   "nbconvert_exporter": "python",
   "pygments_lexer": "ipython3",
   "version": "3.9.12"
  }
 },
 "nbformat": 4,
 "nbformat_minor": 5
}
