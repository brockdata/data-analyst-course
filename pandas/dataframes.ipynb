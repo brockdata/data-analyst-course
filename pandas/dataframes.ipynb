{
 "cells": [
  {
   "cell_type": "code",
   "execution_count": 1,
   "id": "039ae9dd",
   "metadata": {},
   "outputs": [],
   "source": [
    "import pandas as pd"
   ]
  },
  {
   "cell_type": "code",
   "execution_count": 2,
   "id": "b0362e83",
   "metadata": {},
   "outputs": [],
   "source": [
    "# series\n",
    "# column in a dataframe\n",
    "# 1 dimension\n",
    "# row index\n",
    "# more powerful python list (list + dictionary)\n",
    "\n",
    "# dataframe\n",
    "# python equivalent of a spreadsheet\n",
    "# 2 dimensional\n",
    "# row and column index\n",
    "# dictionary class + more functions / methods"
   ]
  },
  {
   "cell_type": "code",
   "execution_count": 6,
   "id": "bfc194da",
   "metadata": {},
   "outputs": [
    {
     "name": "stdout",
     "output_type": "stream",
     "text": [
      "   product_name  price\n",
      "0     product_a   2856\n",
      "1     product_b   4761\n",
      "2     product_c   2037\n",
      "3     product_d   4412\n",
      "4     product_e   3622\n",
      "5     product_f   4549\n",
      "6     product_g   3259\n",
      "7     product_h   4039\n",
      "8     product_i   4722\n",
      "9     product_j   2823\n",
      "10    product_k   2006\n",
      "11    product_l   2352\n",
      "12    product_m   1761\n",
      "13    product_n   2650\n",
      "14    product_o   3809\n"
     ]
    }
   ],
   "source": [
    "# implicit index\n",
    "data = {'product_name': ['product_a', 'product_b', 'product_c', 'product_d', 'product_e', 'product_f', 'product_g', 'product_h', 'product_i', 'product_j', 'product_k', 'product_l', 'product_m', 'product_n', 'product_o'], 'price': [2856, 4761, 2037, 4412, 3622, 4549, 3259, 4039, 4722, 2823, 2006, 2352, 1761, 2650, 3809]}\n",
    "df = pd.DataFrame(data)\n",
    "print(df)"
   ]
  },
  {
   "cell_type": "code",
   "execution_count": 8,
   "id": "8cecbd64",
   "metadata": {},
   "outputs": [
    {
     "name": "stdout",
     "output_type": "stream",
     "text": [
      "  product_name  price\n",
      "a    product_a   2856\n",
      "b    product_b   4761\n",
      "c    product_c   2037\n",
      "d    product_d   4412\n",
      "e    product_e   3622\n",
      "f    product_f   4549\n",
      "g    product_g   3259\n",
      "h    product_h   4039\n",
      "i    product_i   4722\n",
      "j    product_j   2823\n",
      "k    product_k   2006\n",
      "l    product_l   2352\n",
      "m    product_m   1761\n",
      "n    product_n   2650\n",
      "o    product_o   3809\n"
     ]
    }
   ],
   "source": [
    "# specify an index\n",
    "data = {'product_name': ['product_a', 'product_b', 'product_c', 'product_d', 'product_e', 'product_f', 'product_g', 'product_h', 'product_i', 'product_j', 'product_k', 'product_l', 'product_m', 'product_n', 'product_o'], 'price': [2856, 4761, 2037, 4412, 3622, 4549, 3259, 4039, 4722, 2823, 2006, 2352, 1761, 2650, 3809]}\n",
    "product_ids = ['a', 'b', 'c', 'd', 'e', 'f', 'g', 'h', 'i', 'j', 'k', 'l', 'm', 'n', 'o']\n",
    "df = pd.DataFrame(data, index=product_ids)\n",
    "print(df)"
   ]
  },
  {
   "cell_type": "code",
   "execution_count": 17,
   "id": "f3e1b562",
   "metadata": {},
   "outputs": [
    {
     "name": "stdout",
     "output_type": "stream",
     "text": [
      "  product_name  price\n",
      "a    product_a   4940\n",
      "b    product_b   2925\n",
      "c    product_c   4048\n",
      "d    product_d   2412\n",
      "e    product_e   2172\n",
      "f    product_f   2593\n",
      "g    product_g   2452\n",
      "h    product_h   3430\n",
      "i    product_i   3601\n",
      "j    product_j   2833\n",
      "k    product_k   4037\n",
      "l    product_l   2650\n",
      "m    product_m   1010\n",
      "n    product_n   1215\n",
      "o    product_o   3343\n"
     ]
    }
   ],
   "source": [
    "# list of dicts\n",
    "data_list = [{'product_name': 'product_a', 'price': 4940}, {'product_name': 'product_b', 'price': 2925}, {'product_name': 'product_c', 'price': 4048}, {'product_name': 'product_d', 'price': 2412}, {'product_name': 'product_e', 'price': 2172}, {'product_name': 'product_f', 'price': 2593}, {'product_name': 'product_g', 'price': 2452}, {'product_name': 'product_h', 'price': 3430}, {'product_name': 'product_i', 'price': 3601}, {'product_name': 'product_j', 'price': 2833}, {'product_name': 'product_k', 'price': 4037}, {'product_name': 'product_l', 'price': 2650}, {'product_name': 'product_m', 'price': 1010}, {'product_name': 'product_n', 'price': 1215}, {'product_name': 'product_o', 'price': 3343}]\n",
    "df = pd.DataFrame(data_list, index = product_ids)\n",
    "print(df)"
   ]
  },
  {
   "cell_type": "code",
   "execution_count": 23,
   "id": "6f9a04ec",
   "metadata": {},
   "outputs": [
    {
     "name": "stdout",
     "output_type": "stream",
     "text": [
      "  product_name  price\n",
      "A    product_a   2856\n",
      "B    product_b   4761\n",
      "C    product_c   2037\n",
      "  product_name  price\n",
      "A    product_a   2037\n",
      "B    product_b   4761\n",
      "C    product_c   2856\n"
     ]
    }
   ],
   "source": [
    "# from series\n",
    "# include index in the SERIES, not the df\n",
    "product_series = pd.Series(['product_a', 'product_b', 'product_c'], index=['A','B','C'])\n",
    "price_series = pd.Series([2856, 4761, 2037], index=['A','B','C'])\n",
    "df = pd.DataFrame({'product_name': product_series, 'price': price_series})\n",
    "print(df)\n",
    "\n",
    "# if you change the order of the index, python will reorder data using the first series index as the anchor\n",
    "# eg ABC >> CBA wil keep the index of ABC, but move the rows of data to match CBA order\n",
    "product_series = pd.Series(['product_a', 'product_b', 'product_c'], index=['A','B','C'])\n",
    "price_series = pd.Series([2856, 4761, 2037], index=['C','B','A'])\n",
    "df = pd.DataFrame({'product_name': product_series, 'price': price_series})\n",
    "print(df)"
   ]
  },
  {
   "cell_type": "code",
   "execution_count": 27,
   "id": "05bbc1b3",
   "metadata": {},
   "outputs": [
    {
     "name": "stdout",
     "output_type": "stream",
     "text": [
      "  product_name  price\n",
      "a    product_a   2856\n",
      "b    product_b   4761\n",
      "c    product_c   2037\n"
     ]
    }
   ],
   "source": [
    "# list of lists\n",
    "data = [['product_a',2856], ['product_b',4761], ['product_c', 2037]]\n",
    "df = pd.DataFrame(data)\n",
    "\n",
    "# manually set column names\n",
    "df.columns = ['product_name', 'price']\n",
    "\n",
    "# manually set index\n",
    "df.index = ['a', 'b', 'c']\n",
    "\n",
    "print(df)"
   ]
  },
  {
   "cell_type": "code",
   "execution_count": 28,
   "id": "13ede3d4",
   "metadata": {},
   "outputs": [
    {
     "name": "stdout",
     "output_type": "stream",
     "text": [
      "  product_name  price\n",
      "a    product_a   2856\n",
      "b    product_b   4761\n",
      "c    product_c   2037\n"
     ]
    }
   ],
   "source": [
    "# professional/preferred method\n",
    "df = pd.DataFrame(data=[['product_a',2856], ['product_b',4761], ['product_c', 2037]],\n",
    "                 columns=['product_name', 'price'],\n",
    "                 index=['a', 'b', 'c'])\n",
    "print(df)"
   ]
  },
  {
   "cell_type": "code",
   "execution_count": 29,
   "id": "4dd59803",
   "metadata": {},
   "outputs": [
    {
     "name": "stdout",
     "output_type": "stream",
     "text": [
      "(3, 2)\n"
     ]
    }
   ],
   "source": [
    "# get dimensions\n",
    "print(df.shape)"
   ]
  },
  {
   "cell_type": "code",
   "execution_count": null,
   "id": "c95e35dc",
   "metadata": {},
   "outputs": [],
   "source": []
  }
 ],
 "metadata": {
  "kernelspec": {
   "display_name": "Python 3 (ipykernel)",
   "language": "python",
   "name": "python3"
  },
  "language_info": {
   "codemirror_mode": {
    "name": "ipython",
    "version": 3
   },
   "file_extension": ".py",
   "mimetype": "text/x-python",
   "name": "python",
   "nbconvert_exporter": "python",
   "pygments_lexer": "ipython3",
   "version": "3.9.12"
  }
 },
 "nbformat": 4,
 "nbformat_minor": 5
}
