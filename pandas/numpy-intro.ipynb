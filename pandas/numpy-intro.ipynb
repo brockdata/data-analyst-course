{
 "cells": [
  {
   "cell_type": "code",
   "execution_count": null,
   "id": "32b304f5",
   "metadata": {},
   "outputs": [],
   "source": [
    "# pip install numpy --upgrade"
   ]
  },
  {
   "cell_type": "code",
   "execution_count": 1,
   "id": "d929a6ec",
   "metadata": {},
   "outputs": [],
   "source": [
    "import numpy as np"
   ]
  },
  {
   "cell_type": "code",
   "execution_count": 6,
   "id": "2d73da7c",
   "metadata": {},
   "outputs": [
    {
     "name": "stdout",
     "output_type": "stream",
     "text": [
      "[ 4  5  7 10]\n"
     ]
    }
   ],
   "source": [
    "# create array\n",
    "# vector\n",
    "a = np.array([4,5,7,10])\n",
    "print(a)\n",
    "# matrix\n",
    "m = np.array([[4,5], [7,10]])\n",
    "print(m)"
   ]
  },
  {
   "cell_type": "code",
   "execution_count": 15,
   "id": "70ae4db3",
   "metadata": {},
   "outputs": [
    {
     "name": "stdout",
     "output_type": "stream",
     "text": [
      "6.5\n",
      "6.5\n",
      "[4.5 8.5]\n",
      "6\n"
     ]
    }
   ],
   "source": [
    "# mean\n",
    "# shift + tab + tab... to view docs\n",
    "\n",
    "# vector\n",
    "print(np.mean(a))\n",
    "\n",
    "# flattened matrix\n",
    "print(np.mean(m))\n",
    "# each row\n",
    "print(np.mean(m, axis=1))\n",
    "\n",
    "# dtype\n",
    "print(np.mean(a, dtype=int))"
   ]
  }
 ],
 "metadata": {
  "kernelspec": {
   "display_name": "Python 3 (ipykernel)",
   "language": "python",
   "name": "python3"
  },
  "language_info": {
   "codemirror_mode": {
    "name": "ipython",
    "version": 3
   },
   "file_extension": ".py",
   "mimetype": "text/x-python",
   "name": "python",
   "nbconvert_exporter": "python",
   "pygments_lexer": "ipython3",
   "version": "3.9.12"
  }
 },
 "nbformat": 4,
 "nbformat_minor": 5
}
