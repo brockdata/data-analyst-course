{
 "cells": [
  {
   "cell_type": "markdown",
   "id": "909da955",
   "metadata": {},
   "source": [
    "numpy = numeric python - mathematics, numpy.ndarray, scalars, vectors, matricies"
   ]
  },
  {
   "cell_type": "markdown",
   "id": "0f93de53",
   "metadata": {},
   "source": [
    "pandas = panel data - built on numpy, data over a period of time - econometrics, series, dataframe"
   ]
  },
  {
   "cell_type": "markdown",
   "id": "adcc0958",
   "metadata": {},
   "source": [
    "both come with anaconda"
   ]
  },
  {
   "cell_type": "code",
   "execution_count": 1,
   "id": "857cad7e",
   "metadata": {},
   "outputs": [
    {
     "data": {
      "text/plain": [
       "'1.21.5'"
      ]
     },
     "execution_count": 1,
     "metadata": {},
     "output_type": "execute_result"
    }
   ],
   "source": [
    "import numpy as np\n",
    "np.__version__"
   ]
  },
  {
   "cell_type": "markdown",
   "id": "aced0799",
   "metadata": {},
   "source": [
    "in command prompt: pip install numpy --upgrade"
   ]
  }
 ],
 "metadata": {
  "kernelspec": {
   "display_name": "Python 3 (ipykernel)",
   "language": "python",
   "name": "python3"
  },
  "language_info": {
   "codemirror_mode": {
    "name": "ipython",
    "version": 3
   },
   "file_extension": ".py",
   "mimetype": "text/x-python",
   "name": "python",
   "nbconvert_exporter": "python",
   "pygments_lexer": "ipython3",
   "version": "3.9.12"
  }
 },
 "nbformat": 4,
 "nbformat_minor": 5
}
