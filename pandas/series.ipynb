{
 "cells": [
  {
   "cell_type": "code",
   "execution_count": 1,
   "id": "d5e9eb35",
   "metadata": {},
   "outputs": [],
   "source": [
    "import pandas as pd"
   ]
  },
  {
   "cell_type": "code",
   "execution_count": 2,
   "id": "96497acf",
   "metadata": {},
   "outputs": [],
   "source": [
    "# multi-column data = datafame\n",
    "# collection of series objects\n",
    "# 2D numpy array\n",
    "\n",
    "# numpy for numerical\n",
    "# pandas for numerical, strings, etc.\n",
    "\n",
    "# data consistency\n",
    "# columns should have the one type of data"
   ]
  },
  {
   "cell_type": "code",
   "execution_count": 4,
   "id": "2857d03a",
   "metadata": {},
   "outputs": [
    {
     "data": {
      "text/plain": [
       "'1.4.2'"
      ]
     },
     "execution_count": 4,
     "metadata": {},
     "output_type": "execute_result"
    }
   ],
   "source": [
    "pd.__version__"
   ]
  },
  {
   "cell_type": "code",
   "execution_count": 6,
   "id": "e859a45e",
   "metadata": {},
   "outputs": [
    {
     "name": "stdout",
     "output_type": "stream",
     "text": [
      "<class 'list'>\n",
      "<class 'pandas.core.series.Series'>\n"
     ]
    }
   ],
   "source": [
    "# list to series\n",
    "products = ['A', 'B', 'C', 'D']\n",
    "print(type(products))\n",
    "\n",
    "product_cats = pd.Series(products)\n",
    "print(type(product_cats))"
   ]
  },
  {
   "cell_type": "code",
   "execution_count": 7,
   "id": "916a7d9d",
   "metadata": {},
   "outputs": [],
   "source": [
    "# numpy arrays vs series\n",
    "import numpy as np"
   ]
  },
  {
   "cell_type": "code",
   "execution_count": 11,
   "id": "6c67fe85",
   "metadata": {},
   "outputs": [
    {
     "name": "stdout",
     "output_type": "stream",
     "text": [
      "<class 'numpy.ndarray'>\n",
      "[10 20 30 40]\n",
      "<class 'pandas.core.series.Series'>\n",
      "0    10\n",
      "1    20\n",
      "2    30\n",
      "3    40\n",
      "dtype: int64\n"
     ]
    }
   ],
   "source": [
    "# arrray\n",
    "nums = [10,20,30,40]\n",
    "a = np.array(nums)\n",
    "print(type(a))\n",
    "print(a)\n",
    "\n",
    "# series\n",
    "s = pd.Series(nums)\n",
    "print(type(s))\n",
    "print(s)"
   ]
  },
  {
   "cell_type": "code",
   "execution_count": null,
   "id": "8e694dd6",
   "metadata": {},
   "outputs": [],
   "source": []
  }
 ],
 "metadata": {
  "kernelspec": {
   "display_name": "Python 3 (ipykernel)",
   "language": "python",
   "name": "python3"
  },
  "language_info": {
   "codemirror_mode": {
    "name": "ipython",
    "version": 3
   },
   "file_extension": ".py",
   "mimetype": "text/x-python",
   "name": "python",
   "nbconvert_exporter": "python",
   "pygments_lexer": "ipython3",
   "version": "3.9.12"
  }
 },
 "nbformat": 4,
 "nbformat_minor": 5
}
