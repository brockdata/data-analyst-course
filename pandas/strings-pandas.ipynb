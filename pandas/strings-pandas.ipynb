{
 "cells": [
  {
   "cell_type": "code",
   "execution_count": 1,
   "id": "7cec3b23",
   "metadata": {},
   "outputs": [],
   "source": [
    "import pandas as pd"
   ]
  },
  {
   "cell_type": "code",
   "execution_count": 5,
   "id": "771467d7",
   "metadata": {},
   "outputs": [
    {
     "name": "stdout",
     "output_type": "stream",
     "text": [
      "0    employee satisfaction rating\n",
      "1          employee turnover rate\n",
      "dtype: object\n"
     ]
    }
   ],
   "source": [
    "categories = pd.Series(['employee satisfaction rating', 'employee turnover rate'])\n",
    "print(categories)"
   ]
  },
  {
   "cell_type": "code",
   "execution_count": 8,
   "id": "6e1cedb4",
   "metadata": {},
   "outputs": [
    {
     "name": "stdout",
     "output_type": "stream",
     "text": [
      " satisfaction rating\n",
      "0     satisfaction rating\n",
      "1           turnover rate\n",
      "dtype: object\n"
     ]
    }
   ],
   "source": [
    "# can't do it to the series directly\n",
    "# print(categories.lstrip('employee'))\n",
    "\n",
    "# to one value\n",
    "print(categories[0].lstrip('employee'))\n",
    "# to all strings\n",
    "print(categories.str.lstrip('employee'))"
   ]
  },
  {
   "cell_type": "code",
   "execution_count": 11,
   "id": "a517e60a",
   "metadata": {},
   "outputs": [
    {
     "name": "stdout",
     "output_type": "stream",
     "text": [
      "0    data\n",
      "1     NaN\n",
      "dtype: object\n"
     ]
    }
   ],
   "source": [
    "# mixed data produces NaNs\n",
    "mixed_data = pd.Series(['text_data', 34])\n",
    "print(mixed_data.str.lstrip('text_'))"
   ]
  },
  {
   "cell_type": "code",
   "execution_count": 14,
   "id": "80738319",
   "metadata": {},
   "outputs": [
    {
     "name": "stdout",
     "output_type": "stream",
     "text": [
      "0    True\n",
      "1    True\n",
      "2    True\n",
      "dtype: bool\n"
     ]
    }
   ],
   "source": [
    "house_prices = pd.Series(['$400,000', '$500,000', '$600,000'])\n",
    "print(house_prices.str.contains('$'))"
   ]
  },
  {
   "cell_type": "code",
   "execution_count": null,
   "id": "6b16d823",
   "metadata": {},
   "outputs": [],
   "source": []
  }
 ],
 "metadata": {
  "kernelspec": {
   "display_name": "Python 3 (ipykernel)",
   "language": "python",
   "name": "python3"
  },
  "language_info": {
   "codemirror_mode": {
    "name": "ipython",
    "version": 3
   },
   "file_extension": ".py",
   "mimetype": "text/x-python",
   "name": "python",
   "nbconvert_exporter": "python",
   "pygments_lexer": "ipython3",
   "version": "3.9.12"
  }
 },
 "nbformat": 4,
 "nbformat_minor": 5
}
