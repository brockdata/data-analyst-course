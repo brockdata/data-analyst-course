{
 "cells": [
  {
   "cell_type": "markdown",
   "id": "a95faed7",
   "metadata": {},
   "source": [
    "operators"
   ]
  },
  {
   "cell_type": "code",
   "execution_count": null,
   "id": "df303939",
   "metadata": {},
   "outputs": [],
   "source": [
    "10 == 20 / 2"
   ]
  },
  {
   "cell_type": "code",
   "execution_count": null,
   "id": "521c412d",
   "metadata": {},
   "outputs": [],
   "source": [
    "10 != 10"
   ]
  },
  {
   "cell_type": "code",
   "execution_count": null,
   "id": "0f16a6d9",
   "metadata": {},
   "outputs": [],
   "source": [
    "100 > 50"
   ]
  },
  {
   "cell_type": "code",
   "execution_count": null,
   "id": "760efe95",
   "metadata": {},
   "outputs": [],
   "source": [
    "100 < 50"
   ]
  },
  {
   "cell_type": "code",
   "execution_count": null,
   "id": "e27974d7",
   "metadata": {},
   "outputs": [],
   "source": [
    "100 >= 100"
   ]
  },
  {
   "cell_type": "markdown",
   "id": "94196aca",
   "metadata": {},
   "source": [
    "equality"
   ]
  },
  {
   "cell_type": "code",
   "execution_count": 2,
   "id": "60f3830e",
   "metadata": {},
   "outputs": [
    {
     "data": {
      "text/plain": [
       "False"
      ]
     },
     "execution_count": 2,
     "metadata": {},
     "output_type": "execute_result"
    }
   ],
   "source": [
    "y = 5**3\n",
    "y"
   ]
  },
  {
   "cell_type": "code",
   "execution_count": 4,
   "id": "5998adff",
   "metadata": {},
   "outputs": [
    {
     "data": {
      "text/plain": [
       "True"
      ]
     },
     "execution_count": 4,
     "metadata": {},
     "output_type": "execute_result"
    }
   ],
   "source": [
    "y == 125"
   ]
  },
  {
   "cell_type": "code",
   "execution_count": 3,
   "id": "717092cb",
   "metadata": {},
   "outputs": [
    {
     "data": {
      "text/plain": [
       "False"
      ]
     },
     "execution_count": 3,
     "metadata": {},
     "output_type": "execute_result"
    }
   ],
   "source": [
    "y == 126"
   ]
  },
  {
   "cell_type": "code",
   "execution_count": 2,
   "id": "7c8ee588",
   "metadata": {},
   "outputs": [
    {
     "name": "stdout",
     "output_type": "stream",
     "text": [
      "awww...\n"
     ]
    }
   ],
   "source": [
    "if 5 == 18 / 3:\n",
    "    print('Hooray!')\n",
    "else:\n",
    "    print('awww...')"
   ]
  },
  {
   "cell_type": "code",
   "execution_count": 3,
   "id": "ecbfcbc6",
   "metadata": {},
   "outputs": [],
   "source": [
    "def check5(operation):\n",
    "    if 5 == operation:\n",
    "        print('Hooray')\n",
    "    else:\n",
    "        print('awww...')"
   ]
  },
  {
   "cell_type": "code",
   "execution_count": 5,
   "id": "e1744ee8",
   "metadata": {},
   "outputs": [
    {
     "name": "stdout",
     "output_type": "stream",
     "text": [
      "Hooray\n",
      "awww...\n"
     ]
    }
   ],
   "source": [
    "check5(15/3)\n",
    "check5(18/3)"
   ]
  },
  {
   "cell_type": "code",
   "execution_count": 7,
   "id": "41a61e9f",
   "metadata": {},
   "outputs": [
    {
     "name": "stdout",
     "output_type": "stream",
     "text": [
      "case 2\n"
     ]
    }
   ],
   "source": [
    "def check_case(x):\n",
    "    if x > 3:\n",
    "        print('case 1')\n",
    "    if x <= 3:\n",
    "        print('case 2')\n",
    "check_case(1)"
   ]
  },
  {
   "cell_type": "markdown",
   "id": "048a4eeb",
   "metadata": {},
   "source": [
    "else"
   ]
  },
  {
   "cell_type": "code",
   "execution_count": 8,
   "id": "a4d29df7",
   "metadata": {},
   "outputs": [
    {
     "name": "stdout",
     "output_type": "stream",
     "text": [
      "case 2\n"
     ]
    }
   ],
   "source": [
    "def cbheck_case(x):\n",
    "    if x > 3:\n",
    "        print('case 1')\n",
    "    else:\n",
    "        print('case 2')\n",
    "check_case(1)"
   ]
  },
  {
   "cell_type": "code",
   "execution_count": 9,
   "id": "0b76bf32",
   "metadata": {},
   "outputs": [
    {
     "ename": "SyntaxError",
     "evalue": "invalid syntax (2161527494.py, line 3)",
     "output_type": "error",
     "traceback": [
      "\u001b[1;36m  Input \u001b[1;32mIn [9]\u001b[1;36m\u001b[0m\n\u001b[1;33m    else:\u001b[0m\n\u001b[1;37m    ^\u001b[0m\n\u001b[1;31mSyntaxError\u001b[0m\u001b[1;31m:\u001b[0m invalid syntax\n"
     ]
    }
   ],
   "source": [
    "if x > 3:\n",
    "    print('case 1')\n",
    "    else:\n",
    "        print('case 2')"
   ]
  },
  {
   "cell_type": "markdown",
   "id": "1a595e4f",
   "metadata": {},
   "source": [
    "elif"
   ]
  },
  {
   "cell_type": "code",
   "execution_count": 4,
   "id": "f18a3dd3",
   "metadata": {},
   "outputs": [],
   "source": [
    "def compare_to_five(y):\n",
    "    if y > 5:\n",
    "        status = 'greater'\n",
    "    elif y < 5:\n",
    "        status = 'less'\n",
    "    else:\n",
    "        status = 'equal'\n",
    "    print(f'{y} is {status} compared to five')\n",
    "    return status"
   ]
  },
  {
   "cell_type": "code",
   "execution_count": 6,
   "id": "0794d3ec",
   "metadata": {
    "scrolled": true
   },
   "outputs": [
    {
     "name": "stdout",
     "output_type": "stream",
     "text": [
      "10 is greater compared to five\n",
      "2 is less compared to five\n",
      "5 is equal compared to five\n"
     ]
    },
    {
     "data": {
      "text/plain": [
       "'equal'"
      ]
     },
     "execution_count": 6,
     "metadata": {},
     "output_type": "execute_result"
    }
   ],
   "source": [
    "compare_to_five(10)\n",
    "compare_to_five(2)\n",
    "compare_to_five(5)"
   ]
  },
  {
   "cell_type": "markdown",
   "id": "08612e75",
   "metadata": {},
   "source": [
    "once an elif is met, the rest of the elifs will be ignored"
   ]
  },
  {
   "cell_type": "code",
   "execution_count": 7,
   "id": "7cb1be21",
   "metadata": {},
   "outputs": [],
   "source": [
    "def test(x):\n",
    "    if x == 1:\n",
    "        print('x = 1')\n",
    "    elif x > 1:\n",
    "        print('x > 1')\n",
    "    elif x > 2:\n",
    "        print('x > 2')\n",
    "    else:\n",
    "        print('no conditions met')\n",
    "    print('... so I will stop checking conditions.')"
   ]
  },
  {
   "cell_type": "code",
   "execution_count": 8,
   "id": "65523c60",
   "metadata": {},
   "outputs": [
    {
     "name": "stdout",
     "output_type": "stream",
     "text": [
      "x = 1\n",
      "... so I will stop checking conditions.\n"
     ]
    }
   ],
   "source": [
    "test(1)"
   ]
  },
  {
   "cell_type": "code",
   "execution_count": 9,
   "id": "176af1bc",
   "metadata": {},
   "outputs": [
    {
     "name": "stdout",
     "output_type": "stream",
     "text": [
      "x > 1\n",
      "... so I will stop checking conditions.\n"
     ]
    }
   ],
   "source": [
    "test(2)"
   ]
  },
  {
   "cell_type": "code",
   "execution_count": 10,
   "id": "02a9e901",
   "metadata": {},
   "outputs": [
    {
     "name": "stdout",
     "output_type": "stream",
     "text": [
      "x > 1\n",
      "... so I will stop checking conditions.\n"
     ]
    }
   ],
   "source": [
    "test(3)"
   ]
  },
  {
   "cell_type": "code",
   "execution_count": null,
   "id": "07964a16",
   "metadata": {},
   "outputs": [],
   "source": []
  }
 ],
 "metadata": {
  "kernelspec": {
   "display_name": "Python 3 (ipykernel)",
   "language": "python",
   "name": "python3"
  },
  "language_info": {
   "codemirror_mode": {
    "name": "ipython",
    "version": 3
   },
   "file_extension": ".py",
   "mimetype": "text/x-python",
   "name": "python",
   "nbconvert_exporter": "python",
   "pygments_lexer": "ipython3",
   "version": "3.9.12"
  }
 },
 "nbformat": 4,
 "nbformat_minor": 5
}
