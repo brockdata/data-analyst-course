{
 "cells": [
  {
   "cell_type": "code",
   "execution_count": 3,
   "id": "d0ba169d",
   "metadata": {},
   "outputs": [],
   "source": [
    "animals = {\n",
    "    'key1': 'cat',\n",
    "    'key2': 'goldfish',\n",
    "    'key3': 'dog',\n",
    "    'key4': 'chinchilla'\n",
    "}"
   ]
  },
  {
   "cell_type": "markdown",
   "id": "0f11d185",
   "metadata": {},
   "source": [
    "find"
   ]
  },
  {
   "cell_type": "code",
   "execution_count": 5,
   "id": "47e98f40",
   "metadata": {},
   "outputs": [
    {
     "data": {
      "text/plain": [
       "'cat'"
      ]
     },
     "execution_count": 5,
     "metadata": {},
     "output_type": "execute_result"
    }
   ],
   "source": [
    "animals['key1']"
   ]
  },
  {
   "cell_type": "markdown",
   "id": "3f6b8369",
   "metadata": {},
   "source": [
    "add"
   ]
  },
  {
   "cell_type": "code",
   "execution_count": 6,
   "id": "6f1af9f7",
   "metadata": {
    "scrolled": true
   },
   "outputs": [
    {
     "data": {
      "text/plain": [
       "{'key1': 'cat',\n",
       " 'key2': 'goldfish',\n",
       " 'key3': 'dog',\n",
       " 'key4': 'chinchilla',\n",
       " 'key5': 'parrot'}"
      ]
     },
     "execution_count": 6,
     "metadata": {},
     "output_type": "execute_result"
    }
   ],
   "source": [
    "animals['key5'] = 'parrot'\n",
    "animals"
   ]
  },
  {
   "cell_type": "markdown",
   "id": "d71df593",
   "metadata": {},
   "source": [
    "change"
   ]
  },
  {
   "cell_type": "code",
   "execution_count": 8,
   "id": "c891489a",
   "metadata": {
    "scrolled": true
   },
   "outputs": [
    {
     "data": {
      "text/plain": [
       "{'key1': 'cat',\n",
       " 'key2': 'goldfish',\n",
       " 'key3': 'dog',\n",
       " 'key4': 'mouse',\n",
       " 'key5': 'parrot'}"
      ]
     },
     "execution_count": 8,
     "metadata": {},
     "output_type": "execute_result"
    }
   ],
   "source": [
    "animals['key4'] = 'mouse'\n",
    "animals"
   ]
  },
  {
   "cell_type": "markdown",
   "id": "64d8b4ad",
   "metadata": {},
   "source": [
    "list within"
   ]
  },
  {
   "cell_type": "code",
   "execution_count": 9,
   "id": "00eecf51",
   "metadata": {},
   "outputs": [
    {
     "data": {
      "text/plain": [
       "['mouse', 'rat']"
      ]
     },
     "execution_count": 9,
     "metadata": {},
     "output_type": "execute_result"
    }
   ],
   "source": [
    "animals['key4'] = ['mouse', 'rat']\n",
    "animals['key4']"
   ]
  },
  {
   "cell_type": "markdown",
   "id": "bb86bf0d",
   "metadata": {},
   "source": [
    "create with individual elements"
   ]
  },
  {
   "cell_type": "code",
   "execution_count": 11,
   "id": "fc6c6562",
   "metadata": {},
   "outputs": [
    {
     "data": {
      "text/plain": [
       "{'smallest': 'mouse', 'loudest': 'bird', 'fuzziest': 'cat'}"
      ]
     },
     "execution_count": 11,
     "metadata": {},
     "output_type": "execute_result"
    }
   ],
   "source": [
    "animals = {}\n",
    "animals['smallest'] = 'mouse'\n",
    "animals['loudest'] = 'bird'\n",
    "animals['fuzziest'] = 'cat'\n",
    "animals"
   ]
  },
  {
   "cell_type": "code",
   "execution_count": 12,
   "id": "f7e54200",
   "metadata": {},
   "outputs": [
    {
     "data": {
      "text/plain": [
       "'mouse'"
      ]
     },
     "execution_count": 12,
     "metadata": {},
     "output_type": "execute_result"
    }
   ],
   "source": [
    "animals.get('smallest')"
   ]
  }
 ],
 "metadata": {
  "kernelspec": {
   "display_name": "Python 3 (ipykernel)",
   "language": "python",
   "name": "python3"
  },
  "language_info": {
   "codemirror_mode": {
    "name": "ipython",
    "version": 3
   },
   "file_extension": ".py",
   "mimetype": "text/x-python",
   "name": "python",
   "nbconvert_exporter": "python",
   "pygments_lexer": "ipython3",
   "version": "3.9.12"
  }
 },
 "nbformat": 4,
 "nbformat_minor": 5
}
