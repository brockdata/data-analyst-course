{
 "cells": [
  {
   "cell_type": "code",
   "execution_count": 18,
   "id": "a6b59415",
   "metadata": {},
   "outputs": [
    {
     "name": "stdout",
     "output_type": "stream",
     "text": [
      "expected sales for a period of 3 months for product b: 2500\n",
      "expected sales for a period of 1 months for product b: $5000\n",
      "expected sales for a period of b months for product 1: $5000: \n",
      "expected sales for a period of 12 months for product a: $5400\n",
      "expected sales for a period of 3 months for product a: $3250\n"
     ]
    }
   ],
   "source": [
    "times = 1,3,12\n",
    "products = ['a', 'b']\n",
    "sales = [5000, 2500, 3250]\n",
    "\n",
    "template = 'expected sales for a period of {} months for product {}: {}'\n",
    "print(template.format(times[1], products[1], sales[1]))\n",
    "# explicit\n",
    "print('expected sales for a period of {0} months for product {1}: ${2}'.format(times[0], products[1], sales[0]))\n",
    "print('expected sales for a period of {1} months for product {0}: ${2}: '.format(times[0], products[1], sales[0]))\n",
    "# abbreviations\n",
    "print('expected sales for a period of {time} months for product {product}: ${sales}'.format(time=12, product='a', sales=5400))\n",
    "# mixed\n",
    "print('expected sales for a period of {0} months for product {product}: ${sales}'.format(3, product=products[0], sales=sales[2]))\n"
   ]
  },
  {
   "cell_type": "code",
   "execution_count": null,
   "id": "a1d746b3",
   "metadata": {},
   "outputs": [],
   "source": []
  }
 ],
 "metadata": {
  "kernelspec": {
   "display_name": "Python 3 (ipykernel)",
   "language": "python",
   "name": "python3"
  },
  "language_info": {
   "codemirror_mode": {
    "name": "ipython",
    "version": 3
   },
   "file_extension": ".py",
   "mimetype": "text/x-python",
   "name": "python",
   "nbconvert_exporter": "python",
   "pygments_lexer": "ipython3",
   "version": "3.9.12"
  }
 },
 "nbformat": 4,
 "nbformat_minor": 5
}
