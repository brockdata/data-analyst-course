{
 "cells": [
  {
   "cell_type": "code",
   "execution_count": 1,
   "id": "dda36e9e",
   "metadata": {},
   "outputs": [],
   "source": [
    "def simple():\n",
    "    \"\"\"here is where we give instructions on how to use the function\"\"\"\n",
    "    print('new function')"
   ]
  },
  {
   "cell_type": "code",
   "execution_count": 2,
   "id": "2860ce67",
   "metadata": {},
   "outputs": [
    {
     "name": "stdout",
     "output_type": "stream",
     "text": [
      "new function\n"
     ]
    }
   ],
   "source": [
    "simple()"
   ]
  },
  {
   "cell_type": "code",
   "execution_count": 7,
   "id": "62bb01f1",
   "metadata": {},
   "outputs": [],
   "source": [
    "def plus_ten(a):\n",
    "    return a + 10"
   ]
  },
  {
   "cell_type": "code",
   "execution_count": 8,
   "id": "7e46687f",
   "metadata": {},
   "outputs": [
    {
     "data": {
      "text/plain": [
       "15"
      ]
     },
     "execution_count": 8,
     "metadata": {},
     "output_type": "execute_result"
    }
   ],
   "source": [
    "plus_ten(5)"
   ]
  },
  {
   "cell_type": "code",
   "execution_count": 9,
   "id": "5e3c3063",
   "metadata": {},
   "outputs": [],
   "source": [
    "def plus_ten(x,y,z):\n",
    "    return x+10,y+10,z+10"
   ]
  },
  {
   "cell_type": "code",
   "execution_count": 10,
   "id": "b0cacbb0",
   "metadata": {},
   "outputs": [
    {
     "data": {
      "text/plain": [
       "(18, 16, 14)"
      ]
     },
     "execution_count": 10,
     "metadata": {},
     "output_type": "execute_result"
    }
   ],
   "source": [
    "plus_ten(8,6,4)"
   ]
  },
  {
   "cell_type": "markdown",
   "id": "2e2f37bf",
   "metadata": {},
   "source": [
    "ANOTHER WAY"
   ]
  },
  {
   "cell_type": "code",
   "execution_count": 11,
   "id": "1f6d33f0",
   "metadata": {},
   "outputs": [],
   "source": [
    "def plus_ten(a):\n",
    "    result = a + 10\n",
    "    return result"
   ]
  },
  {
   "cell_type": "code",
   "execution_count": 12,
   "id": "7fd7b1d0",
   "metadata": {},
   "outputs": [
    {
     "data": {
      "text/plain": [
       "14"
      ]
     },
     "execution_count": 12,
     "metadata": {},
     "output_type": "execute_result"
    }
   ],
   "source": [
    "plus_ten(4)"
   ]
  },
  {
   "cell_type": "markdown",
   "id": "2ca834a2",
   "metadata": {},
   "source": [
    "print() writes it on the screen\n",
    "return assigns the value"
   ]
  },
  {
   "cell_type": "code",
   "execution_count": 13,
   "id": "6f1c8d1a",
   "metadata": {},
   "outputs": [
    {
     "name": "stdout",
     "output_type": "stream",
     "text": [
      "outcome:\n"
     ]
    },
    {
     "data": {
      "text/plain": [
       "16"
      ]
     },
     "execution_count": 13,
     "metadata": {},
     "output_type": "execute_result"
    }
   ],
   "source": [
    "def plus_ten(x):\n",
    "    result = x + 10\n",
    "    print('outcome:')\n",
    "    return result\n",
    "\n",
    "plus_ten(6)"
   ]
  },
  {
   "cell_type": "markdown",
   "id": "b79dd7d0",
   "metadata": {},
   "source": [
    "function IN a function"
   ]
  },
  {
   "cell_type": "code",
   "execution_count": 1,
   "id": "37601a4b",
   "metadata": {},
   "outputs": [],
   "source": [
    "def wage(hours):\n",
    "    return hours * 25\n",
    "\n",
    "def with_bonus(hours):\n",
    "    return wage(hours) + 50"
   ]
  },
  {
   "cell_type": "markdown",
   "id": "b3efb326",
   "metadata": {},
   "source": [
    "with conditionals"
   ]
  },
  {
   "cell_type": "code",
   "execution_count": 6,
   "id": "8935c1b6",
   "metadata": {},
   "outputs": [],
   "source": [
    "def savings_bonus(m):\n",
    "    if m > 100:\n",
    "        m += 10\n",
    "        return m\n",
    "    else:\n",
    "        return 'save more!'"
   ]
  },
  {
   "cell_type": "code",
   "execution_count": 7,
   "id": "d4bde604",
   "metadata": {},
   "outputs": [
    {
     "data": {
      "text/plain": [
       "'save more!'"
      ]
     },
     "execution_count": 7,
     "metadata": {},
     "output_type": "execute_result"
    }
   ],
   "source": [
    "savings_bonus(50)"
   ]
  },
  {
   "cell_type": "markdown",
   "id": "e02ef1d1",
   "metadata": {},
   "source": [
    "multiple arguments"
   ]
  },
  {
   "cell_type": "code",
   "execution_count": 9,
   "id": "2e230772",
   "metadata": {},
   "outputs": [],
   "source": [
    "def a_minus_bc(a,b,c):\n",
    "    print('a: ',a)\n",
    "    print('b: ',b)\n",
    "    print('c: ',c)\n",
    "    return a - b*c"
   ]
  },
  {
   "cell_type": "code",
   "execution_count": 10,
   "id": "2801c399",
   "metadata": {},
   "outputs": [
    {
     "name": "stdout",
     "output_type": "stream",
     "text": [
      "a:  10\n",
      "b:  12\n",
      "c:  4\n"
     ]
    },
    {
     "data": {
      "text/plain": [
       "-38"
      ]
     },
     "execution_count": 10,
     "metadata": {},
     "output_type": "execute_result"
    }
   ],
   "source": [
    "a_minus_bc(10,12,4)"
   ]
  },
  {
   "cell_type": "code",
   "execution_count": null,
   "id": "be10aee4",
   "metadata": {},
   "outputs": [],
   "source": []
  }
 ],
 "metadata": {
  "kernelspec": {
   "display_name": "Python 3 (ipykernel)",
   "language": "python",
   "name": "python3"
  },
  "language_info": {
   "codemirror_mode": {
    "name": "ipython",
    "version": 3
   },
   "file_extension": ".py",
   "mimetype": "text/x-python",
   "name": "python",
   "nbconvert_exporter": "python",
   "pygments_lexer": "ipython3",
   "version": "3.9.12"
  }
 },
 "nbformat": 4,
 "nbformat_minor": 5
}
