{
 "cells": [
  {
   "cell_type": "code",
   "execution_count": 1,
   "id": "5160f217",
   "metadata": {},
   "outputs": [],
   "source": [
    "even = [2, 4, 6, 8, 10, 12, 14, 16, 18, 20, 22, 24, 26, 28, 30, 32, 34, 36, 38, 40, 42, 44, 46, 48, 50, \n",
    "        52, 54, 56, 58, 60, 62, 64, 66, 68, 70, 72, 74, 76, 78, 80, 82, 84, 86, 88, 90, 92, 94, 96, 98, 100]\n"
   ]
  },
  {
   "cell_type": "code",
   "execution_count": 2,
   "id": "35e390df",
   "metadata": {},
   "outputs": [
    {
     "name": "stdout",
     "output_type": "stream",
     "text": [
      "2\n",
      "4\n",
      "6\n",
      "8\n",
      "10\n",
      "12\n",
      "14\n",
      "16\n",
      "18\n",
      "20\n",
      "22\n",
      "24\n",
      "26\n",
      "28\n",
      "30\n",
      "32\n",
      "34\n",
      "36\n",
      "38\n",
      "40\n",
      "42\n",
      "44\n",
      "46\n",
      "48\n",
      "50\n",
      "52\n",
      "54\n",
      "56\n",
      "58\n",
      "60\n",
      "62\n",
      "64\n",
      "66\n",
      "68\n",
      "70\n",
      "72\n",
      "74\n",
      "76\n",
      "78\n",
      "80\n",
      "82\n",
      "84\n",
      "86\n",
      "88\n",
      "90\n",
      "92\n",
      "94\n",
      "96\n",
      "98\n",
      "100\n"
     ]
    }
   ],
   "source": [
    "for n in even:\n",
    "    print(n)"
   ]
  },
  {
   "cell_type": "code",
   "execution_count": 3,
   "id": "028907f2",
   "metadata": {
    "scrolled": true
   },
   "outputs": [
    {
     "name": "stdout",
     "output_type": "stream",
     "text": [
      "2 4 6 8 10 12 14 16 18 20 22 24 26 28 30 32 34 36 38 40 42 44 46 48 50 52 54 56 58 60 62 64 66 68 70 72 74 76 78 80 82 84 86 88 90 92 94 96 98 100 "
     ]
    }
   ],
   "source": [
    "for n in even:\n",
    "    print(n, end = ' ')"
   ]
  },
  {
   "cell_type": "code",
   "execution_count": null,
   "id": "7c41c641",
   "metadata": {},
   "outputs": [],
   "source": [
    "x = 0\n",
    "while x <= 20:\n",
    "    print('i can go FOREVER!')"
   ]
  },
  {
   "cell_type": "code",
   "execution_count": 6,
   "id": "7c90e26e",
   "metadata": {},
   "outputs": [
    {
     "name": "stdout",
     "output_type": "stream",
     "text": [
      "i can go FOREVER!\n",
      "i can go FOREVER!\n",
      "i can go FOREVER!\n",
      "i can go FOREVER!\n",
      "i can go FOREVER!\n",
      "i can go FOREVER!\n",
      "i can go FOREVER!\n",
      "i can go FOREVER!\n",
      "i can go FOREVER!\n",
      "i can go FOREVER!\n",
      "i can go FOREVER!\n",
      "eh... maybe not...\n"
     ]
    }
   ],
   "source": [
    "x = 0\n",
    "while x <= 20:\n",
    "    print('i can go FOREVER!')\n",
    "    x += 2\n",
    "print('eh... maybe not...')"
   ]
  },
  {
   "cell_type": "markdown",
   "id": "ba891b32",
   "metadata": {},
   "source": [
    "range"
   ]
  },
  {
   "cell_type": "code",
   "execution_count": 7,
   "id": "01857d1f",
   "metadata": {},
   "outputs": [
    {
     "name": "stdout",
     "output_type": "stream",
     "text": [
      "1 2 4 8 16 32 64 128 256 512 "
     ]
    }
   ],
   "source": [
    "for n in range(10):\n",
    "    print(2**n, end = ' ')"
   ]
  },
  {
   "cell_type": "code",
   "execution_count": 9,
   "id": "25df9f9d",
   "metadata": {},
   "outputs": [
    {
     "name": "stdout",
     "output_type": "stream",
     "text": [
      "0 odd 2 odd 4 odd 6 odd 8 odd 10 odd 12 odd 14 odd 16 odd 18 odd "
     ]
    }
   ],
   "source": [
    "for x in range(20):\n",
    "    if x % 2 == 0:\n",
    "        print(x, end = ' ')\n",
    "    else:\n",
    "        print('odd', end = ' ')"
   ]
  },
  {
   "cell_type": "code",
   "execution_count": 11,
   "id": "ba0f6b15",
   "metadata": {},
   "outputs": [
    {
     "data": {
      "text/plain": [
       "[0, 1, 2]"
      ]
     },
     "execution_count": 11,
     "metadata": {},
     "output_type": "execute_result"
    }
   ],
   "source": [
    "x = list(range(3))\n",
    "x"
   ]
  },
  {
   "cell_type": "code",
   "execution_count": 14,
   "id": "5d48fb8f",
   "metadata": {},
   "outputs": [
    {
     "name": "stdout",
     "output_type": "stream",
     "text": [
      "0 1 2 "
     ]
    }
   ],
   "source": [
    "for i in range(len(x)):\n",
    "    print(x[i], end = ' ')"
   ]
  },
  {
   "cell_type": "markdown",
   "id": "817843cf",
   "metadata": {},
   "source": [
    "conditionals"
   ]
  },
  {
   "cell_type": "code",
   "execution_count": 16,
   "id": "96418d14",
   "metadata": {},
   "outputs": [
    {
     "data": {
      "text/plain": [
       "2"
      ]
     },
     "execution_count": 16,
     "metadata": {},
     "output_type": "execute_result"
    }
   ],
   "source": [
    "def count_less_than(num_list, check_num):\n",
    "    total = 0\n",
    "    for n in num_list:\n",
    "        if n < check_num:\n",
    "            total += 1\n",
    "    return total\n",
    "\n",
    "count_less_than([3,4,20,50], 20)"
   ]
  },
  {
   "cell_type": "markdown",
   "id": "b6eee7e4",
   "metadata": {},
   "source": [
    "dictionaries"
   ]
  },
  {
   "cell_type": "code",
   "execution_count": 22,
   "id": "ae507c7c",
   "metadata": {},
   "outputs": [],
   "source": [
    "prices = {\n",
    "    'eggs': 3,\n",
    "    'milk': 2,\n",
    "    'kale': 6,\n",
    "    'chicken': 8\n",
    "}\n",
    "\n",
    "qty = {\n",
    "    'eggs': 1,\n",
    "    'milk': 2,\n",
    "    'kale': 2,\n",
    "    'chicken': 4\n",
    "}"
   ]
  },
  {
   "cell_type": "markdown",
   "id": "08c77f7e",
   "metadata": {},
   "source": [
    "how much did mia spend at fred meyer?"
   ]
  },
  {
   "cell_type": "code",
   "execution_count": 23,
   "id": "abe841e0",
   "metadata": {},
   "outputs": [
    {
     "name": "stdout",
     "output_type": "stream",
     "text": [
      "51\n"
     ]
    }
   ],
   "source": [
    "total = 0\n",
    "for key in prices:\n",
    "    total += prices[key] * qty[key]\n",
    "print(total)"
   ]
  }
 ],
 "metadata": {
  "kernelspec": {
   "display_name": "Python 3 (ipykernel)",
   "language": "python",
   "name": "python3"
  },
  "language_info": {
   "codemirror_mode": {
    "name": "ipython",
    "version": 3
   },
   "file_extension": ".py",
   "mimetype": "text/x-python",
   "name": "python",
   "nbconvert_exporter": "python",
   "pygments_lexer": "ipython3",
   "version": "3.9.12"
  }
 },
 "nbformat": 4,
 "nbformat_minor": 5
}
