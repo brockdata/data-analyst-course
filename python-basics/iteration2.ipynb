{
 "cells": [
  {
   "cell_type": "code",
   "execution_count": 7,
   "id": "c8e70776",
   "metadata": {},
   "outputs": [],
   "source": [
    "t = (4,5,6,7)\n",
    "s = 'this is a sequence!'\n",
    "l = [10.5, 45.7, 32,4]"
   ]
  },
  {
   "cell_type": "code",
   "execution_count": 3,
   "id": "2e58b0c0",
   "metadata": {},
   "outputs": [
    {
     "name": "stdout",
     "output_type": "stream",
     "text": [
      "4 5 6 7 "
     ]
    }
   ],
   "source": [
    "for i in t:\n",
    "    print(i, end=' ')"
   ]
  },
  {
   "cell_type": "code",
   "execution_count": 5,
   "id": "5f3a12a5",
   "metadata": {},
   "outputs": [
    {
     "name": "stdout",
     "output_type": "stream",
     "text": [
      "t h i s   i s   a   s e u q e n c e ! "
     ]
    }
   ],
   "source": [
    "for i in s:\n",
    "    print(i, end=' ')"
   ]
  },
  {
   "cell_type": "code",
   "execution_count": 8,
   "id": "9637a848",
   "metadata": {},
   "outputs": [
    {
     "name": "stdout",
     "output_type": "stream",
     "text": [
      "10.5 45.7 32 4 "
     ]
    }
   ],
   "source": [
    "for i in l:\n",
    "    print(i, end=' ')"
   ]
  },
  {
   "cell_type": "code",
   "execution_count": 10,
   "id": "4beeb8aa",
   "metadata": {},
   "outputs": [
    {
     "name": "stdout",
     "output_type": "stream",
     "text": [
      "0 1 2 3 4 "
     ]
    }
   ],
   "source": [
    "# help('range')\n",
    "r = range(5)\n",
    "for i in r:\n",
    "    print(i, end=' ')"
   ]
  },
  {
   "cell_type": "code",
   "execution_count": 12,
   "id": "77162180",
   "metadata": {},
   "outputs": [
    {
     "name": "stdout",
     "output_type": "stream",
     "text": [
      "0 0\n",
      "0 1\n",
      "0 2\n",
      "0 3\n",
      "0 4\n",
      "1 0\n",
      "1 1\n",
      "1 2\n",
      "1 3\n",
      "1 4\n"
     ]
    }
   ],
   "source": [
    "# nested loops\n",
    "# NOT considered \"pythonic\"\n",
    "for i in range(2):\n",
    "    for j in range(5):\n",
    "            print(i, j)"
   ]
  },
  {
   "cell_type": "code",
   "execution_count": 13,
   "id": "c6755f8a",
   "metadata": {},
   "outputs": [
    {
     "name": "stdout",
     "output_type": "stream",
     "text": [
      "a 0\n",
      "a 1\n",
      "a 2\n",
      "a 3\n",
      "a 4\n",
      "b 0\n",
      "b 1\n",
      "b 2\n",
      "b 3\n",
      "b 4\n"
     ]
    }
   ],
   "source": [
    "for i in ['a', 'b']:\n",
    "    for j in range(5):\n",
    "            print(i, j)"
   ]
  },
  {
   "cell_type": "code",
   "execution_count": 20,
   "id": "2596eb56",
   "metadata": {},
   "outputs": [
    {
     "name": "stdout",
     "output_type": "stream",
     "text": [
      "product: a \t ID: 0\n",
      "product: a \t ID: 1\n",
      "product: a \t ID: 2\n",
      "product: a \t ID: 3\n",
      "product: a \t ID: 4\n",
      "product: b \t ID: 0\n",
      "product: b \t ID: 1\n",
      "product: b \t ID: 2\n",
      "product: b \t ID: 3\n",
      "product: b \t ID: 4\n"
     ]
    }
   ],
   "source": [
    "products = ['a', 'b']\n",
    "_ids = range(5)\n",
    "for p in products:\n",
    "    for i in _ids:\n",
    "        print('product: ' + p, '\\t', 'ID: ' + str(i))"
   ]
  },
  {
   "cell_type": "code",
   "execution_count": 5,
   "id": "05cc591f",
   "metadata": {},
   "outputs": [
    {
     "name": "stdout",
     "output_type": "stream",
     "text": [
      "[59, 70, 30, 33, 60, 23, 60, 53, 64, 64]\n",
      "[118, 140, 60, 66, 120, 46, 120, 106, 128, 128]\n"
     ]
    }
   ],
   "source": [
    "# list comprehension\n",
    "# generate random list of nums\n",
    "# from random import randint\n",
    "# nums = [randint(0,100) for n in range(10)]\n",
    "\n",
    "# copy-paste\n",
    "nums = [59, 70, 30, 33, 60, 23, 60, 53, 64, 64]\n",
    "print(nums)\n",
    "nums_times_two = [n*2 for n in nums]\n",
    "print(nums_times_two)"
   ]
  },
  {
   "cell_type": "code",
   "execution_count": 12,
   "id": "a7e6f17e",
   "metadata": {},
   "outputs": [
    {
     "name": "stdout",
     "output_type": "stream",
     "text": [
      "0 0 0 1 0 2 0 3 0 4 1 0 1 1 1 2 1 3 1 4 \n",
      "\n",
      "0 0 0 1 0 2 0 3 0 4 1 0 1 1 1 2 1 3 1 4 "
     ]
    }
   ],
   "source": [
    "# nested list comprehension\n",
    "for i in range(2):\n",
    "    for j in range(5):\n",
    "        print(i,j, end=' ')\n",
    "\n",
    "print('\\n')\n",
    "\n",
    "# as list comprehension\n",
    "l = [(i,j)for i in range(2) for j in range(5)]\n",
    "for n in l:\n",
    "    print(n[0], n[1], end=' ')"
   ]
  },
  {
   "cell_type": "code",
   "execution_count": 13,
   "id": "dfb97b97",
   "metadata": {},
   "outputs": [
    {
     "name": "stdout",
     "output_type": "stream",
     "text": [
      "[(0, 0), (0, 1), (0, 2), (0, 3), (0, 4), (1, 0), (1, 1), (1, 2), (1, 3), (1, 4)]\n",
      "[[(0, 0), (1, 0)], [(0, 1), (1, 1)], [(0, 2), (1, 2)], [(0, 3), (1, 3)], [(0, 4), (1, 4)]]\n"
     ]
    }
   ],
   "source": [
    "# list within list\n",
    "l = [(i,j)for i in range(2) for j in range(5)]\n",
    "print(l)\n",
    "# these are grouped by each \"i\" iteration\n",
    "ll = [[(i,j)for i in range(2)] for j in range(5)]\n",
    "print(ll)"
   ]
  },
  {
   "cell_type": "code",
   "execution_count": 15,
   "id": "43520437",
   "metadata": {},
   "outputs": [
    {
     "name": "stdout",
     "output_type": "stream",
     "text": [
      "['odd', 'even', 'odd', 'even', 'odd', 'even', 'odd', 'even', 'odd']\n"
     ]
    }
   ],
   "source": [
    "# conditionals\n",
    "l = ['odd' if n % 2 != 0 else 'even' for n in range(1,10)]\n",
    "print(l)"
   ]
  },
  {
   "cell_type": "code",
   "execution_count": null,
   "id": "b0487a88",
   "metadata": {},
   "outputs": [],
   "source": [
    "# high quality code\n",
    "# require more memory"
   ]
  }
 ],
 "metadata": {
  "kernelspec": {
   "display_name": "Python 3 (ipykernel)",
   "language": "python",
   "name": "python3"
  },
  "language_info": {
   "codemirror_mode": {
    "name": "ipython",
    "version": 3
   },
   "file_extension": ".py",
   "mimetype": "text/x-python",
   "name": "python",
   "nbconvert_exporter": "python",
   "pygments_lexer": "ipython3",
   "version": "3.9.12"
  }
 },
 "nbformat": 4,
 "nbformat_minor": 5
}
