{
 "cells": [
  {
   "cell_type": "markdown",
   "id": "ac48b58b",
   "metadata": {},
   "source": [
    "COMMAND MODE"
   ]
  },
  {
   "cell_type": "markdown",
   "id": "8a358ce2",
   "metadata": {},
   "source": [
    "open keyboard shortcuts list:\n",
    "h"
   ]
  },
  {
   "cell_type": "markdown",
   "id": "5595b17b",
   "metadata": {},
   "source": [
    "hide output with: o"
   ]
  },
  {
   "cell_type": "code",
   "execution_count": 1,
   "id": "024fc233",
   "metadata": {},
   "outputs": [
    {
     "name": "stdout",
     "output_type": "stream",
     "text": [
      "8\n"
     ]
    }
   ],
   "source": [
    "x = 5 + 3\n",
    "print(x)"
   ]
  },
  {
   "cell_type": "markdown",
   "id": "a63a5840",
   "metadata": {},
   "source": [
    "toggle line numbers with: l"
   ]
  },
  {
   "cell_type": "code",
   "execution_count": 2,
   "id": "638b2bcb",
   "metadata": {},
   "outputs": [],
   "source": [
    "x = 5 + 3"
   ]
  },
  {
   "cell_type": "markdown",
   "id": "c0af95ca",
   "metadata": {},
   "source": [
    " "
   ]
  },
  {
   "cell_type": "markdown",
   "id": "64b1f514",
   "metadata": {},
   "source": [
    "DEBUGGING"
   ]
  },
  {
   "cell_type": "code",
   "execution_count": 3,
   "id": "277d0a38",
   "metadata": {},
   "outputs": [
    {
     "name": "stdout",
     "output_type": "stream",
     "text": [
      "8\n"
     ]
    }
   ],
   "source": [
    "print(x)"
   ]
  },
  {
   "cell_type": "code",
   "execution_count": 4,
   "id": "e4ed6d20",
   "metadata": {},
   "outputs": [
    {
     "ename": "NameError",
     "evalue": "name 'y' is not defined",
     "output_type": "error",
     "traceback": [
      "\u001b[1;31m---------------------------------------------------------------------------\u001b[0m",
      "\u001b[1;31mNameError\u001b[0m                                 Traceback (most recent call last)",
      "Input \u001b[1;32mIn [4]\u001b[0m, in \u001b[0;36m<cell line: 1>\u001b[1;34m()\u001b[0m\n\u001b[1;32m----> 1\u001b[0m \u001b[38;5;28mprint\u001b[39m(\u001b[43my\u001b[49m)\n",
      "\u001b[1;31mNameError\u001b[0m: name 'y' is not defined"
     ]
    }
   ],
   "source": [
    "print(y)"
   ]
  },
  {
   "cell_type": "code",
   "execution_count": 5,
   "id": "b3924558",
   "metadata": {
    "scrolled": true
   },
   "outputs": [
    {
     "ename": "NameError",
     "evalue": "name 'prit' is not defined",
     "output_type": "error",
     "traceback": [
      "\u001b[1;31m---------------------------------------------------------------------------\u001b[0m",
      "\u001b[1;31mNameError\u001b[0m                                 Traceback (most recent call last)",
      "Input \u001b[1;32mIn [5]\u001b[0m, in \u001b[0;36m<cell line: 1>\u001b[1;34m()\u001b[0m\n\u001b[1;32m----> 1\u001b[0m \u001b[43mprit\u001b[49m(y)\n",
      "\u001b[1;31mNameError\u001b[0m: name 'prit' is not defined"
     ]
    }
   ],
   "source": [
    "prit(y)"
   ]
  },
  {
   "cell_type": "markdown",
   "id": "4e58d80e",
   "metadata": {},
   "source": [
    " "
   ]
  },
  {
   "cell_type": "markdown",
   "id": "a4f8f055",
   "metadata": {},
   "source": [
    "RESTART KERNEL"
   ]
  },
  {
   "cell_type": "markdown",
   "id": "8cd9b22a",
   "metadata": {},
   "source": [
    "clear all outputs, restart and run all"
   ]
  }
 ],
 "metadata": {
  "kernelspec": {
   "display_name": "Python 3 (ipykernel)",
   "language": "python",
   "name": "python3"
  },
  "language_info": {
   "codemirror_mode": {
    "name": "ipython",
    "version": 3
   },
   "file_extension": ".py",
   "mimetype": "text/x-python",
   "name": "python",
   "nbconvert_exporter": "python",
   "pygments_lexer": "ipython3",
   "version": "3.9.12"
  }
 },
 "nbformat": 4,
 "nbformat_minor": 5
}
