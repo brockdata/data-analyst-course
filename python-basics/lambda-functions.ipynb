{
 "cells": [
  {
   "cell_type": "code",
   "execution_count": 6,
   "id": "8b500e95",
   "metadata": {},
   "outputs": [
    {
     "name": "stdout",
     "output_type": "stream",
     "text": [
      "9\n",
      "9\n",
      "9\n"
     ]
    }
   ],
   "source": [
    "# anonymous functions\n",
    "# one-line functions with no name\n",
    "\n",
    "# normal\n",
    "def pow_two(x):\n",
    "    return x**2\n",
    "print(pow_two(3))\n",
    "\n",
    "# anonymous / lambda\n",
    "# same way - giving it a name\n",
    "fx = lambda x: x**2\n",
    "print(fx(3))\n",
    "# the easier way\n",
    "print((lambda x: x**2)(3))"
   ]
  },
  {
   "cell_type": "code",
   "execution_count": 8,
   "id": "58bf6fee",
   "metadata": {},
   "outputs": [
    {
     "name": "stdout",
     "output_type": "stream",
     "text": [
      "15\n",
      "25\n"
     ]
    }
   ],
   "source": [
    "# x + y\n",
    "sumxy = lambda x,y: x + y\n",
    "print(sumxy(10,5))\n",
    "\n",
    "# x + y(x)\n",
    "fx = lambda x,y: x + y(x)\n",
    "# y MUST be a fx\n",
    "# print(fx(10, 10))\n",
    "print(fx(10, lambda x: x + 5))"
   ]
  },
  {
   "cell_type": "code",
   "execution_count": null,
   "id": "5953b17c",
   "metadata": {},
   "outputs": [],
   "source": []
  }
 ],
 "metadata": {
  "kernelspec": {
   "display_name": "Python 3 (ipykernel)",
   "language": "python",
   "name": "python3"
  },
  "language_info": {
   "codemirror_mode": {
    "name": "ipython",
    "version": 3
   },
   "file_extension": ".py",
   "mimetype": "text/x-python",
   "name": "python",
   "nbconvert_exporter": "python",
   "pygments_lexer": "ipython3",
   "version": "3.9.12"
  }
 },
 "nbformat": 4,
 "nbformat_minor": 5
}
