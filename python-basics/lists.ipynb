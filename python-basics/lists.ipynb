{
 "cells": [
  {
   "cell_type": "code",
   "execution_count": 1,
   "id": "da0a92c5",
   "metadata": {},
   "outputs": [
    {
     "ename": "NameError",
     "evalue": "name 'namesb' is not defined",
     "output_type": "error",
     "traceback": [
      "\u001b[1;31m---------------------------------------------------------------------------\u001b[0m",
      "\u001b[1;31mNameError\u001b[0m                                 Traceback (most recent call last)",
      "Input \u001b[1;32mIn [1]\u001b[0m, in \u001b[0;36m<cell line: 2>\u001b[1;34m()\u001b[0m\n\u001b[0;32m      1\u001b[0m names \u001b[38;5;241m=\u001b[39m [\u001b[38;5;124m\"\u001b[39m\u001b[38;5;124mNihat Fauna\u001b[39m\u001b[38;5;124m\"\u001b[39m, \u001b[38;5;124m\"\u001b[39m\u001b[38;5;124mNona Kallistrate\u001b[39m\u001b[38;5;124m\"\u001b[39m, \u001b[38;5;124m\"\u001b[39m\u001b[38;5;124mRajendra Su\u001b[39m\u001b[38;5;124m'\u001b[39m\u001b[38;5;124mad\u001b[39m\u001b[38;5;124m\"\u001b[39m, \u001b[38;5;124m\"\u001b[39m\u001b[38;5;124mUpton Antonia\u001b[39m\u001b[38;5;124m\"\u001b[39m]\n\u001b[1;32m----> 2\u001b[0m \u001b[43mnamesb\u001b[49m\n",
      "\u001b[1;31mNameError\u001b[0m: name 'namesb' is not defined"
     ]
    }
   ],
   "source": [
    "names = [\"Nihat Fauna\", \"Nona Kallistrate\", \"Rajendra Su'ad\", \"Upton Antonia\"]\n",
    "namesb"
   ]
  },
  {
   "cell_type": "markdown",
   "id": "61d3a077",
   "metadata": {},
   "source": [
    "index"
   ]
  },
  {
   "cell_type": "code",
   "execution_count": null,
   "id": "4606f983",
   "metadata": {},
   "outputs": [],
   "source": [
    "print(names[1])"
   ]
  },
  {
   "cell_type": "code",
   "execution_count": null,
   "id": "1b23ab63",
   "metadata": {},
   "outputs": [],
   "source": [
    "names[-1]"
   ]
  },
  {
   "cell_type": "markdown",
   "id": "741afc51",
   "metadata": {},
   "source": [
    "replace"
   ]
  },
  {
   "cell_type": "code",
   "execution_count": null,
   "id": "46076b1a",
   "metadata": {},
   "outputs": [],
   "source": [
    "names[3] = \"Kapua Stamatios\"\n",
    "names"
   ]
  },
  {
   "cell_type": "markdown",
   "id": "27afd734",
   "metadata": {},
   "source": [
    "delete"
   ]
  },
  {
   "cell_type": "code",
   "execution_count": null,
   "id": "10e09e44",
   "metadata": {},
   "outputs": [],
   "source": [
    "del names[2]\n",
    "names"
   ]
  },
  {
   "cell_type": "markdown",
   "id": "4bba8ffc",
   "metadata": {},
   "source": [
    "add"
   ]
  },
  {
   "cell_type": "markdown",
   "id": "2f00e43b",
   "metadata": {},
   "source": [
    "\".\" operator to invoke a method"
   ]
  },
  {
   "cell_type": "code",
   "execution_count": null,
   "id": "96d61bdc",
   "metadata": {},
   "outputs": [],
   "source": [
    "names.append(\"Laquisha Drishti\")\n",
    "names"
   ]
  },
  {
   "cell_type": "code",
   "execution_count": null,
   "id": "6d6be4da",
   "metadata": {},
   "outputs": [],
   "source": [
    "names.extend([\"Vjekoslav Ndubuisi\", \"Nithin Ieronim\"])\n",
    "names"
   ]
  },
  {
   "cell_type": "code",
   "execution_count": null,
   "id": "79c0bc05",
   "metadata": {},
   "outputs": [],
   "source": [
    "print(\"the first name is \" + names[0] + '.')"
   ]
  },
  {
   "cell_type": "code",
   "execution_count": null,
   "id": "66c1a229",
   "metadata": {},
   "outputs": [],
   "source": [
    "len(names)"
   ]
  },
  {
   "cell_type": "markdown",
   "id": "f823b333",
   "metadata": {},
   "source": [
    "slicing"
   ]
  },
  {
   "cell_type": "code",
   "execution_count": null,
   "id": "22bfef9d",
   "metadata": {},
   "outputs": [],
   "source": [
    "names[1:3]"
   ]
  },
  {
   "cell_type": "code",
   "execution_count": null,
   "id": "1c5cb807",
   "metadata": {},
   "outputs": [],
   "source": [
    "names[:2]"
   ]
  },
  {
   "cell_type": "code",
   "execution_count": null,
   "id": "05bae389",
   "metadata": {},
   "outputs": [],
   "source": [
    "names[4:]"
   ]
  },
  {
   "cell_type": "code",
   "execution_count": null,
   "id": "d3cdca10",
   "metadata": {},
   "outputs": [],
   "source": [
    "names[-2:]"
   ]
  },
  {
   "cell_type": "markdown",
   "id": "d45d2cad",
   "metadata": {},
   "source": [
    "combine lists"
   ]
  },
  {
   "cell_type": "code",
   "execution_count": null,
   "id": "df5c873c",
   "metadata": {
    "scrolled": true
   },
   "outputs": [],
   "source": [
    "new_names = [\"Sigfrid Þróndr\", \"Selman Victoria\"]\n",
    "all_names = names, new_names\n",
    "all_names"
   ]
  },
  {
   "cell_type": "code",
   "execution_count": null,
   "id": "9ae7035a",
   "metadata": {},
   "outputs": [],
   "source": [
    "all_names = names + new_names\n",
    "all_names"
   ]
  },
  {
   "cell_type": "code",
   "execution_count": null,
   "id": "a291ecf9",
   "metadata": {},
   "outputs": [],
   "source": [
    "sort"
   ]
  },
  {
   "cell_type": "code",
   "execution_count": null,
   "id": "18f9419a",
   "metadata": {},
   "outputs": [],
   "source": [
    "names.sort()\n",
    "names"
   ]
  },
  {
   "cell_type": "code",
   "execution_count": null,
   "id": "b835a9d5",
   "metadata": {},
   "outputs": [],
   "source": [
    "names.sort(reverse=True)\n",
    "names"
   ]
  },
  {
   "cell_type": "code",
   "execution_count": null,
   "id": "c53d8523",
   "metadata": {},
   "outputs": [],
   "source": [
    "nums = [7,4,9,3]\n",
    "nums.sort()\n",
    "nums"
   ]
  },
  {
   "cell_type": "code",
   "execution_count": null,
   "id": "cc3f8aea",
   "metadata": {},
   "outputs": [],
   "source": [
    "nums.sort(reverse=True)\n",
    "nums"
   ]
  },
  {
   "cell_type": "code",
   "execution_count": null,
   "id": "fea11b04",
   "metadata": {},
   "outputs": [],
   "source": [
    "nums.index(7)"
   ]
  },
  {
   "cell_type": "markdown",
   "id": "508d9658",
   "metadata": {},
   "source": [
    "range(start, stop step)\n",
    "order of priority: stop, start, step"
   ]
  },
  {
   "cell_type": "code",
   "execution_count": 1,
   "id": "1eecb31d",
   "metadata": {},
   "outputs": [
    {
     "data": {
      "text/plain": [
       "range(0, 10)"
      ]
     },
     "execution_count": 1,
     "metadata": {},
     "output_type": "execute_result"
    }
   ],
   "source": [
    "range(10)"
   ]
  },
  {
   "cell_type": "code",
   "execution_count": 2,
   "id": "c5c5cee8",
   "metadata": {},
   "outputs": [
    {
     "data": {
      "text/plain": [
       "[0, 1, 2, 3, 4, 5, 6, 7, 8, 9]"
      ]
     },
     "execution_count": 2,
     "metadata": {},
     "output_type": "execute_result"
    }
   ],
   "source": [
    "list(range(10))"
   ]
  },
  {
   "cell_type": "code",
   "execution_count": 3,
   "id": "2277966a",
   "metadata": {},
   "outputs": [
    {
     "data": {
      "text/plain": [
       "[3, 4, 5, 6]"
      ]
     },
     "execution_count": 3,
     "metadata": {},
     "output_type": "execute_result"
    }
   ],
   "source": [
    "list(range(3,7))"
   ]
  },
  {
   "cell_type": "code",
   "execution_count": 4,
   "id": "c43b5fef",
   "metadata": {},
   "outputs": [
    {
     "data": {
      "text/plain": [
       "[1, 3, 5, 7, 9, 11, 13, 15, 17, 19]"
      ]
     },
     "execution_count": 4,
     "metadata": {},
     "output_type": "execute_result"
    }
   ],
   "source": [
    "list(range(1,20,2))"
   ]
  },
  {
   "cell_type": "code",
   "execution_count": null,
   "id": "a4b5f691",
   "metadata": {},
   "outputs": [],
   "source": []
  }
 ],
 "metadata": {
  "kernelspec": {
   "display_name": "Python 3 (ipykernel)",
   "language": "python",
   "name": "python3"
  },
  "language_info": {
   "codemirror_mode": {
    "name": "ipython",
    "version": 3
   },
   "file_extension": ".py",
   "mimetype": "text/x-python",
   "name": "python",
   "nbconvert_exporter": "python",
   "pygments_lexer": "ipython3",
   "version": "3.9.12"
  }
 },
 "nbformat": 4,
 "nbformat_minor": 5
}
