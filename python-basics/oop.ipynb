{
 "cells": [
  {
   "cell_type": "markdown",
   "id": "41718377",
   "metadata": {},
   "source": [
    "OBJECT-ORIENTED PROGRAMMING"
   ]
  },
  {
   "cell_type": "markdown",
   "id": "9e48db1b",
   "metadata": {},
   "source": [
    "object = data + manipulation\n",
    "(aka instance)"
   ]
  },
  {
   "cell_type": "markdown",
   "id": "3621743f",
   "metadata": {},
   "source": [
    "class = rules for creating an object"
   ]
  },
  {
   "cell_type": "markdown",
   "id": "a8a7705d",
   "metadata": {},
   "source": [
    "assign attributes to object (aka properties)"
   ]
  },
  {
   "cell_type": "markdown",
   "id": "e2bf5871",
   "metadata": {},
   "source": [
    "method = operation to apply to object"
   ]
  },
  {
   "cell_type": "markdown",
   "id": "c4dbf0e9",
   "metadata": {},
   "source": [
    "focus on the OBJECT not the ACTION"
   ]
  },
  {
   "cell_type": "markdown",
   "id": "70d8548f",
   "metadata": {},
   "source": [
    "object: lst = [15.9,12.4,64.0]"
   ]
  },
  {
   "cell_type": "markdown",
   "id": "d6b1a63b",
   "metadata": {},
   "source": [
    "attribute: type of data = float"
   ]
  },
  {
   "cell_type": "markdown",
   "id": "e10c4e7d",
   "metadata": {},
   "source": [
    "method: .append()"
   ]
  },
  {
   "cell_type": "markdown",
   "id": "69e8cce9",
   "metadata": {},
   "source": [
    "perform methods AFTER creating an object"
   ]
  },
  {
   "cell_type": "markdown",
   "id": "26aa3cf7",
   "metadata": {},
   "source": [
    "function: many parameters, exists on its own, function()"
   ]
  },
  {
   "cell_type": "markdown",
   "id": "f209c089",
   "metadata": {},
   "source": [
    "method: the object is a parameter, belongs to a class, object.method()"
   ]
  },
  {
   "cell_type": "markdown",
   "id": "887125d6",
   "metadata": {},
   "source": [
    " "
   ]
  },
  {
   "cell_type": "markdown",
   "id": "eb6aa5ed",
   "metadata": {},
   "source": [
    "MODULES, PACKAGES, PY LIBRARY"
   ]
  },
  {
   "cell_type": "markdown",
   "id": "f0122ad0",
   "metadata": {},
   "source": [
    "pre-written code"
   ]
  },
  {
   "cell_type": "markdown",
   "id": "a8d1a680",
   "metadata": {},
   "source": [
    "module: import variables, functions, classes"
   ]
  },
  {
   "cell_type": "markdown",
   "id": "6a84e777",
   "metadata": {},
   "source": [
    "package: collection of modules (aka library)"
   ]
  },
  {
   "cell_type": "markdown",
   "id": "e96bcb8f",
   "metadata": {},
   "source": [
    "python standard library: installed with python (eg \"list\" class, len() function)"
   ]
  },
  {
   "cell_type": "markdown",
   "id": "b933eebe",
   "metadata": {},
   "source": [
    "write oyur own modules - experts"
   ]
  },
  {
   "cell_type": "code",
   "execution_count": 1,
   "id": "4e56acf5",
   "metadata": {},
   "outputs": [],
   "source": [
    "import math"
   ]
  },
  {
   "cell_type": "code",
   "execution_count": 2,
   "id": "311e99d2",
   "metadata": {},
   "outputs": [
    {
     "data": {
      "text/plain": [
       "4.0"
      ]
     },
     "execution_count": 2,
     "metadata": {},
     "output_type": "execute_result"
    }
   ],
   "source": [
    "math.sqrt(16)"
   ]
  },
  {
   "cell_type": "code",
   "execution_count": 3,
   "id": "2356769d",
   "metadata": {},
   "outputs": [],
   "source": [
    "from math import sqrt"
   ]
  },
  {
   "cell_type": "code",
   "execution_count": 4,
   "id": "5b08cc4c",
   "metadata": {},
   "outputs": [
    {
     "data": {
      "text/plain": [
       "8.0"
      ]
     },
     "execution_count": 4,
     "metadata": {},
     "output_type": "execute_result"
    }
   ],
   "source": [
    "sqrt(64)"
   ]
  },
  {
   "cell_type": "code",
   "execution_count": 5,
   "id": "0d282fdc",
   "metadata": {},
   "outputs": [],
   "source": [
    "from math import sqrt as s"
   ]
  },
  {
   "cell_type": "code",
   "execution_count": 6,
   "id": "16622bc4",
   "metadata": {},
   "outputs": [
    {
     "data": {
      "text/plain": [
       "6.0"
      ]
     },
     "execution_count": 6,
     "metadata": {},
     "output_type": "execute_result"
    }
   ],
   "source": [
    "s(36)"
   ]
  },
  {
   "cell_type": "code",
   "execution_count": 7,
   "id": "0481b2dd",
   "metadata": {},
   "outputs": [],
   "source": [
    "import math as m"
   ]
  },
  {
   "cell_type": "code",
   "execution_count": 8,
   "id": "64613d84",
   "metadata": {
    "scrolled": true
   },
   "outputs": [
    {
     "data": {
      "text/plain": [
       "2.0"
      ]
     },
     "execution_count": 8,
     "metadata": {},
     "output_type": "execute_result"
    }
   ],
   "source": [
    "m.sqrt(4)"
   ]
  },
  {
   "cell_type": "markdown",
   "id": "8720cb5f",
   "metadata": {},
   "source": [
    "be careful with this. if you import a method / function that is also named in another module, python won't know which one to pickb"
   ]
  },
  {
   "cell_type": "markdown",
   "id": "6cb551fe",
   "metadata": {},
   "source": [
    "eg math.sqrt() != module2.sqrt() ???"
   ]
  },
  {
   "cell_type": "code",
   "execution_count": 9,
   "id": "3427bfb7",
   "metadata": {},
   "outputs": [],
   "source": [
    "from math import *"
   ]
  },
  {
   "cell_type": "code",
   "execution_count": 10,
   "id": "c611d20b",
   "metadata": {},
   "outputs": [
    {
     "data": {
      "text/plain": [
       "15.0"
      ]
     },
     "execution_count": 10,
     "metadata": {},
     "output_type": "execute_result"
    }
   ],
   "source": [
    "sqrt(225)"
   ]
  },
  {
   "cell_type": "code",
   "execution_count": null,
   "id": "c69e9906",
   "metadata": {},
   "outputs": [],
   "source": []
  }
 ],
 "metadata": {
  "kernelspec": {
   "display_name": "Python 3 (ipykernel)",
   "language": "python",
   "name": "python3"
  },
  "language_info": {
   "codemirror_mode": {
    "name": "ipython",
    "version": 3
   },
   "file_extension": ".py",
   "mimetype": "text/x-python",
   "name": "python",
   "nbconvert_exporter": "python",
   "pygments_lexer": "ipython3",
   "version": "3.9.12"
  }
 },
 "nbformat": 4,
 "nbformat_minor": 5
}
