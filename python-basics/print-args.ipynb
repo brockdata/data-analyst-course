{
 "cells": [
  {
   "cell_type": "code",
   "execution_count": 1,
   "id": "c7e43249",
   "metadata": {},
   "outputs": [],
   "source": [
    "# file: json, csv, html\n",
    "# data: represents text (not bool, num, float)"
   ]
  },
  {
   "cell_type": "code",
   "execution_count": 12,
   "id": "594e1ec1",
   "metadata": {},
   "outputs": [
    {
     "name": "stdout",
     "output_type": "stream",
     "text": [
      "this var is A\n",
      "the first item in this list is 500\n",
      "the low in this list is 500\n",
      "the price of this item is $2.990000\n",
      "the price of this item is $2.99\n"
     ]
    }
   ],
   "source": [
    "# %s\n",
    "var = 'A'\n",
    "print('this var is \"%s\"' % var)\n",
    "print(\"this var is \\\"%s\\\"\" % var)\n",
    "\n",
    "# %d\n",
    "list_var = [500, 600]\n",
    "print('the first item in this list is %d' % list_var[0])\n",
    "print('the low in this list is %d' % min(list_var))\n",
    "\n",
    "# %f\n",
    "price = 2.99\n",
    "print('the price of this item is $%f' % price)\n",
    "print('the price of this item is $%.2f' % price)"
   ]
  },
  {
   "cell_type": "code",
   "execution_count": 16,
   "id": "350e387a",
   "metadata": {},
   "outputs": [
    {
     "name": "stdout",
     "output_type": "stream",
     "text": [
      "product A is listed for $2.99 in the store. There are 500 of them in supply.\n"
     ]
    }
   ],
   "source": [
    "print('product %s is listed for $%.2f in the store. There are %d of them in supply.' % (var, price, list_var[0]))"
   ]
  },
  {
   "cell_type": "code",
   "execution_count": null,
   "id": "ad027ecd",
   "metadata": {},
   "outputs": [],
   "source": []
  }
 ],
 "metadata": {
  "kernelspec": {
   "display_name": "Python 3 (ipykernel)",
   "language": "python",
   "name": "python3"
  },
  "language_info": {
   "codemirror_mode": {
    "name": "ipython",
    "version": 3
   },
   "file_extension": ".py",
   "mimetype": "text/x-python",
   "name": "python",
   "nbconvert_exporter": "python",
   "pygments_lexer": "ipython3",
   "version": "3.9.12"
  }
 },
 "nbformat": 4,
 "nbformat_minor": 5
}
