{
 "cells": [
  {
   "cell_type": "code",
   "execution_count": 10,
   "id": "64bc3154",
   "metadata": {},
   "outputs": [
    {
     "name": "stdout",
     "output_type": "stream",
     "text": [
      "this product is from:\n",
      "Walmart\n",
      "---------------------------\n",
      "this product is from:\n",
      "\n",
      "Walmart\n",
      "this product is from: \tWalmart\n",
      "THIS PRODUCT is from Walmart \r",
      "bananas\n",
      "#### product number is from Walmart \r",
      "4011\n"
     ]
    }
   ],
   "source": [
    "# newline\n",
    "store = 'Walmart'\n",
    "print('this product is from:\\n%s' % store)\n",
    "print('---------------------------')\n",
    "print('this product is from:\\n\\n%s' % store)\n",
    "\n",
    "# tab\n",
    "print('this product is from: \\t%s' % store)\n",
    "\n",
    "# carriage return\n",
    "# carry subsequent character to the begining of the string\n",
    "product = 'bananas'\n",
    "product_num = '4011'\n",
    "print('THIS PRODUCT is from %s \\r%s' % (store, product))\n",
    "print('#### product number is from %s \\r%s' % (store, product_num))"
   ]
  },
  {
   "cell_type": "code",
   "execution_count": 25,
   "id": "ca16efce",
   "metadata": {},
   "outputs": [
    {
     "name": "stdout",
     "output_type": "stream",
     "text": [
      "This is a string\n",
      "That is a string\n",
      "True\n",
      "False\n",
      "True\n",
      "True\n",
      "['This', 'is', 'a', 'string']\n",
      "['This', 'is', 'a', 'string']\n",
      "---------------------------\n",
      "['Th', 's ', 's a str', 'ng']\n",
      "---------------------------\n",
      "['This is a string']\n",
      "['This', 'is a string']\n",
      "---------------------------\n",
      "['this', 'is', 'a', 'string']\n",
      "this\n"
     ]
    }
   ],
   "source": [
    "# methods\n",
    "string = 'This is a string'\n",
    "print(string)\n",
    "\n",
    "# replace\n",
    "print(string.replace('This', 'That'))\n",
    "\n",
    "# starts with\n",
    "print(string.startswith('This'))\n",
    "print(string.startswith('this'))\n",
    "\n",
    "# endswith\n",
    "print(string.endswith('string'))\n",
    "print(string.endswith('g'))\n",
    "\n",
    "# split\n",
    "print(string.split())\n",
    "print(string.split(' '))\n",
    "print('---------------------------')\n",
    "# print(string.split(''))\n",
    "print(string.split('i'))\n",
    "print('---------------------------')\n",
    "print(string.split(maxsplit=0))\n",
    "print(string.split(maxsplit=1))\n",
    "print('---------------------------')\n",
    "comma = 'this,is,a,string'\n",
    "print(comma.split(','))\n",
    "print(comma.split(',')[0])"
   ]
  },
  {
   "cell_type": "code",
   "execution_count": 28,
   "id": "4d2ac9a1",
   "metadata": {},
   "outputs": [
    {
     "name": "stdout",
     "output_type": "stream",
     "text": [
      "MR. NATHAN PATRICK BROCK\n",
      "mr. nathan patrick brock\n",
      "Mr. Nathan Patrick Brock\n"
     ]
    }
   ],
   "source": [
    "# change case\n",
    "\n",
    "# upper()\n",
    "string = 'Mr. Nathan Patrick Brock'\n",
    "print(string.upper())\n",
    "\n",
    "# lower()\n",
    "lower_name = string.lower()\n",
    "print(lower_name)\n",
    "\n",
    "# title()\n",
    "print(lower_name.title())"
   ]
  },
  {
   "cell_type": "code",
   "execution_count": 34,
   "id": "a77df013",
   "metadata": {},
   "outputs": [
    {
     "name": "stdout",
     "output_type": "stream",
     "text": [
      "this data has extra spaces\n",
      "why is this even a thing\n",
      "why is this even a thing-----\n",
      "     this data has extra spaces\n",
      "there is some weird stuff going on here\n"
     ]
    }
   ],
   "source": [
    "# stripping\n",
    "# strip()\n",
    "dirty_data = '     this data has extra spaces     '\n",
    "print(dirty_data.strip())\n",
    "other_dirty_data = '-----why is this even a thing-----'\n",
    "print(other_dirty_data.strip('-'))\n",
    "\n",
    "# lstrip()\n",
    "print(other_dirty_data.lstrip('-'))\n",
    "print(dirty_data.rstrip())\n",
    "\n",
    "crazy_data = '#%there is some weird stuff going on here*@%$'\n",
    "print(crazy_data.strip('!@#$%^&*()_+'))"
   ]
  },
  {
   "cell_type": "code",
   "execution_count": null,
   "id": "d2fee4a0",
   "metadata": {},
   "outputs": [],
   "source": []
  }
 ],
 "metadata": {
  "kernelspec": {
   "display_name": "Python 3 (ipykernel)",
   "language": "python",
   "name": "python3"
  },
  "language_info": {
   "codemirror_mode": {
    "name": "ipython",
    "version": 3
   },
   "file_extension": ".py",
   "mimetype": "text/x-python",
   "name": "python",
   "nbconvert_exporter": "python",
   "pygments_lexer": "ipython3",
   "version": "3.9.12"
  }
 },
 "nbformat": 4,
 "nbformat_minor": 5
}
