{
 "cells": [
  {
   "cell_type": "markdown",
   "id": "63fa32b5",
   "metadata": {},
   "source": [
    "indentation"
   ]
  },
  {
   "cell_type": "code",
   "execution_count": 1,
   "id": "725ab607",
   "metadata": {},
   "outputs": [
    {
     "name": "stdout",
     "output_type": "stream",
     "text": [
      "5\n"
     ]
    }
   ],
   "source": [
    "def five(x):\n",
    "    x = 5\n",
    "    return x\n",
    "\n",
    "print(five(3))"
   ]
  },
  {
   "cell_type": "code",
   "execution_count": 2,
   "id": "4c35b4fd",
   "metadata": {},
   "outputs": [],
   "source": [
    "def five(x):\n",
    "    x = 5\n",
    "    return x\n",
    "    print(five(3))"
   ]
  },
  {
   "cell_type": "markdown",
   "id": "261a1a1e",
   "metadata": {},
   "source": [
    "line continuation"
   ]
  },
  {
   "cell_type": "code",
   "execution_count": 3,
   "id": "5f6ace9f",
   "metadata": {},
   "outputs": [
    {
     "data": {
      "text/plain": [
       "8.0"
      ]
     },
     "execution_count": 3,
     "metadata": {},
     "output_type": "execute_result"
    }
   ],
   "source": [
    "2.0 * 1.5 + \\\n",
    "5"
   ]
  },
  {
   "cell_type": "markdown",
   "id": "950c2247",
   "metadata": {},
   "source": [
    "indexing"
   ]
  },
  {
   "cell_type": "code",
   "execution_count": 4,
   "id": "d0bfbecc",
   "metadata": {},
   "outputs": [
    {
     "data": {
      "text/plain": [
       "'d'"
      ]
     },
     "execution_count": 4,
     "metadata": {},
     "output_type": "execute_result"
    }
   ],
   "source": [
    "\"Friday\"[3]"
   ]
  },
  {
   "cell_type": "code",
   "execution_count": 5,
   "id": "f38f7371",
   "metadata": {},
   "outputs": [
    {
     "data": {
      "text/plain": [
       "'Fri'"
      ]
     },
     "execution_count": 5,
     "metadata": {},
     "output_type": "execute_result"
    }
   ],
   "source": [
    "\"Friday\"[0:3]"
   ]
  },
  {
   "cell_type": "markdown",
   "id": "0b1f9c7c",
   "metadata": {},
   "source": [
    "data types"
   ]
  },
  {
   "cell_type": "code",
   "execution_count": null,
   "id": "83b09d02",
   "metadata": {},
   "outputs": [],
   "source": [
    "x1 = 5\n",
    "\n",
    "type(x1)"
   ]
  },
  {
   "cell_type": "code",
   "execution_count": null,
   "id": "49d66696",
   "metadata": {},
   "outputs": [],
   "source": [
    "x2 = 4.75\n",
    "\n",
    "type(x2)\n"
   ]
  },
  {
   "cell_type": "markdown",
   "id": "8c88d526",
   "metadata": {},
   "source": [
    "convert"
   ]
  },
  {
   "cell_type": "code",
   "execution_count": null,
   "id": "a44e6bc7",
   "metadata": {},
   "outputs": [],
   "source": [
    "int(x2)\n",
    "\n",
    "float(5)"
   ]
  },
  {
   "cell_type": "markdown",
   "id": "c26cdbb2",
   "metadata": {},
   "source": [
    "bools"
   ]
  },
  {
   "cell_type": "code",
   "execution_count": null,
   "id": "482f5b12",
   "metadata": {},
   "outputs": [],
   "source": [
    "x3 = True\n",
    "type(x3)"
   ]
  },
  {
   "cell_type": "code",
   "execution_count": null,
   "id": "4939bc72",
   "metadata": {},
   "outputs": [],
   "source": [
    "x3 = true"
   ]
  },
  {
   "cell_type": "markdown",
   "id": "39bd768b",
   "metadata": {},
   "source": [
    "everything is boolean... including conditionals"
   ]
  },
  {
   "cell_type": "code",
   "execution_count": 6,
   "id": "7c7f5e0a",
   "metadata": {},
   "outputs": [
    {
     "name": "stdout",
     "output_type": "stream",
     "text": [
      "Incorrect\n"
     ]
    }
   ],
   "source": [
    "x = 2\n",
    "\n",
    "if x > 4:\n",
    "    print(\"Correct\")\n",
    "else:\n",
    "    print(\"Incorrect\")"
   ]
  },
  {
   "cell_type": "markdown",
   "id": "e543e2e8",
   "metadata": {},
   "source": [
    "comments"
   ]
  },
  {
   "cell_type": "code",
   "execution_count": null,
   "id": "b872d39a",
   "metadata": {},
   "outputs": [],
   "source": [
    "# comment line 1\n",
    "# comment line 2\n",
    "print(300)"
   ]
  }
 ],
 "metadata": {
  "kernelspec": {
   "display_name": "Python 3 (ipykernel)",
   "language": "python",
   "name": "python3"
  },
  "language_info": {
   "codemirror_mode": {
    "name": "ipython",
    "version": 3
   },
   "file_extension": ".py",
   "mimetype": "text/x-python",
   "name": "python",
   "nbconvert_exporter": "python",
   "pygments_lexer": "ipython3",
   "version": "3.9.12"
  }
 },
 "nbformat": 4,
 "nbformat_minor": 5
}
