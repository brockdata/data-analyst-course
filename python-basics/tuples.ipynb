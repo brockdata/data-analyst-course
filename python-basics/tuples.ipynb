{
 "cells": [
  {
   "cell_type": "code",
   "execution_count": 1,
   "id": "337d15ce",
   "metadata": {},
   "outputs": [],
   "source": [
    "z = (40,41,42)"
   ]
  },
  {
   "cell_type": "markdown",
   "id": "37a63776",
   "metadata": {},
   "source": [
    "tuple is pyhton default"
   ]
  },
  {
   "cell_type": "code",
   "execution_count": null,
   "id": "09e9a9e0",
   "metadata": {},
   "outputs": [],
   "source": [
    "y = 50,14,12\n",
    "y"
   ]
  },
  {
   "cell_type": "markdown",
   "id": "b6e4e5bc",
   "metadata": {},
   "source": [
    "tuple assignment / pack tuple"
   ]
  },
  {
   "cell_type": "code",
   "execution_count": 4,
   "id": "b2214432",
   "metadata": {},
   "outputs": [
    {
     "data": {
      "text/plain": [
       "6"
      ]
     },
     "execution_count": 4,
     "metadata": {},
     "output_type": "execute_result"
    }
   ],
   "source": [
    "a,b,c = 1,4,6\n",
    "c"
   ]
  },
  {
   "cell_type": "code",
   "execution_count": 5,
   "id": "7378a695",
   "metadata": {
    "scrolled": true
   },
   "outputs": [
    {
     "data": {
      "text/plain": [
       "[(50, 14, 12), (40, 41, 42)]"
      ]
     },
     "execution_count": 5,
     "metadata": {},
     "output_type": "execute_result"
    }
   ],
   "source": [
    "lst = [y,z]\n",
    "lst"
   ]
  },
  {
   "cell_type": "markdown",
   "id": "3dfcdc3a",
   "metadata": {},
   "source": [
    "unpack tuple"
   ]
  },
  {
   "cell_type": "code",
   "execution_count": 6,
   "id": "7c950442",
   "metadata": {},
   "outputs": [
    {
     "name": "stdout",
     "output_type": "stream",
     "text": [
      "27 10\n"
     ]
    }
   ],
   "source": [
    "(age,yrs_school) = \"27,10\".split(',')\n",
    "print(age, yrs_school)"
   ]
  },
  {
   "cell_type": "code",
   "execution_count": 7,
   "id": "a17468c4",
   "metadata": {},
   "outputs": [
    {
     "name": "stdout",
     "output_type": "stream",
     "text": [
      "area:9\n",
      "perimeter: 12\n"
     ]
    },
    {
     "data": {
      "text/plain": [
       "(9, 12)"
      ]
     },
     "execution_count": 7,
     "metadata": {},
     "output_type": "execute_result"
    }
   ],
   "source": [
    "def square_info(side_length):\n",
    "    a = side_length ** 2\n",
    "    p = 4 * side_length\n",
    "    print(f'area:{a}\\nperimeter: {p}')\n",
    "    return a,p\n",
    "\n",
    "square_info(3)"
   ]
  }
 ],
 "metadata": {
  "kernelspec": {
   "display_name": "Python 3 (ipykernel)",
   "language": "python",
   "name": "python3"
  },
  "language_info": {
   "codemirror_mode": {
    "name": "ipython",
    "version": 3
   },
   "file_extension": ".py",
   "mimetype": "text/x-python",
   "name": "python",
   "nbconvert_exporter": "python",
   "pygments_lexer": "ipython3",
   "version": "3.9.12"
  }
 },
 "nbformat": 4,
 "nbformat_minor": 5
}
