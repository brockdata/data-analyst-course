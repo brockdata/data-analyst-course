{
 "cells": [
  {
   "cell_type": "code",
   "execution_count": 1,
   "id": "3a6ba7b6",
   "metadata": {},
   "outputs": [],
   "source": [
    "# pareto\n",
    "# dual axes\n",
    "# descending bars of values per category\n",
    "# cumulative frequency (to 100%) as a line"
   ]
  },
  {
   "cell_type": "code",
   "execution_count": 10,
   "id": "66347be1",
   "metadata": {},
   "outputs": [],
   "source": [
    "import pandas as pd\n",
    "import matplotlib.pyplot as plt\n",
    "# format nums as %\n",
    "from matplotlib.ticker import PercentFormatter"
   ]
  },
  {
   "cell_type": "code",
   "execution_count": 11,
   "id": "ecb3f17b",
   "metadata": {},
   "outputs": [
    {
     "data": {
      "text/html": [
       "<div>\n",
       "<style scoped>\n",
       "    .dataframe tbody tr th:only-of-type {\n",
       "        vertical-align: middle;\n",
       "    }\n",
       "\n",
       "    .dataframe tbody tr th {\n",
       "        vertical-align: top;\n",
       "    }\n",
       "\n",
       "    .dataframe thead th {\n",
       "        text-align: right;\n",
       "    }\n",
       "</style>\n",
       "<table border=\"1\" class=\"dataframe\">\n",
       "  <thead>\n",
       "    <tr style=\"text-align: right;\">\n",
       "      <th></th>\n",
       "      <th>Year</th>\n",
       "      <th>Python Users</th>\n",
       "      <th>Participants</th>\n",
       "    </tr>\n",
       "  </thead>\n",
       "  <tbody>\n",
       "    <tr>\n",
       "      <th>0</th>\n",
       "      <td>2012</td>\n",
       "      <td>0.149</td>\n",
       "      <td>798</td>\n",
       "    </tr>\n",
       "    <tr>\n",
       "      <th>1</th>\n",
       "      <td>2013</td>\n",
       "      <td>0.133</td>\n",
       "      <td>1880</td>\n",
       "    </tr>\n",
       "    <tr>\n",
       "      <th>2</th>\n",
       "      <td>2014</td>\n",
       "      <td>0.195</td>\n",
       "      <td>3285</td>\n",
       "    </tr>\n",
       "    <tr>\n",
       "      <th>3</th>\n",
       "      <td>2015</td>\n",
       "      <td>0.303</td>\n",
       "      <td>2800</td>\n",
       "    </tr>\n",
       "    <tr>\n",
       "      <th>4</th>\n",
       "      <td>2016</td>\n",
       "      <td>0.458</td>\n",
       "      <td>2895</td>\n",
       "    </tr>\n",
       "  </tbody>\n",
       "</table>\n",
       "</div>"
      ],
      "text/plain": [
       "   Year  Python Users  Participants\n",
       "0  2012         0.149           798\n",
       "1  2013         0.133          1880\n",
       "2  2014         0.195          3285\n",
       "3  2015         0.303          2800\n",
       "4  2016         0.458          2895"
      ]
     },
     "execution_count": 11,
     "metadata": {},
     "output_type": "execute_result"
    }
   ],
   "source": [
    "raw_data = pd.read_csv('bar-line-chart-data.csv')\n",
    "raw_data.head()"
   ]
  },
  {
   "cell_type": "code",
   "execution_count": 12,
   "id": "b8c4d264",
   "metadata": {},
   "outputs": [],
   "source": [
    "df = raw_data.copy()"
   ]
  },
  {
   "cell_type": "code",
   "execution_count": 13,
   "id": "8112f911",
   "metadata": {},
   "outputs": [],
   "source": [
    "# figure = all chart elements\n",
    "# axes = actual plot we are creating (object)\n",
    "# figure can contain multiple axes\n",
    "# each axes object has x- and y-axis"
   ]
  },
  {
   "cell_type": "code",
   "execution_count": 19,
   "id": "c0094176",
   "metadata": {},
   "outputs": [
    {
     "data": {
      "text/plain": [
       "Text(0.5, 1.0, 'KD Nugets Survey Python Users (2012 - 2019)')"
      ]
     },
     "execution_count": 19,
     "metadata": {},
     "output_type": "execute_result"
    },
    {
     "data": {
      "image/png": "[encoded data removed]",
      "text/plain": [
       "<Figure size 720x504 with 2 Axes>"
      ]
     },
     "metadata": {
      "needs_background": "light"
     },
     "output_type": "display_data"
    }
   ],
   "source": [
    "fig,ax = plt.subplots(figsize=(10,7))\n",
    "\n",
    "# primary axis\n",
    "ax.bar(df['Year'],\n",
    "      df['Participants'],\n",
    "      color='k')\n",
    "ax.set_ylabel('Number of Participants',\n",
    "             weight='bold')\n",
    "ax.tick_params(axis='y',\n",
    "              width=2,\n",
    "              labelsize='large')\n",
    "\n",
    "# secondary axis\n",
    "ax1 = ax.twinx()\n",
    "# set y axis for percentages\n",
    "ax1.set_ylim(0,1)\n",
    "ax1.yaxis.set_major_formatter(PercentFormatter(xmax=1.0))\n",
    "\n",
    "ax1.plot(df['Year'],\n",
    "        df['Python Users'],\n",
    "        color='#b60000',\n",
    "        marker='D')\n",
    "ax1.set_ylabel('Python Users',\n",
    "              color='#b60000',\n",
    "              weight='bold')\n",
    "ax1.tick_params(axis='y',\n",
    "               width=2,\n",
    "               labelsize='large')\n",
    "ax.set_title('KD Nugets Survey Python Users (2012 - 2019)', fontsize=14, weight='bold')\n",
    "\n",
    "# floats as percentages"
   ]
  },
  {
   "cell_type": "code",
   "execution_count": 20,
   "id": "374be82e",
   "metadata": {},
   "outputs": [],
   "source": [
    "# good combination charts\n",
    "\n",
    "# cum freq line -- don't combine two categorie wiht different number of participants\n",
    "# dual axis is clear\n",
    "\n",
    "# is combo chart required?"
   ]
  },
  {
   "cell_type": "code",
   "execution_count": null,
   "id": "58f66db7",
   "metadata": {},
   "outputs": [],
   "source": []
  }
 ],
 "metadata": {
  "kernelspec": {
   "display_name": "Python 3 (ipykernel)",
   "language": "python",
   "name": "python3"
  },
  "language_info": {
   "codemirror_mode": {
    "name": "ipython",
    "version": 3
   },
   "file_extension": ".py",
   "mimetype": "text/x-python",
   "name": "python",
   "nbconvert_exporter": "python",
   "pygments_lexer": "ipython3",
   "version": "3.9.12"
  }
 },
 "nbformat": 4,
 "nbformat_minor": 5
}
