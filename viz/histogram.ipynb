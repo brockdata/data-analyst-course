{
 "cells": [
  {
   "cell_type": "code",
   "execution_count": null,
   "id": "5e59bbad",
   "metadata": {},
   "outputs": [],
   "source": [
    "# density across categories\n",
    "# confirm and include the open/closed setting brackets\n",
    "# e.g [ ] = closed|closed vs ( ] = open|closed\n",
    "# choose num bins carefully!"
   ]
  },
  {
   "cell_type": "code",
   "execution_count": 1,
   "id": "bf21deaa",
   "metadata": {},
   "outputs": [],
   "source": [
    "import pandas as pd\n",
    "import matplotlib.pyplot as plt\n",
    "import seaborn as sns\n",
    "sns.set()"
   ]
  },
  {
   "cell_type": "code",
   "execution_count": 3,
   "id": "5a5052a9",
   "metadata": {},
   "outputs": [
    {
     "data": {
      "text/html": [
       "<div>\n",
       "<style scoped>\n",
       "    .dataframe tbody tr th:only-of-type {\n",
       "        vertical-align: middle;\n",
       "    }\n",
       "\n",
       "    .dataframe tbody tr th {\n",
       "        vertical-align: top;\n",
       "    }\n",
       "\n",
       "    .dataframe thead th {\n",
       "        text-align: right;\n",
       "    }\n",
       "</style>\n",
       "<table border=\"1\" class=\"dataframe\">\n",
       "  <thead>\n",
       "    <tr style=\"text-align: right;\">\n",
       "      <th></th>\n",
       "      <th>ID</th>\n",
       "      <th>Building Type</th>\n",
       "      <th>Year of sale</th>\n",
       "      <th>Month of sale</th>\n",
       "      <th>Type of property</th>\n",
       "      <th>Property #</th>\n",
       "      <th>Area (ft.)</th>\n",
       "      <th>Price</th>\n",
       "    </tr>\n",
       "  </thead>\n",
       "  <tbody>\n",
       "    <tr>\n",
       "      <th>0</th>\n",
       "      <td>1030</td>\n",
       "      <td>1</td>\n",
       "      <td>2005.0</td>\n",
       "      <td>11.0</td>\n",
       "      <td>Apartment</td>\n",
       "      <td>30</td>\n",
       "      <td>743.09</td>\n",
       "      <td>246</td>\n",
       "    </tr>\n",
       "    <tr>\n",
       "      <th>1</th>\n",
       "      <td>1029</td>\n",
       "      <td>1</td>\n",
       "      <td>2005.0</td>\n",
       "      <td>10.0</td>\n",
       "      <td>Apartment</td>\n",
       "      <td>29</td>\n",
       "      <td>756.21</td>\n",
       "      <td>246</td>\n",
       "    </tr>\n",
       "    <tr>\n",
       "      <th>2</th>\n",
       "      <td>2002</td>\n",
       "      <td>2</td>\n",
       "      <td>2007.0</td>\n",
       "      <td>7.0</td>\n",
       "      <td>Apartment</td>\n",
       "      <td>2</td>\n",
       "      <td>587.28</td>\n",
       "      <td>209</td>\n",
       "    </tr>\n",
       "    <tr>\n",
       "      <th>3</th>\n",
       "      <td>2031</td>\n",
       "      <td>2</td>\n",
       "      <td>2007.0</td>\n",
       "      <td>12.0</td>\n",
       "      <td>Apartment</td>\n",
       "      <td>31</td>\n",
       "      <td>1604.75</td>\n",
       "      <td>453</td>\n",
       "    </tr>\n",
       "    <tr>\n",
       "      <th>4</th>\n",
       "      <td>1049</td>\n",
       "      <td>1</td>\n",
       "      <td>2004.0</td>\n",
       "      <td>11.0</td>\n",
       "      <td>Apartment</td>\n",
       "      <td>49</td>\n",
       "      <td>1375.45</td>\n",
       "      <td>467</td>\n",
       "    </tr>\n",
       "  </tbody>\n",
       "</table>\n",
       "</div>"
      ],
      "text/plain": [
       "     ID  Building Type  Year of sale  Month of sale Type of property  \\\n",
       "0  1030              1        2005.0           11.0        Apartment   \n",
       "1  1029              1        2005.0           10.0        Apartment   \n",
       "2  2002              2        2007.0            7.0        Apartment   \n",
       "3  2031              2        2007.0           12.0        Apartment   \n",
       "4  1049              1        2004.0           11.0        Apartment   \n",
       "\n",
       "   Property #  Area (ft.)  Price  \n",
       "0          30      743.09    246  \n",
       "1          29      756.21    246  \n",
       "2           2      587.28    209  \n",
       "3          31     1604.75    453  \n",
       "4          49     1375.45    467  "
      ]
     },
     "execution_count": 3,
     "metadata": {},
     "output_type": "execute_result"
    }
   ],
   "source": [
    "raw_data = pd.read_csv('histogram-data.csv')\n",
    "raw_data.head()"
   ]
  },
  {
   "cell_type": "code",
   "execution_count": 4,
   "id": "e3be3696",
   "metadata": {},
   "outputs": [],
   "source": [
    "df = raw_data.copy()"
   ]
  },
  {
   "cell_type": "code",
   "execution_count": 10,
   "id": "15773e0a",
   "metadata": {},
   "outputs": [
    {
     "data": {
      "image/png": "[encoded data removed]",
      "text/plain": [
       "<Figure size 576x432 with 1 Axes>"
      ]
     },
     "metadata": {},
     "output_type": "display_data"
    }
   ],
   "source": [
    "sns.set_style('white')\n",
    "plt.figure(figsize=(8,6))\n",
    "plt.hist(df['Price'],\n",
    "        bins=8,\n",
    "        color='#108a99')\n",
    "plt.title('Distribution of Real Estate Prices', fontsize=14, fontweight='bold')\n",
    "plt.xlabel('Price ($Thousands)')\n",
    "plt.ylabel('Number of Properties')\n",
    "sns.despine()\n",
    "\n",
    "plt.show()"
   ]
  },
  {
   "cell_type": "code",
   "execution_count": null,
   "id": "afe80fe1",
   "metadata": {},
   "outputs": [],
   "source": [
    "# good histogram\n",
    "\n",
    "# choose num bins\n",
    "# scotts rule, sturges rule, doanes rule not always used\n",
    "\n",
    "# equal width intervals recommended\n",
    "\n",
    "# start axes at zero\n",
    "\n",
    "# likert scale\n",
    "# how likely on a scale 1-5?\n",
    "# strongly disagree - strongly agree"
   ]
  }
 ],
 "metadata": {
  "kernelspec": {
   "display_name": "Python 3 (ipykernel)",
   "language": "python",
   "name": "python3"
  },
  "language_info": {
   "codemirror_mode": {
    "name": "ipython",
    "version": 3
   },
   "file_extension": ".py",
   "mimetype": "text/x-python",
   "name": "python",
   "nbconvert_exporter": "python",
   "pygments_lexer": "ipython3",
   "version": "3.9.12"
  }
 },
 "nbformat": 4,
 "nbformat_minor": 5
}
