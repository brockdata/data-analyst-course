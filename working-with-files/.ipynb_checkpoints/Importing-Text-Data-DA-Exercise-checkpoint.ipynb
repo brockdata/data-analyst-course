{
 "cells": [
  {
   "cell_type": "markdown",
   "metadata": {},
   "source": [
    "## Importing Data with NumPy"
   ]
  },
  {
   "cell_type": "markdown",
   "metadata": {},
   "source": [
    "### 1. Run the following cells:"
   ]
  },
  {
   "cell_type": "code",
   "execution_count": 1,
   "metadata": {},
   "outputs": [],
   "source": [
    "import numpy as np"
   ]
  },
  {
   "cell_type": "code",
   "execution_count": 2,
   "metadata": {},
   "outputs": [],
   "source": [
    "np.set_printoptions(suppress = True, linewidth = 150)"
   ]
  },
  {
   "cell_type": "markdown",
   "metadata": {},
   "source": [
    "### 2. Use loadtxt() to import the same file and display its contents. \n",
    "   <b> Hint:</b> By default np.loadtxt() asusmes all the values will be numeric, so it crashes when it encounters text data. We can bypass this by specifying the datatype to NumPy strings when importing. "
   ]
  },
  {
   "cell_type": "code",
   "execution_count": 8,
   "metadata": {},
   "outputs": [
    {
     "ename": "ValueError",
     "evalue": "Wrong number of columns at line 3",
     "output_type": "error",
     "traceback": [
      "\u001b[1;31m---------------------------------------------------------------------------\u001b[0m",
      "\u001b[1;31mValueError\u001b[0m                                Traceback (most recent call last)",
      "Input \u001b[1;32mIn [8]\u001b[0m, in \u001b[0;36m<cell line: 1>\u001b[1;34m()\u001b[0m\n\u001b[1;32m----> 1\u001b[0m data \u001b[38;5;241m=\u001b[39m \u001b[43mnp\u001b[49m\u001b[38;5;241;43m.\u001b[39;49m\u001b[43mloadtxt\u001b[49m\u001b[43m(\u001b[49m\u001b[38;5;124;43m'\u001b[39;49m\u001b[38;5;124;43mLending-Company-Saving.csv\u001b[39;49m\u001b[38;5;124;43m'\u001b[39;49m\u001b[43m,\u001b[49m\n\u001b[0;32m      2\u001b[0m \u001b[43m                 \u001b[49m\u001b[43mskiprows\u001b[49m\u001b[38;5;241;43m=\u001b[39;49m\u001b[38;5;241;43m1\u001b[39;49m\u001b[43m,\u001b[49m\n\u001b[0;32m      3\u001b[0m \u001b[43m                 \u001b[49m\u001b[43mdtype\u001b[49m\u001b[38;5;241;43m=\u001b[39;49m\u001b[38;5;28;43mstr\u001b[39;49m\u001b[43m)\u001b[49m\n\u001b[0;32m      4\u001b[0m \u001b[38;5;28mprint\u001b[39m(data)\n",
      "File \u001b[1;32mC:\\ProgramData\\Anaconda3\\lib\\site-packages\\numpy\\lib\\npyio.py:1148\u001b[0m, in \u001b[0;36mloadtxt\u001b[1;34m(fname, dtype, comments, delimiter, converters, skiprows, usecols, unpack, ndmin, encoding, max_rows, like)\u001b[0m\n\u001b[0;32m   1143\u001b[0m \u001b[38;5;66;03m# read data in chunks and fill it into an array via resize\u001b[39;00m\n\u001b[0;32m   1144\u001b[0m \u001b[38;5;66;03m# over-allocating and shrinking the array later may be faster but is\u001b[39;00m\n\u001b[0;32m   1145\u001b[0m \u001b[38;5;66;03m# probably not relevant compared to the cost of actually reading and\u001b[39;00m\n\u001b[0;32m   1146\u001b[0m \u001b[38;5;66;03m# converting the data\u001b[39;00m\n\u001b[0;32m   1147\u001b[0m X \u001b[38;5;241m=\u001b[39m \u001b[38;5;28;01mNone\u001b[39;00m\n\u001b[1;32m-> 1148\u001b[0m \u001b[38;5;28;01mfor\u001b[39;00m x \u001b[38;5;129;01min\u001b[39;00m read_data(_loadtxt_chunksize):\n\u001b[0;32m   1149\u001b[0m     \u001b[38;5;28;01mif\u001b[39;00m X \u001b[38;5;129;01mis\u001b[39;00m \u001b[38;5;28;01mNone\u001b[39;00m:\n\u001b[0;32m   1150\u001b[0m         X \u001b[38;5;241m=\u001b[39m np\u001b[38;5;241m.\u001b[39marray(x, dtype)\n",
      "File \u001b[1;32mC:\\ProgramData\\Anaconda3\\lib\\site-packages\\numpy\\lib\\npyio.py:995\u001b[0m, in \u001b[0;36mloadtxt.<locals>.read_data\u001b[1;34m(chunk_size)\u001b[0m\n\u001b[0;32m    993\u001b[0m \u001b[38;5;28;01mif\u001b[39;00m \u001b[38;5;28mlen\u001b[39m(vals) \u001b[38;5;241m!=\u001b[39m N:\n\u001b[0;32m    994\u001b[0m     line_num \u001b[38;5;241m=\u001b[39m i \u001b[38;5;241m+\u001b[39m skiprows \u001b[38;5;241m+\u001b[39m \u001b[38;5;241m1\u001b[39m\n\u001b[1;32m--> 995\u001b[0m     \u001b[38;5;28;01mraise\u001b[39;00m \u001b[38;5;167;01mValueError\u001b[39;00m(\u001b[38;5;124m\"\u001b[39m\u001b[38;5;124mWrong number of columns at line \u001b[39m\u001b[38;5;132;01m%d\u001b[39;00m\u001b[38;5;124m\"\u001b[39m\n\u001b[0;32m    996\u001b[0m                      \u001b[38;5;241m%\u001b[39m line_num)\n\u001b[0;32m    998\u001b[0m \u001b[38;5;66;03m# Convert each value according to its column and store\u001b[39;00m\n\u001b[0;32m    999\u001b[0m items \u001b[38;5;241m=\u001b[39m [conv(val) \u001b[38;5;28;01mfor\u001b[39;00m (conv, val) \u001b[38;5;129;01min\u001b[39;00m \u001b[38;5;28mzip\u001b[39m(converters, vals)]\n",
      "\u001b[1;31mValueError\u001b[0m: Wrong number of columns at line 3"
     ]
    }
   ],
   "source": [
    "data = np.loadtxt('Lending-Company-Saving.csv',\n",
    "                 skiprows=1,\n",
    "                 dtype=str,\n",
    "                 delimiter=',')\n",
    "print(data)"
   ]
  },
  {
   "cell_type": "code",
   "execution_count": null,
   "metadata": {},
   "outputs": [],
   "source": []
  },
  {
   "cell_type": "markdown",
   "metadata": {},
   "source": [
    "### 3. Use np.genfromtxt() to import the \"Lending-Company-Total-Price.csv\" file and display its contents.\n",
    "    You can open the file in a text editor like Notepad++ to check its delimiter. "
   ]
  },
  {
   "cell_type": "code",
   "execution_count": 14,
   "metadata": {},
   "outputs": [
    {
     "name": "stdout",
     "output_type": "stream",
     "text": [
      "[['Product B' 'Male' 'Region 2']\n",
      " ['Product B' 'Male' '']\n",
      " ['Product C' 'Female' 'Region 5']\n",
      " ...\n",
      " ['Product A' 'Male' 'Region 1']\n",
      " ['Product B' 'Male' 'Region 4']\n",
      " ['Product B' 'Male' 'Region 6']]\n"
     ]
    }
   ],
   "source": [
    "data = np.genfromtxt('Lending-Company-Total-Price.csv',\n",
    "                    delimiter=',',\n",
    "                    skip_header=1,\n",
    "                    dtype=str,\n",
    "                    skip_footer=15,\n",
    "                    usecols=(2,3,5))\n",
    "print(data)"
   ]
  },
  {
   "cell_type": "code",
   "execution_count": null,
   "metadata": {},
   "outputs": [],
   "source": []
  },
  {
   "cell_type": "markdown",
   "metadata": {},
   "source": [
    "### 4. Using the arguments of the np.genfromtxt() function, do the following data cleaning:\n",
    "    A) Set the data type to strings. \n",
    "    B) Skip the first row of the dataset. \n",
    "    C) Skip the last 15 rows of the dataset. \n",
    "    D) Only pull data from the 2nd, 3rd and 5th columns. \n",
    "   (Note: You can do all of these at the same time.)"
   ]
  },
  {
   "cell_type": "code",
   "execution_count": null,
   "metadata": {},
   "outputs": [],
   "source": []
  },
  {
   "cell_type": "markdown",
   "metadata": {},
   "source": [
    "### 5. Refer to the documentation of the np.genfromtxt() function and examine the following arguments and what they do:\n",
    "    A) comments\n",
    "    B) converters \n",
    "    C) missing_values\n",
    "    D) excludelist\n",
    "    E) deletechars\n",
    "    D) replace_space \n",
    "    E) autostrip\n",
    "   (You're <b>not</b> expected to provide any coding for this part. The cell below is provided for your convenience in case you want to try using the arguments as you go through them.)"
   ]
  },
  {
   "cell_type": "code",
   "execution_count": null,
   "metadata": {},
   "outputs": [],
   "source": [
    "np.genfromtxt\n",
    "# A) comments - start of comment character\n",
    "# B) converters - fucntons to convert data of a column to a value\n",
    "# C) missing_values - set of strings for missing data\n",
    "# D) excludelist - names to exclude\n",
    "# E) deletechars - string of invalid characters\n",
    "# D) replace_space - replace whitespace with character\n",
    "# E) autostrip - automatically strip white spaces"
   ]
  },
  {
   "cell_type": "markdown",
   "metadata": {},
   "source": [
    "### 6. Now that you understand what these arguments do, add them to the code you wrote a few cells ago. \n",
    "    A) comments\n",
    "    B) converters \n",
    "    C) missing_values\n",
    "    D) excludelist\n",
    "    E) deletechars\n",
    "    D) replace_space \n",
    "    E) autostrip\n",
    "   <b>Note</b>: If you don't know what values to set, just refer to the documentation and set the defaults. "
   ]
  },
  {
   "cell_type": "code",
   "execution_count": 20,
   "metadata": {},
   "outputs": [
    {
     "name": "stdout",
     "output_type": "stream",
     "text": [
      "[(  1, 16600) (  2, 16600) (  3, 15600) (  4, 16600) (  5, 20250) (  6,     0) (  7, 20250) (  8, 16600) (  9, 22250) ( 10, 20250) ( 11, 16600)\n",
      " ( 12, 20250) ( 13, 16600) ( 14, 20750) ( 15, 22250) ( 16, 16600) ( 17, 22250) ( 18, 16600) ( 19, 16600) ( 20, 54625) ( 21, 16600) ( 22, 22250)\n",
      " ( 23, 19250) ( 24, 15600) ( 25, 20250) ( 26, 22250) ( 27, 19250) ( 28, 69225) ( 29, 20250) ( 30, 16600) ( 31, 16600) ( 32, 16600) ( 33, 19250)\n",
      " ( 34, 16600) ( 35, 19250) ( 36, 16600) ( 37, 16600) ( 38, 16600) ( 39, 15600) ( 40, 16600) ( 41, 16600) ( 42, 16600) ( 43, 19250) ( 44, 15600)\n",
      " ( 45, 19250) ( 46, 16600) ( 47, 16600) ( 48, 16600) ( 49, 20250) ( 50, 22250) ( 51, 16600) ( 52, 20250) ( 53, 20250) ( 54, 16600) ( 55, 16600)\n",
      " ( 56, 16600) ( 57,     0) ( 58, 16600) ( 59, 16600) ( 60, 16600) ( 61, 19250) ( 62, 15600) ( 63, 15600) ( 64, 20250) ( 65, 16600) ( 66, 22250)\n",
      " ( 67, 22250) ( 68, 20250) ( 69, 20250) ( 70, 16600) ( 71, 15600) ( 72, 16600) ( 73, 16600) ( 74, 22250) ( 75, 20750) ( 76, 22250) ( 77, 19250)\n",
      " ( 78, 20250) ( 79, 20250) ( 80, 20250) ( 81, 19250) ( 82, 16600) ( 83, 22250) ( 84, 20250) ( 85, 16600) ( 86, 19250) ( 87, 22250) ( 88, 16600)\n",
      " ( 89, 19250) ( 90, 16600) ( 91,     0) ( 92, 20250) ( 93, 16600) ( 94, 16600) ( 95, 19250) ( 96, 16600) ( 97, 16600) ( 98, 22250) ( 99, 22250)\n",
      " (100, 16600) (101, 16600) (102, 19250) (103, 16600) (104, 22250) (105, 19250) (106, 16600) (107, 16600) (108, 19250) (109, 16600) (110, 22250)\n",
      " (111, 16600) (112, 15600) (113, 16600) (114, 20250) (115, 16600) (116, 19250) (117, 19250) (118, 19250) (119, 15600) (120, 22250) (121, 22250)\n",
      " (122, 16600) (123, 20250) (124, 16600) (125, 16600) (126, 20750) (127, 20250) (128, 16600) (129, 16600) (130, 16600) (131, 15600) (132, 16600)\n",
      " (133, 15600) (134, 19250) (135, 16600) (136, 16600) (137, 20250) (138, 19250) (139, 15600) (140, 16600) (141, 16600) (142, 16600) (143, 15600)\n",
      " (144, 16600) (145, 15600) (146, 19250) (147, 22250) (148, 20250) (149, 19250) (150, 22250) (151, 16600) (152, 22250) (153, 54625) (154, 54625)\n",
      " (155, 16600) (156, 22250) (157, 22250) (158, 22250) (159, 22250) (160, 15600) (161,     0) (162, 16600) (163, 22250) (164, 20250) (165, 22250)\n",
      " (166, 16600) (167, 19250) (168, 20250) (169, 16600) (170, 20250) (171, 16600) (172, 16600) (173, 20250) (174, 20250) (175, 16600) (176, 20250)\n",
      " (177, 19250) (178, 16600) (179, 20750) (180, 20250) (181, 22250) (182, 16600) (183, 20250) (184, 20250) (185, 16600) (186, 20250) (187, 20750)\n",
      " (188, 16600) (189, 16600) (190, 22250) (191, 22250) (192, 22250) (193, 16600) (194, 54625) (195, 16600) (196, 22250) (197, 16600) (198, 20250)\n",
      " (199, 22250) (200, 15600) (201, 20250) (202, 16600) (203, 54625) (204, 16600) (205, 16600) (206, 22250) (207, 19250) (208, 19250) (209, 19250)\n",
      " (210, 22250) (211, 15600) (212, 22250) (213, 15600) (214, 16600) (215, 22250) (216, 22250) (217, 16600) (218, 20750) (219, 19250) (220, 16600)\n",
      " (221,     0) (222, 16600) (223, 22250) (224, 19250) (225, 16600) (226, 16600) (227, 19250) (228, 19250) (229, 16600) (230, 20250) (231, 22250)\n",
      " (232, 15600) (233, 16600) (234, 16600) (235, 54625) (236, 19250) (237, 22250) (238, 16600) (239, 22250) (240, 19250) (241, 19250) (242, 20750)\n",
      " (243, 20750) (244, 16600) (245, 16600) (246, 22250) (247, 16600) (248, 16600) (249, 16600) (250, 16600) (251, 15600) (252, 19250) (253, 20250)\n",
      " (254, 22250) (255, 19250) (256, 22250) (257, 22250) (258, 22250) (259, 16600) (260, 20250) (261, 16600) (262, 16600) (263, 16600) (264, 19250)\n",
      " (265, 16600) (266, 16600) (267, 15600) (268, 16600) (269, 22250) (270, 19250) (271,     0) (272, 22250) (273, 15600) (274, 15600) (275, 16600)\n",
      " (276, 19250) (277, 16600) (278, 54625) (279, 16600) (280, 16600) (281, 16600) (282, 19250) (283, 22250) (284, 22250) (285, 16600) (286, 19250)\n",
      " (287, 19250) (288, 15600) (289, 54625) (290, 16600) (291, 16600) (292, 15600) (293, 20250) (294, 19250) (295, 19250) (296, 15600) (297, 15600)\n",
      " (298, 19250) (299, 16600) (300, 20250) (301, 20750) (302, 16600) (303, 16600) (304, 16600) (305, 22250) (306, 16600) (307, 22250) (308, 20250)\n",
      " (309, 16600) (310, 19250) (311, 22250) (312, 16600) (313, 15600) (314, 16600) (315, 16600) (316, 15600) (317, 16600) (318, 20250) (319, 19250)\n",
      " (320, 20250) (321, 16600) (322, 22250) (323, 16600) (324, 22250) (325, 22250) (326, 19250) (327, 54625) (328, 13775) (329, 16600) (330, 16600)\n",
      " (331,     0) (332, 20750) (333, 16600) (334, 19250) (335, 22250) (336, 20250) (337, 22250) (338, 19250) (339, 16600) (340, 15600) (341, 20250)\n",
      " (342, 22250) (343, 22250) (344, 16600) (345, 22250) (346, 20250) (347, 16600) (348, 22250) (349, 19250) (350, 16600) (351, 16600) (352, 15600)\n",
      " (353, 19250) (354, 16600) (355, 20250) (356, 16600) (357, 22250) (358, 16600) (359, 15600) (360, 20250) (361, 22250) (362, 20250) (363, 16600)\n",
      " (364, 22250) (365, 16600) (366, 16600) (367, 16600) (368, 20250) (369, 16600) (370, 16600) (371, 16600) (372, 19250) (373, 20250) (374, 16600)\n",
      " (375, 16600) (376, 22250) (377, 19250) (378, 22250) (379, 16600) (380, 19250) (381,     0) (382, 20250) (383, 20750) (384, 16600) (385, 16600)\n",
      " (386, 16600) (387, 16600) (388, 20250) (389, 16600) (390, 22250) (391, 15600) (392, 16600) (393, 16600) (394, 15600) (395, 16600) (396, 15600)\n",
      " (397, 19250) (398, 20250) (399, 16600) (400, 16600)]\n"
     ]
    }
   ],
   "source": [
    "\n",
    "def to_int(x):\n",
    "    try:\n",
    "        x = int(x)\n",
    "    except ValueError:\n",
    "        x = 0\n",
    "    return x\n",
    "data = np.genfromtxt('Lending-Company-Total-Price.csv',\n",
    "                    delimiter=',',\n",
    "                    skip_header=1,\n",
    "                    dtype=str,\n",
    "                    skip_footer=15,\n",
    "                    usecols=(0,6),\n",
    "                    comments='#',\n",
    "                    converters={0: to_int, 6: to_int},\n",
    "                    missing_values='NotSpecified',\n",
    "                    excludelist=[],\n",
    "                    deletechars='',\n",
    "                    replace_space='_',\n",
    "                    autostrip=True)\n",
    "print(data)"
   ]
  },
  {
   "cell_type": "markdown",
   "metadata": {},
   "source": [
    "### 7. The first and last columns were the only ones with numeric data, so let's import only them."
   ]
  },
  {
   "cell_type": "code",
   "execution_count": null,
   "metadata": {},
   "outputs": [],
   "source": []
  }
 ],
 "metadata": {
  "kernelspec": {
   "display_name": "Python 3 (ipykernel)",
   "language": "python",
   "name": "python3"
  },
  "language_info": {
   "codemirror_mode": {
    "name": "ipython",
    "version": 3
   },
   "file_extension": ".py",
   "mimetype": "text/x-python",
   "name": "python",
   "nbconvert_exporter": "python",
   "pygments_lexer": "ipython3",
   "version": "3.9.12"
  }
 },
 "nbformat": 4,
 "nbformat_minor": 2
}
