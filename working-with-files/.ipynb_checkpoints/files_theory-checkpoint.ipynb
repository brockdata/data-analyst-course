{
 "cells": [
  {
   "cell_type": "code",
   "execution_count": 1,
   "id": "03f9421c",
   "metadata": {},
   "outputs": [],
   "source": [
    "# text file\n",
    "# electronic text split into lines, terminated by EOL\n",
    "# EOL = \"end of line\" character\n",
    "# fast and easy\n",
    "# no metadata\n",
    "# flatfile or ASCII\n",
    "# ASCII = \"American Standard Code for Information Interchange\" file\n",
    "# image files can also be stored as text in RGB\n",
    "# text FILE = file type\n",
    "# text DATA = data in text form\n",
    "\n",
    "# binary file\n",
    "# machine language (1,0)\n",
    "# no EOL\n",
    "\n",
    "# file (OS) vs file object (python)\n",
    "# file is created, modified, stored on OS\n",
    "# file object is python object that contains data from imported file. import, then convert.\n",
    "\n",
    "# reading vs parsing\n",
    "# reading = transferring content into RAM computer memory\n",
    "# eg transferring data into an object\n",
    "# parsing = trying to understand the content\n",
    "# eg adding an index to the datframe after reading"
   ]
  },
  {
   "cell_type": "code",
   "execution_count": 3,
   "id": "bbd05935",
   "metadata": {},
   "outputs": [],
   "source": [
    "# data structure\n",
    "# structured/traditional\n",
    "# tabular\n",
    "# can be stored in database\n",
    "# easy and quick to access specific value (rows and columns)\n",
    "# spreadsheet\n",
    "# pandas dataframe\n",
    "\n",
    "# unstructured\n",
    "# finding a specific piece of data is hard\n",
    "# eg list of photos in a phone\n",
    "\n",
    "# semi-structured\n",
    "# requires unique patterns ot organize"
   ]
  },
  {
   "cell_type": "code",
   "execution_count": null,
   "id": "ab41c63f",
   "metadata": {},
   "outputs": [],
   "source": [
    "# BIG DATA!\n",
    "# velocity, volume, variety\n",
    "# can be any of the three types"
   ]
  },
  {
   "cell_type": "code",
   "execution_count": 4,
   "id": "b240950e",
   "metadata": {},
   "outputs": [],
   "source": [
    "# popular types\n",
    "# json, xml, csv, txt, xlsx\n",
    "# csv for tabular\n",
    "# json most universal to other langs\n",
    "# xlsx easier for businesses using them for analysis\n",
    "\n",
    "# .txt\n",
    "# text / flat / ASCII\n",
    "# text with no fonts, italics, or bold\n",
    "# .docx is a RICH text file with pictures, fonts, etc."
   ]
  },
  {
   "cell_type": "code",
   "execution_count": 5,
   "id": "f98cd4ee",
   "metadata": {},
   "outputs": [],
   "source": [
    "# encoding\n",
    "# character = letter, digit, or symbol in text\n",
    "# computer can only read bytes\n",
    "# encoding = translating txt info into bytes so the computer can read\n",
    "\n",
    "# UTF-8 = 8-bit Unicode Transformation Format\n",
    "# encoding might alter data\n",
    "# other encoding may be necessary to preserve original data\n",
    "\n",
    "# characters\n",
    "# separator = break between characters\n",
    "# EOL = end of line\n",
    "# EOF = no more characters\n",
    "\n",
    "# delimiter vs separator\n",
    "# delimiter = marks where cell of table starts/ends\n",
    "# separator = separating values, one from another"
   ]
  },
  {
   "cell_type": "code",
   "execution_count": 6,
   "id": "77fd22dd",
   "metadata": {},
   "outputs": [],
   "source": [
    "# plain text \n",
    "# non-formatted text\n",
    "# each value stored on a separate line\n",
    "# neasy to read for the human, but not easy to read for the machine\n",
    "\n",
    "# flatfile\n",
    "# plain text with separators\n",
    "# eg comma, tab, semicolon\n",
    "# used with big data"
   ]
  },
  {
   "cell_type": "code",
   "execution_count": 7,
   "id": "486646d6",
   "metadata": {},
   "outputs": [],
   "source": [
    "# relational database = multiple tables that relate to eachother. flexibility and consistency.\n",
    "# flatfile database = single flatfile >> single table in database"
   ]
  },
  {
   "cell_type": "code",
   "execution_count": null,
   "id": "786f4d2f",
   "metadata": {},
   "outputs": [],
   "source": [
    "# fixed-width data file\n",
    "# flatfile with fixed-width data formatting\n",
    "# delimiter include to keep consistent size throughout data\n",
    "# uncommon... cause problems wiht preprocessing"
   ]
  }
 ],
 "metadata": {
  "kernelspec": {
   "display_name": "Python 3 (ipykernel)",
   "language": "python",
   "name": "python3"
  },
  "language_info": {
   "codemirror_mode": {
    "name": "ipython",
    "version": 3
   },
   "file_extension": ".py",
   "mimetype": "text/x-python",
   "name": "python",
   "nbconvert_exporter": "python",
   "pygments_lexer": "ipython3",
   "version": "3.9.12"
  }
 },
 "nbformat": 4,
 "nbformat_minor": 5
}
