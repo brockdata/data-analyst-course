{
 "cells": [
  {
   "cell_type": "code",
   "execution_count": 1,
   "id": "dafec8ea",
   "metadata": {},
   "outputs": [],
   "source": [
    "import pandas as pd"
   ]
  },
  {
   "cell_type": "code",
   "execution_count": 3,
   "id": "ba3dc5be",
   "metadata": {},
   "outputs": [
    {
     "name": "stdout",
     "output_type": "stream",
     "text": [
      "  name  value\n",
      "a    a    818\n",
      "b    b    681\n",
      "c    c     98\n",
      "d    d    323\n",
      "e    e    157\n",
      "f    f    359\n",
      "g    g    983\n"
     ]
    }
   ],
   "source": [
    "df = pd.read_csv('sample.csv')\n",
    "df.index = df.name.tolist()\n",
    "print(df)"
   ]
  },
  {
   "cell_type": "code",
   "execution_count": 5,
   "id": "9158b7e6",
   "metadata": {},
   "outputs": [
    {
     "name": "stdout",
     "output_type": "stream",
     "text": [
      "<class 'pandas.core.frame.DataFrame'>\n"
     ]
    }
   ],
   "source": [
    "# dataframe object\n",
    "print(type(pd.read_csv('sample.csv')))"
   ]
  },
  {
   "cell_type": "code",
   "execution_count": 8,
   "id": "cfcb333b",
   "metadata": {},
   "outputs": [
    {
     "name": "stdout",
     "output_type": "stream",
     "text": [
      "  this is the title of the spreadsheet Unnamed: 1\n",
      "0                                 name      value\n",
      "1                                    a        818\n",
      "2                                    b        681\n",
      "3                                    c         98\n",
      "4                                    d        323\n",
      "5                                    e        157\n",
      "6                                    f        359\n",
      "7                                    g        983\n",
      "  name  value\n",
      "0    a    818\n",
      "1    b    681\n",
      "2    c     98\n",
      "3    d    323\n",
      "4    e    157\n",
      "5    f    359\n",
      "6    g    983\n"
     ]
    }
   ],
   "source": [
    "# header in another place\n",
    "# wrong...\n",
    "df = pd.read_csv('sample_header.csv', header=0)\n",
    "print(df)\n",
    "# better!\n",
    "df = pd.read_csv('sample_header.csv', header=1)\n",
    "print(df)\n",
    "\n",
    "# also use for reading txt"
   ]
  },
  {
   "cell_type": "code",
   "execution_count": 9,
   "id": "3b96a1bd",
   "metadata": {},
   "outputs": [],
   "source": [
    "# default parser works for well-organized data\n",
    "# messier data needs a different parser... use notepad++"
   ]
  },
  {
   "cell_type": "code",
   "execution_count": 10,
   "id": "4154d009",
   "metadata": {},
   "outputs": [
    {
     "name": "stdout",
     "output_type": "stream",
     "text": [
      "   index name  value\n",
      "0      1    a    818\n",
      "1      2    b    681\n",
      "2      3    c     98\n",
      "3      4    d    323\n",
      "4      5    e    157\n",
      "5      6    f    359\n",
      "6      7    g    983\n",
      "      name  value\n",
      "index            \n",
      "1        a    818\n",
      "2        b    681\n",
      "3        c     98\n",
      "4        d    323\n",
      "5        e    157\n",
      "6        f    359\n",
      "7        g    983\n"
     ]
    }
   ],
   "source": [
    "# if file already contains an index\n",
    "df = pd.read_csv('sample_index.csv')\n",
    "print(df)\n",
    "df = pd.read_csv('sample_index.csv', index_col='index')\n",
    "print(df)"
   ]
  }
 ],
 "metadata": {
  "kernelspec": {
   "display_name": "Python 3 (ipykernel)",
   "language": "python",
   "name": "python3"
  },
  "language_info": {
   "codemirror_mode": {
    "name": "ipython",
    "version": 3
   },
   "file_extension": ".py",
   "mimetype": "text/x-python",
   "name": "python",
   "nbconvert_exporter": "python",
   "pygments_lexer": "ipython3",
   "version": "3.9.12"
  }
 },
 "nbformat": 4,
 "nbformat_minor": 5
}
