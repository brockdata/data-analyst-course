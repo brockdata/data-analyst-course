{
 "cells": [
  {
   "cell_type": "code",
   "execution_count": null,
   "id": "a4a79f54",
   "metadata": {},
   "outputs": [],
   "source": [
    "# only use this if the company prefers\n",
    "# json and csv are faster"
   ]
  },
  {
   "cell_type": "code",
   "execution_count": 1,
   "id": "0a477021",
   "metadata": {},
   "outputs": [],
   "source": [
    "import pandas as pd"
   ]
  },
  {
   "cell_type": "code",
   "execution_count": 6,
   "id": "cd76de6f",
   "metadata": {},
   "outputs": [
    {
     "name": "stdout",
     "output_type": "stream",
     "text": [
      "   LoanID  StringID    Product CustomerGender     Location    Region  \\\n",
      "0       1  LoanID_1  Product B         Female   Location 3  Region 2   \n",
      "1       2  LoanID_2  Product D         Female   Location 6  Region 6   \n",
      "2       3  LoanID_3  Product B           Male   Location 8  Region 3   \n",
      "3       4  LoanID_4  Product A           Male  Location 26  Region 2   \n",
      "4       5  LoanID_5  Product B         Female  Location 34  Region 3   \n",
      "\n",
      "   TotalPrice   StartDate  Deposit  DailyRate  TotalDaysYr  AmtPaid36  \\\n",
      "0     17600.0  04/07/2018     2200         45          365       3221   \n",
      "1         NaN  02/01/2019     2200         45          365       3161   \n",
      "2     16600.0  08/12/2016     1000         45          365       2260   \n",
      "3     17600.0         NaN     2200         45          365       3141   \n",
      "4     21250.0  28/10/2017     2200         55          365       3570   \n",
      "\n",
      "   AmtPaid60  AmtPaid360 LoanStatus  \n",
      "0       4166       14621     Active  \n",
      "1       4096       16041     Active  \n",
      "2       3205       16340        NaN  \n",
      "3       4166       16321     Active  \n",
      "4       4745       14720     Active  \n"
     ]
    }
   ],
   "source": [
    "data = pd.read_excel('Lending-company.xlsx')\n",
    "print(data.head())"
   ]
  },
  {
   "cell_type": "code",
   "execution_count": 9,
   "id": "ee20e6b2",
   "metadata": {
    "scrolled": true
   },
   "outputs": [
    {
     "name": "stdout",
     "output_type": "stream",
     "text": [
      "            Location    Region\n",
      "StringID                      \n",
      "id_1      Location 2  Region 2\n",
      "id_2      Location 3       NaN\n",
      "id_3      Location 5  Region 5\n",
      "id_4      Location 6  Region 1\n",
      "id_5      Location 7  Region 2\n"
     ]
    }
   ],
   "source": [
    "data = pd.read_csv(r'C:\\Users\\nbrock\\OneDrive\\coding\\jupyter-notebooks\\text-files\\Lending-Company-Saving.csv',\n",
    "                  usecols=['StringID', 'Location', 'Region'],\n",
    "                  index_col='StringID',\n",
    "                  sep=',')\n",
    "print(data.head())"
   ]
  },
  {
   "cell_type": "code",
   "execution_count": 28,
   "id": "86432f6d",
   "metadata": {},
   "outputs": [
    {
     "name": "stdout",
     "output_type": "stream",
     "text": [
      "  name  value\n",
      "0    a    818\n",
      "1    b    681\n",
      "2    c     98\n",
      "3    d    323\n",
      "4    e    157\n",
      "5    f    359\n",
      "6    g    983\n"
     ]
    }
   ],
   "source": [
    "# different separators\n",
    "# proper way\n",
    "data = pd.read_csv(r'C:\\Users\\nbrock\\OneDrive\\coding\\jupyter-notebooks\\text-files\\sample_delimiter.txt',\n",
    "                   sep='\\t',\n",
    "                  usecols=['name','value'])\n",
    "print(data)"
   ]
  },
  {
   "cell_type": "code",
   "execution_count": 48,
   "id": "7f0e3f26",
   "metadata": {},
   "outputs": [
    {
     "name": "stdout",
     "output_type": "stream",
     "text": [
      "            value\n",
      "product_id       \n",
      "1            4840\n",
      "2            1984\n",
      "3            3518\n",
      "4            4900\n",
      "5            3105\n"
     ]
    }
   ],
   "source": [
    "# if excel can't figure out the separator, use pandas\n",
    "# single col\n",
    "data = pd.read_csv('sample_delimiter.csv',\n",
    "                  delimiter=',',\n",
    "                  header=1,\n",
    "                   names=['product_id', 'value', 'unnamed'],\n",
    "                  index_col='product_id',\n",
    "                  usecols=['product_id','value'])\n",
    "print(data.head())"
   ]
  },
  {
   "cell_type": "code",
   "execution_count": 55,
   "id": "5c69ba2f",
   "metadata": {},
   "outputs": [
    {
     "name": "stdout",
     "output_type": "stream",
     "text": [
      "  genders\n",
      "0    Male\n",
      "1  Female\n",
      "2    Male\n",
      "3    Male\n",
      "4  Female\n",
      "<class 'pandas.core.frame.DataFrame'>\n",
      "--------------------\n",
      "0      Male\n",
      "1    Female\n",
      "2      Male\n",
      "3      Male\n",
      "4    Female\n",
      "Name: genders, dtype: object\n",
      "<class 'pandas.core.series.Series'>\n"
     ]
    }
   ],
   "source": [
    "# single column to dataframe\n",
    "data = pd.read_csv('one_col.csv')\n",
    "print(data.head())\n",
    "print(type(data))\n",
    "\n",
    "print('--------------------')\n",
    "\n",
    "# single column to series\n",
    "ser = data.squeeze('columns')\n",
    "print(ser.head())\n",
    "print(type(ser))"
   ]
  },
  {
   "cell_type": "code",
   "execution_count": 58,
   "id": "20d54644",
   "metadata": {},
   "outputs": [
    {
     "name": "stdout",
     "output_type": "stream",
     "text": [
      "0    Female\n",
      "1    Female\n",
      "2      Male\n",
      "3      Male\n",
      "4    Female\n",
      "Name: CustomerGender, dtype: object\n",
      "<class 'pandas.core.series.Series'>\n"
     ]
    }
   ],
   "source": [
    "# extract a column as a series\n",
    "df = pd.read_excel('Lending-company.xlsx',\n",
    "                  usecols=['CustomerGender'])\n",
    "ser = df.squeeze(1)\n",
    "print(ser.head())\n",
    "print(type(ser))"
   ]
  },
  {
   "cell_type": "code",
   "execution_count": 59,
   "id": "33ba45be",
   "metadata": {},
   "outputs": [
    {
     "name": "stdout",
     "output_type": "stream",
     "text": [
      "     CustomerGender\n",
      "0            Female\n",
      "1            Female\n",
      "2              Male\n",
      "3              Male\n",
      "4            Female\n",
      "...             ...\n",
      "1038           Male\n",
      "1039           Male\n",
      "1040   NotSpecified\n",
      "1041         Female\n",
      "1042   NotSpecified\n",
      "\n",
      "[1043 rows x 1 columns]\n"
     ]
    }
   ],
   "source": [
    "# squeeze a row\n",
    "ser_row = df.squeeze(0)\n",
    "print(ser_row)"
   ]
  }
 ],
 "metadata": {
  "kernelspec": {
   "display_name": "Python 3 (ipykernel)",
   "language": "python",
   "name": "python3"
  },
  "language_info": {
   "codemirror_mode": {
    "name": "ipython",
    "version": 3
   },
   "file_extension": ".py",
   "mimetype": "text/x-python",
   "name": "python",
   "nbconvert_exporter": "python",
   "pygments_lexer": "ipython3",
   "version": "3.9.12"
  }
 },
 "nbformat": 4,
 "nbformat_minor": 5
}
