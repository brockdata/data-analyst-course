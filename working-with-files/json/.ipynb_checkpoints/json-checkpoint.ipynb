{
 "cells": [
  {
   "cell_type": "code",
   "execution_count": null,
   "id": "cabd0d29",
   "metadata": {},
   "outputs": [],
   "source": [
    "# json\n",
    "# human readable\n",
    "# universal format - databases\n",
    "# plain text"
   ]
  },
  {
   "cell_type": "code",
   "execution_count": null,
   "id": "7e926db7",
   "metadata": {},
   "outputs": [],
   "source": [
    "# json is like dictionary...\n",
    "data = {'a': 2250, 'b':1566, 'c':7589}\n",
    "print(type(data))\n",
    "\n",
    "# ... but must be all string with double quotes\n",
    "import json\n",
    "str_data = '{\"a\": 2250, \"b\":1566, \"c\":7589}'\n",
    "json_data = json.loads(str_data)\n",
    "print(type(json_data))\n",
    "# use this to read a dictionary properly, not as a string"
   ]
  },
  {
   "cell_type": "code",
   "execution_count": 2,
   "id": "9fa72305",
   "metadata": {},
   "outputs": [
    {
     "name": "stdout",
     "output_type": "stream",
     "text": [
      "      Loan ID String_ID    Product CustomerGender      Location    Region  \\\n",
      "0           1      id_1  Product B           Male    Location 2  Region 2   \n",
      "1           2      id_2  Product B           Male    Location 3  Region 3   \n",
      "2           3      id_3  Product C         Female    Location 5  Region 5   \n",
      "3           4      id_4  Product B           Male    Location 6  Region 1   \n",
      "4           5      id_5  Product D         Female    Location 7  Region 2   \n",
      "...       ...       ...        ...            ...           ...       ...   \n",
      "1038     1039   id_1039  Product B         Female   Location 39  Region 6   \n",
      "1039     1040   id_1040  Product B           Male   Location 50  Region 1   \n",
      "1040     1041   id_1041  Product B           Male   Location 23  Region 4   \n",
      "1041     1042   id_1042  Product C   NotSpecified   Location 52  Region 6   \n",
      "1042     1043   id_1043  Product B         Female  Location 142  Region 6   \n",
      "\n",
      "      TotalPrice   StartDate  Deposit  DailyRate  TotalDays  AmountPaid30  \\\n",
      "0          16600    7/4/2014     2000         40        365          3121   \n",
      "1          16600    1/2/2015     2000         40        365          3061   \n",
      "2          15600   12/8/2012     1000         40        365          2160   \n",
      "3          16600   2/20/2015     2000         40        365          3041   \n",
      "4          20250  10/28/2013     2000         50        365          3470   \n",
      "...          ...         ...      ...        ...        ...           ...   \n",
      "1038       16600  12/29/2014     2000         40        365          3401   \n",
      "1039       16600   3/28/2014     2000         40        365          4240   \n",
      "1040       16600   4/26/2014     2000         40        365          4201   \n",
      "1041       15600  10/25/2012     1000         40        365          2080   \n",
      "1042       16600   5/15/2015     2000         40        365          4601   \n",
      "\n",
      "      AmountPaid60  AmountPaid360     LoanStatus360  \n",
      "0             4241          13621            Active  \n",
      "1             4171          15041            Active  \n",
      "2             3280          15340              None  \n",
      "3             4241          15321            Active  \n",
      "4             4820          13720            Active  \n",
      "...            ...            ...               ...  \n",
      "1038          4601          16600  Finished Payment  \n",
      "1039          5440          16600  Finished Payment  \n",
      "1040          5001          16600  Finished Payment  \n",
      "1041          3320          15600  Finished Payment  \n",
      "1042          4601          16600  Finished Payment  \n",
      "\n",
      "[1043 rows x 15 columns]\n"
     ]
    }
   ],
   "source": [
    "# also, use pandas\n",
    "import pandas as pd\n",
    "json_df = pd.read_json('Lending-company.json')\n",
    "print(json_df)\n",
    "# with open('Lending-company.json') as f:\n",
    "#     json_df = pd.read_json(f)\n",
    "# print(json_df)"
   ]
  },
  {
   "cell_type": "code",
   "execution_count": 3,
   "id": "7803de1d",
   "metadata": {},
   "outputs": [],
   "source": [
    "# reading vs displaying\n",
    "# excel will read this .csv as a flatfile; it won't figure out where the cells start/end\n",
    "# \"conver text to columns\">>delimiter>>comma"
   ]
  }
 ],
 "metadata": {
  "kernelspec": {
   "display_name": "Python 3 (ipykernel)",
   "language": "python",
   "name": "python3"
  },
  "language_info": {
   "codemirror_mode": {
    "name": "ipython",
    "version": 3
   },
   "file_extension": ".py",
   "mimetype": "text/x-python",
   "name": "python",
   "nbconvert_exporter": "python",
   "pygments_lexer": "ipython3",
   "version": "3.9.12"
  }
 },
 "nbformat": 4,
 "nbformat_minor": 5
}
