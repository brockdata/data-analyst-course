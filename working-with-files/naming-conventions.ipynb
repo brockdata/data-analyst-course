{
 "cells": [
  {
   "cell_type": "code",
   "execution_count": 1,
   "id": "e8d4c808",
   "metadata": {},
   "outputs": [],
   "source": [
    "# UpperCamelCase\n",
    "# classes and column names\n",
    "\n",
    "# lowerCamelCase"
   ]
  },
  {
   "cell_type": "code",
   "execution_count": 2,
   "id": "fbaa3c87",
   "metadata": {},
   "outputs": [],
   "source": [
    "# lowercase_underscores / snake_case\n",
    "# NOT for classes\n",
    "# NOT for constants\n",
    "# for functions\n",
    "# for variables"
   ]
  },
  {
   "cell_type": "code",
   "execution_count": 3,
   "id": "93b8d842",
   "metadata": {},
   "outputs": [],
   "source": [
    "# kebab-case / hyphen-case\n",
    "# name files"
   ]
  },
  {
   "cell_type": "code",
   "execution_count": null,
   "id": "a3846eed",
   "metadata": {},
   "outputs": [],
   "source": [
    "# avoid whitespace with file names and object names\n",
    "# be concise\n",
    "# numeric_variable vs loan_price"
   ]
  }
 ],
 "metadata": {
  "kernelspec": {
   "display_name": "Python 3 (ipykernel)",
   "language": "python",
   "name": "python3"
  },
  "language_info": {
   "codemirror_mode": {
    "name": "ipython",
    "version": 3
   },
   "file_extension": ".py",
   "mimetype": "text/x-python",
   "name": "python",
   "nbconvert_exporter": "python",
   "pygments_lexer": "ipython3",
   "version": "3.9.12"
  }
 },
 "nbformat": 4,
 "nbformat_minor": 5
}
