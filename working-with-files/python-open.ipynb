{
 "cells": [
  {
   "cell_type": "code",
   "execution_count": 9,
   "id": "32140bfa",
   "metadata": {},
   "outputs": [
    {
     "name": "stdout",
     "output_type": "stream",
     "text": [
      "<_io.TextIOWrapper name='sample.txt' mode='r' encoding='cp1252'>\n"
     ]
    },
    {
     "data": {
      "text/plain": [
       "'this is the most simplest text file!'"
      ]
     },
     "execution_count": 9,
     "metadata": {},
     "output_type": "execute_result"
    }
   ],
   "source": [
    "# shift + tab for docs\n",
    "# first_letter + tab to see variable suggestions\n",
    "\n",
    "# before importing, create a backup!\n",
    "file = open('sample.txt', mode='r')\n",
    "# object type\n",
    "print(file)"
   ]
  },
  {
   "cell_type": "code",
   "execution_count": 10,
   "id": "90c69aab",
   "metadata": {},
   "outputs": [
    {
     "data": {
      "text/plain": [
       "''"
      ]
     },
     "execution_count": 10,
     "metadata": {},
     "output_type": "execute_result"
    }
   ],
   "source": [
    "# read once\n",
    "file.read()"
   ]
  },
  {
   "cell_type": "code",
   "execution_count": 16,
   "id": "5e727eff",
   "metadata": {},
   "outputs": [
    {
     "name": "stdout",
     "output_type": "stream",
     "text": [
      "this is the most simplest text file!\n"
     ]
    }
   ],
   "source": [
    "# store in an object to read many times!\n",
    "file = open('sample.txt', mode='r')\n",
    "txt = file.read()\n",
    "print(txt)"
   ]
  },
  {
   "cell_type": "code",
   "execution_count": 17,
   "id": "d69e7fe0",
   "metadata": {},
   "outputs": [
    {
     "name": "stdout",
     "output_type": "stream",
     "text": [
      "False\n",
      "True\n",
      "this is the most simplest text file!\n"
     ]
    }
   ],
   "source": [
    "# need to close the file to avoid losing original stat, or getting hacked\n",
    "# is the file closed?\n",
    "print(file.closed)\n",
    "file.close()\n",
    "print(file.closed)\n",
    "# can still read from our variable\n",
    "print(txt)"
   ]
  },
  {
   "cell_type": "code",
   "execution_count": 19,
   "id": "cec6ea89",
   "metadata": {},
   "outputs": [
    {
     "name": "stdout",
     "output_type": "stream",
     "text": [
      "this is the most simplest text file!\n"
     ]
    }
   ],
   "source": [
    "# maintain original state\n",
    "# ensure close\n",
    "with open('sample.txt', mode='r') as f:\n",
    "    txt = f.read()\n",
    "print(txt)"
   ]
  },
  {
   "cell_type": "code",
   "execution_count": 20,
   "id": "0ce829e0",
   "metadata": {},
   "outputs": [],
   "source": [
    "with open('sample.txt', mode='w') as f:\n",
    "    f.write('not so simple anymore, eh?')"
   ]
  },
  {
   "cell_type": "code",
   "execution_count": 22,
   "id": "f03d5a2c",
   "metadata": {},
   "outputs": [
    {
     "name": "stdout",
     "output_type": "stream",
     "text": [
      "not so simple anymore, eh?\n"
     ]
    }
   ],
   "source": [
    "with open('sample.txt', mode='r') as f:\n",
    "    new_text = f.read()\n",
    "print(new_text)"
   ]
  }
 ],
 "metadata": {
  "kernelspec": {
   "display_name": "Python 3 (ipykernel)",
   "language": "python",
   "name": "python3"
  },
  "language_info": {
   "codemirror_mode": {
    "name": "ipython",
    "version": 3
   },
   "file_extension": ".py",
   "mimetype": "text/x-python",
   "name": "python",
   "nbconvert_exporter": "python",
   "pygments_lexer": "ipython3",
   "version": "3.9.12"
  }
 },
 "nbformat": 4,
 "nbformat_minor": 5
}
