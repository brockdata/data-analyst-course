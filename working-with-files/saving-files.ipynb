{
 "cells": [
  {
   "cell_type": "code",
   "execution_count": 1,
   "id": "8d2054eb",
   "metadata": {},
   "outputs": [],
   "source": [
    "# import !=  load\n",
    "# import doesn't track the original datatypes"
   ]
  },
  {
   "cell_type": "code",
   "execution_count": 2,
   "id": "338b3395",
   "metadata": {},
   "outputs": [],
   "source": [
    "# pandas\n",
    "import pandas as pd\n",
    "df = pd.read_csv('./files/sample.csv')\n",
    "df.to_csv('./files/pd_copy.csv', index=False)"
   ]
  },
  {
   "cell_type": "code",
   "execution_count": 3,
   "id": "1c3afdaf",
   "metadata": {},
   "outputs": [
    {
     "name": "stdout",
     "output_type": "stream",
     "text": [
      "[[4436. 2925.]\n",
      " [4031. 3431.]\n",
      " [2071. 6789.]\n",
      " [3947. 5858.]\n",
      " [2623. 7490.]\n",
      " [ 314. 7882.]\n",
      " [3918. 4334.]\n",
      " [1191. 6123.]\n",
      " [1841. 6786.]]\n"
     ]
    }
   ],
   "source": [
    "import numpy as np\n",
    "data = np.genfromtxt('./files/sample_numeric.csv',\n",
    "                    delimiter=',',\n",
    "                    skip_header=1)\n",
    "print(data)"
   ]
  },
  {
   "cell_type": "code",
   "execution_count": 4,
   "id": "c94d5b0c",
   "metadata": {},
   "outputs": [],
   "source": [
    "# npsave()\n",
    "# numpy creates a .npy file\n",
    "# 20x faser than csv\n",
    "# less memory space\n",
    "# load rather than import\n",
    "\n",
    "import numpy as np\n",
    "np.save('./files/numpy-save', data)"
   ]
  },
  {
   "cell_type": "code",
   "execution_count": 5,
   "id": "8d3fcf10",
   "metadata": {},
   "outputs": [
    {
     "name": "stdout",
     "output_type": "stream",
     "text": [
      "[[4436. 2925.]\n",
      " [4031. 3431.]\n",
      " [2071. 6789.]\n",
      " [3947. 5858.]\n",
      " [2623. 7490.]\n",
      " [ 314. 7882.]\n",
      " [3918. 4334.]\n",
      " [1191. 6123.]\n",
      " [1841. 6786.]]\n"
     ]
    }
   ],
   "source": [
    "loaded = np.load('./files/numpy-save.npy')\n",
    "print(loaded)"
   ]
  },
  {
   "cell_type": "code",
   "execution_count": 6,
   "id": "a5e35008",
   "metadata": {},
   "outputs": [
    {
     "data": {
      "text/plain": [
       "True"
      ]
     },
     "execution_count": 6,
     "metadata": {},
     "output_type": "execute_result"
    }
   ],
   "source": [
    "# same data!\n",
    "np.array_equal(data, loaded)"
   ]
  },
  {
   "cell_type": "code",
   "execution_count": 7,
   "id": "56a9ffa6",
   "metadata": {},
   "outputs": [],
   "source": [
    "# np savez()\n",
    "# creates a .npz = archive that can store multiple arrays\n",
    "np.savez('./files/numpy-savez', data, loaded)"
   ]
  },
  {
   "cell_type": "code",
   "execution_count": 8,
   "id": "31d9321a",
   "metadata": {},
   "outputs": [
    {
     "name": "stdout",
     "output_type": "stream",
     "text": [
      "[[4436. 2925.]\n",
      " [4031. 3431.]\n",
      " [2071. 6789.]\n",
      " [3947. 5858.]\n",
      " [2623. 7490.]\n",
      " [ 314. 7882.]\n",
      " [3918. 4334.]\n",
      " [1191. 6123.]\n",
      " [1841. 6786.]]\n"
     ]
    }
   ],
   "source": [
    "savez_data = np.load('./files/numpy-savez.npz')\n",
    "# specify which array you want to open\n",
    "print(savez_data['arr_0'])\n"
   ]
  },
  {
   "cell_type": "code",
   "execution_count": 9,
   "id": "1b1ce94a",
   "metadata": {},
   "outputs": [
    {
     "name": "stdout",
     "output_type": "stream",
     "text": [
      "[[4436. 2925.]\n",
      " [4031. 3431.]\n",
      " [2071. 6789.]\n",
      " [3947. 5858.]\n",
      " [2623. 7490.]\n",
      " [ 314. 7882.]\n",
      " [3918. 4334.]\n",
      " [1191. 6123.]\n",
      " [1841. 6786.]]\n"
     ]
    }
   ],
   "source": [
    "# you can name them\n",
    "\n",
    "np.savez('./files/numpy-savez', orig_data=data, load_data=loaded)\n",
    "\n",
    "savez_data = np.load('./files/numpy-savez.npz')\n",
    "# specify which array you want to open\n",
    "print(savez_data['load_data'])"
   ]
  },
  {
   "cell_type": "code",
   "execution_count": 10,
   "id": "21e5b8b5",
   "metadata": {},
   "outputs": [],
   "source": [
    "# np.savetxt()\n",
    "# format as string\n",
    "# delimiter is comma\n",
    "np.savetxt('./files/numpy-savetxt.txt',\n",
    "           data,\n",
    "          fmt='%s',\n",
    "          delimiter=',')"
   ]
  },
  {
   "cell_type": "code",
   "execution_count": 14,
   "id": "1861158f",
   "metadata": {},
   "outputs": [
    {
     "name": "stdout",
     "output_type": "stream",
     "text": [
      "[[4436. 2925.]\n",
      " [4031. 3431.]\n",
      " [2071. 6789.]\n",
      " [3947. 5858.]\n",
      " [2623. 7490.]\n",
      " [ 314. 7882.]\n",
      " [3918. 4334.]\n",
      " [1191. 6123.]\n",
      " [1841. 6786.]]\n"
     ]
    }
   ],
   "source": [
    "data_savetxt = np.genfromtxt('./files/numpy-savetxt.txt',\n",
    "                    delimiter=',',\n",
    "                    dtype=float)\n",
    "print(data_savetxt)"
   ]
  },
  {
   "cell_type": "code",
   "execution_count": 15,
   "id": "1f451f82",
   "metadata": {},
   "outputs": [
    {
     "data": {
      "text/plain": [
       "True"
      ]
     },
     "execution_count": 15,
     "metadata": {},
     "output_type": "execute_result"
    }
   ],
   "source": [
    "np.array_equal(data, data_savetxt)"
   ]
  },
  {
   "cell_type": "code",
   "execution_count": null,
   "id": "355b327b",
   "metadata": {},
   "outputs": [],
   "source": []
  }
 ],
 "metadata": {
  "kernelspec": {
   "display_name": "Python 3 (ipykernel)",
   "language": "python",
   "name": "python3"
  },
  "language_info": {
   "codemirror_mode": {
    "name": "ipython",
    "version": 3
   },
   "file_extension": ".py",
   "mimetype": "text/x-python",
   "name": "python",
   "nbconvert_exporter": "python",
   "pygments_lexer": "ipython3",
   "version": "3.9.12"
  }
 },
 "nbformat": 4,
 "nbformat_minor": 5
}
